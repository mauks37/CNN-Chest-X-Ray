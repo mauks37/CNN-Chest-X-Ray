{
  "nbformat": 4,
  "nbformat_minor": 0,
  "metadata": {
    "colab": {
      "provenance": []
    },
    "kernelspec": {
      "name": "python3",
      "display_name": "Python 3"
    },
    "language_info": {
      "name": "python"
    },
    "accelerator": "GPU"
  },
  "cells": [
    {
      "cell_type": "code",
      "metadata": {
        "id": "bLQyK1rbrX4x"
      },
      "source": [
        "import numpy as np\n",
        "import matplotlib.pyplot as plt\n",
        "from matplotlib.image import imread\n",
        "import tensorflow as tf\n",
        "import pandas as pd\n",
        "import random\n",
        "import cv2\n",
        "from sklearn.metrics import classification_report, confusion_matrix"
      ],
      "execution_count": null,
      "outputs": []
    },
    {
      "cell_type": "code",
      "metadata": {
        "colab": {
          "base_uri": "https://localhost:8080/"
        },
        "id": "WKLH776RriDl",
        "outputId": "15f4138c-b651-4880-e074-4a92ca5e7808"
      },
      "source": [
        "gpu_info = !nvidia-smi\n",
        "gpu_info = '\\n'.join(gpu_info)\n",
        "if gpu_info.find('failed') >= 0:\n",
        "  print('Select the Runtime > \"Change runtime type\" menu to enable a GPU accelerator, ')\n",
        "  print('and then re-execute this cell.')\n",
        "else:\n",
        "  print(gpu_info)"
      ],
      "execution_count": null,
      "outputs": [
        {
          "output_type": "stream",
          "name": "stdout",
          "text": [
            "Sat Nov 18 16:31:54 2023       \n",
            "+-----------------------------------------------------------------------------+\n",
            "| NVIDIA-SMI 525.105.17   Driver Version: 525.105.17   CUDA Version: 12.0     |\n",
            "|-------------------------------+----------------------+----------------------+\n",
            "| GPU  Name        Persistence-M| Bus-Id        Disp.A | Volatile Uncorr. ECC |\n",
            "| Fan  Temp  Perf  Pwr:Usage/Cap|         Memory-Usage | GPU-Util  Compute M. |\n",
            "|                               |                      |               MIG M. |\n",
            "|===============================+======================+======================|\n",
            "|   0  Tesla T4            Off  | 00000000:00:04.0 Off |                    0 |\n",
            "| N/A   63C    P8    13W /  70W |      0MiB / 15360MiB |      0%      Default |\n",
            "|                               |                      |                  N/A |\n",
            "+-------------------------------+----------------------+----------------------+\n",
            "                                                                               \n",
            "+-----------------------------------------------------------------------------+\n",
            "| Processes:                                                                  |\n",
            "|  GPU   GI   CI        PID   Type   Process name                  GPU Memory |\n",
            "|        ID   ID                                                   Usage      |\n",
            "|=============================================================================|\n",
            "|  No running processes found                                                 |\n",
            "+-----------------------------------------------------------------------------+\n"
          ]
        }
      ]
    },
    {
      "cell_type": "code",
      "metadata": {
        "colab": {
          "base_uri": "https://localhost:8080/"
        },
        "id": "2p0qp-B7riJD",
        "outputId": "37e0f741-52c5-49b3-8cf4-fa4eaeb09f2c"
      },
      "source": [
        "from google.colab import drive\n",
        "drive.mount('/content/drive')"
      ],
      "execution_count": null,
      "outputs": [
        {
          "output_type": "stream",
          "name": "stdout",
          "text": [
            "Mounted at /content/drive\n"
          ]
        }
      ]
    },
    {
      "cell_type": "code",
      "metadata": {
        "id": "U-qkYL34bo90"
      },
      "source": [
        "image_shape = (224,224,3)\n",
        "batch_size = 32"
      ],
      "execution_count": null,
      "outputs": []
    },
    {
      "cell_type": "code",
      "metadata": {
        "id": "yclyG0h-bsPk"
      },
      "source": [
        "from tensorflow.keras.preprocessing.image import ImageDataGenerator"
      ],
      "execution_count": null,
      "outputs": []
    },
    {
      "cell_type": "code",
      "metadata": {
        "id": "i47KwrQ-wwnD"
      },
      "source": [
        "image_gen = ImageDataGenerator()"
      ],
      "execution_count": null,
      "outputs": []
    },
    {
      "cell_type": "code",
      "metadata": {
        "id": "F4w5_zqjcD7C"
      },
      "source": [
        "from keras.models import load_model"
      ],
      "execution_count": null,
      "outputs": []
    },
    {
      "cell_type": "code",
      "metadata": {
        "id": "cidbuig2sKuA"
      },
      "source": [
        "def int_predict (pred_probabilities):\n",
        "  predictions = np.zeros((pred_probabilities.shape[0],1),dtype=int)\n",
        "  i = 0\n",
        "  while i < pred_probabilities.shape[0]:\n",
        "    predictions[i,:] = [np.argmax(pred_probabilities[i])]\n",
        "    i = i + 1\n",
        "\n",
        "  return predictions"
      ],
      "execution_count": null,
      "outputs": []
    },
    {
      "cell_type": "code",
      "source": [
        "test_dir = '/content/drive/My Drive/Colab Notebooks/Mestrado final/RXT teste mix_data/'"
      ],
      "metadata": {
        "id": "NFG0XRV-mF4v"
      },
      "execution_count": null,
      "outputs": []
    },
    {
      "cell_type": "markdown",
      "metadata": {
        "id": "89ACTjr5rziA"
      },
      "source": [
        "#**PART 1**"
      ]
    },
    {
      "cell_type": "code",
      "source": [
        "data_dir = '/content/drive/My Drive/Colab Notebooks/Mestrado final/KFolds mix_data/trein 2-3-4-5/'\n",
        "valid_dir = '/content/drive/My Drive/Colab Notebooks/Mestrado final/KFolds mix_data/1/'"
      ],
      "metadata": {
        "id": "DXwbUP8yld8s"
      },
      "execution_count": null,
      "outputs": []
    },
    {
      "cell_type": "code",
      "metadata": {
        "id": "VZkYZ3_mcLSP"
      },
      "source": [
        "model = tf.keras.models.load_model('/content/drive/My Drive/Colab Notebooks/Mestrado final/Novos treinamentos/KFolds mix/VGG19_fine-tuning_avg_4_classes_mix_data_part2345.h5')"
      ],
      "execution_count": null,
      "outputs": []
    },
    {
      "cell_type": "markdown",
      "source": [
        "VALIDATION"
      ],
      "metadata": {
        "id": "X1uK0BHvnyg2"
      }
    },
    {
      "cell_type": "code",
      "metadata": {
        "colab": {
          "base_uri": "https://localhost:8080/"
        },
        "id": "cKD6zVes7ab5",
        "outputId": "07290d94-c8ca-4d67-b3a1-1e203aa8f8c6"
      },
      "source": [
        "valid_image_gen = image_gen.flow_from_directory(valid_dir,\n",
        "                                               #target_size=image_shape[:2],\n",
        "                                               color_mode='rgb',\n",
        "                                               batch_size=batch_size,\n",
        "                                               class_mode='categorical',\n",
        "                                               shuffle=False)"
      ],
      "execution_count": null,
      "outputs": [
        {
          "output_type": "stream",
          "name": "stdout",
          "text": [
            "Found 337 images belonging to 4 classes.\n"
          ]
        }
      ]
    },
    {
      "cell_type": "code",
      "metadata": {
        "colab": {
          "base_uri": "https://localhost:8080/"
        },
        "id": "TKeXy4Se7ab5",
        "outputId": "7c45d6c8-04aa-4410-dc17-043fc755881e"
      },
      "source": [
        "ac1v = model.evaluate(valid_image_gen)\n",
        "ac1v"
      ],
      "execution_count": null,
      "outputs": [
        {
          "output_type": "stream",
          "name": "stdout",
          "text": [
            "11/11 [==============================] - 242s 23s/step - loss: 0.6726 - accuracy: 0.8754\n"
          ]
        },
        {
          "output_type": "execute_result",
          "data": {
            "text/plain": [
              "[0.672555148601532, 0.8753709197044373]"
            ]
          },
          "metadata": {},
          "execution_count": 13
        }
      ]
    },
    {
      "cell_type": "code",
      "metadata": {
        "id": "CZ0DNSfKXbZO",
        "colab": {
          "base_uri": "https://localhost:8080/"
        },
        "outputId": "3f5036f9-e541-4de2-e97c-fd0bc42c1d04"
      },
      "source": [
        "pred_probabilities = model.predict(valid_image_gen)"
      ],
      "execution_count": null,
      "outputs": [
        {
          "output_type": "stream",
          "name": "stdout",
          "text": [
            "11/11 [==============================] - 2s 207ms/step\n"
          ]
        }
      ]
    },
    {
      "cell_type": "code",
      "metadata": {
        "id": "H3kZCFuKXbZO"
      },
      "source": [
        "classes1v = valid_image_gen.classes\n",
        "#classes1v"
      ],
      "execution_count": null,
      "outputs": []
    },
    {
      "cell_type": "code",
      "metadata": {
        "id": "BMV23P9NXbZQ"
      },
      "source": [
        "pred1v = predictions = int_predict(pred_probabilities)\n",
        "#pred1v"
      ],
      "execution_count": null,
      "outputs": []
    },
    {
      "cell_type": "code",
      "source": [
        "valid_image_gen.class_indices"
      ],
      "metadata": {
        "colab": {
          "base_uri": "https://localhost:8080/"
        },
        "id": "zAPAvThqnF11",
        "outputId": "9fd213b2-38d3-4deb-b74e-84c18ec89f08"
      },
      "execution_count": null,
      "outputs": [
        {
          "output_type": "execute_result",
          "data": {
            "text/plain": [
              "{'covid': 0, 'dip': 1, 'normais': 2, 'tuberculose': 3}"
            ]
          },
          "metadata": {},
          "execution_count": 17
        }
      ]
    },
    {
      "cell_type": "code",
      "source": [
        "confusion_matrix(valid_image_gen.classes,predictions)"
      ],
      "metadata": {
        "colab": {
          "base_uri": "https://localhost:8080/"
        },
        "id": "yNWvBoJCnF5G",
        "outputId": "887147ae-2992-4ba5-cba8-40fd2cba4aaa"
      },
      "execution_count": null,
      "outputs": [
        {
          "output_type": "execute_result",
          "data": {
            "text/plain": [
              "array([[85,  4,  1,  5],\n",
              "       [ 3, 42,  6,  1],\n",
              "       [ 4,  1, 84,  6],\n",
              "       [ 2,  6,  3, 84]])"
            ]
          },
          "metadata": {},
          "execution_count": 18
        }
      ]
    },
    {
      "cell_type": "code",
      "source": [
        "print(classification_report(valid_image_gen.classes,predictions))"
      ],
      "metadata": {
        "colab": {
          "base_uri": "https://localhost:8080/"
        },
        "id": "k9wZPh-WnF_M",
        "outputId": "00342b32-2eb4-401b-c853-2fd0f7b57b0e"
      },
      "execution_count": null,
      "outputs": [
        {
          "output_type": "stream",
          "name": "stdout",
          "text": [
            "              precision    recall  f1-score   support\n",
            "\n",
            "           0       0.90      0.89      0.90        95\n",
            "           1       0.79      0.81      0.80        52\n",
            "           2       0.89      0.88      0.89        95\n",
            "           3       0.88      0.88      0.88        95\n",
            "\n",
            "    accuracy                           0.88       337\n",
            "   macro avg       0.87      0.87      0.87       337\n",
            "weighted avg       0.88      0.88      0.88       337\n",
            "\n"
          ]
        }
      ]
    },
    {
      "cell_type": "markdown",
      "metadata": {
        "id": "sfE6vm-OsmYZ"
      },
      "source": [
        "#**PART 2**"
      ]
    },
    {
      "cell_type": "code",
      "source": [
        "data_dir = '/content/drive/My Drive/Colab Notebooks/Mestrado final/KFolds mix_data/trein 1-3-4-5/'\n",
        "valid_dir = '/content/drive/My Drive/Colab Notebooks/Mestrado final/KFolds mix_data/2/'"
      ],
      "metadata": {
        "id": "sizpu8s6-ZhX"
      },
      "execution_count": null,
      "outputs": []
    },
    {
      "cell_type": "code",
      "metadata": {
        "id": "cc2Emqyu-ZhY"
      },
      "source": [
        "model = tf.keras.models.load_model('/content/drive/My Drive/Colab Notebooks/Mestrado final/Novos treinamentos/KFolds mix/VGG19_fine-tuning_avg_4_classes_mix_data_part1345.h5')"
      ],
      "execution_count": null,
      "outputs": []
    },
    {
      "cell_type": "markdown",
      "source": [
        "VALIDATION"
      ],
      "metadata": {
        "id": "pQN6s6JY-ZhZ"
      }
    },
    {
      "cell_type": "code",
      "metadata": {
        "colab": {
          "base_uri": "https://localhost:8080/"
        },
        "outputId": "296e4686-dc74-4eb6-faae-f064617fa244",
        "id": "FuL5b6tq-ZhZ"
      },
      "source": [
        "valid_image_gen = image_gen.flow_from_directory(valid_dir,\n",
        "                                               #target_size=image_shape[:2],\n",
        "                                               color_mode='rgb',\n",
        "                                               batch_size=batch_size,\n",
        "                                               class_mode='categorical',\n",
        "                                               shuffle=False)"
      ],
      "execution_count": null,
      "outputs": [
        {
          "output_type": "stream",
          "name": "stdout",
          "text": [
            "Found 337 images belonging to 4 classes.\n"
          ]
        }
      ]
    },
    {
      "cell_type": "code",
      "metadata": {
        "colab": {
          "base_uri": "https://localhost:8080/"
        },
        "outputId": "a0ddc064-0199-429f-b917-6a3d52a4bdc5",
        "id": "EN30vOSJ-ZhZ"
      },
      "source": [
        "ac2v = model.evaluate(valid_image_gen)\n",
        "ac2v"
      ],
      "execution_count": null,
      "outputs": [
        {
          "output_type": "stream",
          "name": "stdout",
          "text": [
            "11/11 [==============================] - 240s 24s/step - loss: 0.7093 - accuracy: 0.8576\n"
          ]
        },
        {
          "output_type": "execute_result",
          "data": {
            "text/plain": [
              "[0.7092862129211426, 0.857566773891449]"
            ]
          },
          "metadata": {},
          "execution_count": 31
        }
      ]
    },
    {
      "cell_type": "code",
      "metadata": {
        "colab": {
          "base_uri": "https://localhost:8080/"
        },
        "id": "aH0aHnMT-Zha",
        "outputId": "53fd69da-429c-4a48-ac4b-202c58031bf0"
      },
      "source": [
        "pred_probabilities = model.predict(valid_image_gen)"
      ],
      "execution_count": null,
      "outputs": [
        {
          "output_type": "stream",
          "name": "stdout",
          "text": [
            "11/11 [==============================] - 3s 242ms/step\n"
          ]
        }
      ]
    },
    {
      "cell_type": "code",
      "metadata": {
        "id": "n9dbatVp-Zha"
      },
      "source": [
        "classes2v = valid_image_gen.classes\n",
        "#classes1v"
      ],
      "execution_count": null,
      "outputs": []
    },
    {
      "cell_type": "code",
      "metadata": {
        "id": "qIMEP6Q9-Zhb"
      },
      "source": [
        "pred2v = predictions = int_predict(pred_probabilities)\n",
        "#pred1v"
      ],
      "execution_count": null,
      "outputs": []
    },
    {
      "cell_type": "code",
      "source": [
        "valid_image_gen.class_indices"
      ],
      "metadata": {
        "colab": {
          "base_uri": "https://localhost:8080/"
        },
        "id": "dBJ5ngiJ-Zhb",
        "outputId": "ec69692c-ca6c-412b-f36b-5da9c9cb8e68"
      },
      "execution_count": null,
      "outputs": [
        {
          "output_type": "execute_result",
          "data": {
            "text/plain": [
              "{'covid': 0, 'dip': 1, 'normais': 2, 'tuberculose': 3}"
            ]
          },
          "metadata": {},
          "execution_count": 35
        }
      ]
    },
    {
      "cell_type": "code",
      "source": [
        "confusion_matrix(valid_image_gen.classes,predictions)"
      ],
      "metadata": {
        "colab": {
          "base_uri": "https://localhost:8080/"
        },
        "id": "wZiOXdl0-Zhb",
        "outputId": "bfd94cfc-192a-4e4d-a0b9-e75596ac41b4"
      },
      "execution_count": null,
      "outputs": [
        {
          "output_type": "execute_result",
          "data": {
            "text/plain": [
              "array([[85,  5,  3,  2],\n",
              "       [ 2, 36,  8,  6],\n",
              "       [ 5,  1, 87,  2],\n",
              "       [ 6,  5,  3, 81]])"
            ]
          },
          "metadata": {},
          "execution_count": 36
        }
      ]
    },
    {
      "cell_type": "code",
      "source": [
        "print(classification_report(valid_image_gen.classes,predictions))"
      ],
      "metadata": {
        "colab": {
          "base_uri": "https://localhost:8080/"
        },
        "id": "6tDUs6Us-Zhb",
        "outputId": "81944dde-2240-4d28-950a-03fa50bfb2c9"
      },
      "execution_count": null,
      "outputs": [
        {
          "output_type": "stream",
          "name": "stdout",
          "text": [
            "              precision    recall  f1-score   support\n",
            "\n",
            "           0       0.87      0.89      0.88        95\n",
            "           1       0.77      0.69      0.73        52\n",
            "           2       0.86      0.92      0.89        95\n",
            "           3       0.89      0.85      0.87        95\n",
            "\n",
            "    accuracy                           0.86       337\n",
            "   macro avg       0.85      0.84      0.84       337\n",
            "weighted avg       0.86      0.86      0.86       337\n",
            "\n"
          ]
        }
      ]
    },
    {
      "cell_type": "markdown",
      "metadata": {
        "id": "_vZ0eGTFs0g_"
      },
      "source": [
        "#**PART 3**"
      ]
    },
    {
      "cell_type": "code",
      "source": [
        "data_dir = '/content/drive/My Drive/Colab Notebooks/Mestrado final/KFolds mix_data/trein 1-2-4-5/'\n",
        "valid_dir = '/content/drive/My Drive/Colab Notebooks/Mestrado final/KFolds mix_data/3/'"
      ],
      "metadata": {
        "id": "CPy9VBUb_AVE"
      },
      "execution_count": null,
      "outputs": []
    },
    {
      "cell_type": "code",
      "metadata": {
        "id": "E0iw0M8i_AVF"
      },
      "source": [
        "model = tf.keras.models.load_model('/content/drive/My Drive/Colab Notebooks/Mestrado final/Novos treinamentos/KFolds mix/VGG19_fine-tuning_avg_4_classes_mix_data_part1245.h5')"
      ],
      "execution_count": null,
      "outputs": []
    },
    {
      "cell_type": "markdown",
      "source": [
        "VALIDATION"
      ],
      "metadata": {
        "id": "h7WBhdDe_AVF"
      }
    },
    {
      "cell_type": "code",
      "metadata": {
        "colab": {
          "base_uri": "https://localhost:8080/"
        },
        "outputId": "34d6310f-9eba-47a1-9210-2ca261c99b91",
        "id": "ET-EjryQ_AVF"
      },
      "source": [
        "valid_image_gen = image_gen.flow_from_directory(valid_dir,\n",
        "                                               #target_size=image_shape[:2],\n",
        "                                               color_mode='rgb',\n",
        "                                               batch_size=batch_size,\n",
        "                                               class_mode='categorical',\n",
        "                                               shuffle=False)"
      ],
      "execution_count": null,
      "outputs": [
        {
          "output_type": "stream",
          "name": "stdout",
          "text": [
            "Found 337 images belonging to 4 classes.\n"
          ]
        }
      ]
    },
    {
      "cell_type": "code",
      "metadata": {
        "colab": {
          "base_uri": "https://localhost:8080/"
        },
        "outputId": "d1d61e8d-62e9-4a07-9141-3a03b2fd33b8",
        "id": "-waGWISS_AVF"
      },
      "source": [
        "ac3v = model.evaluate(valid_image_gen)\n",
        "ac3v"
      ],
      "execution_count": null,
      "outputs": [
        {
          "output_type": "stream",
          "name": "stdout",
          "text": [
            "11/11 [==============================] - 233s 23s/step - loss: 0.7358 - accuracy: 0.8457\n"
          ]
        },
        {
          "output_type": "execute_result",
          "data": {
            "text/plain": [
              "[0.7358007431030273, 0.8456973433494568]"
            ]
          },
          "metadata": {},
          "execution_count": 49
        }
      ]
    },
    {
      "cell_type": "code",
      "metadata": {
        "colab": {
          "base_uri": "https://localhost:8080/"
        },
        "id": "IqKzMf48_AVF",
        "outputId": "3a7764a5-c23c-40db-d425-7a3e5d14a244"
      },
      "source": [
        "pred_probabilities = model.predict(valid_image_gen)"
      ],
      "execution_count": null,
      "outputs": [
        {
          "output_type": "stream",
          "name": "stdout",
          "text": [
            "11/11 [==============================] - 2s 213ms/step\n"
          ]
        }
      ]
    },
    {
      "cell_type": "code",
      "metadata": {
        "id": "rwABorel_AVF"
      },
      "source": [
        "classes3v = valid_image_gen.classes\n",
        "#classes1v"
      ],
      "execution_count": null,
      "outputs": []
    },
    {
      "cell_type": "code",
      "metadata": {
        "id": "G5QhGsqs_AVF"
      },
      "source": [
        "pred3v = predictions = int_predict(pred_probabilities)\n",
        "#pred1v"
      ],
      "execution_count": null,
      "outputs": []
    },
    {
      "cell_type": "code",
      "source": [
        "valid_image_gen.class_indices"
      ],
      "metadata": {
        "colab": {
          "base_uri": "https://localhost:8080/"
        },
        "id": "2l4tVW-A_AVF",
        "outputId": "449a8ddb-76f3-4959-e641-6a980733a242"
      },
      "execution_count": null,
      "outputs": [
        {
          "output_type": "execute_result",
          "data": {
            "text/plain": [
              "{'covid': 0, 'dip': 1, 'normais': 2, 'tuberculose': 3}"
            ]
          },
          "metadata": {},
          "execution_count": 53
        }
      ]
    },
    {
      "cell_type": "code",
      "source": [
        "confusion_matrix(valid_image_gen.classes,predictions)"
      ],
      "metadata": {
        "colab": {
          "base_uri": "https://localhost:8080/"
        },
        "id": "4-JHQCXK_AVF",
        "outputId": "c39948c9-47c6-4156-81c9-3d549ab6a81f"
      },
      "execution_count": null,
      "outputs": [
        {
          "output_type": "execute_result",
          "data": {
            "text/plain": [
              "array([[84,  2,  7,  2],\n",
              "       [ 4, 39,  4,  5],\n",
              "       [ 5,  6, 81,  3],\n",
              "       [ 0,  9,  5, 81]])"
            ]
          },
          "metadata": {},
          "execution_count": 54
        }
      ]
    },
    {
      "cell_type": "code",
      "source": [
        "print(classification_report(valid_image_gen.classes,predictions))"
      ],
      "metadata": {
        "colab": {
          "base_uri": "https://localhost:8080/"
        },
        "id": "iPvslq53_AVF",
        "outputId": "8c9b8ba3-8b8c-409e-cd93-d31725ad55a3"
      },
      "execution_count": null,
      "outputs": [
        {
          "output_type": "stream",
          "name": "stdout",
          "text": [
            "              precision    recall  f1-score   support\n",
            "\n",
            "           0       0.90      0.88      0.89        95\n",
            "           1       0.70      0.75      0.72        52\n",
            "           2       0.84      0.85      0.84        95\n",
            "           3       0.89      0.85      0.87        95\n",
            "\n",
            "    accuracy                           0.85       337\n",
            "   macro avg       0.83      0.83      0.83       337\n",
            "weighted avg       0.85      0.85      0.85       337\n",
            "\n"
          ]
        }
      ]
    },
    {
      "cell_type": "markdown",
      "metadata": {
        "id": "SEOedNops8Uy"
      },
      "source": [
        "#**PART 4**"
      ]
    },
    {
      "cell_type": "code",
      "source": [
        "data_dir = '/content/drive/My Drive/Colab Notebooks/Mestrado final/KFolds mix_data/trein 1-2-3-5/'\n",
        "valid_dir = '/content/drive/My Drive/Colab Notebooks/Mestrado final/KFolds mix_data/4/'"
      ],
      "metadata": {
        "id": "p9o5pWnf_PQH"
      },
      "execution_count": null,
      "outputs": []
    },
    {
      "cell_type": "code",
      "metadata": {
        "id": "_w0tSoz7_PQH"
      },
      "source": [
        "model = tf.keras.models.load_model('/content/drive/My Drive/Colab Notebooks/Mestrado final/Novos treinamentos/KFolds mix/VGG19_fine-tuning_avg_4_classes_mix_data_part1235.h5')"
      ],
      "execution_count": null,
      "outputs": []
    },
    {
      "cell_type": "markdown",
      "source": [
        "VALIDATION"
      ],
      "metadata": {
        "id": "P32jr1y7_PQI"
      }
    },
    {
      "cell_type": "code",
      "metadata": {
        "colab": {
          "base_uri": "https://localhost:8080/"
        },
        "outputId": "bd816595-9fd5-4d1c-fad7-cf1af7b53547",
        "id": "WbZGDpyC_PQI"
      },
      "source": [
        "valid_image_gen = image_gen.flow_from_directory(valid_dir,\n",
        "                                               #target_size=image_shape[:2],\n",
        "                                               color_mode='rgb',\n",
        "                                               batch_size=batch_size,\n",
        "                                               class_mode='categorical',\n",
        "                                               shuffle=False)"
      ],
      "execution_count": null,
      "outputs": [
        {
          "output_type": "stream",
          "name": "stdout",
          "text": [
            "Found 337 images belonging to 4 classes.\n"
          ]
        }
      ]
    },
    {
      "cell_type": "code",
      "metadata": {
        "colab": {
          "base_uri": "https://localhost:8080/"
        },
        "outputId": "a4cc337e-5e59-44b1-db9f-77cab004d542",
        "id": "wBpHWQ0r_PQI"
      },
      "source": [
        "ac4v = model.evaluate(valid_image_gen)\n",
        "ac4v"
      ],
      "execution_count": null,
      "outputs": [
        {
          "output_type": "stream",
          "name": "stdout",
          "text": [
            "11/11 [==============================] - 233s 23s/step - loss: 0.7680 - accuracy: 0.8398\n"
          ]
        },
        {
          "output_type": "execute_result",
          "data": {
            "text/plain": [
              "[0.7680484056472778, 0.8397626280784607]"
            ]
          },
          "metadata": {},
          "execution_count": 67
        }
      ]
    },
    {
      "cell_type": "code",
      "metadata": {
        "colab": {
          "base_uri": "https://localhost:8080/"
        },
        "id": "2m988nol_PQI",
        "outputId": "024eb16c-685f-46ed-a097-5c03bfd4892b"
      },
      "source": [
        "pred_probabilities = model.predict(valid_image_gen)"
      ],
      "execution_count": null,
      "outputs": [
        {
          "output_type": "stream",
          "name": "stdout",
          "text": [
            "11/11 [==============================] - 2s 214ms/step\n"
          ]
        }
      ]
    },
    {
      "cell_type": "code",
      "metadata": {
        "id": "O2Y_JycL_PQI"
      },
      "source": [
        "classes4v = valid_image_gen.classes\n",
        "#classes1v"
      ],
      "execution_count": null,
      "outputs": []
    },
    {
      "cell_type": "code",
      "metadata": {
        "id": "21ez60yX_PQI"
      },
      "source": [
        "pred4v = predictions = int_predict(pred_probabilities)\n",
        "#pred1v"
      ],
      "execution_count": null,
      "outputs": []
    },
    {
      "cell_type": "code",
      "source": [
        "valid_image_gen.class_indices"
      ],
      "metadata": {
        "colab": {
          "base_uri": "https://localhost:8080/"
        },
        "id": "r8AGTWz0_PQI",
        "outputId": "4ccdcffa-8cdb-4a48-d680-e84be5434715"
      },
      "execution_count": null,
      "outputs": [
        {
          "output_type": "execute_result",
          "data": {
            "text/plain": [
              "{'covid': 0, 'dip': 1, 'normais': 2, 'tuberculose': 3}"
            ]
          },
          "metadata": {},
          "execution_count": 71
        }
      ]
    },
    {
      "cell_type": "code",
      "source": [
        "confusion_matrix(valid_image_gen.classes,predictions)"
      ],
      "metadata": {
        "colab": {
          "base_uri": "https://localhost:8080/"
        },
        "id": "r-BWrioe_PQI",
        "outputId": "16362f79-c332-41e6-c783-2d4aacd5856b"
      },
      "execution_count": null,
      "outputs": [
        {
          "output_type": "execute_result",
          "data": {
            "text/plain": [
              "array([[88,  2,  3,  2],\n",
              "       [ 5, 36,  1, 10],\n",
              "       [ 7,  3, 77,  8],\n",
              "       [ 5,  6,  2, 82]])"
            ]
          },
          "metadata": {},
          "execution_count": 72
        }
      ]
    },
    {
      "cell_type": "code",
      "source": [
        "print(classification_report(valid_image_gen.classes,predictions))"
      ],
      "metadata": {
        "colab": {
          "base_uri": "https://localhost:8080/"
        },
        "id": "FgG3RlEU_PQI",
        "outputId": "7e08786a-f3ea-4b5b-de65-3a4f9e397bbe"
      },
      "execution_count": null,
      "outputs": [
        {
          "output_type": "stream",
          "name": "stdout",
          "text": [
            "              precision    recall  f1-score   support\n",
            "\n",
            "           0       0.84      0.93      0.88        95\n",
            "           1       0.77      0.69      0.73        52\n",
            "           2       0.93      0.81      0.87        95\n",
            "           3       0.80      0.86      0.83        95\n",
            "\n",
            "    accuracy                           0.84       337\n",
            "   macro avg       0.83      0.82      0.83       337\n",
            "weighted avg       0.84      0.84      0.84       337\n",
            "\n"
          ]
        }
      ]
    },
    {
      "cell_type": "markdown",
      "metadata": {
        "id": "TnOzgM3CtHbK"
      },
      "source": [
        "#**PART 5**"
      ]
    },
    {
      "cell_type": "code",
      "source": [
        "data_dir = '/content/drive/My Drive/Colab Notebooks/Mestrado final/KFolds mix_data/trein 1-2-3-4/'\n",
        "valid_dir = '/content/drive/My Drive/Colab Notebooks/Mestrado final/KFolds mix_data/5/'"
      ],
      "metadata": {
        "id": "wRWqYaOM_es8"
      },
      "execution_count": null,
      "outputs": []
    },
    {
      "cell_type": "code",
      "metadata": {
        "id": "pxaiHrXD_es9"
      },
      "source": [
        "model = tf.keras.models.load_model('/content/drive/My Drive/Colab Notebooks/Mestrado final/Novos treinamentos/KFolds mix/VGG19_fine-tuning_avg_4_classes_mix_data_part1234.h5')"
      ],
      "execution_count": null,
      "outputs": []
    },
    {
      "cell_type": "markdown",
      "source": [
        "VALIDATION"
      ],
      "metadata": {
        "id": "ZwaS4rhm_es-"
      }
    },
    {
      "cell_type": "code",
      "metadata": {
        "colab": {
          "base_uri": "https://localhost:8080/"
        },
        "outputId": "81dd4ce2-d26d-46ba-8dc4-138ff7d67445",
        "id": "4l0DvPus_es-"
      },
      "source": [
        "valid_image_gen = image_gen.flow_from_directory(valid_dir,\n",
        "                                               #target_size=image_shape[:2],\n",
        "                                               color_mode='rgb',\n",
        "                                               batch_size=batch_size,\n",
        "                                               class_mode='categorical',\n",
        "                                               shuffle=False)"
      ],
      "execution_count": null,
      "outputs": [
        {
          "output_type": "stream",
          "name": "stdout",
          "text": [
            "Found 339 images belonging to 4 classes.\n"
          ]
        }
      ]
    },
    {
      "cell_type": "code",
      "metadata": {
        "colab": {
          "base_uri": "https://localhost:8080/"
        },
        "outputId": "2817602e-4057-46e3-8abb-c3f308fc44c9",
        "id": "ZVoB5ukd_es_"
      },
      "source": [
        "ac5v = model.evaluate(valid_image_gen)\n",
        "ac5v"
      ],
      "execution_count": null,
      "outputs": [
        {
          "output_type": "stream",
          "name": "stdout",
          "text": [
            "11/11 [==============================] - 234s 23s/step - loss: 0.6109 - accuracy: 0.8525\n"
          ]
        },
        {
          "output_type": "execute_result",
          "data": {
            "text/plain": [
              "[0.6108812689781189, 0.8525073528289795]"
            ]
          },
          "metadata": {},
          "execution_count": 86
        }
      ]
    },
    {
      "cell_type": "code",
      "metadata": {
        "colab": {
          "base_uri": "https://localhost:8080/"
        },
        "id": "Pj7GA3VO_es_",
        "outputId": "e4dfb49a-4020-45ee-be75-0230fdd8c617"
      },
      "source": [
        "pred_probabilities = model.predict(valid_image_gen)"
      ],
      "execution_count": null,
      "outputs": [
        {
          "output_type": "stream",
          "name": "stdout",
          "text": [
            "11/11 [==============================] - 2s 217ms/step\n"
          ]
        }
      ]
    },
    {
      "cell_type": "code",
      "metadata": {
        "id": "r-nuPau-_es_"
      },
      "source": [
        "classes5v = valid_image_gen.classes\n",
        "#classes1v"
      ],
      "execution_count": null,
      "outputs": []
    },
    {
      "cell_type": "code",
      "metadata": {
        "id": "pytaA-5v_es_"
      },
      "source": [
        "pred5v = predictions = int_predict(pred_probabilities)\n",
        "#pred1v"
      ],
      "execution_count": null,
      "outputs": []
    },
    {
      "cell_type": "code",
      "source": [
        "valid_image_gen.class_indices"
      ],
      "metadata": {
        "colab": {
          "base_uri": "https://localhost:8080/"
        },
        "id": "JwwMxCTG_es_",
        "outputId": "076c5832-0e1d-419c-cc7e-7db2336f9bf0"
      },
      "execution_count": null,
      "outputs": [
        {
          "output_type": "execute_result",
          "data": {
            "text/plain": [
              "{'covid': 0, 'dip': 1, 'normais': 2, 'tuberculose': 3}"
            ]
          },
          "metadata": {},
          "execution_count": 90
        }
      ]
    },
    {
      "cell_type": "code",
      "source": [
        "confusion_matrix(valid_image_gen.classes,predictions)"
      ],
      "metadata": {
        "colab": {
          "base_uri": "https://localhost:8080/"
        },
        "id": "kjzNoIrw_etA",
        "outputId": "5798fb9a-3719-42e7-e1bc-cd5fea94ac70"
      },
      "execution_count": null,
      "outputs": [
        {
          "output_type": "execute_result",
          "data": {
            "text/plain": [
              "array([[86,  3,  4,  2],\n",
              "       [ 5, 38,  7,  4],\n",
              "       [ 2,  5, 84,  4],\n",
              "       [ 3,  8,  3, 81]])"
            ]
          },
          "metadata": {},
          "execution_count": 91
        }
      ]
    },
    {
      "cell_type": "code",
      "source": [
        "print(classification_report(valid_image_gen.classes,predictions))"
      ],
      "metadata": {
        "colab": {
          "base_uri": "https://localhost:8080/"
        },
        "id": "wk-Xm_vJ_etA",
        "outputId": "01f7034b-e056-4020-b12e-0f0e7db8baee"
      },
      "execution_count": null,
      "outputs": [
        {
          "output_type": "stream",
          "name": "stdout",
          "text": [
            "              precision    recall  f1-score   support\n",
            "\n",
            "           0       0.90      0.91      0.90        95\n",
            "           1       0.70      0.70      0.70        54\n",
            "           2       0.86      0.88      0.87        95\n",
            "           3       0.89      0.85      0.87        95\n",
            "\n",
            "    accuracy                           0.85       339\n",
            "   macro avg       0.84      0.84      0.84       339\n",
            "weighted avg       0.85      0.85      0.85       339\n",
            "\n"
          ]
        }
      ]
    },
    {
      "cell_type": "markdown",
      "metadata": {
        "id": "P2yEmBOKumkf"
      },
      "source": [
        "#**Calculations**"
      ]
    },
    {
      "cell_type": "markdown",
      "source": [
        "VALIDATION"
      ],
      "metadata": {
        "id": "emo84Wv9_0fm"
      }
    },
    {
      "cell_type": "code",
      "metadata": {
        "id": "T7_lhGCnsYF1",
        "colab": {
          "base_uri": "https://localhost:8080/"
        },
        "outputId": "7dac53ac-a344-4758-b380-77878f9c2f40"
      },
      "source": [
        "acv_media = np.mean([ac1v[1],ac2v[1],ac3v[1],ac4v[1],ac5v[1]])\n",
        "acv_media"
      ],
      "execution_count": null,
      "outputs": [
        {
          "output_type": "execute_result",
          "data": {
            "text/plain": [
              "0.8541810035705566"
            ]
          },
          "metadata": {},
          "execution_count": 101
        }
      ]
    },
    {
      "cell_type": "code",
      "metadata": {
        "id": "xdaUGH6bsYI8"
      },
      "source": [
        "todas_classesv = np.concatenate((classes1v,classes2v,classes3v,classes4v,classes5v),axis=0)"
      ],
      "execution_count": null,
      "outputs": []
    },
    {
      "cell_type": "code",
      "metadata": {
        "id": "JE4awGfZsYOM"
      },
      "source": [
        "todas_predv = np.concatenate((pred1v,pred2v,pred3v,pred4v,pred5v),axis=0)"
      ],
      "execution_count": null,
      "outputs": []
    },
    {
      "cell_type": "code",
      "metadata": {
        "id": "RJpKRlHQXbZQ"
      },
      "source": [
        "from sklearn.metrics import classification_report, confusion_matrix"
      ],
      "execution_count": null,
      "outputs": []
    },
    {
      "cell_type": "markdown",
      "metadata": {
        "id": "N9UbmG853yb4"
      },
      "source": [
        "*   0: covid\n",
        "*   1: dip\n",
        "*   2: normais\n",
        "*   3: tuberculose\n",
        "\n"
      ]
    },
    {
      "cell_type": "code",
      "metadata": {
        "id": "rukhcZPXXbZR",
        "colab": {
          "base_uri": "https://localhost:8080/"
        },
        "outputId": "e5a757bf-786f-46f8-c756-7950cdb5915e"
      },
      "source": [
        "confusion_matrix(todas_classesv,todas_predv)"
      ],
      "execution_count": null,
      "outputs": [
        {
          "output_type": "execute_result",
          "data": {
            "text/plain": [
              "array([[428,  16,  18,  13],\n",
              "       [ 19, 191,  26,  26],\n",
              "       [ 23,  16, 413,  23],\n",
              "       [ 16,  34,  16, 409]])"
            ]
          },
          "metadata": {},
          "execution_count": 105
        }
      ]
    },
    {
      "cell_type": "code",
      "metadata": {
        "id": "0GUdEB6GXbZR",
        "colab": {
          "base_uri": "https://localhost:8080/"
        },
        "outputId": "6d078f1a-e998-4457-aa99-a7227c4bc618"
      },
      "source": [
        "print(classification_report(todas_classesv,todas_predv))"
      ],
      "execution_count": null,
      "outputs": [
        {
          "output_type": "stream",
          "name": "stdout",
          "text": [
            "              precision    recall  f1-score   support\n",
            "\n",
            "           0       0.88      0.90      0.89       475\n",
            "           1       0.74      0.73      0.74       262\n",
            "           2       0.87      0.87      0.87       475\n",
            "           3       0.87      0.86      0.86       475\n",
            "\n",
            "    accuracy                           0.85      1687\n",
            "   macro avg       0.84      0.84      0.84      1687\n",
            "weighted avg       0.85      0.85      0.85      1687\n",
            "\n"
          ]
        }
      ]
    },
    {
      "cell_type": "markdown",
      "metadata": {
        "id": "RxxMC0a3ASwv"
      },
      "source": [
        "*   0: covid\n",
        "*   1: dip\n",
        "*   2: normais\n",
        "*   3: tuberculose\n",
        "\n"
      ]
    }
  ]
}