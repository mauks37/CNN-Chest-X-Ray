{
  "nbformat": 4,
  "nbformat_minor": 0,
  "metadata": {
    "accelerator": "GPU",
    "colab": {
      "provenance": []
    },
    "kernelspec": {
      "display_name": "Python 3",
      "name": "python3"
    },
    "gpuClass": "standard"
  },
  "cells": [
    {
      "cell_type": "code",
      "metadata": {
        "id": "g_4Y44SJTRF3"
      },
      "source": [
        "import numpy as np\n",
        "import matplotlib.pyplot as plt\n",
        "from matplotlib.image import imread\n",
        "import tensorflow as tf\n",
        "import pandas as pd\n",
        "import random\n",
        "from keras.models import load_model"
      ],
      "execution_count": null,
      "outputs": []
    },
    {
      "cell_type": "code",
      "source": [
        "gpu_info = !nvidia-smi\n",
        "gpu_info = '\\n'.join(gpu_info)\n",
        "if gpu_info.find('failed') >= 0:\n",
        "  print('Select the Runtime > \"Change runtime type\" menu to enable a GPU accelerator, ')\n",
        "  print('and then re-execute this cell.')\n",
        "else:\n",
        "  print(gpu_info)"
      ],
      "metadata": {
        "colab": {
          "base_uri": "https://localhost:8080/"
        },
        "id": "SBziWpUPxRL2",
        "outputId": "766eb2b9-7cd0-4cbb-9457-9b5c0c73b4d6"
      },
      "execution_count": null,
      "outputs": [
        {
          "output_type": "stream",
          "name": "stdout",
          "text": [
            "Sat Nov 18 14:52:14 2023       \n",
            "+-----------------------------------------------------------------------------+\n",
            "| NVIDIA-SMI 525.105.17   Driver Version: 525.105.17   CUDA Version: 12.0     |\n",
            "|-------------------------------+----------------------+----------------------+\n",
            "| GPU  Name        Persistence-M| Bus-Id        Disp.A | Volatile Uncorr. ECC |\n",
            "| Fan  Temp  Perf  Pwr:Usage/Cap|         Memory-Usage | GPU-Util  Compute M. |\n",
            "|                               |                      |               MIG M. |\n",
            "|===============================+======================+======================|\n",
            "|   0  Tesla T4            Off  | 00000000:00:04.0 Off |                    0 |\n",
            "| N/A   57C    P8    11W /  70W |      0MiB / 15360MiB |      0%      Default |\n",
            "|                               |                      |                  N/A |\n",
            "+-------------------------------+----------------------+----------------------+\n",
            "                                                                               \n",
            "+-----------------------------------------------------------------------------+\n",
            "| Processes:                                                                  |\n",
            "|  GPU   GI   CI        PID   Type   Process name                  GPU Memory |\n",
            "|        ID   ID                                                   Usage      |\n",
            "|=============================================================================|\n",
            "|  No running processes found                                                 |\n",
            "+-----------------------------------------------------------------------------+\n"
          ]
        }
      ]
    },
    {
      "cell_type": "markdown",
      "metadata": {
        "id": "ZVGy_7Zf5Y4i"
      },
      "source": [
        "Keras guide:\n",
        "\n",
        "https://keras.io/guides/transfer_learning/"
      ]
    },
    {
      "cell_type": "code",
      "metadata": {
        "colab": {
          "base_uri": "https://localhost:8080/"
        },
        "id": "JepdH8A8T4mS",
        "outputId": "58d5fb11-f2fd-4aba-bd86-bb375b8cc186"
      },
      "source": [
        "from google.colab import drive\n",
        "drive.mount('/content/drive')"
      ],
      "execution_count": null,
      "outputs": [
        {
          "output_type": "stream",
          "name": "stdout",
          "text": [
            "Mounted at /content/drive\n"
          ]
        }
      ]
    },
    {
      "cell_type": "code",
      "metadata": {
        "id": "11wCCxDHX_hS"
      },
      "source": [
        "data_dir = '/content/drive/My Drive/Colab Notebooks/Mestrado final/KFolds mix_data/trein 1-2-3-5/'\n",
        "valid_dir = '/content/drive/My Drive/Colab Notebooks/Mestrado final/KFolds mix_data/4/'"
      ],
      "execution_count": null,
      "outputs": []
    },
    {
      "cell_type": "code",
      "metadata": {
        "colab": {
          "base_uri": "https://localhost:8080/"
        },
        "id": "bNgHB-WRUcHU",
        "outputId": "c42720e8-9d15-414a-e9f6-f2e58d99c0e6"
      },
      "source": [
        "tf.io.gfile.listdir(data_dir)"
      ],
      "execution_count": null,
      "outputs": [
        {
          "output_type": "execute_result",
          "data": {
            "text/plain": [
              "['covid', 'dip', 'tuberculose', 'normais']"
            ]
          },
          "metadata": {},
          "execution_count": 5
        }
      ]
    },
    {
      "cell_type": "code",
      "metadata": {
        "id": "WownivFFqCee"
      },
      "source": [
        "image_shape = (224,224,3)\n",
        "batch_size = 32"
      ],
      "execution_count": null,
      "outputs": []
    },
    {
      "cell_type": "code",
      "metadata": {
        "id": "zZP11oMfqHcI"
      },
      "source": [
        "from tensorflow.keras.preprocessing.image import ImageDataGenerator"
      ],
      "execution_count": null,
      "outputs": []
    },
    {
      "cell_type": "code",
      "metadata": {
        "id": "z1DhgrjHqOpi"
      },
      "source": [
        "image_gen = ImageDataGenerator()"
      ],
      "execution_count": null,
      "outputs": []
    },
    {
      "cell_type": "code",
      "metadata": {
        "colab": {
          "base_uri": "https://localhost:8080/"
        },
        "id": "zt_rGqE7qRPb",
        "outputId": "4b65f74d-062f-48fb-871d-d32e10745935"
      },
      "source": [
        "image_gen.flow_from_directory(data_dir)"
      ],
      "execution_count": null,
      "outputs": [
        {
          "output_type": "stream",
          "name": "stdout",
          "text": [
            "Found 1350 images belonging to 4 classes.\n"
          ]
        },
        {
          "output_type": "execute_result",
          "data": {
            "text/plain": [
              "<keras.src.preprocessing.image.DirectoryIterator at 0x7e8e476320b0>"
            ]
          },
          "metadata": {},
          "execution_count": 9
        }
      ]
    },
    {
      "cell_type": "markdown",
      "metadata": {
        "id": "ljlmoX_wnS07"
      },
      "source": [
        "# **Creating the model**"
      ]
    },
    {
      "cell_type": "code",
      "metadata": {
        "id": "W9qDjEz-uv-z"
      },
      "source": [
        "from tensorflow.keras.applications.vgg19 import VGG19\n",
        "from tensorflow.keras.models import Model\n",
        "from tensorflow.keras.layers import Flatten,Dense"
      ],
      "execution_count": null,
      "outputs": []
    },
    {
      "cell_type": "code",
      "metadata": {
        "id": "eMhwnptro3L8",
        "colab": {
          "base_uri": "https://localhost:8080/"
        },
        "outputId": "138d909a-edcc-4ef4-bbe0-76d88f543680"
      },
      "source": [
        "i = tf.keras.layers.Input([None, None, 3], dtype = tf.uint8)\n",
        "x = tf.cast(i, tf.float32)\n",
        "x = tf.keras.applications.vgg19.preprocess_input(x)\n",
        "\n",
        "vgg19 = tf.keras.applications.VGG19(input_tensor=x, input_shape = image_shape, include_top = False, weights=\"imagenet\", pooling=\"avg\")\n"
      ],
      "execution_count": null,
      "outputs": [
        {
          "output_type": "stream",
          "name": "stdout",
          "text": [
            "Downloading data from https://storage.googleapis.com/tensorflow/keras-applications/vgg19/vgg19_weights_tf_dim_ordering_tf_kernels_notop.h5\n",
            "80134624/80134624 [==============================] - 1s 0us/step\n"
          ]
        }
      ]
    },
    {
      "cell_type": "code",
      "metadata": {
        "id": "O1L4fkqEo5Kw"
      },
      "source": [
        "# Freeze all the layers\n",
        "for layer in vgg19.layers:\n",
        "    layer.trainable = False"
      ],
      "execution_count": null,
      "outputs": []
    },
    {
      "cell_type": "code",
      "metadata": {
        "id": "sWsvb-H5o5NZ"
      },
      "source": [
        "z = vgg19.output\n",
        "predictions = Dense(4, activation='softmax')(z)\n",
        "model = Model(inputs=vgg19.input, outputs=predictions)"
      ],
      "execution_count": null,
      "outputs": []
    },
    {
      "cell_type": "code",
      "metadata": {
        "colab": {
          "base_uri": "https://localhost:8080/"
        },
        "id": "I825x9pepAa4",
        "outputId": "b083e37a-cdb6-45c7-98ce-dc6d53d7a027"
      },
      "source": [
        "model.summary()"
      ],
      "execution_count": null,
      "outputs": [
        {
          "output_type": "stream",
          "name": "stdout",
          "text": [
            "Model: \"model\"\n",
            "_________________________________________________________________\n",
            " Layer (type)                Output Shape              Param #   \n",
            "=================================================================\n",
            " input_1 (InputLayer)        [(None, None, None, 3)]   0         \n",
            "                                                                 \n",
            " tf.cast (TFOpLambda)        (None, None, None, 3)     0         \n",
            "                                                                 \n",
            " tf.__operators__.getitem (  (None, None, None, 3)     0         \n",
            " SlicingOpLambda)                                                \n",
            "                                                                 \n",
            " tf.nn.bias_add (TFOpLambda  (None, None, None, 3)     0         \n",
            " )                                                               \n",
            "                                                                 \n",
            " block1_conv1 (Conv2D)       (None, None, None, 64)    1792      \n",
            "                                                                 \n",
            " block1_conv2 (Conv2D)       (None, None, None, 64)    36928     \n",
            "                                                                 \n",
            " block1_pool (MaxPooling2D)  (None, None, None, 64)    0         \n",
            "                                                                 \n",
            " block2_conv1 (Conv2D)       (None, None, None, 128)   73856     \n",
            "                                                                 \n",
            " block2_conv2 (Conv2D)       (None, None, None, 128)   147584    \n",
            "                                                                 \n",
            " block2_pool (MaxPooling2D)  (None, None, None, 128)   0         \n",
            "                                                                 \n",
            " block3_conv1 (Conv2D)       (None, None, None, 256)   295168    \n",
            "                                                                 \n",
            " block3_conv2 (Conv2D)       (None, None, None, 256)   590080    \n",
            "                                                                 \n",
            " block3_conv3 (Conv2D)       (None, None, None, 256)   590080    \n",
            "                                                                 \n",
            " block3_conv4 (Conv2D)       (None, None, None, 256)   590080    \n",
            "                                                                 \n",
            " block3_pool (MaxPooling2D)  (None, None, None, 256)   0         \n",
            "                                                                 \n",
            " block4_conv1 (Conv2D)       (None, None, None, 512)   1180160   \n",
            "                                                                 \n",
            " block4_conv2 (Conv2D)       (None, None, None, 512)   2359808   \n",
            "                                                                 \n",
            " block4_conv3 (Conv2D)       (None, None, None, 512)   2359808   \n",
            "                                                                 \n",
            " block4_conv4 (Conv2D)       (None, None, None, 512)   2359808   \n",
            "                                                                 \n",
            " block4_pool (MaxPooling2D)  (None, None, None, 512)   0         \n",
            "                                                                 \n",
            " block5_conv1 (Conv2D)       (None, None, None, 512)   2359808   \n",
            "                                                                 \n",
            " block5_conv2 (Conv2D)       (None, None, None, 512)   2359808   \n",
            "                                                                 \n",
            " block5_conv3 (Conv2D)       (None, None, None, 512)   2359808   \n",
            "                                                                 \n",
            " block5_conv4 (Conv2D)       (None, None, None, 512)   2359808   \n",
            "                                                                 \n",
            " block5_pool (MaxPooling2D)  (None, None, None, 512)   0         \n",
            "                                                                 \n",
            " global_average_pooling2d (  (None, 512)               0         \n",
            " GlobalAveragePooling2D)                                         \n",
            "                                                                 \n",
            " dense (Dense)               (None, 4)                 2052      \n",
            "                                                                 \n",
            "=================================================================\n",
            "Total params: 20026436 (76.39 MB)\n",
            "Trainable params: 2052 (8.02 KB)\n",
            "Non-trainable params: 20024384 (76.39 MB)\n",
            "_________________________________________________________________\n"
          ]
        }
      ]
    },
    {
      "cell_type": "code",
      "metadata": {
        "id": "fa4IjzPQpAd3"
      },
      "source": [
        "model.compile(loss='categorical_crossentropy',\n",
        "              optimizer='adam',\n",
        "              metrics=['accuracy'])"
      ],
      "execution_count": null,
      "outputs": []
    },
    {
      "cell_type": "code",
      "metadata": {
        "id": "5WRw2B3P53BW"
      },
      "source": [
        "from tensorflow.keras.callbacks import EarlyStopping, ModelCheckpoint, ReduceLROnPlateau"
      ],
      "execution_count": null,
      "outputs": []
    },
    {
      "cell_type": "code",
      "metadata": {
        "id": "mAhez88k6AW1"
      },
      "source": [
        "early_stop = EarlyStopping(monitor='val_loss',patience=3,verbose=2)"
      ],
      "execution_count": null,
      "outputs": []
    },
    {
      "cell_type": "code",
      "source": [
        "model_checkpoint  = ModelCheckpoint(\n",
        "    filepath='/content/drive/My Drive/Colab Notebooks/Mestrado final/Novos treinamentos/KFolds mix/model_checkpoint4',\n",
        "    save_weights_only=True,\n",
        "    monitor='val_accuracy',\n",
        "    mode='max',\n",
        "    save_freq='epoch',\n",
        "    save_best_only=True,\n",
        "    options=None,\n",
        "    initial_value_threshold=None,\n",
        "    verbose = 0\n",
        ")"
      ],
      "metadata": {
        "id": "COEBh47_eAd6"
      },
      "execution_count": null,
      "outputs": []
    },
    {
      "cell_type": "code",
      "source": [
        "reduce_lr = ReduceLROnPlateau(monitor='val_loss', factor=0.2,\n",
        "                              patience=5, min_lr=0.001)"
      ],
      "metadata": {
        "id": "Sa04TvyOXf_R"
      },
      "execution_count": null,
      "outputs": []
    },
    {
      "cell_type": "code",
      "metadata": {
        "colab": {
          "base_uri": "https://localhost:8080/"
        },
        "id": "pkgfaQ316FAH",
        "outputId": "ecbd4aaa-5ed5-4bb9-b85b-c1079789befe"
      },
      "source": [
        "train_image_gen = image_gen.flow_from_directory(data_dir,\n",
        "                                                #target_size=image_shape[:2],\n",
        "                                                color_mode='rgb',\n",
        "                                                batch_size=batch_size,\n",
        "                                                class_mode='categorical'\n",
        "                                                )"
      ],
      "execution_count": null,
      "outputs": [
        {
          "output_type": "stream",
          "name": "stdout",
          "text": [
            "Found 1350 images belonging to 4 classes.\n"
          ]
        }
      ]
    },
    {
      "cell_type": "code",
      "source": [
        "validation_image_gen = image_gen.flow_from_directory(valid_dir,\n",
        "                                                #target_size=image_shape[:2],\n",
        "                                                color_mode='rgb',\n",
        "                                                batch_size=batch_size,\n",
        "                                                class_mode='categorical'\n",
        "                                                )"
      ],
      "metadata": {
        "colab": {
          "base_uri": "https://localhost:8080/"
        },
        "id": "B6CFbu9soZLU",
        "outputId": "0c81556b-8e7a-487f-8136-03bf5b35404d"
      },
      "execution_count": null,
      "outputs": [
        {
          "output_type": "stream",
          "name": "stdout",
          "text": [
            "Found 337 images belonging to 4 classes.\n"
          ]
        }
      ]
    },
    {
      "cell_type": "code",
      "metadata": {
        "colab": {
          "base_uri": "https://localhost:8080/"
        },
        "id": "wEt9ohCg7JbG",
        "outputId": "fee093ae-2a36-4110-e8d0-f46f73d34efc"
      },
      "source": [
        "train_image_gen.class_indices"
      ],
      "execution_count": null,
      "outputs": [
        {
          "output_type": "execute_result",
          "data": {
            "text/plain": [
              "{'covid': 0, 'dip': 1, 'normais': 2, 'tuberculose': 3}"
            ]
          },
          "metadata": {},
          "execution_count": 23
        }
      ]
    },
    {
      "cell_type": "markdown",
      "metadata": {
        "id": "F2wJaiy88l4K"
      },
      "source": [
        "# **Training the model**"
      ]
    },
    {
      "cell_type": "code",
      "metadata": {
        "colab": {
          "base_uri": "https://localhost:8080/"
        },
        "id": "qkUbj_Xh8e1r",
        "outputId": "eca81cf8-b912-4735-c961-4fbdba358979"
      },
      "source": [
        "model.fit(train_image_gen,epochs=200,validation_data=validation_image_gen,callbacks=[early_stop,model_checkpoint,reduce_lr])"
      ],
      "execution_count": null,
      "outputs": [
        {
          "output_type": "stream",
          "name": "stdout",
          "text": [
            "Epoch 1/200\n",
            "43/43 [==============================] - 425s 10s/step - loss: 2.2734 - accuracy: 0.3437 - val_loss: 1.5551 - val_accuracy: 0.4510 - lr: 0.0010\n",
            "Epoch 2/200\n",
            "43/43 [==============================] - 11s 253ms/step - loss: 1.1593 - accuracy: 0.5681 - val_loss: 1.1908 - val_accuracy: 0.6172 - lr: 0.0010\n",
            "Epoch 3/200\n",
            "43/43 [==============================] - 11s 260ms/step - loss: 0.9380 - accuracy: 0.6563 - val_loss: 1.0780 - val_accuracy: 0.6528 - lr: 0.0010\n",
            "Epoch 4/200\n",
            "43/43 [==============================] - 11s 243ms/step - loss: 0.8154 - accuracy: 0.7059 - val_loss: 1.0347 - val_accuracy: 0.6736 - lr: 0.0010\n",
            "Epoch 5/200\n",
            "43/43 [==============================] - 11s 250ms/step - loss: 0.7370 - accuracy: 0.7385 - val_loss: 0.9372 - val_accuracy: 0.7092 - lr: 0.0010\n",
            "Epoch 6/200\n",
            "43/43 [==============================] - 11s 255ms/step - loss: 0.6771 - accuracy: 0.7630 - val_loss: 0.8982 - val_accuracy: 0.7181 - lr: 0.0010\n",
            "Epoch 7/200\n",
            "43/43 [==============================] - 11s 255ms/step - loss: 0.6277 - accuracy: 0.7785 - val_loss: 0.8940 - val_accuracy: 0.7062 - lr: 0.0010\n",
            "Epoch 8/200\n",
            "43/43 [==============================] - 12s 273ms/step - loss: 0.5943 - accuracy: 0.7837 - val_loss: 0.8798 - val_accuracy: 0.7300 - lr: 0.0010\n",
            "Epoch 9/200\n",
            "43/43 [==============================] - 12s 272ms/step - loss: 0.5505 - accuracy: 0.8007 - val_loss: 0.8445 - val_accuracy: 0.7359 - lr: 0.0010\n",
            "Epoch 10/200\n",
            "43/43 [==============================] - 11s 260ms/step - loss: 0.5169 - accuracy: 0.8081 - val_loss: 0.8136 - val_accuracy: 0.7507 - lr: 0.0010\n",
            "Epoch 11/200\n",
            "43/43 [==============================] - 11s 257ms/step - loss: 0.5097 - accuracy: 0.8163 - val_loss: 0.8082 - val_accuracy: 0.7507 - lr: 0.0010\n",
            "Epoch 12/200\n",
            "43/43 [==============================] - 11s 251ms/step - loss: 0.4732 - accuracy: 0.8289 - val_loss: 0.8704 - val_accuracy: 0.7300 - lr: 0.0010\n",
            "Epoch 13/200\n",
            "43/43 [==============================] - 11s 251ms/step - loss: 0.4607 - accuracy: 0.8385 - val_loss: 0.7789 - val_accuracy: 0.7507 - lr: 0.0010\n",
            "Epoch 14/200\n",
            "43/43 [==============================] - 11s 260ms/step - loss: 0.4428 - accuracy: 0.8393 - val_loss: 0.8001 - val_accuracy: 0.7329 - lr: 0.0010\n",
            "Epoch 15/200\n",
            "43/43 [==============================] - 11s 253ms/step - loss: 0.4224 - accuracy: 0.8452 - val_loss: 0.7922 - val_accuracy: 0.7389 - lr: 0.0010\n",
            "Epoch 16/200\n",
            "43/43 [==============================] - 11s 249ms/step - loss: 0.3982 - accuracy: 0.8585 - val_loss: 0.8251 - val_accuracy: 0.7329 - lr: 0.0010\n",
            "Epoch 16: early stopping\n"
          ]
        },
        {
          "output_type": "execute_result",
          "data": {
            "text/plain": [
              "<keras.src.callbacks.History at 0x7e8d97fd8a00>"
            ]
          },
          "metadata": {},
          "execution_count": 24
        }
      ]
    },
    {
      "cell_type": "code",
      "metadata": {
        "id": "Hgi8hS8bcA8U"
      },
      "source": [
        "losses = pd.DataFrame(model.history.history)"
      ],
      "execution_count": null,
      "outputs": []
    },
    {
      "cell_type": "code",
      "metadata": {
        "id": "Rn79y9lBcKVt",
        "colab": {
          "base_uri": "https://localhost:8080/",
          "height": 447
        },
        "outputId": "647b5109-a9f1-456b-a782-57dae11eff9c"
      },
      "source": [
        "losses[['loss','val_loss']].plot()"
      ],
      "execution_count": null,
      "outputs": [
        {
          "output_type": "execute_result",
          "data": {
            "text/plain": [
              "<Axes: >"
            ]
          },
          "metadata": {},
          "execution_count": 26
        },
        {
          "output_type": "display_data",
          "data": {
            "text/plain": [
              "<Figure size 640x480 with 1 Axes>"
            ],
            "image/png": "[encoded data removed]"
          },
          "metadata": {}
        }
      ]
    },
    {
      "cell_type": "markdown",
      "metadata": {
        "id": "ksKjjsFs6JDh"
      },
      "source": [
        "# **Fine tunning**"
      ]
    },
    {
      "cell_type": "code",
      "source": [
        "model.load_weights('/content/drive/My Drive/Colab Notebooks/Mestrado final/Novos treinamentos/KFolds mix/model_checkpoint4')"
      ],
      "metadata": {
        "colab": {
          "base_uri": "https://localhost:8080/"
        },
        "id": "y9nuWKsFiGE3",
        "outputId": "7df83d27-a24b-4eeb-cc51-c9e1c1f32ee0"
      },
      "execution_count": null,
      "outputs": [
        {
          "output_type": "execute_result",
          "data": {
            "text/plain": [
              "<tensorflow.python.checkpoint.checkpoint.CheckpointLoadStatus at 0x7e8dad767fd0>"
            ]
          },
          "metadata": {},
          "execution_count": 27
        }
      ]
    },
    {
      "cell_type": "code",
      "metadata": {
        "id": "go0sV1nJc9w2"
      },
      "source": [
        "# Unfreeze all the layers\n",
        "for layer in model.layers:\n",
        "    layer.trainable = True"
      ],
      "execution_count": null,
      "outputs": []
    },
    {
      "cell_type": "code",
      "metadata": {
        "id": "dIgL22Be6wcT"
      },
      "source": [
        "model.compile(loss='categorical_crossentropy',\n",
        "              optimizer=tf.optimizers.Adam(1e-5),\n",
        "              metrics=['accuracy'])"
      ],
      "execution_count": null,
      "outputs": []
    },
    {
      "cell_type": "code",
      "metadata": {
        "id": "z0K-YtRN6wcU",
        "colab": {
          "base_uri": "https://localhost:8080/"
        },
        "outputId": "a1351572-c5cb-4fb4-f069-2f55d69491fd"
      },
      "source": [
        "train_image_gen.class_indices"
      ],
      "execution_count": null,
      "outputs": [
        {
          "output_type": "execute_result",
          "data": {
            "text/plain": [
              "{'covid': 0, 'dip': 1, 'normais': 2, 'tuberculose': 3}"
            ]
          },
          "metadata": {},
          "execution_count": 30
        }
      ]
    },
    {
      "cell_type": "code",
      "metadata": {
        "id": "6ID1ESoi6azO",
        "colab": {
          "base_uri": "https://localhost:8080/"
        },
        "outputId": "c7770fc9-de44-471b-fe1a-cbe64c8f094a"
      },
      "source": [
        "model.fit(train_image_gen,epochs=10,validation_data=validation_image_gen,callbacks=[model_checkpoint])"
      ],
      "execution_count": null,
      "outputs": [
        {
          "output_type": "stream",
          "name": "stdout",
          "text": [
            "Epoch 1/10\n",
            "43/43 [==============================] - 49s 770ms/step - loss: 0.5544 - accuracy: 0.7993 - val_loss: 0.6640 - val_accuracy: 0.7715\n",
            "Epoch 2/10\n",
            "43/43 [==============================] - 33s 760ms/step - loss: 0.2722 - accuracy: 0.9111 - val_loss: 0.6198 - val_accuracy: 0.7982\n",
            "Epoch 3/10\n",
            "43/43 [==============================] - 32s 743ms/step - loss: 0.1386 - accuracy: 0.9615 - val_loss: 0.6450 - val_accuracy: 0.8160\n",
            "Epoch 4/10\n",
            "43/43 [==============================] - 33s 758ms/step - loss: 0.0666 - accuracy: 0.9815 - val_loss: 0.7085 - val_accuracy: 0.8249\n",
            "Epoch 5/10\n",
            "43/43 [==============================] - 32s 749ms/step - loss: 0.0179 - accuracy: 0.9993 - val_loss: 0.7680 - val_accuracy: 0.8398\n",
            "Epoch 6/10\n",
            "43/43 [==============================] - 32s 735ms/step - loss: 0.0083 - accuracy: 1.0000 - val_loss: 0.7863 - val_accuracy: 0.8249\n",
            "Epoch 7/10\n",
            "43/43 [==============================] - 32s 734ms/step - loss: 0.0031 - accuracy: 1.0000 - val_loss: 0.8287 - val_accuracy: 0.8309\n",
            "Epoch 8/10\n",
            "43/43 [==============================] - 32s 732ms/step - loss: 0.0019 - accuracy: 1.0000 - val_loss: 0.8627 - val_accuracy: 0.8220\n",
            "Epoch 9/10\n",
            "43/43 [==============================] - 32s 732ms/step - loss: 0.0013 - accuracy: 1.0000 - val_loss: 0.8961 - val_accuracy: 0.8279\n",
            "Epoch 10/10\n",
            "43/43 [==============================] - 31s 727ms/step - loss: 0.0010 - accuracy: 1.0000 - val_loss: 0.9211 - val_accuracy: 0.8279\n"
          ]
        },
        {
          "output_type": "execute_result",
          "data": {
            "text/plain": [
              "<keras.src.callbacks.History at 0x7e8dad7672b0>"
            ]
          },
          "metadata": {},
          "execution_count": 31
        }
      ]
    },
    {
      "cell_type": "code",
      "metadata": {
        "id": "gQCIDrjr7ab4"
      },
      "source": [
        "losses = pd.DataFrame(model.history.history)"
      ],
      "execution_count": null,
      "outputs": []
    },
    {
      "cell_type": "code",
      "metadata": {
        "id": "JNp-4AZW7ab4",
        "colab": {
          "base_uri": "https://localhost:8080/",
          "height": 447
        },
        "outputId": "edf149ed-86ec-4ed0-fd30-8dae8ab7e296"
      },
      "source": [
        "losses[['loss','val_loss']].plot()"
      ],
      "execution_count": null,
      "outputs": [
        {
          "output_type": "execute_result",
          "data": {
            "text/plain": [
              "<Axes: >"
            ]
          },
          "metadata": {},
          "execution_count": 33
        },
        {
          "output_type": "display_data",
          "data": {
            "text/plain": [
              "<Figure size 640x480 with 1 Axes>"
            ],
            "image/png": "[encoded data removed]"
          },
          "metadata": {}
        }
      ]
    },
    {
      "cell_type": "code",
      "execution_count": null,
      "metadata": {
        "id": "3l0l-5qT35ET",
        "colab": {
          "base_uri": "https://localhost:8080/"
        },
        "outputId": "847c1ed5-fc76-4876-bd12-aa53ca6a7390"
      },
      "outputs": [
        {
          "output_type": "execute_result",
          "data": {
            "text/plain": [
              "<tensorflow.python.checkpoint.checkpoint.CheckpointLoadStatus at 0x7e8dad28bfd0>"
            ]
          },
          "metadata": {},
          "execution_count": 34
        }
      ],
      "source": [
        "model.load_weights('/content/drive/My Drive/Colab Notebooks/Mestrado final/Novos treinamentos/KFolds mix/model_checkpoint4')"
      ]
    },
    {
      "cell_type": "code",
      "execution_count": null,
      "metadata": {
        "id": "OZesQnBk3u7p",
        "colab": {
          "base_uri": "https://localhost:8080/"
        },
        "outputId": "042832c7-9f90-4ff9-874c-52ae316b6080"
      },
      "outputs": [
        {
          "output_type": "stream",
          "name": "stderr",
          "text": [
            "/usr/local/lib/python3.10/dist-packages/keras/src/engine/training.py:3079: UserWarning: You are saving your model as an HDF5 file via `model.save()`. This file format is considered legacy. We recommend using instead the native Keras format, e.g. `model.save('my_model.keras')`.\n",
            "  saving_api.save_model(\n"
          ]
        }
      ],
      "source": [
        "model.save('/content/drive/My Drive/Colab Notebooks/Mestrado final/Novos treinamentos/VGG19_fine-tuning_avg_4_classes_mix_data_part1235.h5')"
      ]
    }
  ]
}