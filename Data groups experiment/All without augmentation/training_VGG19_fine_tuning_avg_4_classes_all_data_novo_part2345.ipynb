{
  "cells": [
    {
      "cell_type": "code",
      "execution_count": null,
      "metadata": {
        "id": "g_4Y44SJTRF3"
      },
      "outputs": [],
      "source": [
        "import numpy as np\n",
        "import matplotlib.pyplot as plt\n",
        "from matplotlib.image import imread\n",
        "import tensorflow as tf\n",
        "import pandas as pd\n",
        "import random\n",
        "from keras.models import load_model"
      ]
    },
    {
      "cell_type": "code",
      "execution_count": null,
      "metadata": {
        "colab": {
          "base_uri": "https://localhost:8080/"
        },
        "id": "SBziWpUPxRL2",
        "outputId": "22a143e1-654f-4e01-9e63-46c27b0d0cdf"
      },
      "outputs": [
        {
          "output_type": "stream",
          "name": "stdout",
          "text": [
            "Sat Nov 18 14:25:07 2023       \n",
            "+-----------------------------------------------------------------------------+\n",
            "| NVIDIA-SMI 525.105.17   Driver Version: 525.105.17   CUDA Version: 12.0     |\n",
            "|-------------------------------+----------------------+----------------------+\n",
            "| GPU  Name        Persistence-M| Bus-Id        Disp.A | Volatile Uncorr. ECC |\n",
            "| Fan  Temp  Perf  Pwr:Usage/Cap|         Memory-Usage | GPU-Util  Compute M. |\n",
            "|                               |                      |               MIG M. |\n",
            "|===============================+======================+======================|\n",
            "|   0  Tesla T4            Off  | 00000000:00:04.0 Off |                    0 |\n",
            "| N/A   60C    P8    10W /  70W |      0MiB / 15360MiB |      0%      Default |\n",
            "|                               |                      |                  N/A |\n",
            "+-------------------------------+----------------------+----------------------+\n",
            "                                                                               \n",
            "+-----------------------------------------------------------------------------+\n",
            "| Processes:                                                                  |\n",
            "|  GPU   GI   CI        PID   Type   Process name                  GPU Memory |\n",
            "|        ID   ID                                                   Usage      |\n",
            "|=============================================================================|\n",
            "|  No running processes found                                                 |\n",
            "+-----------------------------------------------------------------------------+\n"
          ]
        }
      ],
      "source": [
        "gpu_info = !nvidia-smi\n",
        "gpu_info = '\\n'.join(gpu_info)\n",
        "if gpu_info.find('failed') >= 0:\n",
        "  print('Select the Runtime > \"Change runtime type\" menu to enable a GPU accelerator, ')\n",
        "  print('and then re-execute this cell.')\n",
        "else:\n",
        "  print(gpu_info)"
      ]
    },
    {
      "cell_type": "markdown",
      "metadata": {
        "id": "ZVGy_7Zf5Y4i"
      },
      "source": [
        "Keras guide:\n",
        "\n",
        "https://keras.io/guides/transfer_learning/"
      ]
    },
    {
      "cell_type": "code",
      "execution_count": null,
      "metadata": {
        "colab": {
          "base_uri": "https://localhost:8080/"
        },
        "id": "JepdH8A8T4mS",
        "outputId": "37a82119-f330-4e28-9b5c-1d6eaf8b6016"
      },
      "outputs": [
        {
          "output_type": "stream",
          "name": "stdout",
          "text": [
            "Mounted at /content/drive\n"
          ]
        }
      ],
      "source": [
        "from google.colab import drive\n",
        "drive.mount('/content/drive')"
      ]
    },
    {
      "cell_type": "code",
      "execution_count": null,
      "metadata": {
        "id": "11wCCxDHX_hS"
      },
      "outputs": [],
      "source": [
        "data_dir = '/content/drive/My Drive/Colab Notebooks/Mestrado final/KFolds mix_data/trein 2-3-4-5/'\n",
        "valid_dir = '/content/drive/My Drive/Colab Notebooks/Mestrado final/KFolds mix_data/1/'"
      ]
    },
    {
      "cell_type": "code",
      "execution_count": null,
      "metadata": {
        "colab": {
          "base_uri": "https://localhost:8080/"
        },
        "id": "bNgHB-WRUcHU",
        "outputId": "ec4b972a-9302-481a-cd02-6d82614fad09"
      },
      "outputs": [
        {
          "output_type": "execute_result",
          "data": {
            "text/plain": [
              "['tuberculose', 'covid', 'normais', 'dip']"
            ]
          },
          "metadata": {},
          "execution_count": 5
        }
      ],
      "source": [
        "tf.io.gfile.listdir(data_dir)"
      ]
    },
    {
      "cell_type": "code",
      "execution_count": null,
      "metadata": {
        "id": "WownivFFqCee"
      },
      "outputs": [],
      "source": [
        "image_shape = (224,224,3)\n",
        "batch_size = 32"
      ]
    },
    {
      "cell_type": "code",
      "execution_count": null,
      "metadata": {
        "id": "zZP11oMfqHcI"
      },
      "outputs": [],
      "source": [
        "from tensorflow.keras.preprocessing.image import ImageDataGenerator"
      ]
    },
    {
      "cell_type": "code",
      "execution_count": null,
      "metadata": {
        "id": "z1DhgrjHqOpi"
      },
      "outputs": [],
      "source": [
        "image_gen = ImageDataGenerator()"
      ]
    },
    {
      "cell_type": "code",
      "execution_count": null,
      "metadata": {
        "colab": {
          "base_uri": "https://localhost:8080/"
        },
        "id": "zt_rGqE7qRPb",
        "outputId": "cd2ddd60-33cc-4e37-efc3-d7455c1346c9"
      },
      "outputs": [
        {
          "output_type": "stream",
          "name": "stdout",
          "text": [
            "Found 1350 images belonging to 4 classes.\n"
          ]
        },
        {
          "output_type": "execute_result",
          "data": {
            "text/plain": [
              "<keras.src.preprocessing.image.DirectoryIterator at 0x7b7fbb4460e0>"
            ]
          },
          "metadata": {},
          "execution_count": 9
        }
      ],
      "source": [
        "image_gen.flow_from_directory(data_dir)"
      ]
    },
    {
      "cell_type": "markdown",
      "metadata": {
        "id": "ljlmoX_wnS07"
      },
      "source": [
        "# **Creating the model**"
      ]
    },
    {
      "cell_type": "code",
      "execution_count": null,
      "metadata": {
        "id": "W9qDjEz-uv-z"
      },
      "outputs": [],
      "source": [
        "from tensorflow.keras.applications.vgg19 import VGG19\n",
        "from tensorflow.keras.models import Model\n",
        "from tensorflow.keras.layers import Flatten,Dense"
      ]
    },
    {
      "cell_type": "code",
      "execution_count": null,
      "metadata": {
        "colab": {
          "base_uri": "https://localhost:8080/"
        },
        "id": "eMhwnptro3L8",
        "outputId": "310d30ec-02d0-4258-996d-b52302ce3a19"
      },
      "outputs": [
        {
          "output_type": "stream",
          "name": "stdout",
          "text": [
            "Downloading data from https://storage.googleapis.com/tensorflow/keras-applications/vgg19/vgg19_weights_tf_dim_ordering_tf_kernels_notop.h5\n",
            "80134624/80134624 [==============================] - 1s 0us/step\n"
          ]
        }
      ],
      "source": [
        "i = tf.keras.layers.Input([None, None, 3], dtype = tf.uint8)\n",
        "x = tf.cast(i, tf.float32)\n",
        "x = tf.keras.applications.vgg19.preprocess_input(x)\n",
        "\n",
        "vgg19 = tf.keras.applications.VGG19(input_tensor=x, input_shape = image_shape, include_top = False, weights=\"imagenet\", pooling=\"avg\")\n"
      ]
    },
    {
      "cell_type": "code",
      "execution_count": null,
      "metadata": {
        "id": "O1L4fkqEo5Kw"
      },
      "outputs": [],
      "source": [
        "# Freeze all the layers\n",
        "for layer in vgg19.layers:\n",
        "    layer.trainable = False"
      ]
    },
    {
      "cell_type": "code",
      "execution_count": null,
      "metadata": {
        "id": "sWsvb-H5o5NZ"
      },
      "outputs": [],
      "source": [
        "z = vgg19.output\n",
        "predictions = Dense(4, activation='softmax')(z)\n",
        "model = Model(inputs=vgg19.input, outputs=predictions)"
      ]
    },
    {
      "cell_type": "code",
      "execution_count": null,
      "metadata": {
        "colab": {
          "base_uri": "https://localhost:8080/"
        },
        "id": "I825x9pepAa4",
        "outputId": "9647c380-2252-4c7d-9ecc-4b546b145dda"
      },
      "outputs": [
        {
          "output_type": "stream",
          "name": "stdout",
          "text": [
            "Model: \"model\"\n",
            "_________________________________________________________________\n",
            " Layer (type)                Output Shape              Param #   \n",
            "=================================================================\n",
            " input_1 (InputLayer)        [(None, None, None, 3)]   0         \n",
            "                                                                 \n",
            " tf.cast (TFOpLambda)        (None, None, None, 3)     0         \n",
            "                                                                 \n",
            " tf.__operators__.getitem (  (None, None, None, 3)     0         \n",
            " SlicingOpLambda)                                                \n",
            "                                                                 \n",
            " tf.nn.bias_add (TFOpLambda  (None, None, None, 3)     0         \n",
            " )                                                               \n",
            "                                                                 \n",
            " block1_conv1 (Conv2D)       (None, None, None, 64)    1792      \n",
            "                                                                 \n",
            " block1_conv2 (Conv2D)       (None, None, None, 64)    36928     \n",
            "                                                                 \n",
            " block1_pool (MaxPooling2D)  (None, None, None, 64)    0         \n",
            "                                                                 \n",
            " block2_conv1 (Conv2D)       (None, None, None, 128)   73856     \n",
            "                                                                 \n",
            " block2_conv2 (Conv2D)       (None, None, None, 128)   147584    \n",
            "                                                                 \n",
            " block2_pool (MaxPooling2D)  (None, None, None, 128)   0         \n",
            "                                                                 \n",
            " block3_conv1 (Conv2D)       (None, None, None, 256)   295168    \n",
            "                                                                 \n",
            " block3_conv2 (Conv2D)       (None, None, None, 256)   590080    \n",
            "                                                                 \n",
            " block3_conv3 (Conv2D)       (None, None, None, 256)   590080    \n",
            "                                                                 \n",
            " block3_conv4 (Conv2D)       (None, None, None, 256)   590080    \n",
            "                                                                 \n",
            " block3_pool (MaxPooling2D)  (None, None, None, 256)   0         \n",
            "                                                                 \n",
            " block4_conv1 (Conv2D)       (None, None, None, 512)   1180160   \n",
            "                                                                 \n",
            " block4_conv2 (Conv2D)       (None, None, None, 512)   2359808   \n",
            "                                                                 \n",
            " block4_conv3 (Conv2D)       (None, None, None, 512)   2359808   \n",
            "                                                                 \n",
            " block4_conv4 (Conv2D)       (None, None, None, 512)   2359808   \n",
            "                                                                 \n",
            " block4_pool (MaxPooling2D)  (None, None, None, 512)   0         \n",
            "                                                                 \n",
            " block5_conv1 (Conv2D)       (None, None, None, 512)   2359808   \n",
            "                                                                 \n",
            " block5_conv2 (Conv2D)       (None, None, None, 512)   2359808   \n",
            "                                                                 \n",
            " block5_conv3 (Conv2D)       (None, None, None, 512)   2359808   \n",
            "                                                                 \n",
            " block5_conv4 (Conv2D)       (None, None, None, 512)   2359808   \n",
            "                                                                 \n",
            " block5_pool (MaxPooling2D)  (None, None, None, 512)   0         \n",
            "                                                                 \n",
            " global_average_pooling2d (  (None, 512)               0         \n",
            " GlobalAveragePooling2D)                                         \n",
            "                                                                 \n",
            " dense (Dense)               (None, 4)                 2052      \n",
            "                                                                 \n",
            "=================================================================\n",
            "Total params: 20026436 (76.39 MB)\n",
            "Trainable params: 2052 (8.02 KB)\n",
            "Non-trainable params: 20024384 (76.39 MB)\n",
            "_________________________________________________________________\n"
          ]
        }
      ],
      "source": [
        "model.summary()"
      ]
    },
    {
      "cell_type": "code",
      "execution_count": null,
      "metadata": {
        "id": "fa4IjzPQpAd3"
      },
      "outputs": [],
      "source": [
        "model.compile(loss='categorical_crossentropy',\n",
        "              optimizer='adam',\n",
        "              metrics=['accuracy'])"
      ]
    },
    {
      "cell_type": "code",
      "execution_count": null,
      "metadata": {
        "id": "5WRw2B3P53BW"
      },
      "outputs": [],
      "source": [
        "from tensorflow.keras.callbacks import EarlyStopping, ModelCheckpoint, ReduceLROnPlateau"
      ]
    },
    {
      "cell_type": "code",
      "execution_count": null,
      "metadata": {
        "id": "mAhez88k6AW1"
      },
      "outputs": [],
      "source": [
        "early_stop = EarlyStopping(monitor='val_loss',patience=3,verbose=2)"
      ]
    },
    {
      "cell_type": "code",
      "execution_count": null,
      "metadata": {
        "id": "COEBh47_eAd6"
      },
      "outputs": [],
      "source": [
        "model_checkpoint  = ModelCheckpoint(\n",
        "    filepath='/content/drive/My Drive/Colab Notebooks/Mestrado final/Novos treinamentos/KFolds mix/model_checkpoint1',\n",
        "    save_weights_only=True,\n",
        "    monitor='val_accuracy',\n",
        "    mode='max',\n",
        "    save_freq='epoch',\n",
        "    save_best_only=True,\n",
        "    options=None,\n",
        "    initial_value_threshold=None,\n",
        "    verbose = 0\n",
        ")"
      ]
    },
    {
      "cell_type": "code",
      "execution_count": null,
      "metadata": {
        "id": "Sa04TvyOXf_R"
      },
      "outputs": [],
      "source": [
        "reduce_lr = ReduceLROnPlateau(monitor='val_loss', factor=0.2,\n",
        "                              patience=5, min_lr=0.001)"
      ]
    },
    {
      "cell_type": "code",
      "execution_count": null,
      "metadata": {
        "colab": {
          "base_uri": "https://localhost:8080/"
        },
        "id": "pkgfaQ316FAH",
        "outputId": "701db9ba-6bf9-4c56-dfb3-a67e561ef4df"
      },
      "outputs": [
        {
          "output_type": "stream",
          "name": "stdout",
          "text": [
            "Found 1350 images belonging to 4 classes.\n"
          ]
        }
      ],
      "source": [
        "train_image_gen = image_gen.flow_from_directory(data_dir,\n",
        "                                                #target_size=image_shape[:2],\n",
        "                                                color_mode='rgb',\n",
        "                                                batch_size=batch_size,\n",
        "                                                class_mode='categorical'\n",
        "                                                )"
      ]
    },
    {
      "cell_type": "code",
      "execution_count": null,
      "metadata": {
        "colab": {
          "base_uri": "https://localhost:8080/"
        },
        "id": "B6CFbu9soZLU",
        "outputId": "d1ca48f1-5028-4cd3-dcbb-07efd2aeae58"
      },
      "outputs": [
        {
          "output_type": "stream",
          "name": "stdout",
          "text": [
            "Found 337 images belonging to 4 classes.\n"
          ]
        }
      ],
      "source": [
        "validation_image_gen = image_gen.flow_from_directory(valid_dir,\n",
        "                                                #target_size=image_shape[:2],\n",
        "                                                color_mode='rgb',\n",
        "                                                batch_size=batch_size,\n",
        "                                                class_mode='categorical'\n",
        "                                                )"
      ]
    },
    {
      "cell_type": "code",
      "execution_count": null,
      "metadata": {
        "colab": {
          "base_uri": "https://localhost:8080/"
        },
        "id": "wEt9ohCg7JbG",
        "outputId": "2ea4b1d8-5c1a-40e5-b662-fa64c37c243b"
      },
      "outputs": [
        {
          "output_type": "execute_result",
          "data": {
            "text/plain": [
              "{'covid': 0, 'dip': 1, 'normais': 2, 'tuberculose': 3}"
            ]
          },
          "metadata": {},
          "execution_count": 23
        }
      ],
      "source": [
        "train_image_gen.class_indices"
      ]
    },
    {
      "cell_type": "markdown",
      "metadata": {
        "id": "F2wJaiy88l4K"
      },
      "source": [
        "# **Training the model**"
      ]
    },
    {
      "cell_type": "code",
      "execution_count": null,
      "metadata": {
        "colab": {
          "base_uri": "https://localhost:8080/"
        },
        "id": "qkUbj_Xh8e1r",
        "outputId": "dfa94d2b-a2dd-4f8f-aa95-ebf0c79e89cc"
      },
      "outputs": [
        {
          "output_type": "stream",
          "name": "stdout",
          "text": [
            "Epoch 1/200\n",
            "43/43 [==============================] - 447s 10s/step - loss: 3.1576 - accuracy: 0.3089 - val_loss: 1.6699 - val_accuracy: 0.4125 - lr: 0.0010\n",
            "Epoch 2/200\n",
            "43/43 [==============================] - 11s 259ms/step - loss: 1.3893 - accuracy: 0.5007 - val_loss: 1.1419 - val_accuracy: 0.5846 - lr: 0.0010\n",
            "Epoch 3/200\n",
            "43/43 [==============================] - 11s 265ms/step - loss: 1.0317 - accuracy: 0.6163 - val_loss: 0.9235 - val_accuracy: 0.6499 - lr: 0.0010\n",
            "Epoch 4/200\n",
            "43/43 [==============================] - 11s 254ms/step - loss: 0.8447 - accuracy: 0.6867 - val_loss: 0.8252 - val_accuracy: 0.7092 - lr: 0.0010\n",
            "Epoch 5/200\n",
            "43/43 [==============================] - 11s 256ms/step - loss: 0.7755 - accuracy: 0.7141 - val_loss: 0.8130 - val_accuracy: 0.7181 - lr: 0.0010\n",
            "Epoch 6/200\n",
            "43/43 [==============================] - 11s 262ms/step - loss: 0.6883 - accuracy: 0.7563 - val_loss: 0.7420 - val_accuracy: 0.7478 - lr: 0.0010\n",
            "Epoch 7/200\n",
            "43/43 [==============================] - 11s 251ms/step - loss: 0.6263 - accuracy: 0.7763 - val_loss: 0.7230 - val_accuracy: 0.7626 - lr: 0.0010\n",
            "Epoch 8/200\n",
            "43/43 [==============================] - 11s 246ms/step - loss: 0.5794 - accuracy: 0.7859 - val_loss: 0.7286 - val_accuracy: 0.7478 - lr: 0.0010\n",
            "Epoch 9/200\n",
            "43/43 [==============================] - 11s 253ms/step - loss: 0.5709 - accuracy: 0.7985 - val_loss: 0.6912 - val_accuracy: 0.7537 - lr: 0.0010\n",
            "Epoch 10/200\n",
            "43/43 [==============================] - 11s 265ms/step - loss: 0.5334 - accuracy: 0.8126 - val_loss: 0.6519 - val_accuracy: 0.7893 - lr: 0.0010\n",
            "Epoch 11/200\n",
            "43/43 [==============================] - 11s 256ms/step - loss: 0.5143 - accuracy: 0.8170 - val_loss: 0.6465 - val_accuracy: 0.7834 - lr: 0.0010\n",
            "Epoch 12/200\n",
            "43/43 [==============================] - 11s 246ms/step - loss: 0.4745 - accuracy: 0.8385 - val_loss: 0.6640 - val_accuracy: 0.7656 - lr: 0.0010\n",
            "Epoch 13/200\n",
            "43/43 [==============================] - 11s 243ms/step - loss: 0.4644 - accuracy: 0.8407 - val_loss: 0.6459 - val_accuracy: 0.7804 - lr: 0.0010\n",
            "Epoch 14/200\n",
            "43/43 [==============================] - 10s 242ms/step - loss: 0.4498 - accuracy: 0.8481 - val_loss: 0.6441 - val_accuracy: 0.7774 - lr: 0.0010\n",
            "Epoch 15/200\n",
            "43/43 [==============================] - 11s 253ms/step - loss: 0.4237 - accuracy: 0.8600 - val_loss: 0.6713 - val_accuracy: 0.7626 - lr: 0.0010\n",
            "Epoch 16/200\n",
            "43/43 [==============================] - 11s 248ms/step - loss: 0.4250 - accuracy: 0.8444 - val_loss: 0.6370 - val_accuracy: 0.7834 - lr: 0.0010\n",
            "Epoch 17/200\n",
            "43/43 [==============================] - 11s 266ms/step - loss: 0.4071 - accuracy: 0.8652 - val_loss: 0.6113 - val_accuracy: 0.7982 - lr: 0.0010\n",
            "Epoch 18/200\n",
            "43/43 [==============================] - 11s 245ms/step - loss: 0.3820 - accuracy: 0.8733 - val_loss: 0.6315 - val_accuracy: 0.7774 - lr: 0.0010\n",
            "Epoch 19/200\n",
            "43/43 [==============================] - 11s 250ms/step - loss: 0.3699 - accuracy: 0.8763 - val_loss: 0.6025 - val_accuracy: 0.8101 - lr: 0.0010\n",
            "Epoch 20/200\n",
            "43/43 [==============================] - 11s 250ms/step - loss: 0.3667 - accuracy: 0.8756 - val_loss: 0.6399 - val_accuracy: 0.7834 - lr: 0.0010\n",
            "Epoch 21/200\n",
            "43/43 [==============================] - 11s 251ms/step - loss: 0.3710 - accuracy: 0.8689 - val_loss: 0.6018 - val_accuracy: 0.8160 - lr: 0.0010\n",
            "Epoch 22/200\n",
            "43/43 [==============================] - 11s 252ms/step - loss: 0.3446 - accuracy: 0.8822 - val_loss: 0.6449 - val_accuracy: 0.7656 - lr: 0.0010\n",
            "Epoch 23/200\n",
            "43/43 [==============================] - 11s 247ms/step - loss: 0.3323 - accuracy: 0.8867 - val_loss: 0.6081 - val_accuracy: 0.7953 - lr: 0.0010\n",
            "Epoch 24/200\n",
            "43/43 [==============================] - 11s 250ms/step - loss: 0.3271 - accuracy: 0.8881 - val_loss: 0.6083 - val_accuracy: 0.8071 - lr: 0.0010\n",
            "Epoch 24: early stopping\n"
          ]
        },
        {
          "output_type": "execute_result",
          "data": {
            "text/plain": [
              "<keras.src.callbacks.History at 0x7b7f250fb5e0>"
            ]
          },
          "metadata": {},
          "execution_count": 24
        }
      ],
      "source": [
        "model.fit(train_image_gen,epochs=200,validation_data=validation_image_gen,callbacks=[early_stop,model_checkpoint,reduce_lr])"
      ]
    },
    {
      "cell_type": "code",
      "execution_count": null,
      "metadata": {
        "id": "Hgi8hS8bcA8U"
      },
      "outputs": [],
      "source": [
        "losses = pd.DataFrame(model.history.history)"
      ]
    },
    {
      "cell_type": "code",
      "execution_count": null,
      "metadata": {
        "colab": {
          "base_uri": "https://localhost:8080/",
          "height": 447
        },
        "id": "Rn79y9lBcKVt",
        "outputId": "3b0dd2fc-1259-416f-92dc-74e13b8833e3"
      },
      "outputs": [
        {
          "output_type": "execute_result",
          "data": {
            "text/plain": [
              "<Axes: >"
            ]
          },
          "metadata": {},
          "execution_count": 26
        },
        {
          "output_type": "display_data",
          "data": {
            "text/plain": [
              "<Figure size 640x480 with 1 Axes>"
            ],
            "image/png": "[encoded data removed]"
          },
          "metadata": {}
        }
      ],
      "source": [
        "losses[['loss','val_loss']].plot()"
      ]
    },
    {
      "cell_type": "code",
      "execution_count": null,
      "metadata": {
        "id": "ka0i7488tVxV"
      },
      "outputs": [],
      "source": []
    },
    {
      "cell_type": "markdown",
      "metadata": {
        "id": "ksKjjsFs6JDh"
      },
      "source": [
        "# **Fine tunning**"
      ]
    },
    {
      "cell_type": "code",
      "execution_count": null,
      "metadata": {
        "colab": {
          "base_uri": "https://localhost:8080/"
        },
        "id": "y9nuWKsFiGE3",
        "outputId": "085fb543-0c54-463f-b15f-8895c0e59e1b"
      },
      "outputs": [
        {
          "output_type": "execute_result",
          "data": {
            "text/plain": [
              "<tensorflow.python.checkpoint.checkpoint.CheckpointLoadStatus at 0x7b7f24672f80>"
            ]
          },
          "metadata": {},
          "execution_count": 27
        }
      ],
      "source": [
        "model.load_weights('/content/drive/My Drive/Colab Notebooks/Mestrado final/Novos treinamentos/KFolds mix/model_checkpoint1')"
      ]
    },
    {
      "cell_type": "code",
      "execution_count": null,
      "metadata": {
        "id": "go0sV1nJc9w2"
      },
      "outputs": [],
      "source": [
        "# Unfreeze all the layers\n",
        "for layer in model.layers:\n",
        "    layer.trainable = True"
      ]
    },
    {
      "cell_type": "code",
      "execution_count": null,
      "metadata": {
        "id": "dIgL22Be6wcT"
      },
      "outputs": [],
      "source": [
        "model.compile(loss='categorical_crossentropy',\n",
        "              optimizer=tf.optimizers.Adam(1e-5),\n",
        "              metrics=['accuracy'])"
      ]
    },
    {
      "cell_type": "code",
      "execution_count": null,
      "metadata": {
        "colab": {
          "base_uri": "https://localhost:8080/"
        },
        "id": "z0K-YtRN6wcU",
        "outputId": "4c9fd0e9-0560-4af7-ed13-527d9081a3b9"
      },
      "outputs": [
        {
          "output_type": "execute_result",
          "data": {
            "text/plain": [
              "{'covid': 0, 'dip': 1, 'normais': 2, 'tuberculose': 3}"
            ]
          },
          "metadata": {},
          "execution_count": 30
        }
      ],
      "source": [
        "train_image_gen.class_indices"
      ]
    },
    {
      "cell_type": "code",
      "execution_count": null,
      "metadata": {
        "colab": {
          "base_uri": "https://localhost:8080/"
        },
        "id": "6ID1ESoi6azO",
        "outputId": "eacd77be-22d7-4367-a26b-1098452691a7"
      },
      "outputs": [
        {
          "output_type": "stream",
          "name": "stdout",
          "text": [
            "Epoch 1/10\n",
            "43/43 [==============================] - 48s 764ms/step - loss: 0.4554 - accuracy: 0.8319 - val_loss: 0.5279 - val_accuracy: 0.8338\n",
            "Epoch 2/10\n",
            "43/43 [==============================] - 29s 663ms/step - loss: 0.1865 - accuracy: 0.9400 - val_loss: 0.5953 - val_accuracy: 0.8338\n",
            "Epoch 3/10\n",
            "43/43 [==============================] - 29s 663ms/step - loss: 0.0890 - accuracy: 0.9800 - val_loss: 0.5907 - val_accuracy: 0.8249\n",
            "Epoch 4/10\n",
            "43/43 [==============================] - 29s 681ms/step - loss: 0.0565 - accuracy: 0.9830 - val_loss: 0.5839 - val_accuracy: 0.8516\n",
            "Epoch 5/10\n",
            "43/43 [==============================] - 29s 663ms/step - loss: 0.0205 - accuracy: 0.9978 - val_loss: 0.7266 - val_accuracy: 0.8309\n",
            "Epoch 6/10\n",
            "43/43 [==============================] - 30s 697ms/step - loss: 0.0068 - accuracy: 1.0000 - val_loss: 0.6604 - val_accuracy: 0.8605\n",
            "Epoch 7/10\n",
            "43/43 [==============================] - 30s 695ms/step - loss: 0.0021 - accuracy: 1.0000 - val_loss: 0.6726 - val_accuracy: 0.8754\n",
            "Epoch 8/10\n",
            "43/43 [==============================] - 28s 660ms/step - loss: 0.0012 - accuracy: 1.0000 - val_loss: 0.6944 - val_accuracy: 0.8754\n",
            "Epoch 9/10\n",
            "43/43 [==============================] - 29s 663ms/step - loss: 8.9031e-04 - accuracy: 1.0000 - val_loss: 0.7093 - val_accuracy: 0.8724\n",
            "Epoch 10/10\n",
            "43/43 [==============================] - 29s 664ms/step - loss: 7.0960e-04 - accuracy: 1.0000 - val_loss: 0.7312 - val_accuracy: 0.8665\n"
          ]
        },
        {
          "output_type": "execute_result",
          "data": {
            "text/plain": [
              "<keras.src.callbacks.History at 0x7b7f246a9ea0>"
            ]
          },
          "metadata": {},
          "execution_count": 31
        }
      ],
      "source": [
        "model.fit(train_image_gen,epochs=10,validation_data=validation_image_gen,callbacks=[model_checkpoint])"
      ]
    },
    {
      "cell_type": "code",
      "execution_count": null,
      "metadata": {
        "id": "gQCIDrjr7ab4"
      },
      "outputs": [],
      "source": [
        "losses = pd.DataFrame(model.history.history)"
      ]
    },
    {
      "cell_type": "code",
      "execution_count": null,
      "metadata": {
        "colab": {
          "base_uri": "https://localhost:8080/",
          "height": 447
        },
        "id": "JNp-4AZW7ab4",
        "outputId": "fa692af0-b149-4e84-fc4d-e88d91038f70"
      },
      "outputs": [
        {
          "output_type": "execute_result",
          "data": {
            "text/plain": [
              "<Axes: >"
            ]
          },
          "metadata": {},
          "execution_count": 33
        },
        {
          "output_type": "display_data",
          "data": {
            "text/plain": [
              "<Figure size 640x480 with 1 Axes>"
            ],
            "image/png": "[encoded data removed]"
          },
          "metadata": {}
        }
      ],
      "source": [
        "losses[['loss','val_loss']].plot()"
      ]
    },
    {
      "cell_type": "code",
      "execution_count": null,
      "metadata": {
        "colab": {
          "base_uri": "https://localhost:8080/"
        },
        "id": "3l0l-5qT35ET",
        "outputId": "8d244097-b1e7-48f9-f258-476a5ac41166"
      },
      "outputs": [
        {
          "output_type": "execute_result",
          "data": {
            "text/plain": [
              "<tensorflow.python.checkpoint.checkpoint.CheckpointLoadStatus at 0x7b7f24672e90>"
            ]
          },
          "metadata": {},
          "execution_count": 34
        }
      ],
      "source": [
        "model.load_weights('/content/drive/My Drive/Colab Notebooks/Mestrado final/Novos treinamentos/KFolds mix/model_checkpoint1')"
      ]
    },
    {
      "cell_type": "code",
      "execution_count": null,
      "metadata": {
        "colab": {
          "base_uri": "https://localhost:8080/"
        },
        "id": "OZesQnBk3u7p",
        "outputId": "d0b17ff2-7c20-47dc-c7b3-295b53985a7d"
      },
      "outputs": [
        {
          "output_type": "stream",
          "name": "stderr",
          "text": [
            "/usr/local/lib/python3.10/dist-packages/keras/src/engine/training.py:3079: UserWarning: You are saving your model as an HDF5 file via `model.save()`. This file format is considered legacy. We recommend using instead the native Keras format, e.g. `model.save('my_model.keras')`.\n",
            "  saving_api.save_model(\n"
          ]
        }
      ],
      "source": [
        "model.save('/content/drive/My Drive/Colab Notebooks/Mestrado final/Novos treinamentos/VGG19_fine-tuning_avg_4_classes_mix_data_part2345.h5')"
      ]
    }
  ],
  "metadata": {
    "accelerator": "GPU",
    "colab": {
      "provenance": []
    },
    "gpuClass": "standard",
    "kernelspec": {
      "display_name": "Python 3",
      "name": "python3"
    }
  },
  "nbformat": 4,
  "nbformat_minor": 0
}