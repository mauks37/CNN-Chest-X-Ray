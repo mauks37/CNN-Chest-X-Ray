{
  "nbformat": 4,
  "nbformat_minor": 0,
  "metadata": {
    "colab": {
      "provenance": []
    },
    "kernelspec": {
      "name": "python3",
      "display_name": "Python 3"
    },
    "language_info": {
      "name": "python"
    },
    "accelerator": "GPU"
  },
  "cells": [
    {
      "cell_type": "code",
      "metadata": {
        "id": "bLQyK1rbrX4x"
      },
      "source": [
        "import numpy as np\n",
        "import matplotlib.pyplot as plt\n",
        "from matplotlib.image import imread\n",
        "import tensorflow as tf\n",
        "import pandas as pd\n",
        "import random\n",
        "import cv2\n",
        "from sklearn.metrics import classification_report, confusion_matrix"
      ],
      "execution_count": null,
      "outputs": []
    },
    {
      "cell_type": "code",
      "metadata": {
        "colab": {
          "base_uri": "https://localhost:8080/"
        },
        "id": "WKLH776RriDl",
        "outputId": "c41b2482-ea6f-4b57-b09c-c5600ed305a6"
      },
      "source": [
        "gpu_info = !nvidia-smi\n",
        "gpu_info = '\\n'.join(gpu_info)\n",
        "if gpu_info.find('failed') >= 0:\n",
        "  print('Select the Runtime > \"Change runtime type\" menu to enable a GPU accelerator, ')\n",
        "  print('and then re-execute this cell.')\n",
        "else:\n",
        "  print(gpu_info)"
      ],
      "execution_count": null,
      "outputs": [
        {
          "output_type": "stream",
          "name": "stdout",
          "text": [
            "Sat Nov 18 01:03:09 2023       \n",
            "+-----------------------------------------------------------------------------+\n",
            "| NVIDIA-SMI 525.105.17   Driver Version: 525.105.17   CUDA Version: 12.0     |\n",
            "|-------------------------------+----------------------+----------------------+\n",
            "| GPU  Name        Persistence-M| Bus-Id        Disp.A | Volatile Uncorr. ECC |\n",
            "| Fan  Temp  Perf  Pwr:Usage/Cap|         Memory-Usage | GPU-Util  Compute M. |\n",
            "|                               |                      |               MIG M. |\n",
            "|===============================+======================+======================|\n",
            "|   0  Tesla T4            Off  | 00000000:00:04.0 Off |                    0 |\n",
            "| N/A   45C    P8     9W /  70W |      0MiB / 15360MiB |      0%      Default |\n",
            "|                               |                      |                  N/A |\n",
            "+-------------------------------+----------------------+----------------------+\n",
            "                                                                               \n",
            "+-----------------------------------------------------------------------------+\n",
            "| Processes:                                                                  |\n",
            "|  GPU   GI   CI        PID   Type   Process name                  GPU Memory |\n",
            "|        ID   ID                                                   Usage      |\n",
            "|=============================================================================|\n",
            "|  No running processes found                                                 |\n",
            "+-----------------------------------------------------------------------------+\n"
          ]
        }
      ]
    },
    {
      "cell_type": "code",
      "metadata": {
        "colab": {
          "base_uri": "https://localhost:8080/"
        },
        "id": "2p0qp-B7riJD",
        "outputId": "98c7905d-fab2-44ca-be64-33a9b46d8f41"
      },
      "source": [
        "from google.colab import drive\n",
        "drive.mount('/content/drive')"
      ],
      "execution_count": null,
      "outputs": [
        {
          "output_type": "stream",
          "name": "stdout",
          "text": [
            "Mounted at /content/drive\n"
          ]
        }
      ]
    },
    {
      "cell_type": "code",
      "metadata": {
        "id": "U-qkYL34bo90"
      },
      "source": [
        "image_shape = (224,224,3)\n",
        "batch_size = 32"
      ],
      "execution_count": null,
      "outputs": []
    },
    {
      "cell_type": "code",
      "metadata": {
        "id": "yclyG0h-bsPk"
      },
      "source": [
        "from tensorflow.keras.preprocessing.image import ImageDataGenerator"
      ],
      "execution_count": null,
      "outputs": []
    },
    {
      "cell_type": "code",
      "metadata": {
        "id": "i47KwrQ-wwnD"
      },
      "source": [
        "image_gen = ImageDataGenerator()"
      ],
      "execution_count": null,
      "outputs": []
    },
    {
      "cell_type": "code",
      "metadata": {
        "id": "F4w5_zqjcD7C"
      },
      "source": [
        "from keras.models import load_model"
      ],
      "execution_count": null,
      "outputs": []
    },
    {
      "cell_type": "code",
      "metadata": {
        "id": "cidbuig2sKuA"
      },
      "source": [
        "def int_predict (pred_probabilities):\n",
        "  predictions = np.zeros((pred_probabilities.shape[0],1),dtype=int)\n",
        "  i = 0\n",
        "  while i < pred_probabilities.shape[0]:\n",
        "    predictions[i,:] = [np.argmax(pred_probabilities[i])]\n",
        "    i = i + 1\n",
        "\n",
        "  return predictions"
      ],
      "execution_count": null,
      "outputs": []
    },
    {
      "cell_type": "code",
      "source": [
        "test_dir = '/content/drive/My Drive/Colab Notebooks/Mestrado final/RXT teste nosso_data/'"
      ],
      "metadata": {
        "id": "NFG0XRV-mF4v"
      },
      "execution_count": null,
      "outputs": []
    },
    {
      "cell_type": "markdown",
      "metadata": {
        "id": "89ACTjr5rziA"
      },
      "source": [
        "#**PART 1**"
      ]
    },
    {
      "cell_type": "code",
      "source": [
        "data_dir = '/content/drive/My Drive/Colab Notebooks/Mestrado final/KFolds nosso_data aumentado/trein 2-3-4-5/'\n",
        "valid_dir = '/content/drive/My Drive/Colab Notebooks/Mestrado final/KFolds nosso_data aumentado/1/'"
      ],
      "metadata": {
        "id": "DXwbUP8yld8s"
      },
      "execution_count": null,
      "outputs": []
    },
    {
      "cell_type": "code",
      "metadata": {
        "id": "VZkYZ3_mcLSP"
      },
      "source": [
        "model = tf.keras.models.load_model('/content/drive/My Drive/Colab Notebooks/Mestrado final/Novos treinamentos/KFolds nosso aumentado/VGG19_fine-tuning_RandAugm_avg_4_classes_nosso_data_part2345.h5')"
      ],
      "execution_count": null,
      "outputs": []
    },
    {
      "cell_type": "markdown",
      "source": [
        "VALIDATION"
      ],
      "metadata": {
        "id": "X1uK0BHvnyg2"
      }
    },
    {
      "cell_type": "code",
      "metadata": {
        "colab": {
          "base_uri": "https://localhost:8080/"
        },
        "id": "cKD6zVes7ab5",
        "outputId": "fa0564db-dd93-48b5-865f-457995943bdf"
      },
      "source": [
        "valid_image_gen = image_gen.flow_from_directory(valid_dir,\n",
        "                                               #target_size=image_shape[:2],\n",
        "                                               color_mode='rgb',\n",
        "                                               batch_size=batch_size,\n",
        "                                               class_mode='categorical',\n",
        "                                               shuffle=False)"
      ],
      "execution_count": null,
      "outputs": [
        {
          "output_type": "stream",
          "name": "stdout",
          "text": [
            "Found 177 images belonging to 4 classes.\n"
          ]
        }
      ]
    },
    {
      "cell_type": "code",
      "metadata": {
        "colab": {
          "base_uri": "https://localhost:8080/"
        },
        "id": "TKeXy4Se7ab5",
        "outputId": "969f46d6-c180-4de5-d2e4-dab0b5bdbce4"
      },
      "source": [
        "ac1v = model.evaluate(valid_image_gen)\n",
        "ac1v"
      ],
      "execution_count": null,
      "outputs": [
        {
          "output_type": "stream",
          "name": "stdout",
          "text": [
            "6/6 [==============================] - 74s 13s/step - loss: 0.9371 - accuracy: 0.8079\n"
          ]
        },
        {
          "output_type": "execute_result",
          "data": {
            "text/plain": [
              "[0.9370558857917786, 0.8079096078872681]"
            ]
          },
          "metadata": {},
          "execution_count": 13
        }
      ]
    },
    {
      "cell_type": "code",
      "metadata": {
        "id": "CZ0DNSfKXbZO",
        "colab": {
          "base_uri": "https://localhost:8080/"
        },
        "outputId": "e5156df7-175a-403f-8ccd-23d115b265ea"
      },
      "source": [
        "pred_probabilities = model.predict(valid_image_gen)"
      ],
      "execution_count": null,
      "outputs": [
        {
          "output_type": "stream",
          "name": "stdout",
          "text": [
            "6/6 [==============================] - 1s 168ms/step\n"
          ]
        }
      ]
    },
    {
      "cell_type": "code",
      "metadata": {
        "id": "H3kZCFuKXbZO"
      },
      "source": [
        "classes1v = valid_image_gen.classes\n",
        "#classes1v"
      ],
      "execution_count": null,
      "outputs": []
    },
    {
      "cell_type": "code",
      "metadata": {
        "id": "BMV23P9NXbZQ"
      },
      "source": [
        "pred1v = predictions = int_predict(pred_probabilities)\n",
        "#pred1v"
      ],
      "execution_count": null,
      "outputs": []
    },
    {
      "cell_type": "code",
      "source": [
        "valid_image_gen.class_indices"
      ],
      "metadata": {
        "colab": {
          "base_uri": "https://localhost:8080/"
        },
        "id": "zAPAvThqnF11",
        "outputId": "622385b0-72af-4f62-bb69-3b925f2b7837"
      },
      "execution_count": null,
      "outputs": [
        {
          "output_type": "execute_result",
          "data": {
            "text/plain": [
              "{'covid': 0, 'dip': 1, 'normais': 2, 'tuberculose': 3}"
            ]
          },
          "metadata": {},
          "execution_count": 17
        }
      ]
    },
    {
      "cell_type": "code",
      "source": [
        "confusion_matrix(valid_image_gen.classes,predictions)"
      ],
      "metadata": {
        "colab": {
          "base_uri": "https://localhost:8080/"
        },
        "id": "yNWvBoJCnF5G",
        "outputId": "63e4b2e3-ef82-44bd-deb4-6e392ed6af62"
      },
      "execution_count": null,
      "outputs": [
        {
          "output_type": "execute_result",
          "data": {
            "text/plain": [
              "array([[28,  3,  1,  0],\n",
              "       [ 2, 39,  5,  6],\n",
              "       [ 3,  5, 56,  1],\n",
              "       [ 2,  5,  1, 20]])"
            ]
          },
          "metadata": {},
          "execution_count": 18
        }
      ]
    },
    {
      "cell_type": "code",
      "source": [
        "print(classification_report(valid_image_gen.classes,predictions))"
      ],
      "metadata": {
        "colab": {
          "base_uri": "https://localhost:8080/"
        },
        "id": "k9wZPh-WnF_M",
        "outputId": "c16ff1f3-6ba6-457b-c48b-2dfaa6af83a1"
      },
      "execution_count": null,
      "outputs": [
        {
          "output_type": "stream",
          "name": "stdout",
          "text": [
            "              precision    recall  f1-score   support\n",
            "\n",
            "           0       0.80      0.88      0.84        32\n",
            "           1       0.75      0.75      0.75        52\n",
            "           2       0.89      0.86      0.88        65\n",
            "           3       0.74      0.71      0.73        28\n",
            "\n",
            "    accuracy                           0.81       177\n",
            "   macro avg       0.79      0.80      0.80       177\n",
            "weighted avg       0.81      0.81      0.81       177\n",
            "\n"
          ]
        }
      ]
    },
    {
      "cell_type": "markdown",
      "metadata": {
        "id": "sfE6vm-OsmYZ"
      },
      "source": [
        "#**PART 2**"
      ]
    },
    {
      "cell_type": "code",
      "source": [
        "data_dir = '/content/drive/My Drive/Colab Notebooks/Mestrado final/KFolds nosso_data aumentado/trein 1-3-4-5/'\n",
        "valid_dir = '/content/drive/My Drive/Colab Notebooks/Mestrado final/KFolds nosso_data aumentado/2/'"
      ],
      "metadata": {
        "id": "sizpu8s6-ZhX"
      },
      "execution_count": null,
      "outputs": []
    },
    {
      "cell_type": "code",
      "metadata": {
        "id": "cc2Emqyu-ZhY"
      },
      "source": [
        "model = tf.keras.models.load_model('/content/drive/My Drive/Colab Notebooks/Mestrado final/Novos treinamentos/KFolds nosso aumentado/VGG19_fine-tuning_RandAugm_avg_4_classes_nosso_data_part1345.h5')"
      ],
      "execution_count": null,
      "outputs": []
    },
    {
      "cell_type": "markdown",
      "source": [
        "VALIDATION"
      ],
      "metadata": {
        "id": "pQN6s6JY-ZhZ"
      }
    },
    {
      "cell_type": "code",
      "metadata": {
        "colab": {
          "base_uri": "https://localhost:8080/"
        },
        "outputId": "293ce2ee-d081-4582-b712-f07e9a2a01a8",
        "id": "FuL5b6tq-ZhZ"
      },
      "source": [
        "valid_image_gen = image_gen.flow_from_directory(valid_dir,\n",
        "                                               #target_size=image_shape[:2],\n",
        "                                               color_mode='rgb',\n",
        "                                               batch_size=batch_size,\n",
        "                                               class_mode='categorical',\n",
        "                                               shuffle=False)"
      ],
      "execution_count": null,
      "outputs": [
        {
          "output_type": "stream",
          "name": "stdout",
          "text": [
            "Found 177 images belonging to 4 classes.\n"
          ]
        }
      ]
    },
    {
      "cell_type": "code",
      "metadata": {
        "colab": {
          "base_uri": "https://localhost:8080/"
        },
        "outputId": "cc2b5126-da2b-4c18-e68b-7ef8e1e16416",
        "id": "EN30vOSJ-ZhZ"
      },
      "source": [
        "ac2v = model.evaluate(valid_image_gen)\n",
        "ac2v"
      ],
      "execution_count": null,
      "outputs": [
        {
          "output_type": "stream",
          "name": "stdout",
          "text": [
            "6/6 [==============================] - 70s 14s/step - loss: 0.8555 - accuracy: 0.8588\n"
          ]
        },
        {
          "output_type": "execute_result",
          "data": {
            "text/plain": [
              "[0.8555067777633667, 0.8587570786476135]"
            ]
          },
          "metadata": {},
          "execution_count": 31
        }
      ]
    },
    {
      "cell_type": "code",
      "metadata": {
        "colab": {
          "base_uri": "https://localhost:8080/"
        },
        "id": "aH0aHnMT-Zha",
        "outputId": "6b803cc8-5a34-4f00-e116-3bdc012778f6"
      },
      "source": [
        "pred_probabilities = model.predict(valid_image_gen)"
      ],
      "execution_count": null,
      "outputs": [
        {
          "output_type": "stream",
          "name": "stdout",
          "text": [
            "6/6 [==============================] - 2s 231ms/step\n"
          ]
        }
      ]
    },
    {
      "cell_type": "code",
      "metadata": {
        "id": "n9dbatVp-Zha"
      },
      "source": [
        "classes2v = valid_image_gen.classes\n",
        "#classes1v"
      ],
      "execution_count": null,
      "outputs": []
    },
    {
      "cell_type": "code",
      "metadata": {
        "id": "qIMEP6Q9-Zhb"
      },
      "source": [
        "pred2v = predictions = int_predict(pred_probabilities)\n",
        "#pred1v"
      ],
      "execution_count": null,
      "outputs": []
    },
    {
      "cell_type": "code",
      "source": [
        "valid_image_gen.class_indices"
      ],
      "metadata": {
        "colab": {
          "base_uri": "https://localhost:8080/"
        },
        "id": "dBJ5ngiJ-Zhb",
        "outputId": "2ee7a0ed-334b-498e-bce3-e12ce6f23697"
      },
      "execution_count": null,
      "outputs": [
        {
          "output_type": "execute_result",
          "data": {
            "text/plain": [
              "{'covid': 0, 'dip': 1, 'normais': 2, 'tuberculose': 3}"
            ]
          },
          "metadata": {},
          "execution_count": 35
        }
      ]
    },
    {
      "cell_type": "code",
      "source": [
        "confusion_matrix(valid_image_gen.classes,predictions)"
      ],
      "metadata": {
        "colab": {
          "base_uri": "https://localhost:8080/"
        },
        "id": "wZiOXdl0-Zhb",
        "outputId": "726d6831-d922-4e3a-b407-805ef38ed37c"
      },
      "execution_count": null,
      "outputs": [
        {
          "output_type": "execute_result",
          "data": {
            "text/plain": [
              "array([[29,  1,  1,  1],\n",
              "       [ 2, 44,  4,  2],\n",
              "       [ 2,  2, 60,  1],\n",
              "       [ 1,  5,  3, 19]])"
            ]
          },
          "metadata": {},
          "execution_count": 36
        }
      ]
    },
    {
      "cell_type": "code",
      "source": [
        "print(classification_report(valid_image_gen.classes,predictions))"
      ],
      "metadata": {
        "colab": {
          "base_uri": "https://localhost:8080/"
        },
        "id": "6tDUs6Us-Zhb",
        "outputId": "50a948ea-0efc-4dfd-d65d-06bf23f1aaff"
      },
      "execution_count": null,
      "outputs": [
        {
          "output_type": "stream",
          "name": "stdout",
          "text": [
            "              precision    recall  f1-score   support\n",
            "\n",
            "           0       0.85      0.91      0.88        32\n",
            "           1       0.85      0.85      0.85        52\n",
            "           2       0.88      0.92      0.90        65\n",
            "           3       0.83      0.68      0.75        28\n",
            "\n",
            "    accuracy                           0.86       177\n",
            "   macro avg       0.85      0.84      0.84       177\n",
            "weighted avg       0.86      0.86      0.86       177\n",
            "\n"
          ]
        }
      ]
    },
    {
      "cell_type": "markdown",
      "metadata": {
        "id": "_vZ0eGTFs0g_"
      },
      "source": [
        "#**PART 3**"
      ]
    },
    {
      "cell_type": "code",
      "source": [
        "data_dir = '/content/drive/My Drive/Colab Notebooks/Mestrado final/KFolds nosso_data aumentado/trein 1-2-4-5/'\n",
        "valid_dir = '/content/drive/My Drive/Colab Notebooks/Mestrado final/KFolds nosso_data aumentado/3/'"
      ],
      "metadata": {
        "id": "CPy9VBUb_AVE"
      },
      "execution_count": null,
      "outputs": []
    },
    {
      "cell_type": "code",
      "metadata": {
        "id": "E0iw0M8i_AVF"
      },
      "source": [
        "model = tf.keras.models.load_model('/content/drive/My Drive/Colab Notebooks/Mestrado final/Novos treinamentos/KFolds nosso aumentado/VGG19_fine-tuning_RandAugm_avg_4_classes_nosso_data_part1245.h5')"
      ],
      "execution_count": null,
      "outputs": []
    },
    {
      "cell_type": "markdown",
      "source": [
        "VALIDATION"
      ],
      "metadata": {
        "id": "h7WBhdDe_AVF"
      }
    },
    {
      "cell_type": "code",
      "metadata": {
        "colab": {
          "base_uri": "https://localhost:8080/"
        },
        "outputId": "5d26cb4e-9f2d-4f23-e3fb-ef064aade53d",
        "id": "ET-EjryQ_AVF"
      },
      "source": [
        "valid_image_gen = image_gen.flow_from_directory(valid_dir,\n",
        "                                               #target_size=image_shape[:2],\n",
        "                                               color_mode='rgb',\n",
        "                                               batch_size=batch_size,\n",
        "                                               class_mode='categorical',\n",
        "                                               shuffle=False)"
      ],
      "execution_count": null,
      "outputs": [
        {
          "output_type": "stream",
          "name": "stdout",
          "text": [
            "Found 177 images belonging to 4 classes.\n"
          ]
        }
      ]
    },
    {
      "cell_type": "code",
      "metadata": {
        "colab": {
          "base_uri": "https://localhost:8080/"
        },
        "outputId": "581bb529-e8c6-442f-d7a2-9b39c7ab6f4a",
        "id": "-waGWISS_AVF"
      },
      "source": [
        "ac3v = model.evaluate(valid_image_gen)\n",
        "ac3v"
      ],
      "execution_count": null,
      "outputs": [
        {
          "output_type": "stream",
          "name": "stdout",
          "text": [
            "6/6 [==============================] - 72s 14s/step - loss: 0.7079 - accuracy: 0.8023\n"
          ]
        },
        {
          "output_type": "execute_result",
          "data": {
            "text/plain": [
              "[0.7079415917396545, 0.8022598624229431]"
            ]
          },
          "metadata": {},
          "execution_count": 49
        }
      ]
    },
    {
      "cell_type": "code",
      "metadata": {
        "colab": {
          "base_uri": "https://localhost:8080/"
        },
        "id": "IqKzMf48_AVF",
        "outputId": "18744097-231c-4c64-cf80-c6bdde3e826b"
      },
      "source": [
        "pred_probabilities = model.predict(valid_image_gen)"
      ],
      "execution_count": null,
      "outputs": [
        {
          "output_type": "stream",
          "name": "stdout",
          "text": [
            "6/6 [==============================] - 1s 187ms/step\n"
          ]
        }
      ]
    },
    {
      "cell_type": "code",
      "metadata": {
        "id": "rwABorel_AVF"
      },
      "source": [
        "classes3v = valid_image_gen.classes\n",
        "#classes1v"
      ],
      "execution_count": null,
      "outputs": []
    },
    {
      "cell_type": "code",
      "metadata": {
        "id": "G5QhGsqs_AVF"
      },
      "source": [
        "pred3v = predictions = int_predict(pred_probabilities)\n",
        "#pred1v"
      ],
      "execution_count": null,
      "outputs": []
    },
    {
      "cell_type": "code",
      "source": [
        "valid_image_gen.class_indices"
      ],
      "metadata": {
        "colab": {
          "base_uri": "https://localhost:8080/"
        },
        "id": "2l4tVW-A_AVF",
        "outputId": "3f05c762-4622-4c83-8a53-102a141674c5"
      },
      "execution_count": null,
      "outputs": [
        {
          "output_type": "execute_result",
          "data": {
            "text/plain": [
              "{'covid': 0, 'dip': 1, 'normais': 2, 'tuberculose': 3}"
            ]
          },
          "metadata": {},
          "execution_count": 53
        }
      ]
    },
    {
      "cell_type": "code",
      "source": [
        "confusion_matrix(valid_image_gen.classes,predictions)"
      ],
      "metadata": {
        "colab": {
          "base_uri": "https://localhost:8080/"
        },
        "id": "4-JHQCXK_AVF",
        "outputId": "80d98563-befa-47e5-b636-083f784a06a2"
      },
      "execution_count": null,
      "outputs": [
        {
          "output_type": "execute_result",
          "data": {
            "text/plain": [
              "array([[28,  1,  2,  1],\n",
              "       [ 3, 39,  9,  1],\n",
              "       [ 0,  0, 65,  0],\n",
              "       [ 3,  5, 10, 10]])"
            ]
          },
          "metadata": {},
          "execution_count": 54
        }
      ]
    },
    {
      "cell_type": "code",
      "source": [
        "print(classification_report(valid_image_gen.classes,predictions))"
      ],
      "metadata": {
        "colab": {
          "base_uri": "https://localhost:8080/"
        },
        "id": "iPvslq53_AVF",
        "outputId": "a84e034d-6456-4af9-9305-44280b6f0bc9"
      },
      "execution_count": null,
      "outputs": [
        {
          "output_type": "stream",
          "name": "stdout",
          "text": [
            "              precision    recall  f1-score   support\n",
            "\n",
            "           0       0.82      0.88      0.85        32\n",
            "           1       0.87      0.75      0.80        52\n",
            "           2       0.76      1.00      0.86        65\n",
            "           3       0.83      0.36      0.50        28\n",
            "\n",
            "    accuracy                           0.80       177\n",
            "   macro avg       0.82      0.75      0.75       177\n",
            "weighted avg       0.81      0.80      0.78       177\n",
            "\n"
          ]
        }
      ]
    },
    {
      "cell_type": "markdown",
      "metadata": {
        "id": "SEOedNops8Uy"
      },
      "source": [
        "#**PART 4**"
      ]
    },
    {
      "cell_type": "code",
      "source": [
        "data_dir = '/content/drive/My Drive/Colab Notebooks/Mestrado final/KFolds nosso_data aumentado/trein 1-2-3-5/'\n",
        "valid_dir = '/content/drive/My Drive/Colab Notebooks/Mestrado final/KFolds nosso_data aumentado/4/'"
      ],
      "metadata": {
        "id": "p9o5pWnf_PQH"
      },
      "execution_count": null,
      "outputs": []
    },
    {
      "cell_type": "code",
      "metadata": {
        "id": "_w0tSoz7_PQH"
      },
      "source": [
        "model = tf.keras.models.load_model('/content/drive/My Drive/Colab Notebooks/Mestrado final/Novos treinamentos/KFolds nosso aumentado/VGG19_fine-tuning_RandAugm_avg_4_classes_nosso_data_part1235.h5')"
      ],
      "execution_count": null,
      "outputs": []
    },
    {
      "cell_type": "markdown",
      "source": [
        "VALIDATION"
      ],
      "metadata": {
        "id": "P32jr1y7_PQI"
      }
    },
    {
      "cell_type": "code",
      "metadata": {
        "colab": {
          "base_uri": "https://localhost:8080/"
        },
        "outputId": "ee0d0649-f89f-4a8a-8c80-16a02c45084c",
        "id": "WbZGDpyC_PQI"
      },
      "source": [
        "valid_image_gen = image_gen.flow_from_directory(valid_dir,\n",
        "                                               #target_size=image_shape[:2],\n",
        "                                               color_mode='rgb',\n",
        "                                               batch_size=batch_size,\n",
        "                                               class_mode='categorical',\n",
        "                                               shuffle=False)"
      ],
      "execution_count": null,
      "outputs": [
        {
          "output_type": "stream",
          "name": "stdout",
          "text": [
            "Found 177 images belonging to 4 classes.\n"
          ]
        }
      ]
    },
    {
      "cell_type": "code",
      "metadata": {
        "colab": {
          "base_uri": "https://localhost:8080/"
        },
        "outputId": "ebcd0cf4-9198-46d5-c01e-bc420e53adf1",
        "id": "wBpHWQ0r_PQI"
      },
      "source": [
        "ac4v = model.evaluate(valid_image_gen)\n",
        "ac4v"
      ],
      "execution_count": null,
      "outputs": [
        {
          "output_type": "stream",
          "name": "stdout",
          "text": [
            "6/6 [==============================] - 72s 14s/step - loss: 1.3534 - accuracy: 0.7797\n"
          ]
        },
        {
          "output_type": "execute_result",
          "data": {
            "text/plain": [
              "[1.3533778190612793, 0.7796609997749329]"
            ]
          },
          "metadata": {},
          "execution_count": 67
        }
      ]
    },
    {
      "cell_type": "code",
      "metadata": {
        "colab": {
          "base_uri": "https://localhost:8080/"
        },
        "id": "2m988nol_PQI",
        "outputId": "5471ef45-cad6-4017-ae1e-fad771602ea7"
      },
      "source": [
        "pred_probabilities = model.predict(valid_image_gen)"
      ],
      "execution_count": null,
      "outputs": [
        {
          "output_type": "stream",
          "name": "stdout",
          "text": [
            "6/6 [==============================] - 1s 185ms/step\n"
          ]
        }
      ]
    },
    {
      "cell_type": "code",
      "metadata": {
        "id": "O2Y_JycL_PQI"
      },
      "source": [
        "classes4v = valid_image_gen.classes\n",
        "#classes1v"
      ],
      "execution_count": null,
      "outputs": []
    },
    {
      "cell_type": "code",
      "metadata": {
        "id": "21ez60yX_PQI"
      },
      "source": [
        "pred4v = predictions = int_predict(pred_probabilities)\n",
        "#pred1v"
      ],
      "execution_count": null,
      "outputs": []
    },
    {
      "cell_type": "code",
      "source": [
        "valid_image_gen.class_indices"
      ],
      "metadata": {
        "colab": {
          "base_uri": "https://localhost:8080/"
        },
        "id": "r8AGTWz0_PQI",
        "outputId": "5c260e84-3a32-4e3a-d0a9-3d3b87bd2579"
      },
      "execution_count": null,
      "outputs": [
        {
          "output_type": "execute_result",
          "data": {
            "text/plain": [
              "{'covid': 0, 'dip': 1, 'normais': 2, 'tuberculose': 3}"
            ]
          },
          "metadata": {},
          "execution_count": 71
        }
      ]
    },
    {
      "cell_type": "code",
      "source": [
        "confusion_matrix(valid_image_gen.classes,predictions)"
      ],
      "metadata": {
        "colab": {
          "base_uri": "https://localhost:8080/"
        },
        "id": "r-BWrioe_PQI",
        "outputId": "59c1fb57-0a6a-490b-92d3-4452f624b75b"
      },
      "execution_count": null,
      "outputs": [
        {
          "output_type": "execute_result",
          "data": {
            "text/plain": [
              "array([[28,  2,  2,  0],\n",
              "       [ 1, 43,  6,  2],\n",
              "       [ 4,  4, 54,  3],\n",
              "       [ 5,  7,  3, 13]])"
            ]
          },
          "metadata": {},
          "execution_count": 72
        }
      ]
    },
    {
      "cell_type": "code",
      "source": [
        "print(classification_report(valid_image_gen.classes,predictions))"
      ],
      "metadata": {
        "colab": {
          "base_uri": "https://localhost:8080/"
        },
        "id": "FgG3RlEU_PQI",
        "outputId": "99ce55bf-dc65-45f8-8b53-90f2ed7a8dba"
      },
      "execution_count": null,
      "outputs": [
        {
          "output_type": "stream",
          "name": "stdout",
          "text": [
            "              precision    recall  f1-score   support\n",
            "\n",
            "           0       0.74      0.88      0.80        32\n",
            "           1       0.77      0.83      0.80        52\n",
            "           2       0.83      0.83      0.83        65\n",
            "           3       0.72      0.46      0.57        28\n",
            "\n",
            "    accuracy                           0.78       177\n",
            "   macro avg       0.76      0.75      0.75       177\n",
            "weighted avg       0.78      0.78      0.77       177\n",
            "\n"
          ]
        }
      ]
    },
    {
      "cell_type": "markdown",
      "metadata": {
        "id": "TnOzgM3CtHbK"
      },
      "source": [
        "#**PART 5**"
      ]
    },
    {
      "cell_type": "code",
      "source": [
        "data_dir = '/content/drive/My Drive/Colab Notebooks/Mestrado final/KFolds nosso_data aumentado/trein 1-2-3-4/'\n",
        "valid_dir = '/content/drive/My Drive/Colab Notebooks/Mestrado final/KFolds nosso_data aumentado/5/'"
      ],
      "metadata": {
        "id": "wRWqYaOM_es8"
      },
      "execution_count": null,
      "outputs": []
    },
    {
      "cell_type": "code",
      "metadata": {
        "id": "pxaiHrXD_es9"
      },
      "source": [
        "model = tf.keras.models.load_model('/content/drive/My Drive/Colab Notebooks/Mestrado final/Novos treinamentos/KFolds nosso aumentado/VGG19_fine-tuning_RandAugm_avg_4_classes_nosso_data_part1234.h5')"
      ],
      "execution_count": null,
      "outputs": []
    },
    {
      "cell_type": "markdown",
      "source": [
        "VALIDATION"
      ],
      "metadata": {
        "id": "ZwaS4rhm_es-"
      }
    },
    {
      "cell_type": "code",
      "metadata": {
        "colab": {
          "base_uri": "https://localhost:8080/"
        },
        "outputId": "3d0eef0d-fa8f-4730-85af-d5872330266c",
        "id": "4l0DvPus_es-"
      },
      "source": [
        "valid_image_gen = image_gen.flow_from_directory(valid_dir,\n",
        "                                               #target_size=image_shape[:2],\n",
        "                                               color_mode='rgb',\n",
        "                                               batch_size=batch_size,\n",
        "                                               class_mode='categorical',\n",
        "                                               shuffle=False)"
      ],
      "execution_count": null,
      "outputs": [
        {
          "output_type": "stream",
          "name": "stdout",
          "text": [
            "Found 180 images belonging to 4 classes.\n"
          ]
        }
      ]
    },
    {
      "cell_type": "code",
      "metadata": {
        "colab": {
          "base_uri": "https://localhost:8080/"
        },
        "outputId": "b1b08737-f71c-439e-f069-b19ddd272eb1",
        "id": "ZVoB5ukd_es_"
      },
      "source": [
        "ac5v = model.evaluate(valid_image_gen)\n",
        "ac5v"
      ],
      "execution_count": null,
      "outputs": [
        {
          "output_type": "stream",
          "name": "stdout",
          "text": [
            "6/6 [==============================] - 73s 15s/step - loss: 1.0275 - accuracy: 0.8222\n"
          ]
        },
        {
          "output_type": "execute_result",
          "data": {
            "text/plain": [
              "[1.027510166168213, 0.8222222328186035]"
            ]
          },
          "metadata": {},
          "execution_count": 85
        }
      ]
    },
    {
      "cell_type": "code",
      "metadata": {
        "colab": {
          "base_uri": "https://localhost:8080/"
        },
        "id": "Pj7GA3VO_es_",
        "outputId": "43d1bffb-d98a-48c5-ae07-4dea58bf0e80"
      },
      "source": [
        "pred_probabilities = model.predict(valid_image_gen)"
      ],
      "execution_count": null,
      "outputs": [
        {
          "output_type": "stream",
          "name": "stdout",
          "text": [
            "6/6 [==============================] - 1s 187ms/step\n"
          ]
        }
      ]
    },
    {
      "cell_type": "code",
      "metadata": {
        "id": "r-nuPau-_es_"
      },
      "source": [
        "classes5v = valid_image_gen.classes\n",
        "#classes1v"
      ],
      "execution_count": null,
      "outputs": []
    },
    {
      "cell_type": "code",
      "metadata": {
        "id": "pytaA-5v_es_"
      },
      "source": [
        "pred5v = predictions = int_predict(pred_probabilities)\n",
        "#pred1v"
      ],
      "execution_count": null,
      "outputs": []
    },
    {
      "cell_type": "code",
      "source": [
        "valid_image_gen.class_indices"
      ],
      "metadata": {
        "colab": {
          "base_uri": "https://localhost:8080/"
        },
        "id": "JwwMxCTG_es_",
        "outputId": "17defce3-fd42-4fbe-93da-0e03b9ac3429"
      },
      "execution_count": null,
      "outputs": [
        {
          "output_type": "execute_result",
          "data": {
            "text/plain": [
              "{'covid': 0, 'dip': 1, 'normais': 2, 'tuberculose': 3}"
            ]
          },
          "metadata": {},
          "execution_count": 89
        }
      ]
    },
    {
      "cell_type": "code",
      "source": [
        "confusion_matrix(valid_image_gen.classes,predictions)"
      ],
      "metadata": {
        "colab": {
          "base_uri": "https://localhost:8080/"
        },
        "id": "kjzNoIrw_etA",
        "outputId": "7edd7bd8-6890-4d9a-c087-7ba3ade623d3"
      },
      "execution_count": null,
      "outputs": [
        {
          "output_type": "execute_result",
          "data": {
            "text/plain": [
              "array([[30,  2,  0,  1],\n",
              "       [ 2, 40,  6,  6],\n",
              "       [ 5,  3, 54,  3],\n",
              "       [ 0,  3,  1, 24]])"
            ]
          },
          "metadata": {},
          "execution_count": 90
        }
      ]
    },
    {
      "cell_type": "code",
      "source": [
        "print(classification_report(valid_image_gen.classes,predictions))"
      ],
      "metadata": {
        "colab": {
          "base_uri": "https://localhost:8080/"
        },
        "id": "wk-Xm_vJ_etA",
        "outputId": "d0f54109-ca30-4430-fefb-145696d3320c"
      },
      "execution_count": null,
      "outputs": [
        {
          "output_type": "stream",
          "name": "stdout",
          "text": [
            "              precision    recall  f1-score   support\n",
            "\n",
            "           0       0.81      0.91      0.86        33\n",
            "           1       0.83      0.74      0.78        54\n",
            "           2       0.89      0.83      0.86        65\n",
            "           3       0.71      0.86      0.77        28\n",
            "\n",
            "    accuracy                           0.82       180\n",
            "   macro avg       0.81      0.83      0.82       180\n",
            "weighted avg       0.83      0.82      0.82       180\n",
            "\n"
          ]
        }
      ]
    },
    {
      "cell_type": "markdown",
      "metadata": {
        "id": "P2yEmBOKumkf"
      },
      "source": [
        "#**Calculations**"
      ]
    },
    {
      "cell_type": "markdown",
      "source": [
        "VALIDATION"
      ],
      "metadata": {
        "id": "emo84Wv9_0fm"
      }
    },
    {
      "cell_type": "code",
      "metadata": {
        "id": "T7_lhGCnsYF1",
        "colab": {
          "base_uri": "https://localhost:8080/"
        },
        "outputId": "f431b5dc-977a-4924-fbaa-d37f318fc020"
      },
      "source": [
        "acv_media = np.mean([ac1v[1],ac2v[1],ac3v[1],ac4v[1],ac5v[1]])\n",
        "acv_media"
      ],
      "execution_count": null,
      "outputs": [
        {
          "output_type": "execute_result",
          "data": {
            "text/plain": [
              "0.8141619563102722"
            ]
          },
          "metadata": {},
          "execution_count": 100
        }
      ]
    },
    {
      "cell_type": "code",
      "metadata": {
        "id": "xdaUGH6bsYI8"
      },
      "source": [
        "todas_classesv = np.concatenate((classes1v,classes2v,classes3v,classes4v,classes5v),axis=0)"
      ],
      "execution_count": null,
      "outputs": []
    },
    {
      "cell_type": "code",
      "metadata": {
        "id": "JE4awGfZsYOM"
      },
      "source": [
        "todas_predv = np.concatenate((pred1v,pred2v,pred3v,pred4v,pred5v),axis=0)"
      ],
      "execution_count": null,
      "outputs": []
    },
    {
      "cell_type": "code",
      "metadata": {
        "id": "RJpKRlHQXbZQ"
      },
      "source": [
        "from sklearn.metrics import classification_report, confusion_matrix"
      ],
      "execution_count": null,
      "outputs": []
    },
    {
      "cell_type": "markdown",
      "metadata": {
        "id": "N9UbmG853yb4"
      },
      "source": [
        "*   0: covid\n",
        "*   1: dip\n",
        "*   2: normais\n",
        "*   3: tuberculose\n",
        "\n"
      ]
    },
    {
      "cell_type": "code",
      "metadata": {
        "id": "rukhcZPXXbZR",
        "colab": {
          "base_uri": "https://localhost:8080/"
        },
        "outputId": "e80e214f-038a-4685-9880-5020772e5f56"
      },
      "source": [
        "confusion_matrix(todas_classesv,todas_predv)"
      ],
      "execution_count": null,
      "outputs": [
        {
          "output_type": "execute_result",
          "data": {
            "text/plain": [
              "array([[143,   9,   6,   3],\n",
              "       [ 10, 205,  30,  17],\n",
              "       [ 14,  14, 289,   8],\n",
              "       [ 11,  25,  18,  86]])"
            ]
          },
          "metadata": {},
          "execution_count": 104
        }
      ]
    },
    {
      "cell_type": "code",
      "metadata": {
        "id": "0GUdEB6GXbZR",
        "colab": {
          "base_uri": "https://localhost:8080/"
        },
        "outputId": "f7c334fa-5a6b-49de-b26e-a73731d297ec"
      },
      "source": [
        "print(classification_report(todas_classesv,todas_predv))"
      ],
      "execution_count": null,
      "outputs": [
        {
          "output_type": "stream",
          "name": "stdout",
          "text": [
            "              precision    recall  f1-score   support\n",
            "\n",
            "           0       0.80      0.89      0.84       161\n",
            "           1       0.81      0.78      0.80       262\n",
            "           2       0.84      0.89      0.87       325\n",
            "           3       0.75      0.61      0.68       140\n",
            "\n",
            "    accuracy                           0.81       888\n",
            "   macro avg       0.80      0.79      0.80       888\n",
            "weighted avg       0.81      0.81      0.81       888\n",
            "\n"
          ]
        }
      ]
    },
    {
      "cell_type": "markdown",
      "metadata": {
        "id": "RxxMC0a3ASwv"
      },
      "source": [
        "*   0: covid\n",
        "*   1: dip\n",
        "*   2: normais\n",
        "*   3: tuberculose\n",
        "\n"
      ]
    }
  ]
}