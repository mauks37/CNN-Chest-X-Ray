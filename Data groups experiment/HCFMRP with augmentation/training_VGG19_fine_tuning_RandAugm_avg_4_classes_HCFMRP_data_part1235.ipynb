{
  "nbformat": 4,
  "nbformat_minor": 0,
  "metadata": {
    "accelerator": "GPU",
    "colab": {
      "provenance": []
    },
    "kernelspec": {
      "display_name": "Python 3",
      "name": "python3"
    },
    "gpuClass": "standard"
  },
  "cells": [
    {
      "cell_type": "code",
      "metadata": {
        "id": "g_4Y44SJTRF3"
      },
      "source": [
        "import numpy as np\n",
        "import matplotlib.pyplot as plt\n",
        "from matplotlib.image import imread\n",
        "import tensorflow as tf\n",
        "import pandas as pd\n",
        "import random\n",
        "from keras.models import load_model"
      ],
      "execution_count": null,
      "outputs": []
    },
    {
      "cell_type": "code",
      "source": [
        "gpu_info = !nvidia-smi\n",
        "gpu_info = '\\n'.join(gpu_info)\n",
        "if gpu_info.find('failed') >= 0:\n",
        "  print('Select the Runtime > \"Change runtime type\" menu to enable a GPU accelerator, ')\n",
        "  print('and then re-execute this cell.')\n",
        "else:\n",
        "  print(gpu_info)"
      ],
      "metadata": {
        "colab": {
          "base_uri": "https://localhost:8080/"
        },
        "id": "SBziWpUPxRL2",
        "outputId": "53b3a5f7-c5d0-420b-f71e-e2cde00bf0e7"
      },
      "execution_count": null,
      "outputs": [
        {
          "output_type": "stream",
          "name": "stdout",
          "text": [
            "Fri Nov 17 22:54:22 2023       \n",
            "+-----------------------------------------------------------------------------+\n",
            "| NVIDIA-SMI 525.105.17   Driver Version: 525.105.17   CUDA Version: 12.0     |\n",
            "|-------------------------------+----------------------+----------------------+\n",
            "| GPU  Name        Persistence-M| Bus-Id        Disp.A | Volatile Uncorr. ECC |\n",
            "| Fan  Temp  Perf  Pwr:Usage/Cap|         Memory-Usage | GPU-Util  Compute M. |\n",
            "|                               |                      |               MIG M. |\n",
            "|===============================+======================+======================|\n",
            "|   0  Tesla T4            Off  | 00000000:00:04.0 Off |                    0 |\n",
            "| N/A   66C    P8    11W /  70W |      0MiB / 15360MiB |      0%      Default |\n",
            "|                               |                      |                  N/A |\n",
            "+-------------------------------+----------------------+----------------------+\n",
            "                                                                               \n",
            "+-----------------------------------------------------------------------------+\n",
            "| Processes:                                                                  |\n",
            "|  GPU   GI   CI        PID   Type   Process name                  GPU Memory |\n",
            "|        ID   ID                                                   Usage      |\n",
            "|=============================================================================|\n",
            "|  No running processes found                                                 |\n",
            "+-----------------------------------------------------------------------------+\n"
          ]
        }
      ]
    },
    {
      "cell_type": "markdown",
      "metadata": {
        "id": "ZVGy_7Zf5Y4i"
      },
      "source": [
        "Keras guide:\n",
        "\n",
        "https://keras.io/guides/transfer_learning/"
      ]
    },
    {
      "cell_type": "code",
      "metadata": {
        "colab": {
          "base_uri": "https://localhost:8080/"
        },
        "id": "JepdH8A8T4mS",
        "outputId": "6166e955-ef9d-47ca-944f-1f4ed9d93cb9"
      },
      "source": [
        "from google.colab import drive\n",
        "drive.mount('/content/drive')"
      ],
      "execution_count": null,
      "outputs": [
        {
          "output_type": "stream",
          "name": "stdout",
          "text": [
            "Mounted at /content/drive\n"
          ]
        }
      ]
    },
    {
      "cell_type": "code",
      "metadata": {
        "id": "11wCCxDHX_hS"
      },
      "source": [
        "data_dir = '/content/drive/My Drive/Colab Notebooks/Mestrado final/KFolds nosso_data aumentado/trein 1-2-3-5/'\n",
        "valid_dir = '/content/drive/My Drive/Colab Notebooks/Mestrado final/KFolds nosso_data aumentado/4/'"
      ],
      "execution_count": null,
      "outputs": []
    },
    {
      "cell_type": "code",
      "metadata": {
        "colab": {
          "base_uri": "https://localhost:8080/"
        },
        "id": "bNgHB-WRUcHU",
        "outputId": "9cc54e7a-e7bb-4ec8-991f-7f8a55fdac06"
      },
      "source": [
        "tf.io.gfile.listdir(data_dir)"
      ],
      "execution_count": null,
      "outputs": [
        {
          "output_type": "execute_result",
          "data": {
            "text/plain": [
              "['covid', 'dip', 'normais', 'tuberculose']"
            ]
          },
          "metadata": {},
          "execution_count": 5
        }
      ]
    },
    {
      "cell_type": "code",
      "metadata": {
        "id": "WownivFFqCee"
      },
      "source": [
        "image_shape = (224,224,3)\n",
        "batch_size = 32"
      ],
      "execution_count": null,
      "outputs": []
    },
    {
      "cell_type": "code",
      "metadata": {
        "id": "zZP11oMfqHcI"
      },
      "source": [
        "from tensorflow.keras.preprocessing.image import ImageDataGenerator"
      ],
      "execution_count": null,
      "outputs": []
    },
    {
      "cell_type": "code",
      "metadata": {
        "id": "z1DhgrjHqOpi"
      },
      "source": [
        "image_gen = ImageDataGenerator()"
      ],
      "execution_count": null,
      "outputs": []
    },
    {
      "cell_type": "code",
      "metadata": {
        "id": "zt_rGqE7qRPb",
        "colab": {
          "base_uri": "https://localhost:8080/"
        },
        "outputId": "6afbbb7c-a26b-4e0a-8a68-a4a9551cc76b"
      },
      "source": [
        "image_gen.flow_from_directory(data_dir)"
      ],
      "execution_count": null,
      "outputs": [
        {
          "output_type": "stream",
          "name": "stdout",
          "text": [
            "Found 3066 images belonging to 4 classes.\n"
          ]
        },
        {
          "output_type": "execute_result",
          "data": {
            "text/plain": [
              "<keras.src.preprocessing.image.DirectoryIterator at 0x79012dc031c0>"
            ]
          },
          "metadata": {},
          "execution_count": 9
        }
      ]
    },
    {
      "cell_type": "markdown",
      "metadata": {
        "id": "ljlmoX_wnS07"
      },
      "source": [
        "# **Creating the model**"
      ]
    },
    {
      "cell_type": "code",
      "metadata": {
        "id": "W9qDjEz-uv-z"
      },
      "source": [
        "from tensorflow.keras.applications.vgg19 import VGG19\n",
        "from tensorflow.keras.models import Model\n",
        "from tensorflow.keras.layers import Flatten,Dense"
      ],
      "execution_count": null,
      "outputs": []
    },
    {
      "cell_type": "code",
      "metadata": {
        "id": "eMhwnptro3L8",
        "colab": {
          "base_uri": "https://localhost:8080/"
        },
        "outputId": "ab0537c7-531a-4b5f-951b-294027d07b0a"
      },
      "source": [
        "i = tf.keras.layers.Input([None, None, 3], dtype = tf.uint8)\n",
        "x = tf.cast(i, tf.float32)\n",
        "x = tf.keras.applications.vgg19.preprocess_input(x)\n",
        "\n",
        "vgg19 = tf.keras.applications.VGG19(input_tensor=x, input_shape = image_shape, include_top = False, weights=\"imagenet\", pooling=\"avg\")\n"
      ],
      "execution_count": null,
      "outputs": [
        {
          "output_type": "stream",
          "name": "stdout",
          "text": [
            "Downloading data from https://storage.googleapis.com/tensorflow/keras-applications/vgg19/vgg19_weights_tf_dim_ordering_tf_kernels_notop.h5\n",
            "80134624/80134624 [==============================] - 0s 0us/step\n"
          ]
        }
      ]
    },
    {
      "cell_type": "code",
      "metadata": {
        "id": "O1L4fkqEo5Kw"
      },
      "source": [
        "# Freeze all the layers\n",
        "for layer in vgg19.layers:\n",
        "    layer.trainable = False"
      ],
      "execution_count": null,
      "outputs": []
    },
    {
      "cell_type": "code",
      "metadata": {
        "id": "sWsvb-H5o5NZ"
      },
      "source": [
        "z = vgg19.output\n",
        "predictions = Dense(4, activation='softmax')(z)\n",
        "model = Model(inputs=vgg19.input, outputs=predictions)"
      ],
      "execution_count": null,
      "outputs": []
    },
    {
      "cell_type": "code",
      "metadata": {
        "id": "I825x9pepAa4",
        "colab": {
          "base_uri": "https://localhost:8080/"
        },
        "outputId": "41b5bc77-98ff-43a9-942f-b6b7ea2fc470"
      },
      "source": [
        "model.summary()"
      ],
      "execution_count": null,
      "outputs": [
        {
          "output_type": "stream",
          "name": "stdout",
          "text": [
            "Model: \"model\"\n",
            "_________________________________________________________________\n",
            " Layer (type)                Output Shape              Param #   \n",
            "=================================================================\n",
            " input_1 (InputLayer)        [(None, None, None, 3)]   0         \n",
            "                                                                 \n",
            " tf.cast (TFOpLambda)        (None, None, None, 3)     0         \n",
            "                                                                 \n",
            " tf.__operators__.getitem (  (None, None, None, 3)     0         \n",
            " SlicingOpLambda)                                                \n",
            "                                                                 \n",
            " tf.nn.bias_add (TFOpLambda  (None, None, None, 3)     0         \n",
            " )                                                               \n",
            "                                                                 \n",
            " block1_conv1 (Conv2D)       (None, None, None, 64)    1792      \n",
            "                                                                 \n",
            " block1_conv2 (Conv2D)       (None, None, None, 64)    36928     \n",
            "                                                                 \n",
            " block1_pool (MaxPooling2D)  (None, None, None, 64)    0         \n",
            "                                                                 \n",
            " block2_conv1 (Conv2D)       (None, None, None, 128)   73856     \n",
            "                                                                 \n",
            " block2_conv2 (Conv2D)       (None, None, None, 128)   147584    \n",
            "                                                                 \n",
            " block2_pool (MaxPooling2D)  (None, None, None, 128)   0         \n",
            "                                                                 \n",
            " block3_conv1 (Conv2D)       (None, None, None, 256)   295168    \n",
            "                                                                 \n",
            " block3_conv2 (Conv2D)       (None, None, None, 256)   590080    \n",
            "                                                                 \n",
            " block3_conv3 (Conv2D)       (None, None, None, 256)   590080    \n",
            "                                                                 \n",
            " block3_conv4 (Conv2D)       (None, None, None, 256)   590080    \n",
            "                                                                 \n",
            " block3_pool (MaxPooling2D)  (None, None, None, 256)   0         \n",
            "                                                                 \n",
            " block4_conv1 (Conv2D)       (None, None, None, 512)   1180160   \n",
            "                                                                 \n",
            " block4_conv2 (Conv2D)       (None, None, None, 512)   2359808   \n",
            "                                                                 \n",
            " block4_conv3 (Conv2D)       (None, None, None, 512)   2359808   \n",
            "                                                                 \n",
            " block4_conv4 (Conv2D)       (None, None, None, 512)   2359808   \n",
            "                                                                 \n",
            " block4_pool (MaxPooling2D)  (None, None, None, 512)   0         \n",
            "                                                                 \n",
            " block5_conv1 (Conv2D)       (None, None, None, 512)   2359808   \n",
            "                                                                 \n",
            " block5_conv2 (Conv2D)       (None, None, None, 512)   2359808   \n",
            "                                                                 \n",
            " block5_conv3 (Conv2D)       (None, None, None, 512)   2359808   \n",
            "                                                                 \n",
            " block5_conv4 (Conv2D)       (None, None, None, 512)   2359808   \n",
            "                                                                 \n",
            " block5_pool (MaxPooling2D)  (None, None, None, 512)   0         \n",
            "                                                                 \n",
            " global_average_pooling2d (  (None, 512)               0         \n",
            " GlobalAveragePooling2D)                                         \n",
            "                                                                 \n",
            " dense (Dense)               (None, 4)                 2052      \n",
            "                                                                 \n",
            "=================================================================\n",
            "Total params: 20026436 (76.39 MB)\n",
            "Trainable params: 2052 (8.02 KB)\n",
            "Non-trainable params: 20024384 (76.39 MB)\n",
            "_________________________________________________________________\n"
          ]
        }
      ]
    },
    {
      "cell_type": "code",
      "metadata": {
        "id": "fa4IjzPQpAd3"
      },
      "source": [
        "model.compile(loss='categorical_crossentropy',\n",
        "              optimizer='adam',\n",
        "              metrics=['accuracy'])"
      ],
      "execution_count": null,
      "outputs": []
    },
    {
      "cell_type": "code",
      "metadata": {
        "id": "5WRw2B3P53BW"
      },
      "source": [
        "from tensorflow.keras.callbacks import EarlyStopping, ModelCheckpoint, ReduceLROnPlateau"
      ],
      "execution_count": null,
      "outputs": []
    },
    {
      "cell_type": "code",
      "metadata": {
        "id": "mAhez88k6AW1"
      },
      "source": [
        "early_stop = EarlyStopping(monitor='val_loss',patience=3,verbose=2)"
      ],
      "execution_count": null,
      "outputs": []
    },
    {
      "cell_type": "code",
      "source": [
        "model_checkpoint  = ModelCheckpoint(\n",
        "    filepath='/content/drive/My Drive/Colab Notebooks/Mestrado final/Novos treinamentos/KFolds nosso aumentado/model_checkpoint1',\n",
        "    save_weights_only=True,\n",
        "    monitor='val_accuracy',\n",
        "    mode='max',\n",
        "    save_freq='epoch',\n",
        "    save_best_only=True,\n",
        "    options=None,\n",
        "    initial_value_threshold=None,\n",
        "    verbose = 0\n",
        ")"
      ],
      "metadata": {
        "id": "COEBh47_eAd6"
      },
      "execution_count": null,
      "outputs": []
    },
    {
      "cell_type": "code",
      "source": [
        "reduce_lr = ReduceLROnPlateau(monitor='val_loss', factor=0.2,\n",
        "                              patience=5, min_lr=0.001)"
      ],
      "metadata": {
        "id": "Sa04TvyOXf_R"
      },
      "execution_count": null,
      "outputs": []
    },
    {
      "cell_type": "code",
      "metadata": {
        "id": "pkgfaQ316FAH",
        "colab": {
          "base_uri": "https://localhost:8080/"
        },
        "outputId": "accaea44-4ac2-46e7-83ad-3a99526dd1c3"
      },
      "source": [
        "train_image_gen = image_gen.flow_from_directory(data_dir,\n",
        "                                                #target_size=image_shape[:2],\n",
        "                                                color_mode='rgb',\n",
        "                                                batch_size=batch_size,\n",
        "                                                class_mode='categorical')"
      ],
      "execution_count": null,
      "outputs": [
        {
          "output_type": "stream",
          "name": "stdout",
          "text": [
            "Found 3066 images belonging to 4 classes.\n"
          ]
        }
      ]
    },
    {
      "cell_type": "code",
      "source": [
        "validation_image_gen = image_gen.flow_from_directory(valid_dir,\n",
        "                                                #target_size=image_shape[:2],\n",
        "                                                color_mode='rgb',\n",
        "                                                batch_size=batch_size,\n",
        "                                                class_mode='categorical')"
      ],
      "metadata": {
        "id": "B6CFbu9soZLU",
        "colab": {
          "base_uri": "https://localhost:8080/"
        },
        "outputId": "978b1eb9-cef7-4100-f79e-b9306b33deb0"
      },
      "execution_count": null,
      "outputs": [
        {
          "output_type": "stream",
          "name": "stdout",
          "text": [
            "Found 177 images belonging to 4 classes.\n"
          ]
        }
      ]
    },
    {
      "cell_type": "code",
      "metadata": {
        "id": "wEt9ohCg7JbG",
        "colab": {
          "base_uri": "https://localhost:8080/"
        },
        "outputId": "26cad8c1-3d48-4f60-857f-12bc529850a2"
      },
      "source": [
        "train_image_gen.class_indices"
      ],
      "execution_count": null,
      "outputs": [
        {
          "output_type": "execute_result",
          "data": {
            "text/plain": [
              "{'covid': 0, 'dip': 1, 'normais': 2, 'tuberculose': 3}"
            ]
          },
          "metadata": {},
          "execution_count": 23
        }
      ]
    },
    {
      "cell_type": "markdown",
      "metadata": {
        "id": "F2wJaiy88l4K"
      },
      "source": [
        "# **Training the model**"
      ]
    },
    {
      "cell_type": "code",
      "metadata": {
        "id": "qkUbj_Xh8e1r",
        "colab": {
          "base_uri": "https://localhost:8080/"
        },
        "outputId": "489bb960-fc80-4145-ee5e-984e6a2a63e5"
      },
      "source": [
        "model.fit(train_image_gen,epochs=200,validation_data=validation_image_gen,callbacks=[early_stop,model_checkpoint,reduce_lr])"
      ],
      "execution_count": null,
      "outputs": [
        {
          "output_type": "stream",
          "name": "stdout",
          "text": [
            "Epoch 1/200\n",
            "96/96 [==============================] - 424s 4s/step - loss: 1.9194 - accuracy: 0.4305 - val_loss: 1.1477 - val_accuracy: 0.5819 - lr: 0.0010\n",
            "Epoch 2/200\n",
            "96/96 [==============================] - 23s 234ms/step - loss: 1.1008 - accuracy: 0.6129 - val_loss: 1.0543 - val_accuracy: 0.6610 - lr: 0.0010\n",
            "Epoch 3/200\n",
            "96/96 [==============================] - 21s 214ms/step - loss: 0.9197 - accuracy: 0.6628 - val_loss: 0.9540 - val_accuracy: 0.6723 - lr: 0.0010\n",
            "Epoch 4/200\n",
            "96/96 [==============================] - 21s 223ms/step - loss: 0.8089 - accuracy: 0.6999 - val_loss: 0.9645 - val_accuracy: 0.6836 - lr: 0.0010\n",
            "Epoch 5/200\n",
            "96/96 [==============================] - 21s 213ms/step - loss: 0.7284 - accuracy: 0.7234 - val_loss: 0.9323 - val_accuracy: 0.6949 - lr: 0.0010\n",
            "Epoch 6/200\n",
            "96/96 [==============================] - 21s 217ms/step - loss: 0.6910 - accuracy: 0.7453 - val_loss: 0.9304 - val_accuracy: 0.6836 - lr: 0.0010\n",
            "Epoch 7/200\n",
            "96/96 [==============================] - 21s 217ms/step - loss: 0.6366 - accuracy: 0.7577 - val_loss: 0.9290 - val_accuracy: 0.6949 - lr: 0.0010\n",
            "Epoch 8/200\n",
            "96/96 [==============================] - 22s 225ms/step - loss: 0.6046 - accuracy: 0.7750 - val_loss: 0.8939 - val_accuracy: 0.6780 - lr: 0.0010\n",
            "Epoch 9/200\n",
            "96/96 [==============================] - 20s 210ms/step - loss: 0.5600 - accuracy: 0.7870 - val_loss: 0.9550 - val_accuracy: 0.6723 - lr: 0.0010\n",
            "Epoch 10/200\n",
            "96/96 [==============================] - 21s 213ms/step - loss: 0.5453 - accuracy: 0.7893 - val_loss: 0.9364 - val_accuracy: 0.6723 - lr: 0.0010\n",
            "Epoch 11/200\n",
            "96/96 [==============================] - 21s 214ms/step - loss: 0.5359 - accuracy: 0.7883 - val_loss: 0.9631 - val_accuracy: 0.6723 - lr: 0.0010\n",
            "Epoch 11: early stopping\n"
          ]
        },
        {
          "output_type": "execute_result",
          "data": {
            "text/plain": [
              "<keras.src.callbacks.History at 0x79008f6b56c0>"
            ]
          },
          "metadata": {},
          "execution_count": 24
        }
      ]
    },
    {
      "cell_type": "code",
      "metadata": {
        "id": "Hgi8hS8bcA8U"
      },
      "source": [
        "losses = pd.DataFrame(model.history.history)"
      ],
      "execution_count": null,
      "outputs": []
    },
    {
      "cell_type": "code",
      "metadata": {
        "id": "Rn79y9lBcKVt",
        "colab": {
          "base_uri": "https://localhost:8080/",
          "height": 447
        },
        "outputId": "d5c5a451-377c-442d-d1a3-cee565513bd9"
      },
      "source": [
        "losses[['loss','val_loss']].plot()"
      ],
      "execution_count": null,
      "outputs": [
        {
          "output_type": "execute_result",
          "data": {
            "text/plain": [
              "<Axes: >"
            ]
          },
          "metadata": {},
          "execution_count": 26
        },
        {
          "output_type": "display_data",
          "data": {
            "text/plain": [
              "<Figure size 640x480 with 1 Axes>"
            ],
            "image/png": "[encoded data removed]"
          },
          "metadata": {}
        }
      ]
    },
    {
      "cell_type": "markdown",
      "metadata": {
        "id": "ksKjjsFs6JDh"
      },
      "source": [
        "# **Fine tunning**"
      ]
    },
    {
      "cell_type": "code",
      "source": [
        "model.load_weights('/content/drive/My Drive/Colab Notebooks/Mestrado final/Novos treinamentos/KFolds nosso aumentado/model_checkpoint1')"
      ],
      "metadata": {
        "id": "y9nuWKsFiGE3",
        "colab": {
          "base_uri": "https://localhost:8080/"
        },
        "outputId": "ef83fa8f-97c7-4066-b81e-ea5ad0ed191c"
      },
      "execution_count": null,
      "outputs": [
        {
          "output_type": "execute_result",
          "data": {
            "text/plain": [
              "<tensorflow.python.checkpoint.checkpoint.CheckpointLoadStatus at 0x79008adb1ae0>"
            ]
          },
          "metadata": {},
          "execution_count": 27
        }
      ]
    },
    {
      "cell_type": "code",
      "metadata": {
        "id": "go0sV1nJc9w2"
      },
      "source": [
        "# Unfreeze all the layers\n",
        "for layer in model.layers:\n",
        "    layer.trainable = True"
      ],
      "execution_count": null,
      "outputs": []
    },
    {
      "cell_type": "code",
      "metadata": {
        "id": "dIgL22Be6wcT"
      },
      "source": [
        "model.compile(loss='categorical_crossentropy',\n",
        "              optimizer=tf.optimizers.Adam(1e-5),\n",
        "              metrics=['accuracy'])"
      ],
      "execution_count": null,
      "outputs": []
    },
    {
      "cell_type": "code",
      "metadata": {
        "id": "z0K-YtRN6wcU",
        "colab": {
          "base_uri": "https://localhost:8080/"
        },
        "outputId": "2d9d2828-412d-4eb5-ab46-15116fbb70e9"
      },
      "source": [
        "train_image_gen.class_indices"
      ],
      "execution_count": null,
      "outputs": [
        {
          "output_type": "execute_result",
          "data": {
            "text/plain": [
              "{'covid': 0, 'dip': 1, 'normais': 2, 'tuberculose': 3}"
            ]
          },
          "metadata": {},
          "execution_count": 30
        }
      ]
    },
    {
      "cell_type": "code",
      "metadata": {
        "id": "6ID1ESoi6azO",
        "colab": {
          "base_uri": "https://localhost:8080/"
        },
        "outputId": "22dcb3e5-051d-4fab-b747-a0ad386a6dcf"
      },
      "source": [
        "model.fit(train_image_gen,epochs=10,validation_data=validation_image_gen,callbacks=[model_checkpoint])"
      ],
      "execution_count": null,
      "outputs": [
        {
          "output_type": "stream",
          "name": "stdout",
          "text": [
            "Epoch 1/10\n",
            "96/96 [==============================] - 86s 732ms/step - loss: 0.6164 - accuracy: 0.7727 - val_loss: 0.7695 - val_accuracy: 0.7288\n",
            "Epoch 2/10\n",
            "96/96 [==============================] - 64s 670ms/step - loss: 0.2432 - accuracy: 0.9207 - val_loss: 0.8389 - val_accuracy: 0.7401\n",
            "Epoch 3/10\n",
            "96/96 [==============================] - 63s 653ms/step - loss: 0.0936 - accuracy: 0.9713 - val_loss: 0.9717 - val_accuracy: 0.7627\n",
            "Epoch 4/10\n",
            "96/96 [==============================] - 62s 642ms/step - loss: 0.0383 - accuracy: 0.9909 - val_loss: 1.1726 - val_accuracy: 0.7627\n",
            "Epoch 5/10\n",
            "96/96 [==============================] - 63s 655ms/step - loss: 0.0089 - accuracy: 0.9987 - val_loss: 1.2269 - val_accuracy: 0.7684\n",
            "Epoch 6/10\n",
            "96/96 [==============================] - 62s 650ms/step - loss: 0.0021 - accuracy: 1.0000 - val_loss: 1.3534 - val_accuracy: 0.7797\n",
            "Epoch 7/10\n",
            "96/96 [==============================] - 63s 650ms/step - loss: 0.0010 - accuracy: 1.0000 - val_loss: 1.4508 - val_accuracy: 0.7684\n",
            "Epoch 8/10\n",
            "96/96 [==============================] - 64s 662ms/step - loss: 6.5909e-04 - accuracy: 1.0000 - val_loss: 1.5091 - val_accuracy: 0.7740\n",
            "Epoch 9/10\n",
            "96/96 [==============================] - 62s 640ms/step - loss: 4.9052e-04 - accuracy: 1.0000 - val_loss: 1.5632 - val_accuracy: 0.7797\n",
            "Epoch 10/10\n",
            "96/96 [==============================] - 62s 642ms/step - loss: 3.8180e-04 - accuracy: 1.0000 - val_loss: 1.5961 - val_accuracy: 0.7797\n"
          ]
        },
        {
          "output_type": "execute_result",
          "data": {
            "text/plain": [
              "<keras.src.callbacks.History at 0x79008adfb520>"
            ]
          },
          "metadata": {},
          "execution_count": 31
        }
      ]
    },
    {
      "cell_type": "code",
      "metadata": {
        "id": "gQCIDrjr7ab4"
      },
      "source": [
        "losses = pd.DataFrame(model.history.history)"
      ],
      "execution_count": null,
      "outputs": []
    },
    {
      "cell_type": "code",
      "metadata": {
        "id": "JNp-4AZW7ab4",
        "colab": {
          "base_uri": "https://localhost:8080/",
          "height": 447
        },
        "outputId": "ed39e3a0-682e-417e-97b3-ef3ddee3e310"
      },
      "source": [
        "losses[['loss','val_loss']].plot()"
      ],
      "execution_count": null,
      "outputs": [
        {
          "output_type": "execute_result",
          "data": {
            "text/plain": [
              "<Axes: >"
            ]
          },
          "metadata": {},
          "execution_count": 33
        },
        {
          "output_type": "display_data",
          "data": {
            "text/plain": [
              "<Figure size 640x480 with 1 Axes>"
            ],
            "image/png": "[encoded data removed]"
          },
          "metadata": {}
        }
      ]
    },
    {
      "cell_type": "code",
      "execution_count": null,
      "metadata": {
        "id": "3l0l-5qT35ET",
        "colab": {
          "base_uri": "https://localhost:8080/"
        },
        "outputId": "e204e9a0-9606-4617-c2ee-1fec909542f0"
      },
      "outputs": [
        {
          "output_type": "execute_result",
          "data": {
            "text/plain": [
              "<tensorflow.python.checkpoint.checkpoint.CheckpointLoadStatus at 0x79008aa91780>"
            ]
          },
          "metadata": {},
          "execution_count": 34
        }
      ],
      "source": [
        "model.load_weights('/content/drive/My Drive/Colab Notebooks/Mestrado final/Novos treinamentos/KFolds nosso aumentado/model_checkpoint1')"
      ]
    },
    {
      "cell_type": "code",
      "execution_count": null,
      "metadata": {
        "id": "OZesQnBk3u7p",
        "colab": {
          "base_uri": "https://localhost:8080/"
        },
        "outputId": "b6589301-68de-4144-f9da-19633e335dde"
      },
      "outputs": [
        {
          "output_type": "stream",
          "name": "stderr",
          "text": [
            "/usr/local/lib/python3.10/dist-packages/keras/src/engine/training.py:3079: UserWarning: You are saving your model as an HDF5 file via `model.save()`. This file format is considered legacy. We recommend using instead the native Keras format, e.g. `model.save('my_model.keras')`.\n",
            "  saving_api.save_model(\n"
          ]
        }
      ],
      "source": [
        "model.save('/content/drive/My Drive/Colab Notebooks/Mestrado final/Novos treinamentos/KFolds nosso aumentado/VGG19_fine-tuning_RandAugm_avg_4_classes_nosso_data_part1235.h5')"
      ]
    }
  ]
}