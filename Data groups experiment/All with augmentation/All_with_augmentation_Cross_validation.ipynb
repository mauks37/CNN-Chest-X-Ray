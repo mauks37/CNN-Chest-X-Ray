{
  "nbformat": 4,
  "nbformat_minor": 0,
  "metadata": {
    "colab": {
      "provenance": []
    },
    "kernelspec": {
      "name": "python3",
      "display_name": "Python 3"
    },
    "language_info": {
      "name": "python"
    },
    "accelerator": "GPU"
  },
  "cells": [
    {
      "cell_type": "code",
      "metadata": {
        "id": "bLQyK1rbrX4x"
      },
      "source": [
        "import numpy as np\n",
        "import matplotlib.pyplot as plt\n",
        "from matplotlib.image import imread\n",
        "import tensorflow as tf\n",
        "import pandas as pd\n",
        "import random\n",
        "import cv2\n",
        "from sklearn.metrics import classification_report, confusion_matrix"
      ],
      "execution_count": null,
      "outputs": []
    },
    {
      "cell_type": "code",
      "metadata": {
        "colab": {
          "base_uri": "https://localhost:8080/"
        },
        "id": "WKLH776RriDl",
        "outputId": "f24bcd19-34fc-423e-e44c-b4d9dbcfe5c8"
      },
      "source": [
        "gpu_info = !nvidia-smi\n",
        "gpu_info = '\\n'.join(gpu_info)\n",
        "if gpu_info.find('failed') >= 0:\n",
        "  print('Select the Runtime > \"Change runtime type\" menu to enable a GPU accelerator, ')\n",
        "  print('and then re-execute this cell.')\n",
        "else:\n",
        "  print(gpu_info)"
      ],
      "execution_count": null,
      "outputs": [
        {
          "output_type": "stream",
          "name": "stdout",
          "text": [
            "Fri Nov 17 22:36:08 2023       \n",
            "+-----------------------------------------------------------------------------+\n",
            "| NVIDIA-SMI 525.105.17   Driver Version: 525.105.17   CUDA Version: 12.0     |\n",
            "|-------------------------------+----------------------+----------------------+\n",
            "| GPU  Name        Persistence-M| Bus-Id        Disp.A | Volatile Uncorr. ECC |\n",
            "| Fan  Temp  Perf  Pwr:Usage/Cap|         Memory-Usage | GPU-Util  Compute M. |\n",
            "|                               |                      |               MIG M. |\n",
            "|===============================+======================+======================|\n",
            "|   0  Tesla T4            Off  | 00000000:00:04.0 Off |                    0 |\n",
            "| N/A   48C    P8     9W /  70W |      0MiB / 15360MiB |      0%      Default |\n",
            "|                               |                      |                  N/A |\n",
            "+-------------------------------+----------------------+----------------------+\n",
            "                                                                               \n",
            "+-----------------------------------------------------------------------------+\n",
            "| Processes:                                                                  |\n",
            "|  GPU   GI   CI        PID   Type   Process name                  GPU Memory |\n",
            "|        ID   ID                                                   Usage      |\n",
            "|=============================================================================|\n",
            "|  No running processes found                                                 |\n",
            "+-----------------------------------------------------------------------------+\n"
          ]
        }
      ]
    },
    {
      "cell_type": "code",
      "metadata": {
        "colab": {
          "base_uri": "https://localhost:8080/"
        },
        "id": "2p0qp-B7riJD",
        "outputId": "71e7c153-2f07-4d11-f698-df0479073c1b"
      },
      "source": [
        "from google.colab import drive\n",
        "drive.mount('/content/drive')"
      ],
      "execution_count": null,
      "outputs": [
        {
          "output_type": "stream",
          "name": "stdout",
          "text": [
            "Mounted at /content/drive\n"
          ]
        }
      ]
    },
    {
      "cell_type": "code",
      "metadata": {
        "id": "U-qkYL34bo90"
      },
      "source": [
        "image_shape = (224,224,3)\n",
        "batch_size = 32"
      ],
      "execution_count": null,
      "outputs": []
    },
    {
      "cell_type": "code",
      "metadata": {
        "id": "yclyG0h-bsPk"
      },
      "source": [
        "from tensorflow.keras.preprocessing.image import ImageDataGenerator"
      ],
      "execution_count": null,
      "outputs": []
    },
    {
      "cell_type": "code",
      "metadata": {
        "id": "i47KwrQ-wwnD"
      },
      "source": [
        "image_gen = ImageDataGenerator()"
      ],
      "execution_count": null,
      "outputs": []
    },
    {
      "cell_type": "code",
      "metadata": {
        "id": "F4w5_zqjcD7C"
      },
      "source": [
        "from keras.models import load_model"
      ],
      "execution_count": null,
      "outputs": []
    },
    {
      "cell_type": "code",
      "metadata": {
        "id": "cidbuig2sKuA"
      },
      "source": [
        "def int_predict (pred_probabilities):\n",
        "  predictions = np.zeros((pred_probabilities.shape[0],1),dtype=int)\n",
        "  i = 0\n",
        "  while i < pred_probabilities.shape[0]:\n",
        "    predictions[i,:] = [np.argmax(pred_probabilities[i])]\n",
        "    i = i + 1\n",
        "\n",
        "  return predictions"
      ],
      "execution_count": null,
      "outputs": []
    },
    {
      "cell_type": "code",
      "source": [
        "test_dir = '/content/drive/My Drive/Colab Notebooks/Mestrado final/RXT teste mix_data/'"
      ],
      "metadata": {
        "id": "NFG0XRV-mF4v"
      },
      "execution_count": null,
      "outputs": []
    },
    {
      "cell_type": "markdown",
      "metadata": {
        "id": "89ACTjr5rziA"
      },
      "source": [
        "#**PART 1**"
      ]
    },
    {
      "cell_type": "code",
      "source": [
        "data_dir = '/content/drive/My Drive/Colab Notebooks/Mestrado final/KFolds mix_data aumentado/trein 2-3-4-5/'\n",
        "valid_dir = '/content/drive/My Drive/Colab Notebooks/Mestrado final/KFolds mix_data aumentado/1/'"
      ],
      "metadata": {
        "id": "DXwbUP8yld8s"
      },
      "execution_count": null,
      "outputs": []
    },
    {
      "cell_type": "code",
      "metadata": {
        "id": "VZkYZ3_mcLSP"
      },
      "source": [
        "model = tf.keras.models.load_model('/content/drive/My Drive/Colab Notebooks/Mestrado final/Novos treinamentos/KFolds mix aumentado/VGG19_fine-tuning_RandAugm_avg_4_classes_mix_data_part2345.h5')"
      ],
      "execution_count": null,
      "outputs": []
    },
    {
      "cell_type": "markdown",
      "source": [
        "VALIDATION"
      ],
      "metadata": {
        "id": "X1uK0BHvnyg2"
      }
    },
    {
      "cell_type": "code",
      "metadata": {
        "colab": {
          "base_uri": "https://localhost:8080/"
        },
        "id": "cKD6zVes7ab5",
        "outputId": "6a612ce5-ba29-4c7c-90b4-2e0ee18e8d2b"
      },
      "source": [
        "valid_image_gen = image_gen.flow_from_directory(valid_dir,\n",
        "                                               #target_size=image_shape[:2],\n",
        "                                               color_mode='rgb',\n",
        "                                               batch_size=batch_size,\n",
        "                                               class_mode='categorical',\n",
        "                                               shuffle=False)"
      ],
      "execution_count": null,
      "outputs": [
        {
          "output_type": "stream",
          "name": "stdout",
          "text": [
            "Found 337 images belonging to 4 classes.\n"
          ]
        }
      ]
    },
    {
      "cell_type": "code",
      "metadata": {
        "colab": {
          "base_uri": "https://localhost:8080/"
        },
        "id": "TKeXy4Se7ab5",
        "outputId": "d0743793-56d7-4c17-cca3-62f0774c702a"
      },
      "source": [
        "ac1v = model.evaluate(valid_image_gen)\n",
        "ac1v"
      ],
      "execution_count": null,
      "outputs": [
        {
          "output_type": "stream",
          "name": "stdout",
          "text": [
            "11/11 [==============================] - 58s 5s/step - loss: 0.7692 - accuracy: 0.8783\n"
          ]
        },
        {
          "output_type": "execute_result",
          "data": {
            "text/plain": [
              "[0.7692239880561829, 0.8783382773399353]"
            ]
          },
          "metadata": {},
          "execution_count": 13
        }
      ]
    },
    {
      "cell_type": "code",
      "metadata": {
        "id": "CZ0DNSfKXbZO",
        "colab": {
          "base_uri": "https://localhost:8080/"
        },
        "outputId": "68cdb8a8-4eed-4375-aefe-f87e374f66e5"
      },
      "source": [
        "pred_probabilities = model.predict(valid_image_gen)"
      ],
      "execution_count": null,
      "outputs": [
        {
          "output_type": "stream",
          "name": "stdout",
          "text": [
            "11/11 [==============================] - 2s 182ms/step\n"
          ]
        }
      ]
    },
    {
      "cell_type": "code",
      "metadata": {
        "id": "H3kZCFuKXbZO"
      },
      "source": [
        "classes1v = valid_image_gen.classes\n",
        "#classes1v"
      ],
      "execution_count": null,
      "outputs": []
    },
    {
      "cell_type": "code",
      "metadata": {
        "id": "BMV23P9NXbZQ"
      },
      "source": [
        "pred1v = predictions = int_predict(pred_probabilities)\n",
        "#pred1v"
      ],
      "execution_count": null,
      "outputs": []
    },
    {
      "cell_type": "code",
      "source": [
        "valid_image_gen.class_indices"
      ],
      "metadata": {
        "colab": {
          "base_uri": "https://localhost:8080/"
        },
        "id": "zAPAvThqnF11",
        "outputId": "d294aba8-f259-46ea-9083-70452ab725a6"
      },
      "execution_count": null,
      "outputs": [
        {
          "output_type": "execute_result",
          "data": {
            "text/plain": [
              "{'covid': 0, 'dip': 1, 'normais': 2, 'tuberculose': 3}"
            ]
          },
          "metadata": {},
          "execution_count": 17
        }
      ]
    },
    {
      "cell_type": "code",
      "source": [
        "confusion_matrix(valid_image_gen.classes,predictions)"
      ],
      "metadata": {
        "colab": {
          "base_uri": "https://localhost:8080/"
        },
        "id": "yNWvBoJCnF5G",
        "outputId": "5fed5ad5-deb2-4cdf-e160-fb15468d5352"
      },
      "execution_count": null,
      "outputs": [
        {
          "output_type": "execute_result",
          "data": {
            "text/plain": [
              "array([[87,  2,  6,  0],\n",
              "       [ 4, 42,  2,  4],\n",
              "       [ 4,  2, 85,  4],\n",
              "       [ 4,  5,  4, 82]])"
            ]
          },
          "metadata": {},
          "execution_count": 18
        }
      ]
    },
    {
      "cell_type": "code",
      "source": [
        "print(classification_report(valid_image_gen.classes,predictions))"
      ],
      "metadata": {
        "colab": {
          "base_uri": "https://localhost:8080/"
        },
        "id": "k9wZPh-WnF_M",
        "outputId": "e5f394fb-c456-4f5d-ac67-5e92faee7c47"
      },
      "execution_count": null,
      "outputs": [
        {
          "output_type": "stream",
          "name": "stdout",
          "text": [
            "              precision    recall  f1-score   support\n",
            "\n",
            "           0       0.88      0.92      0.90        95\n",
            "           1       0.82      0.81      0.82        52\n",
            "           2       0.88      0.89      0.89        95\n",
            "           3       0.91      0.86      0.89        95\n",
            "\n",
            "    accuracy                           0.88       337\n",
            "   macro avg       0.87      0.87      0.87       337\n",
            "weighted avg       0.88      0.88      0.88       337\n",
            "\n"
          ]
        }
      ]
    },
    {
      "cell_type": "markdown",
      "metadata": {
        "id": "sfE6vm-OsmYZ"
      },
      "source": [
        "#**PART 2**"
      ]
    },
    {
      "cell_type": "code",
      "source": [
        "data_dir = '/content/drive/My Drive/Colab Notebooks/Mestrado final/KFolds mix_data aumentado/trein 1-3-4-5/'\n",
        "valid_dir = '/content/drive/My Drive/Colab Notebooks/Mestrado final/KFolds mix_data aumentado/2/'"
      ],
      "metadata": {
        "id": "sizpu8s6-ZhX"
      },
      "execution_count": null,
      "outputs": []
    },
    {
      "cell_type": "code",
      "metadata": {
        "id": "cc2Emqyu-ZhY"
      },
      "source": [
        "model = tf.keras.models.load_model('/content/drive/My Drive/Colab Notebooks/Mestrado final/Novos treinamentos/KFolds mix aumentado/VGG19_fine-tuning_RandAugm_avg_4_classes_mix_data_part1345.h5')"
      ],
      "execution_count": null,
      "outputs": []
    },
    {
      "cell_type": "markdown",
      "source": [
        "VALIDATION"
      ],
      "metadata": {
        "id": "pQN6s6JY-ZhZ"
      }
    },
    {
      "cell_type": "code",
      "metadata": {
        "colab": {
          "base_uri": "https://localhost:8080/"
        },
        "outputId": "cf4e1952-3318-4e09-cf4d-018fdcbf0388",
        "id": "FuL5b6tq-ZhZ"
      },
      "source": [
        "valid_image_gen = image_gen.flow_from_directory(valid_dir,\n",
        "                                               #target_size=image_shape[:2],\n",
        "                                               color_mode='rgb',\n",
        "                                               batch_size=batch_size,\n",
        "                                               class_mode='categorical',\n",
        "                                               shuffle=False)"
      ],
      "execution_count": null,
      "outputs": [
        {
          "output_type": "stream",
          "name": "stdout",
          "text": [
            "Found 337 images belonging to 4 classes.\n"
          ]
        }
      ]
    },
    {
      "cell_type": "code",
      "metadata": {
        "colab": {
          "base_uri": "https://localhost:8080/"
        },
        "outputId": "10eb5edf-b11c-4c69-961c-6e84aa4a0e27",
        "id": "EN30vOSJ-ZhZ"
      },
      "source": [
        "ac2v = model.evaluate(valid_image_gen)\n",
        "ac2v"
      ],
      "execution_count": null,
      "outputs": [
        {
          "output_type": "stream",
          "name": "stdout",
          "text": [
            "11/11 [==============================] - 54s 5s/step - loss: 0.9214 - accuracy: 0.8635\n"
          ]
        },
        {
          "output_type": "execute_result",
          "data": {
            "text/plain": [
              "[0.9213711619377136, 0.8635014891624451]"
            ]
          },
          "metadata": {},
          "execution_count": 31
        }
      ]
    },
    {
      "cell_type": "code",
      "metadata": {
        "colab": {
          "base_uri": "https://localhost:8080/"
        },
        "id": "aH0aHnMT-Zha",
        "outputId": "0749ef8b-cbc3-442e-b83e-994465d2ba51"
      },
      "source": [
        "pred_probabilities = model.predict(valid_image_gen)"
      ],
      "execution_count": null,
      "outputs": [
        {
          "output_type": "stream",
          "name": "stdout",
          "text": [
            "11/11 [==============================] - 3s 212ms/step\n"
          ]
        }
      ]
    },
    {
      "cell_type": "code",
      "metadata": {
        "id": "n9dbatVp-Zha"
      },
      "source": [
        "classes2v = valid_image_gen.classes\n",
        "#classes1v"
      ],
      "execution_count": null,
      "outputs": []
    },
    {
      "cell_type": "code",
      "metadata": {
        "id": "qIMEP6Q9-Zhb"
      },
      "source": [
        "pred2v = predictions = int_predict(pred_probabilities)\n",
        "#pred1v"
      ],
      "execution_count": null,
      "outputs": []
    },
    {
      "cell_type": "code",
      "source": [
        "valid_image_gen.class_indices"
      ],
      "metadata": {
        "colab": {
          "base_uri": "https://localhost:8080/"
        },
        "id": "dBJ5ngiJ-Zhb",
        "outputId": "695c6eae-ba4e-4238-f14d-f72e37f34fbd"
      },
      "execution_count": null,
      "outputs": [
        {
          "output_type": "execute_result",
          "data": {
            "text/plain": [
              "{'covid': 0, 'dip': 1, 'normais': 2, 'tuberculose': 3}"
            ]
          },
          "metadata": {},
          "execution_count": 35
        }
      ]
    },
    {
      "cell_type": "code",
      "source": [
        "confusion_matrix(valid_image_gen.classes,predictions)"
      ],
      "metadata": {
        "colab": {
          "base_uri": "https://localhost:8080/"
        },
        "id": "wZiOXdl0-Zhb",
        "outputId": "3c6f2a53-6ee4-402d-9eb1-f8de8f23cd05"
      },
      "execution_count": null,
      "outputs": [
        {
          "output_type": "execute_result",
          "data": {
            "text/plain": [
              "array([[90,  4,  1,  0],\n",
              "       [ 6, 37,  3,  6],\n",
              "       [ 5,  4, 82,  4],\n",
              "       [ 3,  8,  2, 82]])"
            ]
          },
          "metadata": {},
          "execution_count": 36
        }
      ]
    },
    {
      "cell_type": "code",
      "source": [
        "print(classification_report(valid_image_gen.classes,predictions))"
      ],
      "metadata": {
        "colab": {
          "base_uri": "https://localhost:8080/"
        },
        "id": "6tDUs6Us-Zhb",
        "outputId": "ae625715-63c2-4e52-b2f8-784787ed5580"
      },
      "execution_count": null,
      "outputs": [
        {
          "output_type": "stream",
          "name": "stdout",
          "text": [
            "              precision    recall  f1-score   support\n",
            "\n",
            "           0       0.87      0.95      0.90        95\n",
            "           1       0.70      0.71      0.70        52\n",
            "           2       0.93      0.86      0.90        95\n",
            "           3       0.89      0.86      0.88        95\n",
            "\n",
            "    accuracy                           0.86       337\n",
            "   macro avg       0.85      0.85      0.85       337\n",
            "weighted avg       0.87      0.86      0.86       337\n",
            "\n"
          ]
        }
      ]
    },
    {
      "cell_type": "markdown",
      "metadata": {
        "id": "_vZ0eGTFs0g_"
      },
      "source": [
        "#**PART 3**"
      ]
    },
    {
      "cell_type": "code",
      "source": [
        "data_dir = '/content/drive/My Drive/Colab Notebooks/Mestrado final/KFolds mix_data aumentado/trein 1-2-4-5/'\n",
        "valid_dir = '/content/drive/My Drive/Colab Notebooks/Mestrado final/KFolds mix_data aumentado/3/'"
      ],
      "metadata": {
        "id": "CPy9VBUb_AVE"
      },
      "execution_count": null,
      "outputs": []
    },
    {
      "cell_type": "code",
      "metadata": {
        "id": "E0iw0M8i_AVF"
      },
      "source": [
        "model = tf.keras.models.load_model('/content/drive/My Drive/Colab Notebooks/Mestrado final/Novos treinamentos/KFolds mix aumentado/VGG19_fine-tuning_RandAugm_avg_4_classes_mix_data_part1245.h5')"
      ],
      "execution_count": null,
      "outputs": []
    },
    {
      "cell_type": "markdown",
      "source": [
        "VALIDAÇÃO"
      ],
      "metadata": {
        "id": "h7WBhdDe_AVF"
      }
    },
    {
      "cell_type": "code",
      "metadata": {
        "colab": {
          "base_uri": "https://localhost:8080/"
        },
        "outputId": "923497fc-15d4-4b05-dc7e-c649fc593897",
        "id": "ET-EjryQ_AVF"
      },
      "source": [
        "valid_image_gen = image_gen.flow_from_directory(valid_dir,\n",
        "                                               #target_size=image_shape[:2],\n",
        "                                               color_mode='rgb',\n",
        "                                               batch_size=batch_size,\n",
        "                                               class_mode='categorical',\n",
        "                                               shuffle=False)"
      ],
      "execution_count": null,
      "outputs": [
        {
          "output_type": "stream",
          "name": "stdout",
          "text": [
            "Found 337 images belonging to 4 classes.\n"
          ]
        }
      ]
    },
    {
      "cell_type": "code",
      "metadata": {
        "colab": {
          "base_uri": "https://localhost:8080/"
        },
        "outputId": "6a9f45b3-2de6-4974-d041-8b4b62af80e4",
        "id": "-waGWISS_AVF"
      },
      "source": [
        "ac3v = model.evaluate(valid_image_gen)\n",
        "ac3v"
      ],
      "execution_count": null,
      "outputs": [
        {
          "output_type": "stream",
          "name": "stdout",
          "text": [
            "11/11 [==============================] - 54s 5s/step - loss: 0.7500 - accuracy: 0.8516\n"
          ]
        },
        {
          "output_type": "execute_result",
          "data": {
            "text/plain": [
              "[0.7500306367874146, 0.8516320586204529]"
            ]
          },
          "metadata": {},
          "execution_count": 49
        }
      ]
    },
    {
      "cell_type": "code",
      "metadata": {
        "colab": {
          "base_uri": "https://localhost:8080/"
        },
        "id": "IqKzMf48_AVF",
        "outputId": "12efd284-d08b-4beb-92f4-24c5a13738b9"
      },
      "source": [
        "pred_probabilities = model.predict(valid_image_gen)"
      ],
      "execution_count": null,
      "outputs": [
        {
          "output_type": "stream",
          "name": "stdout",
          "text": [
            "11/11 [==============================] - 3s 230ms/step\n"
          ]
        }
      ]
    },
    {
      "cell_type": "code",
      "metadata": {
        "id": "rwABorel_AVF"
      },
      "source": [
        "classes3v = valid_image_gen.classes\n",
        "#classes1v"
      ],
      "execution_count": null,
      "outputs": []
    },
    {
      "cell_type": "code",
      "metadata": {
        "id": "G5QhGsqs_AVF"
      },
      "source": [
        "pred3v = predictions = int_predict(pred_probabilities)\n",
        "#pred1v"
      ],
      "execution_count": null,
      "outputs": []
    },
    {
      "cell_type": "code",
      "source": [
        "valid_image_gen.class_indices"
      ],
      "metadata": {
        "colab": {
          "base_uri": "https://localhost:8080/"
        },
        "id": "2l4tVW-A_AVF",
        "outputId": "c7966f8f-afac-4fa3-9cc4-eede4fb9cf1c"
      },
      "execution_count": null,
      "outputs": [
        {
          "output_type": "execute_result",
          "data": {
            "text/plain": [
              "{'covid': 0, 'dip': 1, 'normais': 2, 'tuberculose': 3}"
            ]
          },
          "metadata": {},
          "execution_count": 53
        }
      ]
    },
    {
      "cell_type": "code",
      "source": [
        "confusion_matrix(valid_image_gen.classes,predictions)"
      ],
      "metadata": {
        "colab": {
          "base_uri": "https://localhost:8080/"
        },
        "id": "4-JHQCXK_AVF",
        "outputId": "1034d910-5ae6-428b-f854-18ab983ee3a0"
      },
      "execution_count": null,
      "outputs": [
        {
          "output_type": "execute_result",
          "data": {
            "text/plain": [
              "array([[87,  3,  3,  2],\n",
              "       [ 4, 33, 12,  3],\n",
              "       [ 6,  1, 87,  1],\n",
              "       [ 3,  6,  6, 80]])"
            ]
          },
          "metadata": {},
          "execution_count": 54
        }
      ]
    },
    {
      "cell_type": "code",
      "source": [
        "print(classification_report(valid_image_gen.classes,predictions))"
      ],
      "metadata": {
        "colab": {
          "base_uri": "https://localhost:8080/"
        },
        "id": "iPvslq53_AVF",
        "outputId": "1b4d78e7-872d-4097-e09a-26aeb7eb61cf"
      },
      "execution_count": null,
      "outputs": [
        {
          "output_type": "stream",
          "name": "stdout",
          "text": [
            "              precision    recall  f1-score   support\n",
            "\n",
            "           0       0.87      0.92      0.89        95\n",
            "           1       0.77      0.63      0.69        52\n",
            "           2       0.81      0.92      0.86        95\n",
            "           3       0.93      0.84      0.88        95\n",
            "\n",
            "    accuracy                           0.85       337\n",
            "   macro avg       0.84      0.83      0.83       337\n",
            "weighted avg       0.85      0.85      0.85       337\n",
            "\n"
          ]
        }
      ]
    },
    {
      "cell_type": "markdown",
      "metadata": {
        "id": "SEOedNops8Uy"
      },
      "source": [
        "#**PART 4**"
      ]
    },
    {
      "cell_type": "code",
      "source": [
        "data_dir = '/content/drive/My Drive/Colab Notebooks/Mestrado final/KFolds mix_data aumentado/trein 1-2-3-5/'\n",
        "valid_dir = '/content/drive/My Drive/Colab Notebooks/Mestrado final/KFolds mix_data aumentado/4/'"
      ],
      "metadata": {
        "id": "p9o5pWnf_PQH"
      },
      "execution_count": null,
      "outputs": []
    },
    {
      "cell_type": "code",
      "metadata": {
        "id": "_w0tSoz7_PQH"
      },
      "source": [
        "model = tf.keras.models.load_model('/content/drive/My Drive/Colab Notebooks/Mestrado final/Novos treinamentos/KFolds mix aumentado/VGG19_fine-tuning_RandAugm_avg_4_classes_mix_data_part1235.h5')"
      ],
      "execution_count": null,
      "outputs": []
    },
    {
      "cell_type": "markdown",
      "source": [
        "VALIDAÇÃO"
      ],
      "metadata": {
        "id": "P32jr1y7_PQI"
      }
    },
    {
      "cell_type": "code",
      "metadata": {
        "colab": {
          "base_uri": "https://localhost:8080/"
        },
        "outputId": "7c934c23-9c72-4caf-bd72-93ee84f422ba",
        "id": "WbZGDpyC_PQI"
      },
      "source": [
        "valid_image_gen = image_gen.flow_from_directory(valid_dir,\n",
        "                                               #target_size=image_shape[:2],\n",
        "                                               color_mode='rgb',\n",
        "                                               batch_size=batch_size,\n",
        "                                               class_mode='categorical',\n",
        "                                               shuffle=False)"
      ],
      "execution_count": null,
      "outputs": [
        {
          "output_type": "stream",
          "name": "stdout",
          "text": [
            "Found 337 images belonging to 4 classes.\n"
          ]
        }
      ]
    },
    {
      "cell_type": "code",
      "metadata": {
        "colab": {
          "base_uri": "https://localhost:8080/"
        },
        "outputId": "165e3798-4f43-487c-d549-36456fd65763",
        "id": "wBpHWQ0r_PQI"
      },
      "source": [
        "ac4v = model.evaluate(valid_image_gen)\n",
        "ac4v"
      ],
      "execution_count": null,
      "outputs": [
        {
          "output_type": "stream",
          "name": "stdout",
          "text": [
            "11/11 [==============================] - 53s 5s/step - loss: 0.7975 - accuracy: 0.8694\n"
          ]
        },
        {
          "output_type": "execute_result",
          "data": {
            "text/plain": [
              "[0.7975200414657593, 0.8694362044334412]"
            ]
          },
          "metadata": {},
          "execution_count": 67
        }
      ]
    },
    {
      "cell_type": "code",
      "metadata": {
        "colab": {
          "base_uri": "https://localhost:8080/"
        },
        "id": "2m988nol_PQI",
        "outputId": "2db0b828-386f-4eae-ebbc-96802778494b"
      },
      "source": [
        "pred_probabilities = model.predict(valid_image_gen)"
      ],
      "execution_count": null,
      "outputs": [
        {
          "output_type": "stream",
          "name": "stdout",
          "text": [
            "11/11 [==============================] - 2s 199ms/step\n"
          ]
        }
      ]
    },
    {
      "cell_type": "code",
      "metadata": {
        "id": "O2Y_JycL_PQI"
      },
      "source": [
        "classes4v = valid_image_gen.classes\n",
        "#classes1v"
      ],
      "execution_count": null,
      "outputs": []
    },
    {
      "cell_type": "code",
      "metadata": {
        "id": "21ez60yX_PQI"
      },
      "source": [
        "pred4v = predictions = int_predict(pred_probabilities)\n",
        "#pred1v"
      ],
      "execution_count": null,
      "outputs": []
    },
    {
      "cell_type": "code",
      "source": [
        "valid_image_gen.class_indices"
      ],
      "metadata": {
        "colab": {
          "base_uri": "https://localhost:8080/"
        },
        "id": "r8AGTWz0_PQI",
        "outputId": "fe8c50f5-6f15-41b7-ab74-d6d1c3633e11"
      },
      "execution_count": null,
      "outputs": [
        {
          "output_type": "execute_result",
          "data": {
            "text/plain": [
              "{'covid': 0, 'dip': 1, 'normais': 2, 'tuberculose': 3}"
            ]
          },
          "metadata": {},
          "execution_count": 71
        }
      ]
    },
    {
      "cell_type": "code",
      "source": [
        "confusion_matrix(valid_image_gen.classes,predictions)"
      ],
      "metadata": {
        "colab": {
          "base_uri": "https://localhost:8080/"
        },
        "id": "r-BWrioe_PQI",
        "outputId": "0407dc5b-b944-4f2b-e11a-d7092334e13a"
      },
      "execution_count": null,
      "outputs": [
        {
          "output_type": "execute_result",
          "data": {
            "text/plain": [
              "array([[81,  4,  4,  6],\n",
              "       [ 2, 41,  5,  4],\n",
              "       [ 4,  1, 88,  2],\n",
              "       [ 3,  6,  3, 83]])"
            ]
          },
          "metadata": {},
          "execution_count": 72
        }
      ]
    },
    {
      "cell_type": "code",
      "source": [
        "print(classification_report(valid_image_gen.classes,predictions))"
      ],
      "metadata": {
        "colab": {
          "base_uri": "https://localhost:8080/"
        },
        "id": "FgG3RlEU_PQI",
        "outputId": "d09da904-2bf3-41bf-b935-8980e896c01c"
      },
      "execution_count": null,
      "outputs": [
        {
          "output_type": "stream",
          "name": "stdout",
          "text": [
            "              precision    recall  f1-score   support\n",
            "\n",
            "           0       0.90      0.85      0.88        95\n",
            "           1       0.79      0.79      0.79        52\n",
            "           2       0.88      0.93      0.90        95\n",
            "           3       0.87      0.87      0.87        95\n",
            "\n",
            "    accuracy                           0.87       337\n",
            "   macro avg       0.86      0.86      0.86       337\n",
            "weighted avg       0.87      0.87      0.87       337\n",
            "\n"
          ]
        }
      ]
    },
    {
      "cell_type": "markdown",
      "metadata": {
        "id": "TnOzgM3CtHbK"
      },
      "source": [
        "#**PART 5**"
      ]
    },
    {
      "cell_type": "code",
      "source": [
        "data_dir = '/content/drive/My Drive/Colab Notebooks/Mestrado final/KFolds mix_data aumentado/trein 1-2-3-4/'\n",
        "valid_dir = '/content/drive/My Drive/Colab Notebooks/Mestrado final/KFolds mix_data aumentado/5/'"
      ],
      "metadata": {
        "id": "wRWqYaOM_es8"
      },
      "execution_count": null,
      "outputs": []
    },
    {
      "cell_type": "code",
      "metadata": {
        "id": "pxaiHrXD_es9"
      },
      "source": [
        "model = tf.keras.models.load_model('/content/drive/My Drive/Colab Notebooks/Mestrado final/Novos treinamentos/KFolds mix aumentado/VGG19_fine-tuning_RandAugm_avg_4_classes_mix_data_part1234.h5')"
      ],
      "execution_count": null,
      "outputs": []
    },
    {
      "cell_type": "code",
      "metadata": {
        "colab": {
          "base_uri": "https://localhost:8080/"
        },
        "outputId": "656593a3-5b81-405c-8382-5fa99bccc599",
        "id": "4l0DvPus_es-"
      },
      "source": [
        "valid_image_gen = image_gen.flow_from_directory(valid_dir,\n",
        "                                               #target_size=image_shape[:2],\n",
        "                                               color_mode='rgb',\n",
        "                                               batch_size=batch_size,\n",
        "                                               class_mode='categorical',\n",
        "                                               shuffle=False)"
      ],
      "execution_count": null,
      "outputs": [
        {
          "output_type": "stream",
          "name": "stdout",
          "text": [
            "Found 339 images belonging to 4 classes.\n"
          ]
        }
      ]
    },
    {
      "cell_type": "code",
      "metadata": {
        "colab": {
          "base_uri": "https://localhost:8080/"
        },
        "outputId": "005ed0b9-236d-4640-bb9f-3c62c57c705e",
        "id": "ZVoB5ukd_es_"
      },
      "source": [
        "ac5v = model.evaluate(valid_image_gen)\n",
        "ac5v"
      ],
      "execution_count": null,
      "outputs": [
        {
          "output_type": "stream",
          "name": "stdout",
          "text": [
            "11/11 [==============================] - 57s 6s/step - loss: 0.9062 - accuracy: 0.8496\n"
          ]
        },
        {
          "output_type": "execute_result",
          "data": {
            "text/plain": [
              "[0.9062471985816956, 0.8495575189590454]"
            ]
          },
          "metadata": {},
          "execution_count": 85
        }
      ]
    },
    {
      "cell_type": "code",
      "metadata": {
        "colab": {
          "base_uri": "https://localhost:8080/"
        },
        "id": "Pj7GA3VO_es_",
        "outputId": "c4322098-00ab-4a1b-dcb7-0a0ee48680b5"
      },
      "source": [
        "pred_probabilities = model.predict(valid_image_gen)"
      ],
      "execution_count": null,
      "outputs": [
        {
          "output_type": "stream",
          "name": "stdout",
          "text": [
            "11/11 [==============================] - 2s 188ms/step\n"
          ]
        }
      ]
    },
    {
      "cell_type": "code",
      "metadata": {
        "id": "r-nuPau-_es_"
      },
      "source": [
        "classes5v = valid_image_gen.classes\n",
        "#classes1v"
      ],
      "execution_count": null,
      "outputs": []
    },
    {
      "cell_type": "code",
      "metadata": {
        "id": "pytaA-5v_es_"
      },
      "source": [
        "pred5v = predictions = int_predict(pred_probabilities)\n",
        "#pred1v"
      ],
      "execution_count": null,
      "outputs": []
    },
    {
      "cell_type": "code",
      "source": [
        "valid_image_gen.class_indices"
      ],
      "metadata": {
        "colab": {
          "base_uri": "https://localhost:8080/"
        },
        "id": "JwwMxCTG_es_",
        "outputId": "612e307a-e5d8-44c1-ed64-7c8217d05d60"
      },
      "execution_count": null,
      "outputs": [
        {
          "output_type": "execute_result",
          "data": {
            "text/plain": [
              "{'covid': 0, 'dip': 1, 'normais': 2, 'tuberculose': 3}"
            ]
          },
          "metadata": {},
          "execution_count": 89
        }
      ]
    },
    {
      "cell_type": "code",
      "source": [
        "confusion_matrix(valid_image_gen.classes,predictions)"
      ],
      "metadata": {
        "colab": {
          "base_uri": "https://localhost:8080/"
        },
        "id": "kjzNoIrw_etA",
        "outputId": "7003d242-c471-400e-a18e-f8ad55e114d1"
      },
      "execution_count": null,
      "outputs": [
        {
          "output_type": "execute_result",
          "data": {
            "text/plain": [
              "array([[79,  3, 11,  2],\n",
              "       [ 4, 42,  5,  3],\n",
              "       [ 4,  2, 84,  5],\n",
              "       [ 4,  6,  2, 83]])"
            ]
          },
          "metadata": {},
          "execution_count": 90
        }
      ]
    },
    {
      "cell_type": "code",
      "source": [
        "print(classification_report(valid_image_gen.classes,predictions))"
      ],
      "metadata": {
        "colab": {
          "base_uri": "https://localhost:8080/"
        },
        "id": "wk-Xm_vJ_etA",
        "outputId": "3ca51e1e-941b-4005-cb6b-b9c2a4a084ff"
      },
      "execution_count": null,
      "outputs": [
        {
          "output_type": "stream",
          "name": "stdout",
          "text": [
            "              precision    recall  f1-score   support\n",
            "\n",
            "           0       0.87      0.83      0.85        95\n",
            "           1       0.79      0.78      0.79        54\n",
            "           2       0.82      0.88      0.85        95\n",
            "           3       0.89      0.87      0.88        95\n",
            "\n",
            "    accuracy                           0.85       339\n",
            "   macro avg       0.84      0.84      0.84       339\n",
            "weighted avg       0.85      0.85      0.85       339\n",
            "\n"
          ]
        }
      ]
    },
    {
      "cell_type": "markdown",
      "metadata": {
        "id": "P2yEmBOKumkf"
      },
      "source": [
        "#**Calculations**"
      ]
    },
    {
      "cell_type": "code",
      "metadata": {
        "id": "T7_lhGCnsYF1",
        "colab": {
          "base_uri": "https://localhost:8080/"
        },
        "outputId": "9ff549ab-95f4-4450-9ed6-642ee8c34ea9"
      },
      "source": [
        "acv_media = np.mean([ac1v[1],ac2v[1],ac3v[1],ac4v[1],ac5v[1]])\n",
        "acv_media"
      ],
      "execution_count": null,
      "outputs": [
        {
          "output_type": "execute_result",
          "data": {
            "text/plain": [
              "0.8624931097030639"
            ]
          },
          "metadata": {},
          "execution_count": 100
        }
      ]
    },
    {
      "cell_type": "code",
      "metadata": {
        "id": "xdaUGH6bsYI8"
      },
      "source": [
        "todas_classesv = np.concatenate((classes1v,classes2v,classes3v,classes4v,classes5v),axis=0)"
      ],
      "execution_count": null,
      "outputs": []
    },
    {
      "cell_type": "code",
      "metadata": {
        "id": "JE4awGfZsYOM"
      },
      "source": [
        "todas_predv = np.concatenate((pred1v,pred2v,pred3v,pred4v,pred5v),axis=0)"
      ],
      "execution_count": null,
      "outputs": []
    },
    {
      "cell_type": "code",
      "metadata": {
        "id": "RJpKRlHQXbZQ"
      },
      "source": [
        "from sklearn.metrics import classification_report, confusion_matrix"
      ],
      "execution_count": null,
      "outputs": []
    },
    {
      "cell_type": "markdown",
      "metadata": {
        "id": "N9UbmG853yb4"
      },
      "source": [
        "*   0: covid\n",
        "*   1: dip\n",
        "*   2: normais\n",
        "*   3: tuberculose\n",
        "\n"
      ]
    },
    {
      "cell_type": "code",
      "metadata": {
        "id": "rukhcZPXXbZR",
        "colab": {
          "base_uri": "https://localhost:8080/"
        },
        "outputId": "6b300ea1-2634-4f05-885e-e2a7f590982d"
      },
      "source": [
        "confusion_matrix(todas_classesv,todas_predv)"
      ],
      "execution_count": null,
      "outputs": [
        {
          "output_type": "execute_result",
          "data": {
            "text/plain": [
              "array([[424,  16,  25,  10],\n",
              "       [ 20, 195,  27,  20],\n",
              "       [ 23,  10, 426,  16],\n",
              "       [ 17,  31,  17, 410]])"
            ]
          },
          "metadata": {},
          "execution_count": 104
        }
      ]
    },
    {
      "cell_type": "code",
      "metadata": {
        "id": "0GUdEB6GXbZR",
        "colab": {
          "base_uri": "https://localhost:8080/"
        },
        "outputId": "bf74007d-490a-498c-9795-32a014e0e31c"
      },
      "source": [
        "print(classification_report(todas_classesv,todas_predv))"
      ],
      "execution_count": null,
      "outputs": [
        {
          "output_type": "stream",
          "name": "stdout",
          "text": [
            "              precision    recall  f1-score   support\n",
            "\n",
            "           0       0.88      0.89      0.88       475\n",
            "           1       0.77      0.74      0.76       262\n",
            "           2       0.86      0.90      0.88       475\n",
            "           3       0.90      0.86      0.88       475\n",
            "\n",
            "    accuracy                           0.86      1687\n",
            "   macro avg       0.85      0.85      0.85      1687\n",
            "weighted avg       0.86      0.86      0.86      1687\n",
            "\n"
          ]
        }
      ]
    },
    {
      "cell_type": "markdown",
      "metadata": {
        "id": "RxxMC0a3ASwv"
      },
      "source": [
        "*   0: covid\n",
        "*   1: dip\n",
        "*   2: normais\n",
        "*   3: tuberculose\n",
        "\n"
      ]
    }
  ]
}