{
  "nbformat": 4,
  "nbformat_minor": 0,
  "metadata": {
    "accelerator": "GPU",
    "colab": {
      "provenance": []
    },
    "kernelspec": {
      "display_name": "Python 3",
      "name": "python3"
    },
    "gpuClass": "standard"
  },
  "cells": [
    {
      "cell_type": "code",
      "metadata": {
        "id": "g_4Y44SJTRF3"
      },
      "source": [
        "\n",
        "import numpy as np\n",
        "import matplotlib.pyplot as plt\n",
        "from matplotlib.image import imread\n",
        "import tensorflow as tf\n",
        "import pandas as pd\n",
        "import random\n",
        "from keras.models import load_model"
      ],
      "execution_count": null,
      "outputs": []
    },
    {
      "cell_type": "code",
      "source": [
        "gpu_info = !nvidia-smi\n",
        "gpu_info = '\\n'.join(gpu_info)\n",
        "if gpu_info.find('failed') >= 0:\n",
        "  print('Select the Runtime > \"Change runtime type\" menu to enable a GPU accelerator, ')\n",
        "  print('and then re-execute this cell.')\n",
        "else:\n",
        "  print(gpu_info)"
      ],
      "metadata": {
        "colab": {
          "base_uri": "https://localhost:8080/"
        },
        "id": "SBziWpUPxRL2",
        "outputId": "0613dfc3-5a81-4715-a951-2204aeb06f85"
      },
      "execution_count": null,
      "outputs": [
        {
          "output_type": "stream",
          "name": "stdout",
          "text": [
            "Fri Nov 17 12:43:49 2023       \n",
            "+-----------------------------------------------------------------------------+\n",
            "| NVIDIA-SMI 525.105.17   Driver Version: 525.105.17   CUDA Version: 12.0     |\n",
            "|-------------------------------+----------------------+----------------------+\n",
            "| GPU  Name        Persistence-M| Bus-Id        Disp.A | Volatile Uncorr. ECC |\n",
            "| Fan  Temp  Perf  Pwr:Usage/Cap|         Memory-Usage | GPU-Util  Compute M. |\n",
            "|                               |                      |               MIG M. |\n",
            "|===============================+======================+======================|\n",
            "|   0  Tesla T4            Off  | 00000000:00:04.0 Off |                    0 |\n",
            "| N/A   44C    P8     9W /  70W |      0MiB / 15360MiB |      0%      Default |\n",
            "|                               |                      |                  N/A |\n",
            "+-------------------------------+----------------------+----------------------+\n",
            "                                                                               \n",
            "+-----------------------------------------------------------------------------+\n",
            "| Processes:                                                                  |\n",
            "|  GPU   GI   CI        PID   Type   Process name                  GPU Memory |\n",
            "|        ID   ID                                                   Usage      |\n",
            "|=============================================================================|\n",
            "|  No running processes found                                                 |\n",
            "+-----------------------------------------------------------------------------+\n"
          ]
        }
      ]
    },
    {
      "cell_type": "markdown",
      "metadata": {
        "id": "ZVGy_7Zf5Y4i"
      },
      "source": [
        "Keras guide:\n",
        "\n",
        "https://keras.io/guides/transfer_learning/"
      ]
    },
    {
      "cell_type": "code",
      "metadata": {
        "colab": {
          "base_uri": "https://localhost:8080/"
        },
        "id": "JepdH8A8T4mS",
        "outputId": "84e0fde5-4f61-42f2-e1c3-d3e868dcff0c"
      },
      "source": [
        "from google.colab import drive\n",
        "drive.mount('/content/drive')"
      ],
      "execution_count": null,
      "outputs": [
        {
          "output_type": "stream",
          "name": "stdout",
          "text": [
            "Mounted at /content/drive\n"
          ]
        }
      ]
    },
    {
      "cell_type": "code",
      "metadata": {
        "id": "11wCCxDHX_hS"
      },
      "source": [
        "data_dir = '/content/drive/My Drive/Colab Notebooks/Mestrado final/KFolds mix_data aumentado/trein 1-2-3-4/'\n",
        "valid_dir = '/content/drive/My Drive/Colab Notebooks/Mestrado final/KFolds mix_data aumentado/5/'"
      ],
      "execution_count": null,
      "outputs": []
    },
    {
      "cell_type": "code",
      "metadata": {
        "colab": {
          "base_uri": "https://localhost:8080/"
        },
        "id": "bNgHB-WRUcHU",
        "outputId": "13d6ec08-f27d-41c9-d5c4-112f2c5e9385"
      },
      "source": [
        "tf.io.gfile.listdir(data_dir)"
      ],
      "execution_count": null,
      "outputs": [
        {
          "output_type": "execute_result",
          "data": {
            "text/plain": [
              "['normais', 'tuberculose', 'dip', 'covid']"
            ]
          },
          "metadata": {},
          "execution_count": 5
        }
      ]
    },
    {
      "cell_type": "code",
      "metadata": {
        "id": "WownivFFqCee"
      },
      "source": [
        "image_shape = (224,224,3)\n",
        "batch_size = 32"
      ],
      "execution_count": null,
      "outputs": []
    },
    {
      "cell_type": "code",
      "metadata": {
        "id": "zZP11oMfqHcI"
      },
      "source": [
        "from tensorflow.keras.preprocessing.image import ImageDataGenerator"
      ],
      "execution_count": null,
      "outputs": []
    },
    {
      "cell_type": "code",
      "metadata": {
        "id": "z1DhgrjHqOpi"
      },
      "source": [
        "image_gen = ImageDataGenerator()"
      ],
      "execution_count": null,
      "outputs": []
    },
    {
      "cell_type": "code",
      "metadata": {
        "colab": {
          "base_uri": "https://localhost:8080/"
        },
        "id": "zt_rGqE7qRPb",
        "outputId": "43d1be08-896c-4af3-a258-136dd858e23e"
      },
      "source": [
        "image_gen.flow_from_directory(data_dir)"
      ],
      "execution_count": null,
      "outputs": [
        {
          "output_type": "stream",
          "name": "stdout",
          "text": [
            "Found 4460 images belonging to 4 classes.\n"
          ]
        },
        {
          "output_type": "execute_result",
          "data": {
            "text/plain": [
              "<keras.src.preprocessing.image.DirectoryIterator at 0x7dfce00014e0>"
            ]
          },
          "metadata": {},
          "execution_count": 9
        }
      ]
    },
    {
      "cell_type": "markdown",
      "metadata": {
        "id": "ljlmoX_wnS07"
      },
      "source": [
        "# **Creating the model**"
      ]
    },
    {
      "cell_type": "code",
      "metadata": {
        "id": "W9qDjEz-uv-z"
      },
      "source": [
        "from tensorflow.keras.applications.vgg19 import VGG19\n",
        "from tensorflow.keras.models import Model\n",
        "from tensorflow.keras.layers import Flatten,Dense"
      ],
      "execution_count": null,
      "outputs": []
    },
    {
      "cell_type": "code",
      "metadata": {
        "id": "eMhwnptro3L8",
        "colab": {
          "base_uri": "https://localhost:8080/"
        },
        "outputId": "df5fcf77-fc60-4492-d37b-4e959d5a8223"
      },
      "source": [
        "i = tf.keras.layers.Input([None, None, 3], dtype = tf.uint8)\n",
        "x = tf.cast(i, tf.float32)\n",
        "x = tf.keras.applications.vgg19.preprocess_input(x)\n",
        "\n",
        "vgg19 = tf.keras.applications.VGG19(input_tensor=x, input_shape = image_shape, include_top = False, weights=\"imagenet\", pooling=\"avg\")\n"
      ],
      "execution_count": null,
      "outputs": [
        {
          "output_type": "stream",
          "name": "stdout",
          "text": [
            "Downloading data from https://storage.googleapis.com/tensorflow/keras-applications/vgg19/vgg19_weights_tf_dim_ordering_tf_kernels_notop.h5\n",
            "80134624/80134624 [==============================] - 3s 0us/step\n"
          ]
        }
      ]
    },
    {
      "cell_type": "code",
      "metadata": {
        "id": "O1L4fkqEo5Kw"
      },
      "source": [
        "# Freeze all the layers\n",
        "for layer in vgg19.layers:\n",
        "    layer.trainable = False"
      ],
      "execution_count": null,
      "outputs": []
    },
    {
      "cell_type": "code",
      "metadata": {
        "id": "sWsvb-H5o5NZ"
      },
      "source": [
        "z = vgg19.output\n",
        "predictions = Dense(4, activation='softmax')(z)\n",
        "model = Model(inputs=vgg19.input, outputs=predictions)"
      ],
      "execution_count": null,
      "outputs": []
    },
    {
      "cell_type": "code",
      "metadata": {
        "colab": {
          "base_uri": "https://localhost:8080/"
        },
        "id": "I825x9pepAa4",
        "outputId": "e983bcd0-e7ee-4cd7-9744-915a3dcaaee5"
      },
      "source": [
        "model.summary()"
      ],
      "execution_count": null,
      "outputs": [
        {
          "output_type": "stream",
          "name": "stdout",
          "text": [
            "Model: \"model\"\n",
            "_________________________________________________________________\n",
            " Layer (type)                Output Shape              Param #   \n",
            "=================================================================\n",
            " input_1 (InputLayer)        [(None, None, None, 3)]   0         \n",
            "                                                                 \n",
            " tf.cast (TFOpLambda)        (None, None, None, 3)     0         \n",
            "                                                                 \n",
            " tf.__operators__.getitem (  (None, None, None, 3)     0         \n",
            " SlicingOpLambda)                                                \n",
            "                                                                 \n",
            " tf.nn.bias_add (TFOpLambda  (None, None, None, 3)     0         \n",
            " )                                                               \n",
            "                                                                 \n",
            " block1_conv1 (Conv2D)       (None, None, None, 64)    1792      \n",
            "                                                                 \n",
            " block1_conv2 (Conv2D)       (None, None, None, 64)    36928     \n",
            "                                                                 \n",
            " block1_pool (MaxPooling2D)  (None, None, None, 64)    0         \n",
            "                                                                 \n",
            " block2_conv1 (Conv2D)       (None, None, None, 128)   73856     \n",
            "                                                                 \n",
            " block2_conv2 (Conv2D)       (None, None, None, 128)   147584    \n",
            "                                                                 \n",
            " block2_pool (MaxPooling2D)  (None, None, None, 128)   0         \n",
            "                                                                 \n",
            " block3_conv1 (Conv2D)       (None, None, None, 256)   295168    \n",
            "                                                                 \n",
            " block3_conv2 (Conv2D)       (None, None, None, 256)   590080    \n",
            "                                                                 \n",
            " block3_conv3 (Conv2D)       (None, None, None, 256)   590080    \n",
            "                                                                 \n",
            " block3_conv4 (Conv2D)       (None, None, None, 256)   590080    \n",
            "                                                                 \n",
            " block3_pool (MaxPooling2D)  (None, None, None, 256)   0         \n",
            "                                                                 \n",
            " block4_conv1 (Conv2D)       (None, None, None, 512)   1180160   \n",
            "                                                                 \n",
            " block4_conv2 (Conv2D)       (None, None, None, 512)   2359808   \n",
            "                                                                 \n",
            " block4_conv3 (Conv2D)       (None, None, None, 512)   2359808   \n",
            "                                                                 \n",
            " block4_conv4 (Conv2D)       (None, None, None, 512)   2359808   \n",
            "                                                                 \n",
            " block4_pool (MaxPooling2D)  (None, None, None, 512)   0         \n",
            "                                                                 \n",
            " block5_conv1 (Conv2D)       (None, None, None, 512)   2359808   \n",
            "                                                                 \n",
            " block5_conv2 (Conv2D)       (None, None, None, 512)   2359808   \n",
            "                                                                 \n",
            " block5_conv3 (Conv2D)       (None, None, None, 512)   2359808   \n",
            "                                                                 \n",
            " block5_conv4 (Conv2D)       (None, None, None, 512)   2359808   \n",
            "                                                                 \n",
            " block5_pool (MaxPooling2D)  (None, None, None, 512)   0         \n",
            "                                                                 \n",
            " global_average_pooling2d (  (None, 512)               0         \n",
            " GlobalAveragePooling2D)                                         \n",
            "                                                                 \n",
            " dense (Dense)               (None, 4)                 2052      \n",
            "                                                                 \n",
            "=================================================================\n",
            "Total params: 20026436 (76.39 MB)\n",
            "Trainable params: 2052 (8.02 KB)\n",
            "Non-trainable params: 20024384 (76.39 MB)\n",
            "_________________________________________________________________\n"
          ]
        }
      ]
    },
    {
      "cell_type": "code",
      "metadata": {
        "id": "fa4IjzPQpAd3"
      },
      "source": [
        "model.compile(loss='categorical_crossentropy',\n",
        "              optimizer='adam',\n",
        "              metrics=['accuracy'])"
      ],
      "execution_count": null,
      "outputs": []
    },
    {
      "cell_type": "code",
      "metadata": {
        "id": "5WRw2B3P53BW"
      },
      "source": [
        "from tensorflow.keras.callbacks import EarlyStopping, ModelCheckpoint, ReduceLROnPlateau"
      ],
      "execution_count": null,
      "outputs": []
    },
    {
      "cell_type": "code",
      "metadata": {
        "id": "mAhez88k6AW1"
      },
      "source": [
        "early_stop = EarlyStopping(monitor='val_loss',patience=3,verbose=2)"
      ],
      "execution_count": null,
      "outputs": []
    },
    {
      "cell_type": "code",
      "source": [
        "model_checkpoint  = ModelCheckpoint(\n",
        "    filepath='/content/drive/My Drive/Colab Notebooks/Mestrado final/Novos treinamentos/KFolds mix aumentado/model_checkpoint5',\n",
        "    save_weights_only=True,\n",
        "    monitor='val_accuracy',\n",
        "    mode='max',\n",
        "    save_freq='epoch',\n",
        "    save_best_only=True,\n",
        "    options=None,\n",
        "    initial_value_threshold=None,\n",
        "    verbose = 0\n",
        ")"
      ],
      "metadata": {
        "id": "COEBh47_eAd6"
      },
      "execution_count": null,
      "outputs": []
    },
    {
      "cell_type": "code",
      "source": [
        "reduce_lr = ReduceLROnPlateau(monitor='val_loss', factor=0.2,\n",
        "                              patience=5, min_lr=0.001)"
      ],
      "metadata": {
        "id": "Sa04TvyOXf_R"
      },
      "execution_count": null,
      "outputs": []
    },
    {
      "cell_type": "code",
      "metadata": {
        "colab": {
          "base_uri": "https://localhost:8080/"
        },
        "id": "pkgfaQ316FAH",
        "outputId": "ff5d7ace-0c57-48ce-a962-22705474c885"
      },
      "source": [
        "train_image_gen = image_gen.flow_from_directory(data_dir,\n",
        "                                                #target_size=image_shape[:2],\n",
        "                                                color_mode='rgb',\n",
        "                                                batch_size=batch_size,\n",
        "                                                class_mode='categorical')"
      ],
      "execution_count": null,
      "outputs": [
        {
          "output_type": "stream",
          "name": "stdout",
          "text": [
            "Found 4460 images belonging to 4 classes.\n"
          ]
        }
      ]
    },
    {
      "cell_type": "code",
      "source": [
        "validation_image_gen = image_gen.flow_from_directory(valid_dir,\n",
        "                                                #target_size=image_shape[:2],\n",
        "                                                color_mode='rgb',\n",
        "                                                batch_size=batch_size,\n",
        "                                                class_mode='categorical')"
      ],
      "metadata": {
        "colab": {
          "base_uri": "https://localhost:8080/"
        },
        "id": "B6CFbu9soZLU",
        "outputId": "ce1bd50e-d1e8-4c25-b716-9ee0df4f405a"
      },
      "execution_count": null,
      "outputs": [
        {
          "output_type": "stream",
          "name": "stdout",
          "text": [
            "Found 339 images belonging to 4 classes.\n"
          ]
        }
      ]
    },
    {
      "cell_type": "code",
      "metadata": {
        "colab": {
          "base_uri": "https://localhost:8080/"
        },
        "id": "wEt9ohCg7JbG",
        "outputId": "242823ef-4841-4466-b444-47a8301428ff"
      },
      "source": [
        "train_image_gen.class_indices"
      ],
      "execution_count": null,
      "outputs": [
        {
          "output_type": "execute_result",
          "data": {
            "text/plain": [
              "{'covid': 0, 'dip': 1, 'normais': 2, 'tuberculose': 3}"
            ]
          },
          "metadata": {},
          "execution_count": 23
        }
      ]
    },
    {
      "cell_type": "markdown",
      "metadata": {
        "id": "F2wJaiy88l4K"
      },
      "source": [
        "# **Training the model**"
      ]
    },
    {
      "cell_type": "code",
      "metadata": {
        "colab": {
          "base_uri": "https://localhost:8080/"
        },
        "id": "qkUbj_Xh8e1r",
        "outputId": "6d6326fe-e53f-4d36-c3e8-8cabe15de24f"
      },
      "source": [
        "model.fit(train_image_gen,epochs=200,validation_data=validation_image_gen,callbacks=[early_stop,model_checkpoint,reduce_lr])"
      ],
      "execution_count": null,
      "outputs": [
        {
          "output_type": "stream",
          "name": "stdout",
          "text": [
            "Epoch 1/200\n",
            "140/140 [==============================] - 1679s 12s/step - loss: 1.7339 - accuracy: 0.4522 - val_loss: 0.9555 - val_accuracy: 0.6549 - lr: 0.0010\n",
            "Epoch 2/200\n",
            "140/140 [==============================] - 28s 199ms/step - loss: 1.0372 - accuracy: 0.6251 - val_loss: 0.8797 - val_accuracy: 0.6903 - lr: 0.0010\n",
            "Epoch 3/200\n",
            "140/140 [==============================] - 27s 192ms/step - loss: 0.8680 - accuracy: 0.6796 - val_loss: 0.7884 - val_accuracy: 0.7257 - lr: 0.0010\n",
            "Epoch 4/200\n",
            "140/140 [==============================] - 28s 197ms/step - loss: 0.7701 - accuracy: 0.7161 - val_loss: 0.7343 - val_accuracy: 0.7493 - lr: 0.0010\n",
            "Epoch 5/200\n",
            "140/140 [==============================] - 28s 198ms/step - loss: 0.7124 - accuracy: 0.7336 - val_loss: 0.7157 - val_accuracy: 0.7345 - lr: 0.0010\n",
            "Epoch 6/200\n",
            "140/140 [==============================] - 28s 196ms/step - loss: 0.6516 - accuracy: 0.7574 - val_loss: 0.6438 - val_accuracy: 0.7817 - lr: 0.0010\n",
            "Epoch 7/200\n",
            "140/140 [==============================] - 28s 196ms/step - loss: 0.6237 - accuracy: 0.7682 - val_loss: 0.6478 - val_accuracy: 0.7670 - lr: 0.0010\n",
            "Epoch 8/200\n",
            "140/140 [==============================] - 28s 203ms/step - loss: 0.6007 - accuracy: 0.7783 - val_loss: 0.6286 - val_accuracy: 0.7906 - lr: 0.0010\n",
            "Epoch 9/200\n",
            "140/140 [==============================] - 28s 198ms/step - loss: 0.5748 - accuracy: 0.7870 - val_loss: 0.6231 - val_accuracy: 0.7876 - lr: 0.0010\n",
            "Epoch 10/200\n",
            "140/140 [==============================] - 28s 197ms/step - loss: 0.5547 - accuracy: 0.7910 - val_loss: 0.6142 - val_accuracy: 0.7847 - lr: 0.0010\n",
            "Epoch 11/200\n",
            "140/140 [==============================] - 28s 198ms/step - loss: 0.5530 - accuracy: 0.7984 - val_loss: 0.6341 - val_accuracy: 0.7788 - lr: 0.0010\n",
            "Epoch 12/200\n",
            "140/140 [==============================] - 28s 199ms/step - loss: 0.5170 - accuracy: 0.8130 - val_loss: 0.6229 - val_accuracy: 0.7935 - lr: 0.0010\n",
            "Epoch 13/200\n",
            "140/140 [==============================] - 29s 203ms/step - loss: 0.5145 - accuracy: 0.8101 - val_loss: 0.6080 - val_accuracy: 0.8053 - lr: 0.0010\n",
            "Epoch 14/200\n",
            "140/140 [==============================] - 28s 200ms/step - loss: 0.5034 - accuracy: 0.8157 - val_loss: 0.5972 - val_accuracy: 0.8083 - lr: 0.0010\n",
            "Epoch 15/200\n",
            "140/140 [==============================] - 28s 199ms/step - loss: 0.4921 - accuracy: 0.8148 - val_loss: 0.6367 - val_accuracy: 0.7817 - lr: 0.0010\n",
            "Epoch 16/200\n",
            "140/140 [==============================] - 29s 203ms/step - loss: 0.4755 - accuracy: 0.8300 - val_loss: 0.6673 - val_accuracy: 0.7758 - lr: 0.0010\n",
            "Epoch 17/200\n",
            "140/140 [==============================] - 28s 197ms/step - loss: 0.4820 - accuracy: 0.8195 - val_loss: 0.6331 - val_accuracy: 0.7965 - lr: 0.0010\n",
            "Epoch 17: early stopping\n"
          ]
        },
        {
          "output_type": "execute_result",
          "data": {
            "text/plain": [
              "<keras.src.callbacks.History at 0x7dfc437626b0>"
            ]
          },
          "metadata": {},
          "execution_count": 24
        }
      ]
    },
    {
      "cell_type": "code",
      "metadata": {
        "id": "FFScUUxmm9mZ"
      },
      "source": [],
      "execution_count": null,
      "outputs": []
    },
    {
      "cell_type": "code",
      "metadata": {
        "id": "Hgi8hS8bcA8U"
      },
      "source": [
        "losses = pd.DataFrame(model.history.history)"
      ],
      "execution_count": null,
      "outputs": []
    },
    {
      "cell_type": "code",
      "metadata": {
        "id": "Rn79y9lBcKVt",
        "colab": {
          "base_uri": "https://localhost:8080/",
          "height": 447
        },
        "outputId": "e0d253e7-bff2-4b51-c43f-34044d09d3bd"
      },
      "source": [
        "losses[['loss','val_loss']].plot()"
      ],
      "execution_count": null,
      "outputs": [
        {
          "output_type": "execute_result",
          "data": {
            "text/plain": [
              "<Axes: >"
            ]
          },
          "metadata": {},
          "execution_count": 26
        },
        {
          "output_type": "display_data",
          "data": {
            "text/plain": [
              "<Figure size 640x480 with 1 Axes>"
            ],
            "image/png": "[encoded data removed]"
          },
          "metadata": {}
        }
      ]
    },
    {
      "cell_type": "markdown",
      "metadata": {
        "id": "ksKjjsFs6JDh"
      },
      "source": [
        "# **Fine tunning**"
      ]
    },
    {
      "cell_type": "code",
      "source": [
        "model.load_weights('/content/drive/My Drive/Colab Notebooks/Mestrado final/Novos treinamentos/KFolds mix aumentado/model_checkpoint5')"
      ],
      "metadata": {
        "colab": {
          "base_uri": "https://localhost:8080/"
        },
        "id": "y9nuWKsFiGE3",
        "outputId": "8d26ee1a-40cf-46b4-d735-a57e7ed35cbd"
      },
      "execution_count": null,
      "outputs": [
        {
          "output_type": "execute_result",
          "data": {
            "text/plain": [
              "<tensorflow.python.checkpoint.checkpoint.CheckpointLoadStatus at 0x7dfc433c2770>"
            ]
          },
          "metadata": {},
          "execution_count": 27
        }
      ]
    },
    {
      "cell_type": "code",
      "metadata": {
        "id": "go0sV1nJc9w2"
      },
      "source": [
        "# Unfreeze all the layers\n",
        "for layer in model.layers:\n",
        "    layer.trainable = True"
      ],
      "execution_count": null,
      "outputs": []
    },
    {
      "cell_type": "code",
      "metadata": {
        "id": "dIgL22Be6wcT"
      },
      "source": [
        "model.compile(loss='categorical_crossentropy',\n",
        "              optimizer=tf.optimizers.Adam(1e-5),\n",
        "              metrics=['accuracy'])"
      ],
      "execution_count": null,
      "outputs": []
    },
    {
      "cell_type": "code",
      "metadata": {
        "id": "z0K-YtRN6wcU",
        "colab": {
          "base_uri": "https://localhost:8080/"
        },
        "outputId": "91975235-3515-4ffb-f05f-95142e4f43a8"
      },
      "source": [
        "train_image_gen.class_indices"
      ],
      "execution_count": null,
      "outputs": [
        {
          "output_type": "execute_result",
          "data": {
            "text/plain": [
              "{'covid': 0, 'dip': 1, 'normais': 2, 'tuberculose': 3}"
            ]
          },
          "metadata": {},
          "execution_count": 30
        }
      ]
    },
    {
      "cell_type": "code",
      "metadata": {
        "id": "6ID1ESoi6azO",
        "colab": {
          "base_uri": "https://localhost:8080/"
        },
        "outputId": "23d612f6-d3fa-4346-e612-616e77c442f7"
      },
      "source": [
        "model.fit(train_image_gen,epochs=10,validation_data=validation_image_gen,callbacks=[model_checkpoint])"
      ],
      "execution_count": null,
      "outputs": [
        {
          "output_type": "stream",
          "name": "stdout",
          "text": [
            "Epoch 1/10\n",
            "140/140 [==============================] - 104s 638ms/step - loss: 0.5039 - accuracy: 0.8202 - val_loss: 0.5430 - val_accuracy: 0.8053\n",
            "Epoch 2/10\n",
            "140/140 [==============================] - 89s 637ms/step - loss: 0.1996 - accuracy: 0.9368 - val_loss: 0.5851 - val_accuracy: 0.8260\n",
            "Epoch 3/10\n",
            "140/140 [==============================] - 88s 626ms/step - loss: 0.0853 - accuracy: 0.9740 - val_loss: 0.6348 - val_accuracy: 0.8319\n",
            "Epoch 4/10\n",
            "140/140 [==============================] - 87s 619ms/step - loss: 0.0256 - accuracy: 0.9948 - val_loss: 0.9384 - val_accuracy: 0.8024\n",
            "Epoch 5/10\n",
            "140/140 [==============================] - 84s 602ms/step - loss: 0.0223 - accuracy: 0.9948 - val_loss: 0.8071 - val_accuracy: 0.8289\n",
            "Epoch 6/10\n",
            "140/140 [==============================] - 85s 607ms/step - loss: 0.0033 - accuracy: 1.0000 - val_loss: 0.8501 - val_accuracy: 0.8466\n",
            "Epoch 7/10\n",
            "140/140 [==============================] - 88s 630ms/step - loss: 7.5181e-04 - accuracy: 1.0000 - val_loss: 0.9062 - val_accuracy: 0.8496\n",
            "Epoch 8/10\n",
            "140/140 [==============================] - 88s 625ms/step - loss: 4.0177e-04 - accuracy: 1.0000 - val_loss: 0.9421 - val_accuracy: 0.8496\n",
            "Epoch 9/10\n",
            "140/140 [==============================] - 86s 612ms/step - loss: 2.9175e-04 - accuracy: 1.0000 - val_loss: 0.9772 - val_accuracy: 0.8466\n",
            "Epoch 10/10\n",
            "140/140 [==============================] - 87s 621ms/step - loss: 2.2377e-04 - accuracy: 1.0000 - val_loss: 0.9961 - val_accuracy: 0.8437\n"
          ]
        },
        {
          "output_type": "execute_result",
          "data": {
            "text/plain": [
              "<keras.src.callbacks.History at 0x7dfc43133a90>"
            ]
          },
          "metadata": {},
          "execution_count": 31
        }
      ]
    },
    {
      "cell_type": "code",
      "metadata": {
        "id": "gQCIDrjr7ab4"
      },
      "source": [
        "losses = pd.DataFrame(model.history.history)"
      ],
      "execution_count": null,
      "outputs": []
    },
    {
      "cell_type": "code",
      "metadata": {
        "id": "JNp-4AZW7ab4",
        "colab": {
          "base_uri": "https://localhost:8080/",
          "height": 447
        },
        "outputId": "f97b6dad-3ebd-4515-f774-70a0601be388"
      },
      "source": [
        "losses[['loss','val_loss']].plot()"
      ],
      "execution_count": null,
      "outputs": [
        {
          "output_type": "execute_result",
          "data": {
            "text/plain": [
              "<Axes: >"
            ]
          },
          "metadata": {},
          "execution_count": 33
        },
        {
          "output_type": "display_data",
          "data": {
            "text/plain": [
              "<Figure size 640x480 with 1 Axes>"
            ],
            "image/png": "[encoded data removed]"
          },
          "metadata": {}
        }
      ]
    },
    {
      "cell_type": "code",
      "execution_count": null,
      "metadata": {
        "id": "3l0l-5qT35ET",
        "colab": {
          "base_uri": "https://localhost:8080/"
        },
        "outputId": "f7417006-d1e3-41cb-cc9b-353436483339"
      },
      "outputs": [
        {
          "output_type": "execute_result",
          "data": {
            "text/plain": [
              "<tensorflow.python.checkpoint.checkpoint.CheckpointLoadStatus at 0x7dfd4c7d4250>"
            ]
          },
          "metadata": {},
          "execution_count": 35
        }
      ],
      "source": [
        "model.load_weights('/content/drive/My Drive/Colab Notebooks/Mestrado final/Novos treinamentos/KFolds mix aumentado/model_checkpoint5')"
      ]
    },
    {
      "cell_type": "code",
      "execution_count": null,
      "metadata": {
        "id": "OZesQnBk3u7p",
        "colab": {
          "base_uri": "https://localhost:8080/"
        },
        "outputId": "6b5faa0b-a9a9-4647-ff6e-0cdba1af0f05"
      },
      "outputs": [
        {
          "output_type": "stream",
          "name": "stderr",
          "text": [
            "/usr/local/lib/python3.10/dist-packages/keras/src/engine/training.py:3079: UserWarning: You are saving your model as an HDF5 file via `model.save()`. This file format is considered legacy. We recommend using instead the native Keras format, e.g. `model.save('my_model.keras')`.\n",
            "  saving_api.save_model(\n"
          ]
        }
      ],
      "source": [
        "model.save('/content/drive/My Drive/Colab Notebooks/Mestrado final/Novos treinamentos/KFolds mix aumentado/VGG19_fine-tuning_RandAugm_avg_4_classes_mix_data_part1234.h5')"
      ]
    }
  ]
}