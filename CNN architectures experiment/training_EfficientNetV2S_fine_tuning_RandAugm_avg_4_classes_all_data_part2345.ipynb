{
  "nbformat": 4,
  "nbformat_minor": 0,
  "metadata": {
    "accelerator": "GPU",
    "colab": {
      "provenance": []
    },
    "kernelspec": {
      "display_name": "Python 3",
      "name": "python3"
    },
    "gpuClass": "standard"
  },
  "cells": [
    {
      "cell_type": "code",
      "metadata": {
        "id": "g_4Y44SJTRF3"
      },
      "source": [
        "import numpy as np\n",
        "import matplotlib.pyplot as plt\n",
        "from matplotlib.image import imread\n",
        "import tensorflow as tf\n",
        "import pandas as pd\n",
        "import random\n",
        "from keras.models import load_model"
      ],
      "execution_count": null,
      "outputs": []
    },
    {
      "cell_type": "code",
      "source": [
        "gpu_info = !nvidia-smi\n",
        "gpu_info = '\\n'.join(gpu_info)\n",
        "if gpu_info.find('failed') >= 0:\n",
        "  print('Select the Runtime > \"Change runtime type\" menu to enable a GPU accelerator, ')\n",
        "  print('and then re-execute this cell.')\n",
        "else:\n",
        "  print(gpu_info)"
      ],
      "metadata": {
        "colab": {
          "base_uri": "https://localhost:8080/"
        },
        "id": "SBziWpUPxRL2",
        "outputId": "8933f39f-bfed-4e68-f1ea-98518ced76a3"
      },
      "execution_count": null,
      "outputs": [
        {
          "output_type": "stream",
          "name": "stdout",
          "text": [
            "Mon Nov 20 00:04:08 2023       \n",
            "+-----------------------------------------------------------------------------+\n",
            "| NVIDIA-SMI 525.105.17   Driver Version: 525.105.17   CUDA Version: 12.0     |\n",
            "|-------------------------------+----------------------+----------------------+\n",
            "| GPU  Name        Persistence-M| Bus-Id        Disp.A | Volatile Uncorr. ECC |\n",
            "| Fan  Temp  Perf  Pwr:Usage/Cap|         Memory-Usage | GPU-Util  Compute M. |\n",
            "|                               |                      |               MIG M. |\n",
            "|===============================+======================+======================|\n",
            "|   0  Tesla T4            Off  | 00000000:00:04.0 Off |                    0 |\n",
            "| N/A   66C    P8    10W /  70W |      0MiB / 15360MiB |      0%      Default |\n",
            "|                               |                      |                  N/A |\n",
            "+-------------------------------+----------------------+----------------------+\n",
            "                                                                               \n",
            "+-----------------------------------------------------------------------------+\n",
            "| Processes:                                                                  |\n",
            "|  GPU   GI   CI        PID   Type   Process name                  GPU Memory |\n",
            "|        ID   ID                                                   Usage      |\n",
            "|=============================================================================|\n",
            "|  No running processes found                                                 |\n",
            "+-----------------------------------------------------------------------------+\n"
          ]
        }
      ]
    },
    {
      "cell_type": "markdown",
      "metadata": {
        "id": "ZVGy_7Zf5Y4i"
      },
      "source": [
        "Keras guide:\n",
        "\n",
        "https://keras.io/guides/transfer_learning/"
      ]
    },
    {
      "cell_type": "code",
      "metadata": {
        "colab": {
          "base_uri": "https://localhost:8080/"
        },
        "id": "JepdH8A8T4mS",
        "outputId": "0e3a846b-6203-4342-a3db-30b831b1722e"
      },
      "source": [
        "from google.colab import drive\n",
        "drive.mount('/content/drive')"
      ],
      "execution_count": null,
      "outputs": [
        {
          "output_type": "stream",
          "name": "stdout",
          "text": [
            "Mounted at /content/drive\n"
          ]
        }
      ]
    },
    {
      "cell_type": "code",
      "metadata": {
        "id": "11wCCxDHX_hS"
      },
      "source": [
        "data_dir = '/content/drive/My Drive/Colab Notebooks/Mestrado final/KFolds mix_data aumentado/trein 2-3-4-5/'\n",
        "valid_dir = '/content/drive/My Drive/Colab Notebooks/Mestrado final/KFolds mix_data aumentado/1/'\n",
        "test_dir = '/content/drive/My Drive/Colab Notebooks/Mestrado final/RXT teste mix_data/'"
      ],
      "execution_count": null,
      "outputs": []
    },
    {
      "cell_type": "code",
      "metadata": {
        "colab": {
          "base_uri": "https://localhost:8080/"
        },
        "id": "bNgHB-WRUcHU",
        "outputId": "2c93cd25-bd70-4824-9299-3e6ed5ecbeb1"
      },
      "source": [
        "tf.io.gfile.listdir(data_dir)"
      ],
      "execution_count": null,
      "outputs": [
        {
          "output_type": "execute_result",
          "data": {
            "text/plain": [
              "['covid', 'dip', 'tuberculose', 'normais']"
            ]
          },
          "metadata": {},
          "execution_count": 5
        }
      ]
    },
    {
      "cell_type": "code",
      "metadata": {
        "id": "WownivFFqCee"
      },
      "source": [
        "image_shape = (224,224,3)\n",
        "batch_size = 32"
      ],
      "execution_count": null,
      "outputs": []
    },
    {
      "cell_type": "code",
      "metadata": {
        "id": "zZP11oMfqHcI"
      },
      "source": [
        "from tensorflow.keras.preprocessing.image import ImageDataGenerator"
      ],
      "execution_count": null,
      "outputs": []
    },
    {
      "cell_type": "code",
      "metadata": {
        "id": "z1DhgrjHqOpi"
      },
      "source": [
        "image_gen = ImageDataGenerator()"
      ],
      "execution_count": null,
      "outputs": []
    },
    {
      "cell_type": "code",
      "metadata": {
        "colab": {
          "base_uri": "https://localhost:8080/"
        },
        "id": "zt_rGqE7qRPb",
        "outputId": "06a6f8e2-5ce7-46f0-9d6f-d1ca0c851142"
      },
      "source": [
        "image_gen.flow_from_directory(data_dir)"
      ],
      "execution_count": null,
      "outputs": [
        {
          "output_type": "stream",
          "name": "stdout",
          "text": [
            "Found 4470 images belonging to 4 classes.\n"
          ]
        },
        {
          "output_type": "execute_result",
          "data": {
            "text/plain": [
              "<keras.src.preprocessing.image.DirectoryIterator at 0x79b0ab64d8a0>"
            ]
          },
          "metadata": {},
          "execution_count": 9
        }
      ]
    },
    {
      "cell_type": "markdown",
      "metadata": {
        "id": "ljlmoX_wnS07"
      },
      "source": [
        "# **Creating the model**"
      ]
    },
    {
      "cell_type": "code",
      "metadata": {
        "id": "W9qDjEz-uv-z"
      },
      "source": [
        "from tensorflow.keras.applications.efficientnet_v2 import EfficientNetV2S\n",
        "from tensorflow.keras.models import Model\n",
        "from tensorflow.keras.layers import Flatten,Dense"
      ],
      "execution_count": null,
      "outputs": []
    },
    {
      "cell_type": "code",
      "source": [
        "i = tf.keras.layers.Input([None, None, 3], dtype = tf.uint8)\n",
        "x = tf.cast(i, tf.float32)\n",
        "x = tf.keras.applications.efficientnet_v2.preprocess_input(x)\n",
        "\n",
        "efficientnet_v2 = tf.keras.applications.EfficientNetV2S(input_tensor=x, input_shape = image_shape, include_top = False, weights=\"imagenet\", pooling=\"avg\")"
      ],
      "metadata": {
        "id": "5ydo9ogVnxUo",
        "colab": {
          "base_uri": "https://localhost:8080/"
        },
        "outputId": "4a2653ce-fb68-49c2-ab5a-14495b91bb41"
      },
      "execution_count": null,
      "outputs": [
        {
          "output_type": "stream",
          "name": "stdout",
          "text": [
            "Downloading data from https://storage.googleapis.com/tensorflow/keras-applications/efficientnet_v2/efficientnetv2-s_notop.h5\n",
            "82420632/82420632 [==============================] - 5s 0us/step\n"
          ]
        }
      ]
    },
    {
      "cell_type": "code",
      "metadata": {
        "id": "O1L4fkqEo5Kw"
      },
      "source": [
        "# Freeze all the layers\n",
        "for layer in efficientnet_v2.layers:\n",
        "    layer.trainable = False"
      ],
      "execution_count": null,
      "outputs": []
    },
    {
      "cell_type": "code",
      "metadata": {
        "id": "sWsvb-H5o5NZ"
      },
      "source": [
        "z = efficientnet_v2.output\n",
        "predictions = Dense(4, activation='softmax')(z)\n",
        "model = Model(inputs=efficientnet_v2.input, outputs=predictions)"
      ],
      "execution_count": null,
      "outputs": []
    },
    {
      "cell_type": "code",
      "metadata": {
        "colab": {
          "base_uri": "https://localhost:8080/"
        },
        "id": "I825x9pepAa4",
        "outputId": "d49c8115-7d03-459b-b19e-994ee716ffa3"
      },
      "source": [
        "model.summary()"
      ],
      "execution_count": null,
      "outputs": [
        {
          "output_type": "stream",
          "name": "stdout",
          "text": [
            "Model: \"model\"\n",
            "__________________________________________________________________________________________________\n",
            " Layer (type)                Output Shape                 Param #   Connected to                  \n",
            "==================================================================================================\n",
            " input_1 (InputLayer)        [(None, None, None, 3)]      0         []                            \n",
            "                                                                                                  \n",
            " tf.cast (TFOpLambda)        (None, None, None, 3)        0         ['input_1[0][0]']             \n",
            "                                                                                                  \n",
            " rescaling (Rescaling)       (None, None, None, 3)        0         ['tf.cast[0][0]']             \n",
            "                                                                                                  \n",
            " stem_conv (Conv2D)          (None, None, None, 24)       648       ['rescaling[0][0]']           \n",
            "                                                                                                  \n",
            " stem_bn (BatchNormalizatio  (None, None, None, 24)       96        ['stem_conv[0][0]']           \n",
            " n)                                                                                               \n",
            "                                                                                                  \n",
            " stem_activation (Activatio  (None, None, None, 24)       0         ['stem_bn[0][0]']             \n",
            " n)                                                                                               \n",
            "                                                                                                  \n",
            " block1a_project_conv (Conv  (None, None, None, 24)       5184      ['stem_activation[0][0]']     \n",
            " 2D)                                                                                              \n",
            "                                                                                                  \n",
            " block1a_project_bn (BatchN  (None, None, None, 24)       96        ['block1a_project_conv[0][0]']\n",
            " ormalization)                                                                                    \n",
            "                                                                                                  \n",
            " block1a_project_activation  (None, None, None, 24)       0         ['block1a_project_bn[0][0]']  \n",
            "  (Activation)                                                                                    \n",
            "                                                                                                  \n",
            " block1a_add (Add)           (None, None, None, 24)       0         ['block1a_project_activation[0\n",
            "                                                                    ][0]',                        \n",
            "                                                                     'stem_activation[0][0]']     \n",
            "                                                                                                  \n",
            " block1b_project_conv (Conv  (None, None, None, 24)       5184      ['block1a_add[0][0]']         \n",
            " 2D)                                                                                              \n",
            "                                                                                                  \n",
            " block1b_project_bn (BatchN  (None, None, None, 24)       96        ['block1b_project_conv[0][0]']\n",
            " ormalization)                                                                                    \n",
            "                                                                                                  \n",
            " block1b_project_activation  (None, None, None, 24)       0         ['block1b_project_bn[0][0]']  \n",
            "  (Activation)                                                                                    \n",
            "                                                                                                  \n",
            " block1b_drop (Dropout)      (None, None, None, 24)       0         ['block1b_project_activation[0\n",
            "                                                                    ][0]']                        \n",
            "                                                                                                  \n",
            " block1b_add (Add)           (None, None, None, 24)       0         ['block1b_drop[0][0]',        \n",
            "                                                                     'block1a_add[0][0]']         \n",
            "                                                                                                  \n",
            " block2a_expand_conv (Conv2  (None, None, None, 96)       20736     ['block1b_add[0][0]']         \n",
            " D)                                                                                               \n",
            "                                                                                                  \n",
            " block2a_expand_bn (BatchNo  (None, None, None, 96)       384       ['block2a_expand_conv[0][0]'] \n",
            " rmalization)                                                                                     \n",
            "                                                                                                  \n",
            " block2a_expand_activation   (None, None, None, 96)       0         ['block2a_expand_bn[0][0]']   \n",
            " (Activation)                                                                                     \n",
            "                                                                                                  \n",
            " block2a_project_conv (Conv  (None, None, None, 48)       4608      ['block2a_expand_activation[0]\n",
            " 2D)                                                                [0]']                         \n",
            "                                                                                                  \n",
            " block2a_project_bn (BatchN  (None, None, None, 48)       192       ['block2a_project_conv[0][0]']\n",
            " ormalization)                                                                                    \n",
            "                                                                                                  \n",
            " block2b_expand_conv (Conv2  (None, None, None, 192)      82944     ['block2a_project_bn[0][0]']  \n",
            " D)                                                                                               \n",
            "                                                                                                  \n",
            " block2b_expand_bn (BatchNo  (None, None, None, 192)      768       ['block2b_expand_conv[0][0]'] \n",
            " rmalization)                                                                                     \n",
            "                                                                                                  \n",
            " block2b_expand_activation   (None, None, None, 192)      0         ['block2b_expand_bn[0][0]']   \n",
            " (Activation)                                                                                     \n",
            "                                                                                                  \n",
            " block2b_project_conv (Conv  (None, None, None, 48)       9216      ['block2b_expand_activation[0]\n",
            " 2D)                                                                [0]']                         \n",
            "                                                                                                  \n",
            " block2b_project_bn (BatchN  (None, None, None, 48)       192       ['block2b_project_conv[0][0]']\n",
            " ormalization)                                                                                    \n",
            "                                                                                                  \n",
            " block2b_drop (Dropout)      (None, None, None, 48)       0         ['block2b_project_bn[0][0]']  \n",
            "                                                                                                  \n",
            " block2b_add (Add)           (None, None, None, 48)       0         ['block2b_drop[0][0]',        \n",
            "                                                                     'block2a_project_bn[0][0]']  \n",
            "                                                                                                  \n",
            " block2c_expand_conv (Conv2  (None, None, None, 192)      82944     ['block2b_add[0][0]']         \n",
            " D)                                                                                               \n",
            "                                                                                                  \n",
            " block2c_expand_bn (BatchNo  (None, None, None, 192)      768       ['block2c_expand_conv[0][0]'] \n",
            " rmalization)                                                                                     \n",
            "                                                                                                  \n",
            " block2c_expand_activation   (None, None, None, 192)      0         ['block2c_expand_bn[0][0]']   \n",
            " (Activation)                                                                                     \n",
            "                                                                                                  \n",
            " block2c_project_conv (Conv  (None, None, None, 48)       9216      ['block2c_expand_activation[0]\n",
            " 2D)                                                                [0]']                         \n",
            "                                                                                                  \n",
            " block2c_project_bn (BatchN  (None, None, None, 48)       192       ['block2c_project_conv[0][0]']\n",
            " ormalization)                                                                                    \n",
            "                                                                                                  \n",
            " block2c_drop (Dropout)      (None, None, None, 48)       0         ['block2c_project_bn[0][0]']  \n",
            "                                                                                                  \n",
            " block2c_add (Add)           (None, None, None, 48)       0         ['block2c_drop[0][0]',        \n",
            "                                                                     'block2b_add[0][0]']         \n",
            "                                                                                                  \n",
            " block2d_expand_conv (Conv2  (None, None, None, 192)      82944     ['block2c_add[0][0]']         \n",
            " D)                                                                                               \n",
            "                                                                                                  \n",
            " block2d_expand_bn (BatchNo  (None, None, None, 192)      768       ['block2d_expand_conv[0][0]'] \n",
            " rmalization)                                                                                     \n",
            "                                                                                                  \n",
            " block2d_expand_activation   (None, None, None, 192)      0         ['block2d_expand_bn[0][0]']   \n",
            " (Activation)                                                                                     \n",
            "                                                                                                  \n",
            " block2d_project_conv (Conv  (None, None, None, 48)       9216      ['block2d_expand_activation[0]\n",
            " 2D)                                                                [0]']                         \n",
            "                                                                                                  \n",
            " block2d_project_bn (BatchN  (None, None, None, 48)       192       ['block2d_project_conv[0][0]']\n",
            " ormalization)                                                                                    \n",
            "                                                                                                  \n",
            " block2d_drop (Dropout)      (None, None, None, 48)       0         ['block2d_project_bn[0][0]']  \n",
            "                                                                                                  \n",
            " block2d_add (Add)           (None, None, None, 48)       0         ['block2d_drop[0][0]',        \n",
            "                                                                     'block2c_add[0][0]']         \n",
            "                                                                                                  \n",
            " block3a_expand_conv (Conv2  (None, None, None, 192)      82944     ['block2d_add[0][0]']         \n",
            " D)                                                                                               \n",
            "                                                                                                  \n",
            " block3a_expand_bn (BatchNo  (None, None, None, 192)      768       ['block3a_expand_conv[0][0]'] \n",
            " rmalization)                                                                                     \n",
            "                                                                                                  \n",
            " block3a_expand_activation   (None, None, None, 192)      0         ['block3a_expand_bn[0][0]']   \n",
            " (Activation)                                                                                     \n",
            "                                                                                                  \n",
            " block3a_project_conv (Conv  (None, None, None, 64)       12288     ['block3a_expand_activation[0]\n",
            " 2D)                                                                [0]']                         \n",
            "                                                                                                  \n",
            " block3a_project_bn (BatchN  (None, None, None, 64)       256       ['block3a_project_conv[0][0]']\n",
            " ormalization)                                                                                    \n",
            "                                                                                                  \n",
            " block3b_expand_conv (Conv2  (None, None, None, 256)      147456    ['block3a_project_bn[0][0]']  \n",
            " D)                                                                                               \n",
            "                                                                                                  \n",
            " block3b_expand_bn (BatchNo  (None, None, None, 256)      1024      ['block3b_expand_conv[0][0]'] \n",
            " rmalization)                                                                                     \n",
            "                                                                                                  \n",
            " block3b_expand_activation   (None, None, None, 256)      0         ['block3b_expand_bn[0][0]']   \n",
            " (Activation)                                                                                     \n",
            "                                                                                                  \n",
            " block3b_project_conv (Conv  (None, None, None, 64)       16384     ['block3b_expand_activation[0]\n",
            " 2D)                                                                [0]']                         \n",
            "                                                                                                  \n",
            " block3b_project_bn (BatchN  (None, None, None, 64)       256       ['block3b_project_conv[0][0]']\n",
            " ormalization)                                                                                    \n",
            "                                                                                                  \n",
            " block3b_drop (Dropout)      (None, None, None, 64)       0         ['block3b_project_bn[0][0]']  \n",
            "                                                                                                  \n",
            " block3b_add (Add)           (None, None, None, 64)       0         ['block3b_drop[0][0]',        \n",
            "                                                                     'block3a_project_bn[0][0]']  \n",
            "                                                                                                  \n",
            " block3c_expand_conv (Conv2  (None, None, None, 256)      147456    ['block3b_add[0][0]']         \n",
            " D)                                                                                               \n",
            "                                                                                                  \n",
            " block3c_expand_bn (BatchNo  (None, None, None, 256)      1024      ['block3c_expand_conv[0][0]'] \n",
            " rmalization)                                                                                     \n",
            "                                                                                                  \n",
            " block3c_expand_activation   (None, None, None, 256)      0         ['block3c_expand_bn[0][0]']   \n",
            " (Activation)                                                                                     \n",
            "                                                                                                  \n",
            " block3c_project_conv (Conv  (None, None, None, 64)       16384     ['block3c_expand_activation[0]\n",
            " 2D)                                                                [0]']                         \n",
            "                                                                                                  \n",
            " block3c_project_bn (BatchN  (None, None, None, 64)       256       ['block3c_project_conv[0][0]']\n",
            " ormalization)                                                                                    \n",
            "                                                                                                  \n",
            " block3c_drop (Dropout)      (None, None, None, 64)       0         ['block3c_project_bn[0][0]']  \n",
            "                                                                                                  \n",
            " block3c_add (Add)           (None, None, None, 64)       0         ['block3c_drop[0][0]',        \n",
            "                                                                     'block3b_add[0][0]']         \n",
            "                                                                                                  \n",
            " block3d_expand_conv (Conv2  (None, None, None, 256)      147456    ['block3c_add[0][0]']         \n",
            " D)                                                                                               \n",
            "                                                                                                  \n",
            " block3d_expand_bn (BatchNo  (None, None, None, 256)      1024      ['block3d_expand_conv[0][0]'] \n",
            " rmalization)                                                                                     \n",
            "                                                                                                  \n",
            " block3d_expand_activation   (None, None, None, 256)      0         ['block3d_expand_bn[0][0]']   \n",
            " (Activation)                                                                                     \n",
            "                                                                                                  \n",
            " block3d_project_conv (Conv  (None, None, None, 64)       16384     ['block3d_expand_activation[0]\n",
            " 2D)                                                                [0]']                         \n",
            "                                                                                                  \n",
            " block3d_project_bn (BatchN  (None, None, None, 64)       256       ['block3d_project_conv[0][0]']\n",
            " ormalization)                                                                                    \n",
            "                                                                                                  \n",
            " block3d_drop (Dropout)      (None, None, None, 64)       0         ['block3d_project_bn[0][0]']  \n",
            "                                                                                                  \n",
            " block3d_add (Add)           (None, None, None, 64)       0         ['block3d_drop[0][0]',        \n",
            "                                                                     'block3c_add[0][0]']         \n",
            "                                                                                                  \n",
            " block4a_expand_conv (Conv2  (None, None, None, 256)      16384     ['block3d_add[0][0]']         \n",
            " D)                                                                                               \n",
            "                                                                                                  \n",
            " block4a_expand_bn (BatchNo  (None, None, None, 256)      1024      ['block4a_expand_conv[0][0]'] \n",
            " rmalization)                                                                                     \n",
            "                                                                                                  \n",
            " block4a_expand_activation   (None, None, None, 256)      0         ['block4a_expand_bn[0][0]']   \n",
            " (Activation)                                                                                     \n",
            "                                                                                                  \n",
            " block4a_dwconv2 (Depthwise  (None, None, None, 256)      2304      ['block4a_expand_activation[0]\n",
            " Conv2D)                                                            [0]']                         \n",
            "                                                                                                  \n",
            " block4a_bn (BatchNormaliza  (None, None, None, 256)      1024      ['block4a_dwconv2[0][0]']     \n",
            " tion)                                                                                            \n",
            "                                                                                                  \n",
            " block4a_activation (Activa  (None, None, None, 256)      0         ['block4a_bn[0][0]']          \n",
            " tion)                                                                                            \n",
            "                                                                                                  \n",
            " block4a_se_squeeze (Global  (None, 256)                  0         ['block4a_activation[0][0]']  \n",
            " AveragePooling2D)                                                                                \n",
            "                                                                                                  \n",
            " block4a_se_reshape (Reshap  (None, 1, 1, 256)            0         ['block4a_se_squeeze[0][0]']  \n",
            " e)                                                                                               \n",
            "                                                                                                  \n",
            " block4a_se_reduce (Conv2D)  (None, 1, 1, 16)             4112      ['block4a_se_reshape[0][0]']  \n",
            "                                                                                                  \n",
            " block4a_se_expand (Conv2D)  (None, 1, 1, 256)            4352      ['block4a_se_reduce[0][0]']   \n",
            "                                                                                                  \n",
            " block4a_se_excite (Multipl  (None, None, None, 256)      0         ['block4a_activation[0][0]',  \n",
            " y)                                                                  'block4a_se_expand[0][0]']   \n",
            "                                                                                                  \n",
            " block4a_project_conv (Conv  (None, None, None, 128)      32768     ['block4a_se_excite[0][0]']   \n",
            " 2D)                                                                                              \n",
            "                                                                                                  \n",
            " block4a_project_bn (BatchN  (None, None, None, 128)      512       ['block4a_project_conv[0][0]']\n",
            " ormalization)                                                                                    \n",
            "                                                                                                  \n",
            " block4b_expand_conv (Conv2  (None, None, None, 512)      65536     ['block4a_project_bn[0][0]']  \n",
            " D)                                                                                               \n",
            "                                                                                                  \n",
            " block4b_expand_bn (BatchNo  (None, None, None, 512)      2048      ['block4b_expand_conv[0][0]'] \n",
            " rmalization)                                                                                     \n",
            "                                                                                                  \n",
            " block4b_expand_activation   (None, None, None, 512)      0         ['block4b_expand_bn[0][0]']   \n",
            " (Activation)                                                                                     \n",
            "                                                                                                  \n",
            " block4b_dwconv2 (Depthwise  (None, None, None, 512)      4608      ['block4b_expand_activation[0]\n",
            " Conv2D)                                                            [0]']                         \n",
            "                                                                                                  \n",
            " block4b_bn (BatchNormaliza  (None, None, None, 512)      2048      ['block4b_dwconv2[0][0]']     \n",
            " tion)                                                                                            \n",
            "                                                                                                  \n",
            " block4b_activation (Activa  (None, None, None, 512)      0         ['block4b_bn[0][0]']          \n",
            " tion)                                                                                            \n",
            "                                                                                                  \n",
            " block4b_se_squeeze (Global  (None, 512)                  0         ['block4b_activation[0][0]']  \n",
            " AveragePooling2D)                                                                                \n",
            "                                                                                                  \n",
            " block4b_se_reshape (Reshap  (None, 1, 1, 512)            0         ['block4b_se_squeeze[0][0]']  \n",
            " e)                                                                                               \n",
            "                                                                                                  \n",
            " block4b_se_reduce (Conv2D)  (None, 1, 1, 32)             16416     ['block4b_se_reshape[0][0]']  \n",
            "                                                                                                  \n",
            " block4b_se_expand (Conv2D)  (None, 1, 1, 512)            16896     ['block4b_se_reduce[0][0]']   \n",
            "                                                                                                  \n",
            " block4b_se_excite (Multipl  (None, None, None, 512)      0         ['block4b_activation[0][0]',  \n",
            " y)                                                                  'block4b_se_expand[0][0]']   \n",
            "                                                                                                  \n",
            " block4b_project_conv (Conv  (None, None, None, 128)      65536     ['block4b_se_excite[0][0]']   \n",
            " 2D)                                                                                              \n",
            "                                                                                                  \n",
            " block4b_project_bn (BatchN  (None, None, None, 128)      512       ['block4b_project_conv[0][0]']\n",
            " ormalization)                                                                                    \n",
            "                                                                                                  \n",
            " block4b_drop (Dropout)      (None, None, None, 128)      0         ['block4b_project_bn[0][0]']  \n",
            "                                                                                                  \n",
            " block4b_add (Add)           (None, None, None, 128)      0         ['block4b_drop[0][0]',        \n",
            "                                                                     'block4a_project_bn[0][0]']  \n",
            "                                                                                                  \n",
            " block4c_expand_conv (Conv2  (None, None, None, 512)      65536     ['block4b_add[0][0]']         \n",
            " D)                                                                                               \n",
            "                                                                                                  \n",
            " block4c_expand_bn (BatchNo  (None, None, None, 512)      2048      ['block4c_expand_conv[0][0]'] \n",
            " rmalization)                                                                                     \n",
            "                                                                                                  \n",
            " block4c_expand_activation   (None, None, None, 512)      0         ['block4c_expand_bn[0][0]']   \n",
            " (Activation)                                                                                     \n",
            "                                                                                                  \n",
            " block4c_dwconv2 (Depthwise  (None, None, None, 512)      4608      ['block4c_expand_activation[0]\n",
            " Conv2D)                                                            [0]']                         \n",
            "                                                                                                  \n",
            " block4c_bn (BatchNormaliza  (None, None, None, 512)      2048      ['block4c_dwconv2[0][0]']     \n",
            " tion)                                                                                            \n",
            "                                                                                                  \n",
            " block4c_activation (Activa  (None, None, None, 512)      0         ['block4c_bn[0][0]']          \n",
            " tion)                                                                                            \n",
            "                                                                                                  \n",
            " block4c_se_squeeze (Global  (None, 512)                  0         ['block4c_activation[0][0]']  \n",
            " AveragePooling2D)                                                                                \n",
            "                                                                                                  \n",
            " block4c_se_reshape (Reshap  (None, 1, 1, 512)            0         ['block4c_se_squeeze[0][0]']  \n",
            " e)                                                                                               \n",
            "                                                                                                  \n",
            " block4c_se_reduce (Conv2D)  (None, 1, 1, 32)             16416     ['block4c_se_reshape[0][0]']  \n",
            "                                                                                                  \n",
            " block4c_se_expand (Conv2D)  (None, 1, 1, 512)            16896     ['block4c_se_reduce[0][0]']   \n",
            "                                                                                                  \n",
            " block4c_se_excite (Multipl  (None, None, None, 512)      0         ['block4c_activation[0][0]',  \n",
            " y)                                                                  'block4c_se_expand[0][0]']   \n",
            "                                                                                                  \n",
            " block4c_project_conv (Conv  (None, None, None, 128)      65536     ['block4c_se_excite[0][0]']   \n",
            " 2D)                                                                                              \n",
            "                                                                                                  \n",
            " block4c_project_bn (BatchN  (None, None, None, 128)      512       ['block4c_project_conv[0][0]']\n",
            " ormalization)                                                                                    \n",
            "                                                                                                  \n",
            " block4c_drop (Dropout)      (None, None, None, 128)      0         ['block4c_project_bn[0][0]']  \n",
            "                                                                                                  \n",
            " block4c_add (Add)           (None, None, None, 128)      0         ['block4c_drop[0][0]',        \n",
            "                                                                     'block4b_add[0][0]']         \n",
            "                                                                                                  \n",
            " block4d_expand_conv (Conv2  (None, None, None, 512)      65536     ['block4c_add[0][0]']         \n",
            " D)                                                                                               \n",
            "                                                                                                  \n",
            " block4d_expand_bn (BatchNo  (None, None, None, 512)      2048      ['block4d_expand_conv[0][0]'] \n",
            " rmalization)                                                                                     \n",
            "                                                                                                  \n",
            " block4d_expand_activation   (None, None, None, 512)      0         ['block4d_expand_bn[0][0]']   \n",
            " (Activation)                                                                                     \n",
            "                                                                                                  \n",
            " block4d_dwconv2 (Depthwise  (None, None, None, 512)      4608      ['block4d_expand_activation[0]\n",
            " Conv2D)                                                            [0]']                         \n",
            "                                                                                                  \n",
            " block4d_bn (BatchNormaliza  (None, None, None, 512)      2048      ['block4d_dwconv2[0][0]']     \n",
            " tion)                                                                                            \n",
            "                                                                                                  \n",
            " block4d_activation (Activa  (None, None, None, 512)      0         ['block4d_bn[0][0]']          \n",
            " tion)                                                                                            \n",
            "                                                                                                  \n",
            " block4d_se_squeeze (Global  (None, 512)                  0         ['block4d_activation[0][0]']  \n",
            " AveragePooling2D)                                                                                \n",
            "                                                                                                  \n",
            " block4d_se_reshape (Reshap  (None, 1, 1, 512)            0         ['block4d_se_squeeze[0][0]']  \n",
            " e)                                                                                               \n",
            "                                                                                                  \n",
            " block4d_se_reduce (Conv2D)  (None, 1, 1, 32)             16416     ['block4d_se_reshape[0][0]']  \n",
            "                                                                                                  \n",
            " block4d_se_expand (Conv2D)  (None, 1, 1, 512)            16896     ['block4d_se_reduce[0][0]']   \n",
            "                                                                                                  \n",
            " block4d_se_excite (Multipl  (None, None, None, 512)      0         ['block4d_activation[0][0]',  \n",
            " y)                                                                  'block4d_se_expand[0][0]']   \n",
            "                                                                                                  \n",
            " block4d_project_conv (Conv  (None, None, None, 128)      65536     ['block4d_se_excite[0][0]']   \n",
            " 2D)                                                                                              \n",
            "                                                                                                  \n",
            " block4d_project_bn (BatchN  (None, None, None, 128)      512       ['block4d_project_conv[0][0]']\n",
            " ormalization)                                                                                    \n",
            "                                                                                                  \n",
            " block4d_drop (Dropout)      (None, None, None, 128)      0         ['block4d_project_bn[0][0]']  \n",
            "                                                                                                  \n",
            " block4d_add (Add)           (None, None, None, 128)      0         ['block4d_drop[0][0]',        \n",
            "                                                                     'block4c_add[0][0]']         \n",
            "                                                                                                  \n",
            " block4e_expand_conv (Conv2  (None, None, None, 512)      65536     ['block4d_add[0][0]']         \n",
            " D)                                                                                               \n",
            "                                                                                                  \n",
            " block4e_expand_bn (BatchNo  (None, None, None, 512)      2048      ['block4e_expand_conv[0][0]'] \n",
            " rmalization)                                                                                     \n",
            "                                                                                                  \n",
            " block4e_expand_activation   (None, None, None, 512)      0         ['block4e_expand_bn[0][0]']   \n",
            " (Activation)                                                                                     \n",
            "                                                                                                  \n",
            " block4e_dwconv2 (Depthwise  (None, None, None, 512)      4608      ['block4e_expand_activation[0]\n",
            " Conv2D)                                                            [0]']                         \n",
            "                                                                                                  \n",
            " block4e_bn (BatchNormaliza  (None, None, None, 512)      2048      ['block4e_dwconv2[0][0]']     \n",
            " tion)                                                                                            \n",
            "                                                                                                  \n",
            " block4e_activation (Activa  (None, None, None, 512)      0         ['block4e_bn[0][0]']          \n",
            " tion)                                                                                            \n",
            "                                                                                                  \n",
            " block4e_se_squeeze (Global  (None, 512)                  0         ['block4e_activation[0][0]']  \n",
            " AveragePooling2D)                                                                                \n",
            "                                                                                                  \n",
            " block4e_se_reshape (Reshap  (None, 1, 1, 512)            0         ['block4e_se_squeeze[0][0]']  \n",
            " e)                                                                                               \n",
            "                                                                                                  \n",
            " block4e_se_reduce (Conv2D)  (None, 1, 1, 32)             16416     ['block4e_se_reshape[0][0]']  \n",
            "                                                                                                  \n",
            " block4e_se_expand (Conv2D)  (None, 1, 1, 512)            16896     ['block4e_se_reduce[0][0]']   \n",
            "                                                                                                  \n",
            " block4e_se_excite (Multipl  (None, None, None, 512)      0         ['block4e_activation[0][0]',  \n",
            " y)                                                                  'block4e_se_expand[0][0]']   \n",
            "                                                                                                  \n",
            " block4e_project_conv (Conv  (None, None, None, 128)      65536     ['block4e_se_excite[0][0]']   \n",
            " 2D)                                                                                              \n",
            "                                                                                                  \n",
            " block4e_project_bn (BatchN  (None, None, None, 128)      512       ['block4e_project_conv[0][0]']\n",
            " ormalization)                                                                                    \n",
            "                                                                                                  \n",
            " block4e_drop (Dropout)      (None, None, None, 128)      0         ['block4e_project_bn[0][0]']  \n",
            "                                                                                                  \n",
            " block4e_add (Add)           (None, None, None, 128)      0         ['block4e_drop[0][0]',        \n",
            "                                                                     'block4d_add[0][0]']         \n",
            "                                                                                                  \n",
            " block4f_expand_conv (Conv2  (None, None, None, 512)      65536     ['block4e_add[0][0]']         \n",
            " D)                                                                                               \n",
            "                                                                                                  \n",
            " block4f_expand_bn (BatchNo  (None, None, None, 512)      2048      ['block4f_expand_conv[0][0]'] \n",
            " rmalization)                                                                                     \n",
            "                                                                                                  \n",
            " block4f_expand_activation   (None, None, None, 512)      0         ['block4f_expand_bn[0][0]']   \n",
            " (Activation)                                                                                     \n",
            "                                                                                                  \n",
            " block4f_dwconv2 (Depthwise  (None, None, None, 512)      4608      ['block4f_expand_activation[0]\n",
            " Conv2D)                                                            [0]']                         \n",
            "                                                                                                  \n",
            " block4f_bn (BatchNormaliza  (None, None, None, 512)      2048      ['block4f_dwconv2[0][0]']     \n",
            " tion)                                                                                            \n",
            "                                                                                                  \n",
            " block4f_activation (Activa  (None, None, None, 512)      0         ['block4f_bn[0][0]']          \n",
            " tion)                                                                                            \n",
            "                                                                                                  \n",
            " block4f_se_squeeze (Global  (None, 512)                  0         ['block4f_activation[0][0]']  \n",
            " AveragePooling2D)                                                                                \n",
            "                                                                                                  \n",
            " block4f_se_reshape (Reshap  (None, 1, 1, 512)            0         ['block4f_se_squeeze[0][0]']  \n",
            " e)                                                                                               \n",
            "                                                                                                  \n",
            " block4f_se_reduce (Conv2D)  (None, 1, 1, 32)             16416     ['block4f_se_reshape[0][0]']  \n",
            "                                                                                                  \n",
            " block4f_se_expand (Conv2D)  (None, 1, 1, 512)            16896     ['block4f_se_reduce[0][0]']   \n",
            "                                                                                                  \n",
            " block4f_se_excite (Multipl  (None, None, None, 512)      0         ['block4f_activation[0][0]',  \n",
            " y)                                                                  'block4f_se_expand[0][0]']   \n",
            "                                                                                                  \n",
            " block4f_project_conv (Conv  (None, None, None, 128)      65536     ['block4f_se_excite[0][0]']   \n",
            " 2D)                                                                                              \n",
            "                                                                                                  \n",
            " block4f_project_bn (BatchN  (None, None, None, 128)      512       ['block4f_project_conv[0][0]']\n",
            " ormalization)                                                                                    \n",
            "                                                                                                  \n",
            " block4f_drop (Dropout)      (None, None, None, 128)      0         ['block4f_project_bn[0][0]']  \n",
            "                                                                                                  \n",
            " block4f_add (Add)           (None, None, None, 128)      0         ['block4f_drop[0][0]',        \n",
            "                                                                     'block4e_add[0][0]']         \n",
            "                                                                                                  \n",
            " block5a_expand_conv (Conv2  (None, None, None, 768)      98304     ['block4f_add[0][0]']         \n",
            " D)                                                                                               \n",
            "                                                                                                  \n",
            " block5a_expand_bn (BatchNo  (None, None, None, 768)      3072      ['block5a_expand_conv[0][0]'] \n",
            " rmalization)                                                                                     \n",
            "                                                                                                  \n",
            " block5a_expand_activation   (None, None, None, 768)      0         ['block5a_expand_bn[0][0]']   \n",
            " (Activation)                                                                                     \n",
            "                                                                                                  \n",
            " block5a_dwconv2 (Depthwise  (None, None, None, 768)      6912      ['block5a_expand_activation[0]\n",
            " Conv2D)                                                            [0]']                         \n",
            "                                                                                                  \n",
            " block5a_bn (BatchNormaliza  (None, None, None, 768)      3072      ['block5a_dwconv2[0][0]']     \n",
            " tion)                                                                                            \n",
            "                                                                                                  \n",
            " block5a_activation (Activa  (None, None, None, 768)      0         ['block5a_bn[0][0]']          \n",
            " tion)                                                                                            \n",
            "                                                                                                  \n",
            " block5a_se_squeeze (Global  (None, 768)                  0         ['block5a_activation[0][0]']  \n",
            " AveragePooling2D)                                                                                \n",
            "                                                                                                  \n",
            " block5a_se_reshape (Reshap  (None, 1, 1, 768)            0         ['block5a_se_squeeze[0][0]']  \n",
            " e)                                                                                               \n",
            "                                                                                                  \n",
            " block5a_se_reduce (Conv2D)  (None, 1, 1, 32)             24608     ['block5a_se_reshape[0][0]']  \n",
            "                                                                                                  \n",
            " block5a_se_expand (Conv2D)  (None, 1, 1, 768)            25344     ['block5a_se_reduce[0][0]']   \n",
            "                                                                                                  \n",
            " block5a_se_excite (Multipl  (None, None, None, 768)      0         ['block5a_activation[0][0]',  \n",
            " y)                                                                  'block5a_se_expand[0][0]']   \n",
            "                                                                                                  \n",
            " block5a_project_conv (Conv  (None, None, None, 160)      122880    ['block5a_se_excite[0][0]']   \n",
            " 2D)                                                                                              \n",
            "                                                                                                  \n",
            " block5a_project_bn (BatchN  (None, None, None, 160)      640       ['block5a_project_conv[0][0]']\n",
            " ormalization)                                                                                    \n",
            "                                                                                                  \n",
            " block5b_expand_conv (Conv2  (None, None, None, 960)      153600    ['block5a_project_bn[0][0]']  \n",
            " D)                                                                                               \n",
            "                                                                                                  \n",
            " block5b_expand_bn (BatchNo  (None, None, None, 960)      3840      ['block5b_expand_conv[0][0]'] \n",
            " rmalization)                                                                                     \n",
            "                                                                                                  \n",
            " block5b_expand_activation   (None, None, None, 960)      0         ['block5b_expand_bn[0][0]']   \n",
            " (Activation)                                                                                     \n",
            "                                                                                                  \n",
            " block5b_dwconv2 (Depthwise  (None, None, None, 960)      8640      ['block5b_expand_activation[0]\n",
            " Conv2D)                                                            [0]']                         \n",
            "                                                                                                  \n",
            " block5b_bn (BatchNormaliza  (None, None, None, 960)      3840      ['block5b_dwconv2[0][0]']     \n",
            " tion)                                                                                            \n",
            "                                                                                                  \n",
            " block5b_activation (Activa  (None, None, None, 960)      0         ['block5b_bn[0][0]']          \n",
            " tion)                                                                                            \n",
            "                                                                                                  \n",
            " block5b_se_squeeze (Global  (None, 960)                  0         ['block5b_activation[0][0]']  \n",
            " AveragePooling2D)                                                                                \n",
            "                                                                                                  \n",
            " block5b_se_reshape (Reshap  (None, 1, 1, 960)            0         ['block5b_se_squeeze[0][0]']  \n",
            " e)                                                                                               \n",
            "                                                                                                  \n",
            " block5b_se_reduce (Conv2D)  (None, 1, 1, 40)             38440     ['block5b_se_reshape[0][0]']  \n",
            "                                                                                                  \n",
            " block5b_se_expand (Conv2D)  (None, 1, 1, 960)            39360     ['block5b_se_reduce[0][0]']   \n",
            "                                                                                                  \n",
            " block5b_se_excite (Multipl  (None, None, None, 960)      0         ['block5b_activation[0][0]',  \n",
            " y)                                                                  'block5b_se_expand[0][0]']   \n",
            "                                                                                                  \n",
            " block5b_project_conv (Conv  (None, None, None, 160)      153600    ['block5b_se_excite[0][0]']   \n",
            " 2D)                                                                                              \n",
            "                                                                                                  \n",
            " block5b_project_bn (BatchN  (None, None, None, 160)      640       ['block5b_project_conv[0][0]']\n",
            " ormalization)                                                                                    \n",
            "                                                                                                  \n",
            " block5b_drop (Dropout)      (None, None, None, 160)      0         ['block5b_project_bn[0][0]']  \n",
            "                                                                                                  \n",
            " block5b_add (Add)           (None, None, None, 160)      0         ['block5b_drop[0][0]',        \n",
            "                                                                     'block5a_project_bn[0][0]']  \n",
            "                                                                                                  \n",
            " block5c_expand_conv (Conv2  (None, None, None, 960)      153600    ['block5b_add[0][0]']         \n",
            " D)                                                                                               \n",
            "                                                                                                  \n",
            " block5c_expand_bn (BatchNo  (None, None, None, 960)      3840      ['block5c_expand_conv[0][0]'] \n",
            " rmalization)                                                                                     \n",
            "                                                                                                  \n",
            " block5c_expand_activation   (None, None, None, 960)      0         ['block5c_expand_bn[0][0]']   \n",
            " (Activation)                                                                                     \n",
            "                                                                                                  \n",
            " block5c_dwconv2 (Depthwise  (None, None, None, 960)      8640      ['block5c_expand_activation[0]\n",
            " Conv2D)                                                            [0]']                         \n",
            "                                                                                                  \n",
            " block5c_bn (BatchNormaliza  (None, None, None, 960)      3840      ['block5c_dwconv2[0][0]']     \n",
            " tion)                                                                                            \n",
            "                                                                                                  \n",
            " block5c_activation (Activa  (None, None, None, 960)      0         ['block5c_bn[0][0]']          \n",
            " tion)                                                                                            \n",
            "                                                                                                  \n",
            " block5c_se_squeeze (Global  (None, 960)                  0         ['block5c_activation[0][0]']  \n",
            " AveragePooling2D)                                                                                \n",
            "                                                                                                  \n",
            " block5c_se_reshape (Reshap  (None, 1, 1, 960)            0         ['block5c_se_squeeze[0][0]']  \n",
            " e)                                                                                               \n",
            "                                                                                                  \n",
            " block5c_se_reduce (Conv2D)  (None, 1, 1, 40)             38440     ['block5c_se_reshape[0][0]']  \n",
            "                                                                                                  \n",
            " block5c_se_expand (Conv2D)  (None, 1, 1, 960)            39360     ['block5c_se_reduce[0][0]']   \n",
            "                                                                                                  \n",
            " block5c_se_excite (Multipl  (None, None, None, 960)      0         ['block5c_activation[0][0]',  \n",
            " y)                                                                  'block5c_se_expand[0][0]']   \n",
            "                                                                                                  \n",
            " block5c_project_conv (Conv  (None, None, None, 160)      153600    ['block5c_se_excite[0][0]']   \n",
            " 2D)                                                                                              \n",
            "                                                                                                  \n",
            " block5c_project_bn (BatchN  (None, None, None, 160)      640       ['block5c_project_conv[0][0]']\n",
            " ormalization)                                                                                    \n",
            "                                                                                                  \n",
            " block5c_drop (Dropout)      (None, None, None, 160)      0         ['block5c_project_bn[0][0]']  \n",
            "                                                                                                  \n",
            " block5c_add (Add)           (None, None, None, 160)      0         ['block5c_drop[0][0]',        \n",
            "                                                                     'block5b_add[0][0]']         \n",
            "                                                                                                  \n",
            " block5d_expand_conv (Conv2  (None, None, None, 960)      153600    ['block5c_add[0][0]']         \n",
            " D)                                                                                               \n",
            "                                                                                                  \n",
            " block5d_expand_bn (BatchNo  (None, None, None, 960)      3840      ['block5d_expand_conv[0][0]'] \n",
            " rmalization)                                                                                     \n",
            "                                                                                                  \n",
            " block5d_expand_activation   (None, None, None, 960)      0         ['block5d_expand_bn[0][0]']   \n",
            " (Activation)                                                                                     \n",
            "                                                                                                  \n",
            " block5d_dwconv2 (Depthwise  (None, None, None, 960)      8640      ['block5d_expand_activation[0]\n",
            " Conv2D)                                                            [0]']                         \n",
            "                                                                                                  \n",
            " block5d_bn (BatchNormaliza  (None, None, None, 960)      3840      ['block5d_dwconv2[0][0]']     \n",
            " tion)                                                                                            \n",
            "                                                                                                  \n",
            " block5d_activation (Activa  (None, None, None, 960)      0         ['block5d_bn[0][0]']          \n",
            " tion)                                                                                            \n",
            "                                                                                                  \n",
            " block5d_se_squeeze (Global  (None, 960)                  0         ['block5d_activation[0][0]']  \n",
            " AveragePooling2D)                                                                                \n",
            "                                                                                                  \n",
            " block5d_se_reshape (Reshap  (None, 1, 1, 960)            0         ['block5d_se_squeeze[0][0]']  \n",
            " e)                                                                                               \n",
            "                                                                                                  \n",
            " block5d_se_reduce (Conv2D)  (None, 1, 1, 40)             38440     ['block5d_se_reshape[0][0]']  \n",
            "                                                                                                  \n",
            " block5d_se_expand (Conv2D)  (None, 1, 1, 960)            39360     ['block5d_se_reduce[0][0]']   \n",
            "                                                                                                  \n",
            " block5d_se_excite (Multipl  (None, None, None, 960)      0         ['block5d_activation[0][0]',  \n",
            " y)                                                                  'block5d_se_expand[0][0]']   \n",
            "                                                                                                  \n",
            " block5d_project_conv (Conv  (None, None, None, 160)      153600    ['block5d_se_excite[0][0]']   \n",
            " 2D)                                                                                              \n",
            "                                                                                                  \n",
            " block5d_project_bn (BatchN  (None, None, None, 160)      640       ['block5d_project_conv[0][0]']\n",
            " ormalization)                                                                                    \n",
            "                                                                                                  \n",
            " block5d_drop (Dropout)      (None, None, None, 160)      0         ['block5d_project_bn[0][0]']  \n",
            "                                                                                                  \n",
            " block5d_add (Add)           (None, None, None, 160)      0         ['block5d_drop[0][0]',        \n",
            "                                                                     'block5c_add[0][0]']         \n",
            "                                                                                                  \n",
            " block5e_expand_conv (Conv2  (None, None, None, 960)      153600    ['block5d_add[0][0]']         \n",
            " D)                                                                                               \n",
            "                                                                                                  \n",
            " block5e_expand_bn (BatchNo  (None, None, None, 960)      3840      ['block5e_expand_conv[0][0]'] \n",
            " rmalization)                                                                                     \n",
            "                                                                                                  \n",
            " block5e_expand_activation   (None, None, None, 960)      0         ['block5e_expand_bn[0][0]']   \n",
            " (Activation)                                                                                     \n",
            "                                                                                                  \n",
            " block5e_dwconv2 (Depthwise  (None, None, None, 960)      8640      ['block5e_expand_activation[0]\n",
            " Conv2D)                                                            [0]']                         \n",
            "                                                                                                  \n",
            " block5e_bn (BatchNormaliza  (None, None, None, 960)      3840      ['block5e_dwconv2[0][0]']     \n",
            " tion)                                                                                            \n",
            "                                                                                                  \n",
            " block5e_activation (Activa  (None, None, None, 960)      0         ['block5e_bn[0][0]']          \n",
            " tion)                                                                                            \n",
            "                                                                                                  \n",
            " block5e_se_squeeze (Global  (None, 960)                  0         ['block5e_activation[0][0]']  \n",
            " AveragePooling2D)                                                                                \n",
            "                                                                                                  \n",
            " block5e_se_reshape (Reshap  (None, 1, 1, 960)            0         ['block5e_se_squeeze[0][0]']  \n",
            " e)                                                                                               \n",
            "                                                                                                  \n",
            " block5e_se_reduce (Conv2D)  (None, 1, 1, 40)             38440     ['block5e_se_reshape[0][0]']  \n",
            "                                                                                                  \n",
            " block5e_se_expand (Conv2D)  (None, 1, 1, 960)            39360     ['block5e_se_reduce[0][0]']   \n",
            "                                                                                                  \n",
            " block5e_se_excite (Multipl  (None, None, None, 960)      0         ['block5e_activation[0][0]',  \n",
            " y)                                                                  'block5e_se_expand[0][0]']   \n",
            "                                                                                                  \n",
            " block5e_project_conv (Conv  (None, None, None, 160)      153600    ['block5e_se_excite[0][0]']   \n",
            " 2D)                                                                                              \n",
            "                                                                                                  \n",
            " block5e_project_bn (BatchN  (None, None, None, 160)      640       ['block5e_project_conv[0][0]']\n",
            " ormalization)                                                                                    \n",
            "                                                                                                  \n",
            " block5e_drop (Dropout)      (None, None, None, 160)      0         ['block5e_project_bn[0][0]']  \n",
            "                                                                                                  \n",
            " block5e_add (Add)           (None, None, None, 160)      0         ['block5e_drop[0][0]',        \n",
            "                                                                     'block5d_add[0][0]']         \n",
            "                                                                                                  \n",
            " block5f_expand_conv (Conv2  (None, None, None, 960)      153600    ['block5e_add[0][0]']         \n",
            " D)                                                                                               \n",
            "                                                                                                  \n",
            " block5f_expand_bn (BatchNo  (None, None, None, 960)      3840      ['block5f_expand_conv[0][0]'] \n",
            " rmalization)                                                                                     \n",
            "                                                                                                  \n",
            " block5f_expand_activation   (None, None, None, 960)      0         ['block5f_expand_bn[0][0]']   \n",
            " (Activation)                                                                                     \n",
            "                                                                                                  \n",
            " block5f_dwconv2 (Depthwise  (None, None, None, 960)      8640      ['block5f_expand_activation[0]\n",
            " Conv2D)                                                            [0]']                         \n",
            "                                                                                                  \n",
            " block5f_bn (BatchNormaliza  (None, None, None, 960)      3840      ['block5f_dwconv2[0][0]']     \n",
            " tion)                                                                                            \n",
            "                                                                                                  \n",
            " block5f_activation (Activa  (None, None, None, 960)      0         ['block5f_bn[0][0]']          \n",
            " tion)                                                                                            \n",
            "                                                                                                  \n",
            " block5f_se_squeeze (Global  (None, 960)                  0         ['block5f_activation[0][0]']  \n",
            " AveragePooling2D)                                                                                \n",
            "                                                                                                  \n",
            " block5f_se_reshape (Reshap  (None, 1, 1, 960)            0         ['block5f_se_squeeze[0][0]']  \n",
            " e)                                                                                               \n",
            "                                                                                                  \n",
            " block5f_se_reduce (Conv2D)  (None, 1, 1, 40)             38440     ['block5f_se_reshape[0][0]']  \n",
            "                                                                                                  \n",
            " block5f_se_expand (Conv2D)  (None, 1, 1, 960)            39360     ['block5f_se_reduce[0][0]']   \n",
            "                                                                                                  \n",
            " block5f_se_excite (Multipl  (None, None, None, 960)      0         ['block5f_activation[0][0]',  \n",
            " y)                                                                  'block5f_se_expand[0][0]']   \n",
            "                                                                                                  \n",
            " block5f_project_conv (Conv  (None, None, None, 160)      153600    ['block5f_se_excite[0][0]']   \n",
            " 2D)                                                                                              \n",
            "                                                                                                  \n",
            " block5f_project_bn (BatchN  (None, None, None, 160)      640       ['block5f_project_conv[0][0]']\n",
            " ormalization)                                                                                    \n",
            "                                                                                                  \n",
            " block5f_drop (Dropout)      (None, None, None, 160)      0         ['block5f_project_bn[0][0]']  \n",
            "                                                                                                  \n",
            " block5f_add (Add)           (None, None, None, 160)      0         ['block5f_drop[0][0]',        \n",
            "                                                                     'block5e_add[0][0]']         \n",
            "                                                                                                  \n",
            " block5g_expand_conv (Conv2  (None, None, None, 960)      153600    ['block5f_add[0][0]']         \n",
            " D)                                                                                               \n",
            "                                                                                                  \n",
            " block5g_expand_bn (BatchNo  (None, None, None, 960)      3840      ['block5g_expand_conv[0][0]'] \n",
            " rmalization)                                                                                     \n",
            "                                                                                                  \n",
            " block5g_expand_activation   (None, None, None, 960)      0         ['block5g_expand_bn[0][0]']   \n",
            " (Activation)                                                                                     \n",
            "                                                                                                  \n",
            " block5g_dwconv2 (Depthwise  (None, None, None, 960)      8640      ['block5g_expand_activation[0]\n",
            " Conv2D)                                                            [0]']                         \n",
            "                                                                                                  \n",
            " block5g_bn (BatchNormaliza  (None, None, None, 960)      3840      ['block5g_dwconv2[0][0]']     \n",
            " tion)                                                                                            \n",
            "                                                                                                  \n",
            " block5g_activation (Activa  (None, None, None, 960)      0         ['block5g_bn[0][0]']          \n",
            " tion)                                                                                            \n",
            "                                                                                                  \n",
            " block5g_se_squeeze (Global  (None, 960)                  0         ['block5g_activation[0][0]']  \n",
            " AveragePooling2D)                                                                                \n",
            "                                                                                                  \n",
            " block5g_se_reshape (Reshap  (None, 1, 1, 960)            0         ['block5g_se_squeeze[0][0]']  \n",
            " e)                                                                                               \n",
            "                                                                                                  \n",
            " block5g_se_reduce (Conv2D)  (None, 1, 1, 40)             38440     ['block5g_se_reshape[0][0]']  \n",
            "                                                                                                  \n",
            " block5g_se_expand (Conv2D)  (None, 1, 1, 960)            39360     ['block5g_se_reduce[0][0]']   \n",
            "                                                                                                  \n",
            " block5g_se_excite (Multipl  (None, None, None, 960)      0         ['block5g_activation[0][0]',  \n",
            " y)                                                                  'block5g_se_expand[0][0]']   \n",
            "                                                                                                  \n",
            " block5g_project_conv (Conv  (None, None, None, 160)      153600    ['block5g_se_excite[0][0]']   \n",
            " 2D)                                                                                              \n",
            "                                                                                                  \n",
            " block5g_project_bn (BatchN  (None, None, None, 160)      640       ['block5g_project_conv[0][0]']\n",
            " ormalization)                                                                                    \n",
            "                                                                                                  \n",
            " block5g_drop (Dropout)      (None, None, None, 160)      0         ['block5g_project_bn[0][0]']  \n",
            "                                                                                                  \n",
            " block5g_add (Add)           (None, None, None, 160)      0         ['block5g_drop[0][0]',        \n",
            "                                                                     'block5f_add[0][0]']         \n",
            "                                                                                                  \n",
            " block5h_expand_conv (Conv2  (None, None, None, 960)      153600    ['block5g_add[0][0]']         \n",
            " D)                                                                                               \n",
            "                                                                                                  \n",
            " block5h_expand_bn (BatchNo  (None, None, None, 960)      3840      ['block5h_expand_conv[0][0]'] \n",
            " rmalization)                                                                                     \n",
            "                                                                                                  \n",
            " block5h_expand_activation   (None, None, None, 960)      0         ['block5h_expand_bn[0][0]']   \n",
            " (Activation)                                                                                     \n",
            "                                                                                                  \n",
            " block5h_dwconv2 (Depthwise  (None, None, None, 960)      8640      ['block5h_expand_activation[0]\n",
            " Conv2D)                                                            [0]']                         \n",
            "                                                                                                  \n",
            " block5h_bn (BatchNormaliza  (None, None, None, 960)      3840      ['block5h_dwconv2[0][0]']     \n",
            " tion)                                                                                            \n",
            "                                                                                                  \n",
            " block5h_activation (Activa  (None, None, None, 960)      0         ['block5h_bn[0][0]']          \n",
            " tion)                                                                                            \n",
            "                                                                                                  \n",
            " block5h_se_squeeze (Global  (None, 960)                  0         ['block5h_activation[0][0]']  \n",
            " AveragePooling2D)                                                                                \n",
            "                                                                                                  \n",
            " block5h_se_reshape (Reshap  (None, 1, 1, 960)            0         ['block5h_se_squeeze[0][0]']  \n",
            " e)                                                                                               \n",
            "                                                                                                  \n",
            " block5h_se_reduce (Conv2D)  (None, 1, 1, 40)             38440     ['block5h_se_reshape[0][0]']  \n",
            "                                                                                                  \n",
            " block5h_se_expand (Conv2D)  (None, 1, 1, 960)            39360     ['block5h_se_reduce[0][0]']   \n",
            "                                                                                                  \n",
            " block5h_se_excite (Multipl  (None, None, None, 960)      0         ['block5h_activation[0][0]',  \n",
            " y)                                                                  'block5h_se_expand[0][0]']   \n",
            "                                                                                                  \n",
            " block5h_project_conv (Conv  (None, None, None, 160)      153600    ['block5h_se_excite[0][0]']   \n",
            " 2D)                                                                                              \n",
            "                                                                                                  \n",
            " block5h_project_bn (BatchN  (None, None, None, 160)      640       ['block5h_project_conv[0][0]']\n",
            " ormalization)                                                                                    \n",
            "                                                                                                  \n",
            " block5h_drop (Dropout)      (None, None, None, 160)      0         ['block5h_project_bn[0][0]']  \n",
            "                                                                                                  \n",
            " block5h_add (Add)           (None, None, None, 160)      0         ['block5h_drop[0][0]',        \n",
            "                                                                     'block5g_add[0][0]']         \n",
            "                                                                                                  \n",
            " block5i_expand_conv (Conv2  (None, None, None, 960)      153600    ['block5h_add[0][0]']         \n",
            " D)                                                                                               \n",
            "                                                                                                  \n",
            " block5i_expand_bn (BatchNo  (None, None, None, 960)      3840      ['block5i_expand_conv[0][0]'] \n",
            " rmalization)                                                                                     \n",
            "                                                                                                  \n",
            " block5i_expand_activation   (None, None, None, 960)      0         ['block5i_expand_bn[0][0]']   \n",
            " (Activation)                                                                                     \n",
            "                                                                                                  \n",
            " block5i_dwconv2 (Depthwise  (None, None, None, 960)      8640      ['block5i_expand_activation[0]\n",
            " Conv2D)                                                            [0]']                         \n",
            "                                                                                                  \n",
            " block5i_bn (BatchNormaliza  (None, None, None, 960)      3840      ['block5i_dwconv2[0][0]']     \n",
            " tion)                                                                                            \n",
            "                                                                                                  \n",
            " block5i_activation (Activa  (None, None, None, 960)      0         ['block5i_bn[0][0]']          \n",
            " tion)                                                                                            \n",
            "                                                                                                  \n",
            " block5i_se_squeeze (Global  (None, 960)                  0         ['block5i_activation[0][0]']  \n",
            " AveragePooling2D)                                                                                \n",
            "                                                                                                  \n",
            " block5i_se_reshape (Reshap  (None, 1, 1, 960)            0         ['block5i_se_squeeze[0][0]']  \n",
            " e)                                                                                               \n",
            "                                                                                                  \n",
            " block5i_se_reduce (Conv2D)  (None, 1, 1, 40)             38440     ['block5i_se_reshape[0][0]']  \n",
            "                                                                                                  \n",
            " block5i_se_expand (Conv2D)  (None, 1, 1, 960)            39360     ['block5i_se_reduce[0][0]']   \n",
            "                                                                                                  \n",
            " block5i_se_excite (Multipl  (None, None, None, 960)      0         ['block5i_activation[0][0]',  \n",
            " y)                                                                  'block5i_se_expand[0][0]']   \n",
            "                                                                                                  \n",
            " block5i_project_conv (Conv  (None, None, None, 160)      153600    ['block5i_se_excite[0][0]']   \n",
            " 2D)                                                                                              \n",
            "                                                                                                  \n",
            " block5i_project_bn (BatchN  (None, None, None, 160)      640       ['block5i_project_conv[0][0]']\n",
            " ormalization)                                                                                    \n",
            "                                                                                                  \n",
            " block5i_drop (Dropout)      (None, None, None, 160)      0         ['block5i_project_bn[0][0]']  \n",
            "                                                                                                  \n",
            " block5i_add (Add)           (None, None, None, 160)      0         ['block5i_drop[0][0]',        \n",
            "                                                                     'block5h_add[0][0]']         \n",
            "                                                                                                  \n",
            " block6a_expand_conv (Conv2  (None, None, None, 960)      153600    ['block5i_add[0][0]']         \n",
            " D)                                                                                               \n",
            "                                                                                                  \n",
            " block6a_expand_bn (BatchNo  (None, None, None, 960)      3840      ['block6a_expand_conv[0][0]'] \n",
            " rmalization)                                                                                     \n",
            "                                                                                                  \n",
            " block6a_expand_activation   (None, None, None, 960)      0         ['block6a_expand_bn[0][0]']   \n",
            " (Activation)                                                                                     \n",
            "                                                                                                  \n",
            " block6a_dwconv2 (Depthwise  (None, None, None, 960)      8640      ['block6a_expand_activation[0]\n",
            " Conv2D)                                                            [0]']                         \n",
            "                                                                                                  \n",
            " block6a_bn (BatchNormaliza  (None, None, None, 960)      3840      ['block6a_dwconv2[0][0]']     \n",
            " tion)                                                                                            \n",
            "                                                                                                  \n",
            " block6a_activation (Activa  (None, None, None, 960)      0         ['block6a_bn[0][0]']          \n",
            " tion)                                                                                            \n",
            "                                                                                                  \n",
            " block6a_se_squeeze (Global  (None, 960)                  0         ['block6a_activation[0][0]']  \n",
            " AveragePooling2D)                                                                                \n",
            "                                                                                                  \n",
            " block6a_se_reshape (Reshap  (None, 1, 1, 960)            0         ['block6a_se_squeeze[0][0]']  \n",
            " e)                                                                                               \n",
            "                                                                                                  \n",
            " block6a_se_reduce (Conv2D)  (None, 1, 1, 40)             38440     ['block6a_se_reshape[0][0]']  \n",
            "                                                                                                  \n",
            " block6a_se_expand (Conv2D)  (None, 1, 1, 960)            39360     ['block6a_se_reduce[0][0]']   \n",
            "                                                                                                  \n",
            " block6a_se_excite (Multipl  (None, None, None, 960)      0         ['block6a_activation[0][0]',  \n",
            " y)                                                                  'block6a_se_expand[0][0]']   \n",
            "                                                                                                  \n",
            " block6a_project_conv (Conv  (None, None, None, 256)      245760    ['block6a_se_excite[0][0]']   \n",
            " 2D)                                                                                              \n",
            "                                                                                                  \n",
            " block6a_project_bn (BatchN  (None, None, None, 256)      1024      ['block6a_project_conv[0][0]']\n",
            " ormalization)                                                                                    \n",
            "                                                                                                  \n",
            " block6b_expand_conv (Conv2  (None, None, None, 1536)     393216    ['block6a_project_bn[0][0]']  \n",
            " D)                                                                                               \n",
            "                                                                                                  \n",
            " block6b_expand_bn (BatchNo  (None, None, None, 1536)     6144      ['block6b_expand_conv[0][0]'] \n",
            " rmalization)                                                                                     \n",
            "                                                                                                  \n",
            " block6b_expand_activation   (None, None, None, 1536)     0         ['block6b_expand_bn[0][0]']   \n",
            " (Activation)                                                                                     \n",
            "                                                                                                  \n",
            " block6b_dwconv2 (Depthwise  (None, None, None, 1536)     13824     ['block6b_expand_activation[0]\n",
            " Conv2D)                                                            [0]']                         \n",
            "                                                                                                  \n",
            " block6b_bn (BatchNormaliza  (None, None, None, 1536)     6144      ['block6b_dwconv2[0][0]']     \n",
            " tion)                                                                                            \n",
            "                                                                                                  \n",
            " block6b_activation (Activa  (None, None, None, 1536)     0         ['block6b_bn[0][0]']          \n",
            " tion)                                                                                            \n",
            "                                                                                                  \n",
            " block6b_se_squeeze (Global  (None, 1536)                 0         ['block6b_activation[0][0]']  \n",
            " AveragePooling2D)                                                                                \n",
            "                                                                                                  \n",
            " block6b_se_reshape (Reshap  (None, 1, 1, 1536)           0         ['block6b_se_squeeze[0][0]']  \n",
            " e)                                                                                               \n",
            "                                                                                                  \n",
            " block6b_se_reduce (Conv2D)  (None, 1, 1, 64)             98368     ['block6b_se_reshape[0][0]']  \n",
            "                                                                                                  \n",
            " block6b_se_expand (Conv2D)  (None, 1, 1, 1536)           99840     ['block6b_se_reduce[0][0]']   \n",
            "                                                                                                  \n",
            " block6b_se_excite (Multipl  (None, None, None, 1536)     0         ['block6b_activation[0][0]',  \n",
            " y)                                                                  'block6b_se_expand[0][0]']   \n",
            "                                                                                                  \n",
            " block6b_project_conv (Conv  (None, None, None, 256)      393216    ['block6b_se_excite[0][0]']   \n",
            " 2D)                                                                                              \n",
            "                                                                                                  \n",
            " block6b_project_bn (BatchN  (None, None, None, 256)      1024      ['block6b_project_conv[0][0]']\n",
            " ormalization)                                                                                    \n",
            "                                                                                                  \n",
            " block6b_drop (Dropout)      (None, None, None, 256)      0         ['block6b_project_bn[0][0]']  \n",
            "                                                                                                  \n",
            " block6b_add (Add)           (None, None, None, 256)      0         ['block6b_drop[0][0]',        \n",
            "                                                                     'block6a_project_bn[0][0]']  \n",
            "                                                                                                  \n",
            " block6c_expand_conv (Conv2  (None, None, None, 1536)     393216    ['block6b_add[0][0]']         \n",
            " D)                                                                                               \n",
            "                                                                                                  \n",
            " block6c_expand_bn (BatchNo  (None, None, None, 1536)     6144      ['block6c_expand_conv[0][0]'] \n",
            " rmalization)                                                                                     \n",
            "                                                                                                  \n",
            " block6c_expand_activation   (None, None, None, 1536)     0         ['block6c_expand_bn[0][0]']   \n",
            " (Activation)                                                                                     \n",
            "                                                                                                  \n",
            " block6c_dwconv2 (Depthwise  (None, None, None, 1536)     13824     ['block6c_expand_activation[0]\n",
            " Conv2D)                                                            [0]']                         \n",
            "                                                                                                  \n",
            " block6c_bn (BatchNormaliza  (None, None, None, 1536)     6144      ['block6c_dwconv2[0][0]']     \n",
            " tion)                                                                                            \n",
            "                                                                                                  \n",
            " block6c_activation (Activa  (None, None, None, 1536)     0         ['block6c_bn[0][0]']          \n",
            " tion)                                                                                            \n",
            "                                                                                                  \n",
            " block6c_se_squeeze (Global  (None, 1536)                 0         ['block6c_activation[0][0]']  \n",
            " AveragePooling2D)                                                                                \n",
            "                                                                                                  \n",
            " block6c_se_reshape (Reshap  (None, 1, 1, 1536)           0         ['block6c_se_squeeze[0][0]']  \n",
            " e)                                                                                               \n",
            "                                                                                                  \n",
            " block6c_se_reduce (Conv2D)  (None, 1, 1, 64)             98368     ['block6c_se_reshape[0][0]']  \n",
            "                                                                                                  \n",
            " block6c_se_expand (Conv2D)  (None, 1, 1, 1536)           99840     ['block6c_se_reduce[0][0]']   \n",
            "                                                                                                  \n",
            " block6c_se_excite (Multipl  (None, None, None, 1536)     0         ['block6c_activation[0][0]',  \n",
            " y)                                                                  'block6c_se_expand[0][0]']   \n",
            "                                                                                                  \n",
            " block6c_project_conv (Conv  (None, None, None, 256)      393216    ['block6c_se_excite[0][0]']   \n",
            " 2D)                                                                                              \n",
            "                                                                                                  \n",
            " block6c_project_bn (BatchN  (None, None, None, 256)      1024      ['block6c_project_conv[0][0]']\n",
            " ormalization)                                                                                    \n",
            "                                                                                                  \n",
            " block6c_drop (Dropout)      (None, None, None, 256)      0         ['block6c_project_bn[0][0]']  \n",
            "                                                                                                  \n",
            " block6c_add (Add)           (None, None, None, 256)      0         ['block6c_drop[0][0]',        \n",
            "                                                                     'block6b_add[0][0]']         \n",
            "                                                                                                  \n",
            " block6d_expand_conv (Conv2  (None, None, None, 1536)     393216    ['block6c_add[0][0]']         \n",
            " D)                                                                                               \n",
            "                                                                                                  \n",
            " block6d_expand_bn (BatchNo  (None, None, None, 1536)     6144      ['block6d_expand_conv[0][0]'] \n",
            " rmalization)                                                                                     \n",
            "                                                                                                  \n",
            " block6d_expand_activation   (None, None, None, 1536)     0         ['block6d_expand_bn[0][0]']   \n",
            " (Activation)                                                                                     \n",
            "                                                                                                  \n",
            " block6d_dwconv2 (Depthwise  (None, None, None, 1536)     13824     ['block6d_expand_activation[0]\n",
            " Conv2D)                                                            [0]']                         \n",
            "                                                                                                  \n",
            " block6d_bn (BatchNormaliza  (None, None, None, 1536)     6144      ['block6d_dwconv2[0][0]']     \n",
            " tion)                                                                                            \n",
            "                                                                                                  \n",
            " block6d_activation (Activa  (None, None, None, 1536)     0         ['block6d_bn[0][0]']          \n",
            " tion)                                                                                            \n",
            "                                                                                                  \n",
            " block6d_se_squeeze (Global  (None, 1536)                 0         ['block6d_activation[0][0]']  \n",
            " AveragePooling2D)                                                                                \n",
            "                                                                                                  \n",
            " block6d_se_reshape (Reshap  (None, 1, 1, 1536)           0         ['block6d_se_squeeze[0][0]']  \n",
            " e)                                                                                               \n",
            "                                                                                                  \n",
            " block6d_se_reduce (Conv2D)  (None, 1, 1, 64)             98368     ['block6d_se_reshape[0][0]']  \n",
            "                                                                                                  \n",
            " block6d_se_expand (Conv2D)  (None, 1, 1, 1536)           99840     ['block6d_se_reduce[0][0]']   \n",
            "                                                                                                  \n",
            " block6d_se_excite (Multipl  (None, None, None, 1536)     0         ['block6d_activation[0][0]',  \n",
            " y)                                                                  'block6d_se_expand[0][0]']   \n",
            "                                                                                                  \n",
            " block6d_project_conv (Conv  (None, None, None, 256)      393216    ['block6d_se_excite[0][0]']   \n",
            " 2D)                                                                                              \n",
            "                                                                                                  \n",
            " block6d_project_bn (BatchN  (None, None, None, 256)      1024      ['block6d_project_conv[0][0]']\n",
            " ormalization)                                                                                    \n",
            "                                                                                                  \n",
            " block6d_drop (Dropout)      (None, None, None, 256)      0         ['block6d_project_bn[0][0]']  \n",
            "                                                                                                  \n",
            " block6d_add (Add)           (None, None, None, 256)      0         ['block6d_drop[0][0]',        \n",
            "                                                                     'block6c_add[0][0]']         \n",
            "                                                                                                  \n",
            " block6e_expand_conv (Conv2  (None, None, None, 1536)     393216    ['block6d_add[0][0]']         \n",
            " D)                                                                                               \n",
            "                                                                                                  \n",
            " block6e_expand_bn (BatchNo  (None, None, None, 1536)     6144      ['block6e_expand_conv[0][0]'] \n",
            " rmalization)                                                                                     \n",
            "                                                                                                  \n",
            " block6e_expand_activation   (None, None, None, 1536)     0         ['block6e_expand_bn[0][0]']   \n",
            " (Activation)                                                                                     \n",
            "                                                                                                  \n",
            " block6e_dwconv2 (Depthwise  (None, None, None, 1536)     13824     ['block6e_expand_activation[0]\n",
            " Conv2D)                                                            [0]']                         \n",
            "                                                                                                  \n",
            " block6e_bn (BatchNormaliza  (None, None, None, 1536)     6144      ['block6e_dwconv2[0][0]']     \n",
            " tion)                                                                                            \n",
            "                                                                                                  \n",
            " block6e_activation (Activa  (None, None, None, 1536)     0         ['block6e_bn[0][0]']          \n",
            " tion)                                                                                            \n",
            "                                                                                                  \n",
            " block6e_se_squeeze (Global  (None, 1536)                 0         ['block6e_activation[0][0]']  \n",
            " AveragePooling2D)                                                                                \n",
            "                                                                                                  \n",
            " block6e_se_reshape (Reshap  (None, 1, 1, 1536)           0         ['block6e_se_squeeze[0][0]']  \n",
            " e)                                                                                               \n",
            "                                                                                                  \n",
            " block6e_se_reduce (Conv2D)  (None, 1, 1, 64)             98368     ['block6e_se_reshape[0][0]']  \n",
            "                                                                                                  \n",
            " block6e_se_expand (Conv2D)  (None, 1, 1, 1536)           99840     ['block6e_se_reduce[0][0]']   \n",
            "                                                                                                  \n",
            " block6e_se_excite (Multipl  (None, None, None, 1536)     0         ['block6e_activation[0][0]',  \n",
            " y)                                                                  'block6e_se_expand[0][0]']   \n",
            "                                                                                                  \n",
            " block6e_project_conv (Conv  (None, None, None, 256)      393216    ['block6e_se_excite[0][0]']   \n",
            " 2D)                                                                                              \n",
            "                                                                                                  \n",
            " block6e_project_bn (BatchN  (None, None, None, 256)      1024      ['block6e_project_conv[0][0]']\n",
            " ormalization)                                                                                    \n",
            "                                                                                                  \n",
            " block6e_drop (Dropout)      (None, None, None, 256)      0         ['block6e_project_bn[0][0]']  \n",
            "                                                                                                  \n",
            " block6e_add (Add)           (None, None, None, 256)      0         ['block6e_drop[0][0]',        \n",
            "                                                                     'block6d_add[0][0]']         \n",
            "                                                                                                  \n",
            " block6f_expand_conv (Conv2  (None, None, None, 1536)     393216    ['block6e_add[0][0]']         \n",
            " D)                                                                                               \n",
            "                                                                                                  \n",
            " block6f_expand_bn (BatchNo  (None, None, None, 1536)     6144      ['block6f_expand_conv[0][0]'] \n",
            " rmalization)                                                                                     \n",
            "                                                                                                  \n",
            " block6f_expand_activation   (None, None, None, 1536)     0         ['block6f_expand_bn[0][0]']   \n",
            " (Activation)                                                                                     \n",
            "                                                                                                  \n",
            " block6f_dwconv2 (Depthwise  (None, None, None, 1536)     13824     ['block6f_expand_activation[0]\n",
            " Conv2D)                                                            [0]']                         \n",
            "                                                                                                  \n",
            " block6f_bn (BatchNormaliza  (None, None, None, 1536)     6144      ['block6f_dwconv2[0][0]']     \n",
            " tion)                                                                                            \n",
            "                                                                                                  \n",
            " block6f_activation (Activa  (None, None, None, 1536)     0         ['block6f_bn[0][0]']          \n",
            " tion)                                                                                            \n",
            "                                                                                                  \n",
            " block6f_se_squeeze (Global  (None, 1536)                 0         ['block6f_activation[0][0]']  \n",
            " AveragePooling2D)                                                                                \n",
            "                                                                                                  \n",
            " block6f_se_reshape (Reshap  (None, 1, 1, 1536)           0         ['block6f_se_squeeze[0][0]']  \n",
            " e)                                                                                               \n",
            "                                                                                                  \n",
            " block6f_se_reduce (Conv2D)  (None, 1, 1, 64)             98368     ['block6f_se_reshape[0][0]']  \n",
            "                                                                                                  \n",
            " block6f_se_expand (Conv2D)  (None, 1, 1, 1536)           99840     ['block6f_se_reduce[0][0]']   \n",
            "                                                                                                  \n",
            " block6f_se_excite (Multipl  (None, None, None, 1536)     0         ['block6f_activation[0][0]',  \n",
            " y)                                                                  'block6f_se_expand[0][0]']   \n",
            "                                                                                                  \n",
            " block6f_project_conv (Conv  (None, None, None, 256)      393216    ['block6f_se_excite[0][0]']   \n",
            " 2D)                                                                                              \n",
            "                                                                                                  \n",
            " block6f_project_bn (BatchN  (None, None, None, 256)      1024      ['block6f_project_conv[0][0]']\n",
            " ormalization)                                                                                    \n",
            "                                                                                                  \n",
            " block6f_drop (Dropout)      (None, None, None, 256)      0         ['block6f_project_bn[0][0]']  \n",
            "                                                                                                  \n",
            " block6f_add (Add)           (None, None, None, 256)      0         ['block6f_drop[0][0]',        \n",
            "                                                                     'block6e_add[0][0]']         \n",
            "                                                                                                  \n",
            " block6g_expand_conv (Conv2  (None, None, None, 1536)     393216    ['block6f_add[0][0]']         \n",
            " D)                                                                                               \n",
            "                                                                                                  \n",
            " block6g_expand_bn (BatchNo  (None, None, None, 1536)     6144      ['block6g_expand_conv[0][0]'] \n",
            " rmalization)                                                                                     \n",
            "                                                                                                  \n",
            " block6g_expand_activation   (None, None, None, 1536)     0         ['block6g_expand_bn[0][0]']   \n",
            " (Activation)                                                                                     \n",
            "                                                                                                  \n",
            " block6g_dwconv2 (Depthwise  (None, None, None, 1536)     13824     ['block6g_expand_activation[0]\n",
            " Conv2D)                                                            [0]']                         \n",
            "                                                                                                  \n",
            " block6g_bn (BatchNormaliza  (None, None, None, 1536)     6144      ['block6g_dwconv2[0][0]']     \n",
            " tion)                                                                                            \n",
            "                                                                                                  \n",
            " block6g_activation (Activa  (None, None, None, 1536)     0         ['block6g_bn[0][0]']          \n",
            " tion)                                                                                            \n",
            "                                                                                                  \n",
            " block6g_se_squeeze (Global  (None, 1536)                 0         ['block6g_activation[0][0]']  \n",
            " AveragePooling2D)                                                                                \n",
            "                                                                                                  \n",
            " block6g_se_reshape (Reshap  (None, 1, 1, 1536)           0         ['block6g_se_squeeze[0][0]']  \n",
            " e)                                                                                               \n",
            "                                                                                                  \n",
            " block6g_se_reduce (Conv2D)  (None, 1, 1, 64)             98368     ['block6g_se_reshape[0][0]']  \n",
            "                                                                                                  \n",
            " block6g_se_expand (Conv2D)  (None, 1, 1, 1536)           99840     ['block6g_se_reduce[0][0]']   \n",
            "                                                                                                  \n",
            " block6g_se_excite (Multipl  (None, None, None, 1536)     0         ['block6g_activation[0][0]',  \n",
            " y)                                                                  'block6g_se_expand[0][0]']   \n",
            "                                                                                                  \n",
            " block6g_project_conv (Conv  (None, None, None, 256)      393216    ['block6g_se_excite[0][0]']   \n",
            " 2D)                                                                                              \n",
            "                                                                                                  \n",
            " block6g_project_bn (BatchN  (None, None, None, 256)      1024      ['block6g_project_conv[0][0]']\n",
            " ormalization)                                                                                    \n",
            "                                                                                                  \n",
            " block6g_drop (Dropout)      (None, None, None, 256)      0         ['block6g_project_bn[0][0]']  \n",
            "                                                                                                  \n",
            " block6g_add (Add)           (None, None, None, 256)      0         ['block6g_drop[0][0]',        \n",
            "                                                                     'block6f_add[0][0]']         \n",
            "                                                                                                  \n",
            " block6h_expand_conv (Conv2  (None, None, None, 1536)     393216    ['block6g_add[0][0]']         \n",
            " D)                                                                                               \n",
            "                                                                                                  \n",
            " block6h_expand_bn (BatchNo  (None, None, None, 1536)     6144      ['block6h_expand_conv[0][0]'] \n",
            " rmalization)                                                                                     \n",
            "                                                                                                  \n",
            " block6h_expand_activation   (None, None, None, 1536)     0         ['block6h_expand_bn[0][0]']   \n",
            " (Activation)                                                                                     \n",
            "                                                                                                  \n",
            " block6h_dwconv2 (Depthwise  (None, None, None, 1536)     13824     ['block6h_expand_activation[0]\n",
            " Conv2D)                                                            [0]']                         \n",
            "                                                                                                  \n",
            " block6h_bn (BatchNormaliza  (None, None, None, 1536)     6144      ['block6h_dwconv2[0][0]']     \n",
            " tion)                                                                                            \n",
            "                                                                                                  \n",
            " block6h_activation (Activa  (None, None, None, 1536)     0         ['block6h_bn[0][0]']          \n",
            " tion)                                                                                            \n",
            "                                                                                                  \n",
            " block6h_se_squeeze (Global  (None, 1536)                 0         ['block6h_activation[0][0]']  \n",
            " AveragePooling2D)                                                                                \n",
            "                                                                                                  \n",
            " block6h_se_reshape (Reshap  (None, 1, 1, 1536)           0         ['block6h_se_squeeze[0][0]']  \n",
            " e)                                                                                               \n",
            "                                                                                                  \n",
            " block6h_se_reduce (Conv2D)  (None, 1, 1, 64)             98368     ['block6h_se_reshape[0][0]']  \n",
            "                                                                                                  \n",
            " block6h_se_expand (Conv2D)  (None, 1, 1, 1536)           99840     ['block6h_se_reduce[0][0]']   \n",
            "                                                                                                  \n",
            " block6h_se_excite (Multipl  (None, None, None, 1536)     0         ['block6h_activation[0][0]',  \n",
            " y)                                                                  'block6h_se_expand[0][0]']   \n",
            "                                                                                                  \n",
            " block6h_project_conv (Conv  (None, None, None, 256)      393216    ['block6h_se_excite[0][0]']   \n",
            " 2D)                                                                                              \n",
            "                                                                                                  \n",
            " block6h_project_bn (BatchN  (None, None, None, 256)      1024      ['block6h_project_conv[0][0]']\n",
            " ormalization)                                                                                    \n",
            "                                                                                                  \n",
            " block6h_drop (Dropout)      (None, None, None, 256)      0         ['block6h_project_bn[0][0]']  \n",
            "                                                                                                  \n",
            " block6h_add (Add)           (None, None, None, 256)      0         ['block6h_drop[0][0]',        \n",
            "                                                                     'block6g_add[0][0]']         \n",
            "                                                                                                  \n",
            " block6i_expand_conv (Conv2  (None, None, None, 1536)     393216    ['block6h_add[0][0]']         \n",
            " D)                                                                                               \n",
            "                                                                                                  \n",
            " block6i_expand_bn (BatchNo  (None, None, None, 1536)     6144      ['block6i_expand_conv[0][0]'] \n",
            " rmalization)                                                                                     \n",
            "                                                                                                  \n",
            " block6i_expand_activation   (None, None, None, 1536)     0         ['block6i_expand_bn[0][0]']   \n",
            " (Activation)                                                                                     \n",
            "                                                                                                  \n",
            " block6i_dwconv2 (Depthwise  (None, None, None, 1536)     13824     ['block6i_expand_activation[0]\n",
            " Conv2D)                                                            [0]']                         \n",
            "                                                                                                  \n",
            " block6i_bn (BatchNormaliza  (None, None, None, 1536)     6144      ['block6i_dwconv2[0][0]']     \n",
            " tion)                                                                                            \n",
            "                                                                                                  \n",
            " block6i_activation (Activa  (None, None, None, 1536)     0         ['block6i_bn[0][0]']          \n",
            " tion)                                                                                            \n",
            "                                                                                                  \n",
            " block6i_se_squeeze (Global  (None, 1536)                 0         ['block6i_activation[0][0]']  \n",
            " AveragePooling2D)                                                                                \n",
            "                                                                                                  \n",
            " block6i_se_reshape (Reshap  (None, 1, 1, 1536)           0         ['block6i_se_squeeze[0][0]']  \n",
            " e)                                                                                               \n",
            "                                                                                                  \n",
            " block6i_se_reduce (Conv2D)  (None, 1, 1, 64)             98368     ['block6i_se_reshape[0][0]']  \n",
            "                                                                                                  \n",
            " block6i_se_expand (Conv2D)  (None, 1, 1, 1536)           99840     ['block6i_se_reduce[0][0]']   \n",
            "                                                                                                  \n",
            " block6i_se_excite (Multipl  (None, None, None, 1536)     0         ['block6i_activation[0][0]',  \n",
            " y)                                                                  'block6i_se_expand[0][0]']   \n",
            "                                                                                                  \n",
            " block6i_project_conv (Conv  (None, None, None, 256)      393216    ['block6i_se_excite[0][0]']   \n",
            " 2D)                                                                                              \n",
            "                                                                                                  \n",
            " block6i_project_bn (BatchN  (None, None, None, 256)      1024      ['block6i_project_conv[0][0]']\n",
            " ormalization)                                                                                    \n",
            "                                                                                                  \n",
            " block6i_drop (Dropout)      (None, None, None, 256)      0         ['block6i_project_bn[0][0]']  \n",
            "                                                                                                  \n",
            " block6i_add (Add)           (None, None, None, 256)      0         ['block6i_drop[0][0]',        \n",
            "                                                                     'block6h_add[0][0]']         \n",
            "                                                                                                  \n",
            " block6j_expand_conv (Conv2  (None, None, None, 1536)     393216    ['block6i_add[0][0]']         \n",
            " D)                                                                                               \n",
            "                                                                                                  \n",
            " block6j_expand_bn (BatchNo  (None, None, None, 1536)     6144      ['block6j_expand_conv[0][0]'] \n",
            " rmalization)                                                                                     \n",
            "                                                                                                  \n",
            " block6j_expand_activation   (None, None, None, 1536)     0         ['block6j_expand_bn[0][0]']   \n",
            " (Activation)                                                                                     \n",
            "                                                                                                  \n",
            " block6j_dwconv2 (Depthwise  (None, None, None, 1536)     13824     ['block6j_expand_activation[0]\n",
            " Conv2D)                                                            [0]']                         \n",
            "                                                                                                  \n",
            " block6j_bn (BatchNormaliza  (None, None, None, 1536)     6144      ['block6j_dwconv2[0][0]']     \n",
            " tion)                                                                                            \n",
            "                                                                                                  \n",
            " block6j_activation (Activa  (None, None, None, 1536)     0         ['block6j_bn[0][0]']          \n",
            " tion)                                                                                            \n",
            "                                                                                                  \n",
            " block6j_se_squeeze (Global  (None, 1536)                 0         ['block6j_activation[0][0]']  \n",
            " AveragePooling2D)                                                                                \n",
            "                                                                                                  \n",
            " block6j_se_reshape (Reshap  (None, 1, 1, 1536)           0         ['block6j_se_squeeze[0][0]']  \n",
            " e)                                                                                               \n",
            "                                                                                                  \n",
            " block6j_se_reduce (Conv2D)  (None, 1, 1, 64)             98368     ['block6j_se_reshape[0][0]']  \n",
            "                                                                                                  \n",
            " block6j_se_expand (Conv2D)  (None, 1, 1, 1536)           99840     ['block6j_se_reduce[0][0]']   \n",
            "                                                                                                  \n",
            " block6j_se_excite (Multipl  (None, None, None, 1536)     0         ['block6j_activation[0][0]',  \n",
            " y)                                                                  'block6j_se_expand[0][0]']   \n",
            "                                                                                                  \n",
            " block6j_project_conv (Conv  (None, None, None, 256)      393216    ['block6j_se_excite[0][0]']   \n",
            " 2D)                                                                                              \n",
            "                                                                                                  \n",
            " block6j_project_bn (BatchN  (None, None, None, 256)      1024      ['block6j_project_conv[0][0]']\n",
            " ormalization)                                                                                    \n",
            "                                                                                                  \n",
            " block6j_drop (Dropout)      (None, None, None, 256)      0         ['block6j_project_bn[0][0]']  \n",
            "                                                                                                  \n",
            " block6j_add (Add)           (None, None, None, 256)      0         ['block6j_drop[0][0]',        \n",
            "                                                                     'block6i_add[0][0]']         \n",
            "                                                                                                  \n",
            " block6k_expand_conv (Conv2  (None, None, None, 1536)     393216    ['block6j_add[0][0]']         \n",
            " D)                                                                                               \n",
            "                                                                                                  \n",
            " block6k_expand_bn (BatchNo  (None, None, None, 1536)     6144      ['block6k_expand_conv[0][0]'] \n",
            " rmalization)                                                                                     \n",
            "                                                                                                  \n",
            " block6k_expand_activation   (None, None, None, 1536)     0         ['block6k_expand_bn[0][0]']   \n",
            " (Activation)                                                                                     \n",
            "                                                                                                  \n",
            " block6k_dwconv2 (Depthwise  (None, None, None, 1536)     13824     ['block6k_expand_activation[0]\n",
            " Conv2D)                                                            [0]']                         \n",
            "                                                                                                  \n",
            " block6k_bn (BatchNormaliza  (None, None, None, 1536)     6144      ['block6k_dwconv2[0][0]']     \n",
            " tion)                                                                                            \n",
            "                                                                                                  \n",
            " block6k_activation (Activa  (None, None, None, 1536)     0         ['block6k_bn[0][0]']          \n",
            " tion)                                                                                            \n",
            "                                                                                                  \n",
            " block6k_se_squeeze (Global  (None, 1536)                 0         ['block6k_activation[0][0]']  \n",
            " AveragePooling2D)                                                                                \n",
            "                                                                                                  \n",
            " block6k_se_reshape (Reshap  (None, 1, 1, 1536)           0         ['block6k_se_squeeze[0][0]']  \n",
            " e)                                                                                               \n",
            "                                                                                                  \n",
            " block6k_se_reduce (Conv2D)  (None, 1, 1, 64)             98368     ['block6k_se_reshape[0][0]']  \n",
            "                                                                                                  \n",
            " block6k_se_expand (Conv2D)  (None, 1, 1, 1536)           99840     ['block6k_se_reduce[0][0]']   \n",
            "                                                                                                  \n",
            " block6k_se_excite (Multipl  (None, None, None, 1536)     0         ['block6k_activation[0][0]',  \n",
            " y)                                                                  'block6k_se_expand[0][0]']   \n",
            "                                                                                                  \n",
            " block6k_project_conv (Conv  (None, None, None, 256)      393216    ['block6k_se_excite[0][0]']   \n",
            " 2D)                                                                                              \n",
            "                                                                                                  \n",
            " block6k_project_bn (BatchN  (None, None, None, 256)      1024      ['block6k_project_conv[0][0]']\n",
            " ormalization)                                                                                    \n",
            "                                                                                                  \n",
            " block6k_drop (Dropout)      (None, None, None, 256)      0         ['block6k_project_bn[0][0]']  \n",
            "                                                                                                  \n",
            " block6k_add (Add)           (None, None, None, 256)      0         ['block6k_drop[0][0]',        \n",
            "                                                                     'block6j_add[0][0]']         \n",
            "                                                                                                  \n",
            " block6l_expand_conv (Conv2  (None, None, None, 1536)     393216    ['block6k_add[0][0]']         \n",
            " D)                                                                                               \n",
            "                                                                                                  \n",
            " block6l_expand_bn (BatchNo  (None, None, None, 1536)     6144      ['block6l_expand_conv[0][0]'] \n",
            " rmalization)                                                                                     \n",
            "                                                                                                  \n",
            " block6l_expand_activation   (None, None, None, 1536)     0         ['block6l_expand_bn[0][0]']   \n",
            " (Activation)                                                                                     \n",
            "                                                                                                  \n",
            " block6l_dwconv2 (Depthwise  (None, None, None, 1536)     13824     ['block6l_expand_activation[0]\n",
            " Conv2D)                                                            [0]']                         \n",
            "                                                                                                  \n",
            " block6l_bn (BatchNormaliza  (None, None, None, 1536)     6144      ['block6l_dwconv2[0][0]']     \n",
            " tion)                                                                                            \n",
            "                                                                                                  \n",
            " block6l_activation (Activa  (None, None, None, 1536)     0         ['block6l_bn[0][0]']          \n",
            " tion)                                                                                            \n",
            "                                                                                                  \n",
            " block6l_se_squeeze (Global  (None, 1536)                 0         ['block6l_activation[0][0]']  \n",
            " AveragePooling2D)                                                                                \n",
            "                                                                                                  \n",
            " block6l_se_reshape (Reshap  (None, 1, 1, 1536)           0         ['block6l_se_squeeze[0][0]']  \n",
            " e)                                                                                               \n",
            "                                                                                                  \n",
            " block6l_se_reduce (Conv2D)  (None, 1, 1, 64)             98368     ['block6l_se_reshape[0][0]']  \n",
            "                                                                                                  \n",
            " block6l_se_expand (Conv2D)  (None, 1, 1, 1536)           99840     ['block6l_se_reduce[0][0]']   \n",
            "                                                                                                  \n",
            " block6l_se_excite (Multipl  (None, None, None, 1536)     0         ['block6l_activation[0][0]',  \n",
            " y)                                                                  'block6l_se_expand[0][0]']   \n",
            "                                                                                                  \n",
            " block6l_project_conv (Conv  (None, None, None, 256)      393216    ['block6l_se_excite[0][0]']   \n",
            " 2D)                                                                                              \n",
            "                                                                                                  \n",
            " block6l_project_bn (BatchN  (None, None, None, 256)      1024      ['block6l_project_conv[0][0]']\n",
            " ormalization)                                                                                    \n",
            "                                                                                                  \n",
            " block6l_drop (Dropout)      (None, None, None, 256)      0         ['block6l_project_bn[0][0]']  \n",
            "                                                                                                  \n",
            " block6l_add (Add)           (None, None, None, 256)      0         ['block6l_drop[0][0]',        \n",
            "                                                                     'block6k_add[0][0]']         \n",
            "                                                                                                  \n",
            " block6m_expand_conv (Conv2  (None, None, None, 1536)     393216    ['block6l_add[0][0]']         \n",
            " D)                                                                                               \n",
            "                                                                                                  \n",
            " block6m_expand_bn (BatchNo  (None, None, None, 1536)     6144      ['block6m_expand_conv[0][0]'] \n",
            " rmalization)                                                                                     \n",
            "                                                                                                  \n",
            " block6m_expand_activation   (None, None, None, 1536)     0         ['block6m_expand_bn[0][0]']   \n",
            " (Activation)                                                                                     \n",
            "                                                                                                  \n",
            " block6m_dwconv2 (Depthwise  (None, None, None, 1536)     13824     ['block6m_expand_activation[0]\n",
            " Conv2D)                                                            [0]']                         \n",
            "                                                                                                  \n",
            " block6m_bn (BatchNormaliza  (None, None, None, 1536)     6144      ['block6m_dwconv2[0][0]']     \n",
            " tion)                                                                                            \n",
            "                                                                                                  \n",
            " block6m_activation (Activa  (None, None, None, 1536)     0         ['block6m_bn[0][0]']          \n",
            " tion)                                                                                            \n",
            "                                                                                                  \n",
            " block6m_se_squeeze (Global  (None, 1536)                 0         ['block6m_activation[0][0]']  \n",
            " AveragePooling2D)                                                                                \n",
            "                                                                                                  \n",
            " block6m_se_reshape (Reshap  (None, 1, 1, 1536)           0         ['block6m_se_squeeze[0][0]']  \n",
            " e)                                                                                               \n",
            "                                                                                                  \n",
            " block6m_se_reduce (Conv2D)  (None, 1, 1, 64)             98368     ['block6m_se_reshape[0][0]']  \n",
            "                                                                                                  \n",
            " block6m_se_expand (Conv2D)  (None, 1, 1, 1536)           99840     ['block6m_se_reduce[0][0]']   \n",
            "                                                                                                  \n",
            " block6m_se_excite (Multipl  (None, None, None, 1536)     0         ['block6m_activation[0][0]',  \n",
            " y)                                                                  'block6m_se_expand[0][0]']   \n",
            "                                                                                                  \n",
            " block6m_project_conv (Conv  (None, None, None, 256)      393216    ['block6m_se_excite[0][0]']   \n",
            " 2D)                                                                                              \n",
            "                                                                                                  \n",
            " block6m_project_bn (BatchN  (None, None, None, 256)      1024      ['block6m_project_conv[0][0]']\n",
            " ormalization)                                                                                    \n",
            "                                                                                                  \n",
            " block6m_drop (Dropout)      (None, None, None, 256)      0         ['block6m_project_bn[0][0]']  \n",
            "                                                                                                  \n",
            " block6m_add (Add)           (None, None, None, 256)      0         ['block6m_drop[0][0]',        \n",
            "                                                                     'block6l_add[0][0]']         \n",
            "                                                                                                  \n",
            " block6n_expand_conv (Conv2  (None, None, None, 1536)     393216    ['block6m_add[0][0]']         \n",
            " D)                                                                                               \n",
            "                                                                                                  \n",
            " block6n_expand_bn (BatchNo  (None, None, None, 1536)     6144      ['block6n_expand_conv[0][0]'] \n",
            " rmalization)                                                                                     \n",
            "                                                                                                  \n",
            " block6n_expand_activation   (None, None, None, 1536)     0         ['block6n_expand_bn[0][0]']   \n",
            " (Activation)                                                                                     \n",
            "                                                                                                  \n",
            " block6n_dwconv2 (Depthwise  (None, None, None, 1536)     13824     ['block6n_expand_activation[0]\n",
            " Conv2D)                                                            [0]']                         \n",
            "                                                                                                  \n",
            " block6n_bn (BatchNormaliza  (None, None, None, 1536)     6144      ['block6n_dwconv2[0][0]']     \n",
            " tion)                                                                                            \n",
            "                                                                                                  \n",
            " block6n_activation (Activa  (None, None, None, 1536)     0         ['block6n_bn[0][0]']          \n",
            " tion)                                                                                            \n",
            "                                                                                                  \n",
            " block6n_se_squeeze (Global  (None, 1536)                 0         ['block6n_activation[0][0]']  \n",
            " AveragePooling2D)                                                                                \n",
            "                                                                                                  \n",
            " block6n_se_reshape (Reshap  (None, 1, 1, 1536)           0         ['block6n_se_squeeze[0][0]']  \n",
            " e)                                                                                               \n",
            "                                                                                                  \n",
            " block6n_se_reduce (Conv2D)  (None, 1, 1, 64)             98368     ['block6n_se_reshape[0][0]']  \n",
            "                                                                                                  \n",
            " block6n_se_expand (Conv2D)  (None, 1, 1, 1536)           99840     ['block6n_se_reduce[0][0]']   \n",
            "                                                                                                  \n",
            " block6n_se_excite (Multipl  (None, None, None, 1536)     0         ['block6n_activation[0][0]',  \n",
            " y)                                                                  'block6n_se_expand[0][0]']   \n",
            "                                                                                                  \n",
            " block6n_project_conv (Conv  (None, None, None, 256)      393216    ['block6n_se_excite[0][0]']   \n",
            " 2D)                                                                                              \n",
            "                                                                                                  \n",
            " block6n_project_bn (BatchN  (None, None, None, 256)      1024      ['block6n_project_conv[0][0]']\n",
            " ormalization)                                                                                    \n",
            "                                                                                                  \n",
            " block6n_drop (Dropout)      (None, None, None, 256)      0         ['block6n_project_bn[0][0]']  \n",
            "                                                                                                  \n",
            " block6n_add (Add)           (None, None, None, 256)      0         ['block6n_drop[0][0]',        \n",
            "                                                                     'block6m_add[0][0]']         \n",
            "                                                                                                  \n",
            " block6o_expand_conv (Conv2  (None, None, None, 1536)     393216    ['block6n_add[0][0]']         \n",
            " D)                                                                                               \n",
            "                                                                                                  \n",
            " block6o_expand_bn (BatchNo  (None, None, None, 1536)     6144      ['block6o_expand_conv[0][0]'] \n",
            " rmalization)                                                                                     \n",
            "                                                                                                  \n",
            " block6o_expand_activation   (None, None, None, 1536)     0         ['block6o_expand_bn[0][0]']   \n",
            " (Activation)                                                                                     \n",
            "                                                                                                  \n",
            " block6o_dwconv2 (Depthwise  (None, None, None, 1536)     13824     ['block6o_expand_activation[0]\n",
            " Conv2D)                                                            [0]']                         \n",
            "                                                                                                  \n",
            " block6o_bn (BatchNormaliza  (None, None, None, 1536)     6144      ['block6o_dwconv2[0][0]']     \n",
            " tion)                                                                                            \n",
            "                                                                                                  \n",
            " block6o_activation (Activa  (None, None, None, 1536)     0         ['block6o_bn[0][0]']          \n",
            " tion)                                                                                            \n",
            "                                                                                                  \n",
            " block6o_se_squeeze (Global  (None, 1536)                 0         ['block6o_activation[0][0]']  \n",
            " AveragePooling2D)                                                                                \n",
            "                                                                                                  \n",
            " block6o_se_reshape (Reshap  (None, 1, 1, 1536)           0         ['block6o_se_squeeze[0][0]']  \n",
            " e)                                                                                               \n",
            "                                                                                                  \n",
            " block6o_se_reduce (Conv2D)  (None, 1, 1, 64)             98368     ['block6o_se_reshape[0][0]']  \n",
            "                                                                                                  \n",
            " block6o_se_expand (Conv2D)  (None, 1, 1, 1536)           99840     ['block6o_se_reduce[0][0]']   \n",
            "                                                                                                  \n",
            " block6o_se_excite (Multipl  (None, None, None, 1536)     0         ['block6o_activation[0][0]',  \n",
            " y)                                                                  'block6o_se_expand[0][0]']   \n",
            "                                                                                                  \n",
            " block6o_project_conv (Conv  (None, None, None, 256)      393216    ['block6o_se_excite[0][0]']   \n",
            " 2D)                                                                                              \n",
            "                                                                                                  \n",
            " block6o_project_bn (BatchN  (None, None, None, 256)      1024      ['block6o_project_conv[0][0]']\n",
            " ormalization)                                                                                    \n",
            "                                                                                                  \n",
            " block6o_drop (Dropout)      (None, None, None, 256)      0         ['block6o_project_bn[0][0]']  \n",
            "                                                                                                  \n",
            " block6o_add (Add)           (None, None, None, 256)      0         ['block6o_drop[0][0]',        \n",
            "                                                                     'block6n_add[0][0]']         \n",
            "                                                                                                  \n",
            " top_conv (Conv2D)           (None, None, None, 1280)     327680    ['block6o_add[0][0]']         \n",
            "                                                                                                  \n",
            " top_bn (BatchNormalization  (None, None, None, 1280)     5120      ['top_conv[0][0]']            \n",
            " )                                                                                                \n",
            "                                                                                                  \n",
            " top_activation (Activation  (None, None, None, 1280)     0         ['top_bn[0][0]']              \n",
            " )                                                                                                \n",
            "                                                                                                  \n",
            " avg_pool (GlobalAveragePoo  (None, 1280)                 0         ['top_activation[0][0]']      \n",
            " ling2D)                                                                                          \n",
            "                                                                                                  \n",
            " dense (Dense)               (None, 4)                    5124      ['avg_pool[0][0]']            \n",
            "                                                                                                  \n",
            "==================================================================================================\n",
            "Total params: 20336484 (77.58 MB)\n",
            "Trainable params: 5124 (20.02 KB)\n",
            "Non-trainable params: 20331360 (77.56 MB)\n",
            "__________________________________________________________________________________________________\n"
          ]
        }
      ]
    },
    {
      "cell_type": "code",
      "metadata": {
        "id": "fa4IjzPQpAd3"
      },
      "source": [
        "model.compile(loss='categorical_crossentropy',\n",
        "              optimizer='adam',\n",
        "              metrics=['accuracy'])"
      ],
      "execution_count": null,
      "outputs": []
    },
    {
      "cell_type": "code",
      "metadata": {
        "id": "5WRw2B3P53BW"
      },
      "source": [
        "from tensorflow.keras.callbacks import EarlyStopping, ModelCheckpoint, ReduceLROnPlateau"
      ],
      "execution_count": null,
      "outputs": []
    },
    {
      "cell_type": "code",
      "metadata": {
        "id": "mAhez88k6AW1"
      },
      "source": [
        "early_stop = EarlyStopping(monitor='val_loss',patience=3,verbose=2)"
      ],
      "execution_count": null,
      "outputs": []
    },
    {
      "cell_type": "code",
      "source": [
        "model_checkpoint  = ModelCheckpoint(\n",
        "    filepath='/content/drive/My Drive/Colab Notebooks/Mestrado final/Novos treinamentos/Arquiteturas mix aumentado/ola/model_checkpoint2',\n",
        "    save_weights_only=True,\n",
        "    monitor='val_accuracy',\n",
        "    mode='max',\n",
        "    save_freq='epoch',\n",
        "    save_best_only=True,\n",
        "    options=None,\n",
        "    initial_value_threshold=None,\n",
        "    verbose = 0\n",
        ")"
      ],
      "metadata": {
        "id": "COEBh47_eAd6"
      },
      "execution_count": null,
      "outputs": []
    },
    {
      "cell_type": "code",
      "source": [
        "reduce_lr = ReduceLROnPlateau(monitor='val_loss', factor=0.2,\n",
        "                              patience=5, min_lr=0.001)"
      ],
      "metadata": {
        "id": "Sa04TvyOXf_R"
      },
      "execution_count": null,
      "outputs": []
    },
    {
      "cell_type": "code",
      "metadata": {
        "colab": {
          "base_uri": "https://localhost:8080/"
        },
        "id": "pkgfaQ316FAH",
        "outputId": "4a04a295-087d-42a6-b27d-7984d72bc3dc"
      },
      "source": [
        "train_image_gen = image_gen.flow_from_directory(data_dir,\n",
        "                                                #target_size=image_shape[:2],\n",
        "                                                color_mode='rgb',\n",
        "                                                batch_size=batch_size,\n",
        "                                                class_mode='categorical')"
      ],
      "execution_count": null,
      "outputs": [
        {
          "output_type": "stream",
          "name": "stdout",
          "text": [
            "Found 4470 images belonging to 4 classes.\n"
          ]
        }
      ]
    },
    {
      "cell_type": "code",
      "source": [
        "validation_image_gen = image_gen.flow_from_directory(valid_dir,\n",
        "                                                #target_size=image_shape[:2],\n",
        "                                                color_mode='rgb',\n",
        "                                                batch_size=batch_size,\n",
        "                                                class_mode='categorical')"
      ],
      "metadata": {
        "colab": {
          "base_uri": "https://localhost:8080/"
        },
        "id": "B6CFbu9soZLU",
        "outputId": "cfda8828-e6d9-4c07-b9a9-ddd6bebc5f61"
      },
      "execution_count": null,
      "outputs": [
        {
          "output_type": "stream",
          "name": "stdout",
          "text": [
            "Found 337 images belonging to 4 classes.\n"
          ]
        }
      ]
    },
    {
      "cell_type": "code",
      "metadata": {
        "colab": {
          "base_uri": "https://localhost:8080/"
        },
        "id": "UO77ylqy6wv_",
        "outputId": "2e136501-df38-459d-8ca1-5cd5834896d8"
      },
      "source": [
        "from sklearn.utils import shuffle\n",
        "test_image_gen = image_gen.flow_from_directory(test_dir,\n",
        "                                                     #target_size=image_shape[:2],\n",
        "                                                     color_mode='rgb',\n",
        "                                                     batch_size=batch_size,\n",
        "                                                     class_mode='categorical',\n",
        "                                                     shuffle=False\n",
        "                                               )"
      ],
      "execution_count": null,
      "outputs": [
        {
          "output_type": "stream",
          "name": "stdout",
          "text": [
            "Found 298 images belonging to 4 classes.\n"
          ]
        }
      ]
    },
    {
      "cell_type": "code",
      "metadata": {
        "colab": {
          "base_uri": "https://localhost:8080/"
        },
        "id": "wEt9ohCg7JbG",
        "outputId": "c1a2319c-6595-4391-facf-37bca11482ba"
      },
      "source": [
        "train_image_gen.class_indices"
      ],
      "execution_count": null,
      "outputs": [
        {
          "output_type": "execute_result",
          "data": {
            "text/plain": [
              "{'covid': 0, 'dip': 1, 'normais': 2, 'tuberculose': 3}"
            ]
          },
          "metadata": {},
          "execution_count": 23
        }
      ]
    },
    {
      "cell_type": "markdown",
      "metadata": {
        "id": "F2wJaiy88l4K"
      },
      "source": [
        "# **Training the model**"
      ]
    },
    {
      "cell_type": "code",
      "metadata": {
        "colab": {
          "base_uri": "https://localhost:8080/"
        },
        "id": "qkUbj_Xh8e1r",
        "outputId": "18c35ea5-1c98-47ff-b04f-47bdaf9ca9e5"
      },
      "source": [
        "model.fit(train_image_gen,epochs=200,validation_data=validation_image_gen,callbacks=[early_stop,model_checkpoint,reduce_lr])"
      ],
      "execution_count": null,
      "outputs": [
        {
          "output_type": "stream",
          "name": "stdout",
          "text": [
            "Epoch 1/200\n",
            "140/140 [==============================] - 2924s 21s/step - loss: 0.9857 - accuracy: 0.6051 - val_loss: 0.7962 - val_accuracy: 0.7033 - lr: 0.0010\n",
            "Epoch 2/200\n",
            "140/140 [==============================] - 26s 186ms/step - loss: 0.8024 - accuracy: 0.6971 - val_loss: 0.6910 - val_accuracy: 0.7656 - lr: 0.0010\n",
            "Epoch 3/200\n",
            "140/140 [==============================] - 26s 181ms/step - loss: 0.7342 - accuracy: 0.7345 - val_loss: 0.6845 - val_accuracy: 0.7626 - lr: 0.0010\n",
            "Epoch 4/200\n",
            "140/140 [==============================] - 27s 192ms/step - loss: 0.6893 - accuracy: 0.7537 - val_loss: 0.6835 - val_accuracy: 0.7685 - lr: 0.0010\n",
            "Epoch 5/200\n",
            "140/140 [==============================] - 27s 195ms/step - loss: 0.6636 - accuracy: 0.7564 - val_loss: 0.6165 - val_accuracy: 0.7834 - lr: 0.0010\n",
            "Epoch 6/200\n",
            "140/140 [==============================] - 26s 182ms/step - loss: 0.6497 - accuracy: 0.7577 - val_loss: 0.6248 - val_accuracy: 0.7834 - lr: 0.0010\n",
            "Epoch 7/200\n",
            "140/140 [==============================] - 27s 192ms/step - loss: 0.6264 - accuracy: 0.7723 - val_loss: 0.5879 - val_accuracy: 0.7923 - lr: 0.0010\n",
            "Epoch 8/200\n",
            "140/140 [==============================] - 26s 188ms/step - loss: 0.6100 - accuracy: 0.7783 - val_loss: 0.6035 - val_accuracy: 0.7982 - lr: 0.0010\n",
            "Epoch 9/200\n",
            "140/140 [==============================] - 26s 184ms/step - loss: 0.5942 - accuracy: 0.7821 - val_loss: 0.5896 - val_accuracy: 0.7923 - lr: 0.0010\n",
            "Epoch 10/200\n",
            "140/140 [==============================] - 26s 188ms/step - loss: 0.5825 - accuracy: 0.7886 - val_loss: 0.5923 - val_accuracy: 0.7745 - lr: 0.0010\n",
            "Epoch 10: early stopping\n"
          ]
        },
        {
          "output_type": "execute_result",
          "data": {
            "text/plain": [
              "<keras.src.callbacks.History at 0x79affaf952d0>"
            ]
          },
          "metadata": {},
          "execution_count": 24
        }
      ]
    },
    {
      "cell_type": "code",
      "metadata": {
        "id": "Hgi8hS8bcA8U"
      },
      "source": [
        "losses = pd.DataFrame(model.history.history)"
      ],
      "execution_count": null,
      "outputs": []
    },
    {
      "cell_type": "code",
      "metadata": {
        "id": "Rn79y9lBcKVt",
        "colab": {
          "base_uri": "https://localhost:8080/",
          "height": 447
        },
        "outputId": "8428085b-208e-4dae-f084-cec59fb4723b"
      },
      "source": [
        "losses[['loss','val_loss']].plot()"
      ],
      "execution_count": null,
      "outputs": [
        {
          "output_type": "execute_result",
          "data": {
            "text/plain": [
              "<Axes: >"
            ]
          },
          "metadata": {},
          "execution_count": 26
        },
        {
          "output_type": "display_data",
          "data": {
            "text/plain": [
              "<Figure size 640x480 with 1 Axes>"
            ],
            "image/png": "[encoded data removed]"
          },
          "metadata": {}
        }
      ]
    },
    {
      "cell_type": "markdown",
      "metadata": {
        "id": "ksKjjsFs6JDh"
      },
      "source": [
        "# **Fine tunning**"
      ]
    },
    {
      "cell_type": "code",
      "source": [
        "model.load_weights('/content/drive/My Drive/Colab Notebooks/Mestrado final/Novos treinamentos/Arquiteturas mix aumentado/ola/model_checkpoint2')"
      ],
      "metadata": {
        "colab": {
          "base_uri": "https://localhost:8080/"
        },
        "id": "rJ5uf_Fr4avC",
        "outputId": "a008ae74-e971-43d9-aa9a-f2370826a0e3"
      },
      "execution_count": null,
      "outputs": [
        {
          "output_type": "execute_result",
          "data": {
            "text/plain": [
              "<tensorflow.python.checkpoint.checkpoint.CheckpointLoadStatus at 0x79aff9b5e6b0>"
            ]
          },
          "metadata": {},
          "execution_count": 27
        }
      ]
    },
    {
      "cell_type": "code",
      "metadata": {
        "id": "go0sV1nJc9w2"
      },
      "source": [
        "# Unfreeze all the layers\n",
        "for layer in model.layers:\n",
        "    layer.trainable = True"
      ],
      "execution_count": null,
      "outputs": []
    },
    {
      "cell_type": "code",
      "metadata": {
        "id": "dIgL22Be6wcT"
      },
      "source": [
        "model.compile(loss='categorical_crossentropy',\n",
        "              optimizer=tf.optimizers.Adam(1e-5),\n",
        "              metrics=['accuracy'])"
      ],
      "execution_count": null,
      "outputs": []
    },
    {
      "cell_type": "code",
      "metadata": {
        "id": "z0K-YtRN6wcU",
        "colab": {
          "base_uri": "https://localhost:8080/"
        },
        "outputId": "6df1c852-247c-4441-d371-39e177b6d0ab"
      },
      "source": [
        "train_image_gen.class_indices"
      ],
      "execution_count": null,
      "outputs": [
        {
          "output_type": "execute_result",
          "data": {
            "text/plain": [
              "{'covid': 0, 'dip': 1, 'normais': 2, 'tuberculose': 3}"
            ]
          },
          "metadata": {},
          "execution_count": 30
        }
      ]
    },
    {
      "cell_type": "code",
      "metadata": {
        "id": "6ID1ESoi6azO",
        "colab": {
          "base_uri": "https://localhost:8080/"
        },
        "outputId": "688675cf-98de-449b-e75b-ba7f809d270d"
      },
      "source": [
        "model.fit(train_image_gen,epochs=10,validation_data=validation_image_gen,callbacks=[model_checkpoint])"
      ],
      "execution_count": null,
      "outputs": [
        {
          "output_type": "stream",
          "name": "stdout",
          "text": [
            "Epoch 1/10\n",
            "140/140 [==============================] - 175s 682ms/step - loss: 1.0002 - accuracy: 0.5870 - val_loss: 0.6370 - val_accuracy: 0.7507\n",
            "Epoch 2/10\n",
            "140/140 [==============================] - 90s 640ms/step - loss: 0.7086 - accuracy: 0.7262 - val_loss: 0.5651 - val_accuracy: 0.7774\n",
            "Epoch 3/10\n",
            "140/140 [==============================] - 90s 640ms/step - loss: 0.5793 - accuracy: 0.7911 - val_loss: 0.5203 - val_accuracy: 0.7923\n",
            "Epoch 4/10\n",
            "140/140 [==============================] - 90s 639ms/step - loss: 0.4736 - accuracy: 0.8327 - val_loss: 0.4847 - val_accuracy: 0.7953\n",
            "Epoch 5/10\n",
            "140/140 [==============================] - 92s 657ms/step - loss: 0.4017 - accuracy: 0.8602 - val_loss: 0.4689 - val_accuracy: 0.8398\n",
            "Epoch 6/10\n",
            "140/140 [==============================] - 94s 668ms/step - loss: 0.3438 - accuracy: 0.8774 - val_loss: 0.4512 - val_accuracy: 0.8427\n",
            "Epoch 7/10\n",
            "140/140 [==============================] - 90s 642ms/step - loss: 0.2876 - accuracy: 0.9013 - val_loss: 0.4450 - val_accuracy: 0.8249\n",
            "Epoch 8/10\n",
            "140/140 [==============================] - 90s 640ms/step - loss: 0.2420 - accuracy: 0.9219 - val_loss: 0.4490 - val_accuracy: 0.8368\n",
            "Epoch 9/10\n",
            "140/140 [==============================] - 91s 646ms/step - loss: 0.1922 - accuracy: 0.9394 - val_loss: 0.4227 - val_accuracy: 0.8279\n",
            "Epoch 10/10\n",
            "140/140 [==============================] - 90s 639ms/step - loss: 0.1745 - accuracy: 0.9434 - val_loss: 0.4254 - val_accuracy: 0.8220\n"
          ]
        },
        {
          "output_type": "execute_result",
          "data": {
            "text/plain": [
              "<keras.src.callbacks.History at 0x79b02191d7e0>"
            ]
          },
          "metadata": {},
          "execution_count": 31
        }
      ]
    },
    {
      "cell_type": "code",
      "metadata": {
        "id": "gQCIDrjr7ab4"
      },
      "source": [
        "losses = pd.DataFrame(model.history.history)"
      ],
      "execution_count": null,
      "outputs": []
    },
    {
      "cell_type": "code",
      "metadata": {
        "id": "JNp-4AZW7ab4",
        "colab": {
          "base_uri": "https://localhost:8080/",
          "height": 447
        },
        "outputId": "6b8804f9-7db1-4a5d-99dd-a20289bf6b53"
      },
      "source": [
        "losses[['loss','val_loss']].plot()"
      ],
      "execution_count": null,
      "outputs": [
        {
          "output_type": "execute_result",
          "data": {
            "text/plain": [
              "<Axes: >"
            ]
          },
          "metadata": {},
          "execution_count": 33
        },
        {
          "output_type": "display_data",
          "data": {
            "text/plain": [
              "<Figure size 640x480 with 1 Axes>"
            ],
            "image/png": "[encoded data removed]"
          },
          "metadata": {}
        }
      ]
    },
    {
      "cell_type": "code",
      "execution_count": null,
      "metadata": {
        "id": "3l0l-5qT35ET",
        "colab": {
          "base_uri": "https://localhost:8080/"
        },
        "outputId": "134e6e0e-b2ad-4a49-89d6-f2f1ec5e9520"
      },
      "outputs": [
        {
          "output_type": "execute_result",
          "data": {
            "text/plain": [
              "<tensorflow.python.checkpoint.checkpoint.CheckpointLoadStatus at 0x79afac56c5e0>"
            ]
          },
          "metadata": {},
          "execution_count": 34
        }
      ],
      "source": [
        "model.load_weights('/content/drive/My Drive/Colab Notebooks/Mestrado final/Novos treinamentos/Arquiteturas mix aumentado/ola/model_checkpoint2')"
      ]
    },
    {
      "cell_type": "code",
      "execution_count": null,
      "metadata": {
        "id": "OZesQnBk3u7p",
        "colab": {
          "base_uri": "https://localhost:8080/"
        },
        "outputId": "6975dbf1-678d-485e-d256-66c84307acbd"
      },
      "outputs": [
        {
          "output_type": "stream",
          "name": "stderr",
          "text": [
            "/usr/local/lib/python3.10/dist-packages/keras/src/engine/training.py:3079: UserWarning: You are saving your model as an HDF5 file via `model.save()`. This file format is considered legacy. We recommend using instead the native Keras format, e.g. `model.save('my_model.keras')`.\n",
            "  saving_api.save_model(\n"
          ]
        }
      ],
      "source": [
        "model.save('/content/drive/My Drive/Colab Notebooks/Mestrado final/Novos treinamentos/Arquiteturas mix aumentado/EfficientNetV2S_fine-tuning_RandAugm_avg_4_classes_mix_data_part2345.h5')"
      ]
    },
    {
      "cell_type": "code",
      "metadata": {
        "id": "TKeXy4Se7ab5",
        "colab": {
          "base_uri": "https://localhost:8080/"
        },
        "outputId": "6fd3f861-a002-468c-9c4f-a4fe7cfac1f9"
      },
      "source": [
        "model.evaluate(test_image_gen)"
      ],
      "execution_count": null,
      "outputs": [
        {
          "output_type": "stream",
          "name": "stdout",
          "text": [
            "10/10 [==============================] - 208s 23s/step - loss: 0.3566 - accuracy: 0.8658\n"
          ]
        },
        {
          "output_type": "execute_result",
          "data": {
            "text/plain": [
              "[0.35655954480171204, 0.8657718300819397]"
            ]
          },
          "metadata": {},
          "execution_count": 37
        }
      ]
    },
    {
      "cell_type": "code",
      "metadata": {
        "id": "11ZHrs0NeBj6",
        "colab": {
          "base_uri": "https://localhost:8080/"
        },
        "outputId": "c5798e27-df5c-42bd-e1d7-bdc74a11f6ba"
      },
      "source": [
        "pred_probabilities = model.predict(test_image_gen)"
      ],
      "execution_count": null,
      "outputs": [
        {
          "output_type": "stream",
          "name": "stdout",
          "text": [
            "10/10 [==============================] - 5s 142ms/step\n"
          ]
        }
      ]
    },
    {
      "cell_type": "code",
      "metadata": {
        "id": "7JH2AqnCkMs1"
      },
      "source": [
        "def int_predict (pred_probabilities):\n",
        "  predictions = np.zeros((pred_probabilities.shape[0],1),dtype=int)\n",
        "  i = 0\n",
        "  while i < pred_probabilities.shape[0]:\n",
        "    predictions[i,:] = [np.argmax(pred_probabilities[i])]\n",
        "    i = i + 1\n",
        "\n",
        "  return predictions"
      ],
      "execution_count": null,
      "outputs": []
    },
    {
      "cell_type": "code",
      "metadata": {
        "id": "KOrL8yuLkNvl"
      },
      "source": [
        "predictions = int_predict(pred_probabilities)"
      ],
      "execution_count": null,
      "outputs": []
    },
    {
      "cell_type": "code",
      "metadata": {
        "id": "ynhwnLkTkTOR"
      },
      "source": [
        "from sklearn.metrics import classification_report, confusion_matrix"
      ],
      "execution_count": null,
      "outputs": []
    },
    {
      "cell_type": "code",
      "source": [
        "test_image_gen.class_indices"
      ],
      "metadata": {
        "id": "xpC19SzV6jjB",
        "colab": {
          "base_uri": "https://localhost:8080/"
        },
        "outputId": "5321fb84-d816-4924-935a-0e6198b68216"
      },
      "execution_count": null,
      "outputs": [
        {
          "output_type": "execute_result",
          "data": {
            "text/plain": [
              "{'covid': 0, 'dip': 1, 'normais': 2, 'tuberculose': 3}"
            ]
          },
          "metadata": {},
          "execution_count": 45
        }
      ]
    },
    {
      "cell_type": "code",
      "metadata": {
        "id": "XRlZC8b-kjX2",
        "colab": {
          "base_uri": "https://localhost:8080/"
        },
        "outputId": "b6df5079-150b-44da-f347-ea2609a7865e"
      },
      "source": [
        "confusion_matrix(test_image_gen.classes,predictions)"
      ],
      "execution_count": null,
      "outputs": [
        {
          "output_type": "execute_result",
          "data": {
            "text/plain": [
              "array([[75,  3,  5,  1],\n",
              "       [ 5, 35,  2,  4],\n",
              "       [ 4,  3, 74,  3],\n",
              "       [ 3,  7,  0, 74]])"
            ]
          },
          "metadata": {},
          "execution_count": 46
        }
      ]
    },
    {
      "cell_type": "code",
      "metadata": {
        "id": "tgjNDpopkmAp",
        "colab": {
          "base_uri": "https://localhost:8080/"
        },
        "outputId": "c8e3787e-336f-4e5a-ca0b-353bd2dbe2f8"
      },
      "source": [
        "print(classification_report(test_image_gen.classes,predictions))"
      ],
      "execution_count": null,
      "outputs": [
        {
          "output_type": "stream",
          "name": "stdout",
          "text": [
            "              precision    recall  f1-score   support\n",
            "\n",
            "           0       0.86      0.89      0.88        84\n",
            "           1       0.73      0.76      0.74        46\n",
            "           2       0.91      0.88      0.90        84\n",
            "           3       0.90      0.88      0.89        84\n",
            "\n",
            "    accuracy                           0.87       298\n",
            "   macro avg       0.85      0.85      0.85       298\n",
            "weighted avg       0.87      0.87      0.87       298\n",
            "\n"
          ]
        }
      ]
    },
    {
      "cell_type": "code",
      "source": [
        "from sklearn.metrics import roc_curve, auc\n",
        "from sklearn.preprocessing import label_binarize\n",
        "from itertools import cycle"
      ],
      "metadata": {
        "id": "I0sqMVKkIT5D"
      },
      "execution_count": null,
      "outputs": []
    },
    {
      "cell_type": "code",
      "source": [
        "y_score = pred_probabilities\n",
        "num_classes = test_image_gen.num_classes"
      ],
      "metadata": {
        "id": "fIn0aAkVIT76"
      },
      "execution_count": null,
      "outputs": []
    },
    {
      "cell_type": "code",
      "source": [
        "# Obtenha as etiquetas verdadeiras de todas as imagens no gerador\n",
        "y_test = test_image_gen.classes\n",
        "y_test = label_binarize(y_test, classes=range(num_classes))"
      ],
      "metadata": {
        "id": "S6iju83qIT-p"
      },
      "execution_count": null,
      "outputs": []
    },
    {
      "cell_type": "code",
      "source": [
        "# Calcule as métricas ROC e AUC para cada classe\n",
        "fpr = dict()\n",
        "tpr = dict()\n",
        "roc_auc = dict()\n",
        "for i in range(num_classes):\n",
        "    fpr[i], tpr[i], _ = roc_curve(y_test[:, i], y_score[:, i])\n",
        "    roc_auc[i] = auc(fpr[i], tpr[i])"
      ],
      "metadata": {
        "id": "Dj_yjb8sJbt3"
      },
      "execution_count": null,
      "outputs": []
    },
    {
      "cell_type": "code",
      "source": [
        "# Plote a curva ROC para cada classe\n",
        "colors = cycle(['aqua', 'darkorange', 'cornflowerblue', 'green'])\n",
        "for i, color in zip(range(num_classes), colors):\n",
        "    plt.plot(fpr[i], tpr[i], color=color, lw=2,\n",
        "             label='ROC curve of class {0} (area = {1:0.2f})'\n",
        "             ''.format(i, roc_auc[i]))\n",
        "\n",
        "plt.plot([0, 1], [0, 1], 'k--', lw=2)\n",
        "plt.xlim([0.0, 1.0])\n",
        "plt.ylim([0.0, 1.05])\n",
        "plt.xlabel('False Positive Rate')\n",
        "plt.ylabel('True Positive Rate')\n",
        "plt.title('Receiver operating characteristic for multi-class')\n",
        "plt.legend(loc=\"lower right\")\n",
        "plt.show()"
      ],
      "metadata": {
        "id": "r_mdIm89JbwH",
        "colab": {
          "base_uri": "https://localhost:8080/",
          "height": 472
        },
        "outputId": "8c0901ac-5fb3-4ef5-c795-7ae3484a7181"
      },
      "execution_count": null,
      "outputs": [
        {
          "output_type": "display_data",
          "data": {
            "text/plain": [
              "<Figure size 640x480 with 1 Axes>"
            ],
            "image/png": "[encoded data removed]"
          },
          "metadata": {}
        }
      ]
    },
    {
      "cell_type": "code",
      "source": [
        "# Agora, vamos dar zoom em na parte superior esquerda do gráfico.\n",
        "plt.figure()\n",
        "for i, color in zip(range(num_classes), colors):\n",
        "    plt.plot(fpr[i], tpr[i], color=color, lw=2,\n",
        "             label='ROC curve of class {0} (area = {1:0.2f})'\n",
        "             ''.format(i, roc_auc[i]))\n",
        "\n",
        "plt.plot([0, 1], [0, 1], 'k--', lw=2)\n",
        "plt.xlim([0.0, 0.2])  # Ajusta o limite do eixo X para focar no início do gráfico\n",
        "plt.ylim([0.8, 1.05])  # Ajusta o limite do eixo Y para focar na parte superior do gráfico\n",
        "plt.xlabel('False Positive Rate')\n",
        "plt.ylabel('True Positive Rate')\n",
        "plt.title('Zoom na parte superior da Receiver operating characteristic to multi-class')\n",
        "plt.legend(loc=\"lower right\")\n",
        "plt.show()"
      ],
      "metadata": {
        "id": "gtciPC7PKMaM",
        "colab": {
          "base_uri": "https://localhost:8080/",
          "height": 472
        },
        "outputId": "7dc3fb36-1647-4fa0-c27d-7220abeb981d"
      },
      "execution_count": null,
      "outputs": [
        {
          "output_type": "display_data",
          "data": {
            "text/plain": [
              "<Figure size 640x480 with 1 Axes>"
            ],
            "image/png": "[encoded data removed]"
          },
          "metadata": {}
        }
      ]
    }
  ]
}