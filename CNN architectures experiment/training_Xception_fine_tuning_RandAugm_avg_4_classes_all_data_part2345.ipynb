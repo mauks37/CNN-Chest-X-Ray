{
  "nbformat": 4,
  "nbformat_minor": 0,
  "metadata": {
    "accelerator": "GPU",
    "colab": {
      "provenance": []
    },
    "kernelspec": {
      "display_name": "Python 3",
      "name": "python3"
    },
    "gpuClass": "standard"
  },
  "cells": [
    {
      "cell_type": "code",
      "metadata": {
        "id": "g_4Y44SJTRF3"
      },
      "source": [
        "import numpy as np\n",
        "import matplotlib.pyplot as plt\n",
        "from matplotlib.image import imread\n",
        "import tensorflow as tf\n",
        "import pandas as pd\n",
        "import random\n",
        "from keras.models import load_model"
      ],
      "execution_count": null,
      "outputs": []
    },
    {
      "cell_type": "code",
      "source": [
        "gpu_info = !nvidia-smi\n",
        "gpu_info = '\\n'.join(gpu_info)\n",
        "if gpu_info.find('failed') >= 0:\n",
        "  print('Select the Runtime > \"Change runtime type\" menu to enable a GPU accelerator, ')\n",
        "  print('and then re-execute this cell.')\n",
        "else:\n",
        "  print(gpu_info)"
      ],
      "metadata": {
        "colab": {
          "base_uri": "https://localhost:8080/"
        },
        "id": "SBziWpUPxRL2",
        "outputId": "deb5fadf-e7d3-4067-c816-15aeb2941769"
      },
      "execution_count": null,
      "outputs": [
        {
          "output_type": "stream",
          "name": "stdout",
          "text": [
            "Sun Nov 19 22:36:37 2023       \n",
            "+-----------------------------------------------------------------------------+\n",
            "| NVIDIA-SMI 525.105.17   Driver Version: 525.105.17   CUDA Version: 12.0     |\n",
            "|-------------------------------+----------------------+----------------------+\n",
            "| GPU  Name        Persistence-M| Bus-Id        Disp.A | Volatile Uncorr. ECC |\n",
            "| Fan  Temp  Perf  Pwr:Usage/Cap|         Memory-Usage | GPU-Util  Compute M. |\n",
            "|                               |                      |               MIG M. |\n",
            "|===============================+======================+======================|\n",
            "|   0  Tesla T4            Off  | 00000000:00:04.0 Off |                    0 |\n",
            "| N/A   44C    P8    12W /  70W |      0MiB / 15360MiB |      0%      Default |\n",
            "|                               |                      |                  N/A |\n",
            "+-------------------------------+----------------------+----------------------+\n",
            "                                                                               \n",
            "+-----------------------------------------------------------------------------+\n",
            "| Processes:                                                                  |\n",
            "|  GPU   GI   CI        PID   Type   Process name                  GPU Memory |\n",
            "|        ID   ID                                                   Usage      |\n",
            "|=============================================================================|\n",
            "|  No running processes found                                                 |\n",
            "+-----------------------------------------------------------------------------+\n"
          ]
        }
      ]
    },
    {
      "cell_type": "markdown",
      "metadata": {
        "id": "ZVGy_7Zf5Y4i"
      },
      "source": [
        "Keras guide:\n",
        "\n",
        "https://keras.io/guides/transfer_learning/"
      ]
    },
    {
      "cell_type": "code",
      "metadata": {
        "colab": {
          "base_uri": "https://localhost:8080/"
        },
        "id": "JepdH8A8T4mS",
        "outputId": "81b9be97-4d0d-4e80-e0f8-fcf4a9ca43c7"
      },
      "source": [
        "from google.colab import drive\n",
        "drive.mount('/content/drive')"
      ],
      "execution_count": null,
      "outputs": [
        {
          "output_type": "stream",
          "name": "stdout",
          "text": [
            "Mounted at /content/drive\n"
          ]
        }
      ]
    },
    {
      "cell_type": "code",
      "metadata": {
        "id": "11wCCxDHX_hS"
      },
      "source": [
        "data_dir = '/content/drive/My Drive/Colab Notebooks/Mestrado final/KFolds mix_data aumentado/trein 2-3-4-5/'\n",
        "valid_dir = '/content/drive/My Drive/Colab Notebooks/Mestrado final/KFolds mix_data aumentado/1/'\n",
        "test_dir = '/content/drive/My Drive/Colab Notebooks/Mestrado final/RXT teste mix_data/'"
      ],
      "execution_count": null,
      "outputs": []
    },
    {
      "cell_type": "code",
      "metadata": {
        "colab": {
          "base_uri": "https://localhost:8080/"
        },
        "id": "bNgHB-WRUcHU",
        "outputId": "0a70687c-c13b-4fd8-8b4b-8f563a4e8bd6"
      },
      "source": [
        "tf.io.gfile.listdir(data_dir)"
      ],
      "execution_count": null,
      "outputs": [
        {
          "output_type": "execute_result",
          "data": {
            "text/plain": [
              "['covid', 'dip', 'tuberculose', 'normais']"
            ]
          },
          "metadata": {},
          "execution_count": 5
        }
      ]
    },
    {
      "cell_type": "code",
      "metadata": {
        "id": "WownivFFqCee"
      },
      "source": [
        "image_shape = (229,229,3)\n",
        "batch_size = 32"
      ],
      "execution_count": null,
      "outputs": []
    },
    {
      "cell_type": "code",
      "metadata": {
        "id": "zZP11oMfqHcI"
      },
      "source": [
        "from tensorflow.keras.preprocessing.image import ImageDataGenerator"
      ],
      "execution_count": null,
      "outputs": []
    },
    {
      "cell_type": "code",
      "metadata": {
        "id": "z1DhgrjHqOpi"
      },
      "source": [
        "image_gen = ImageDataGenerator()"
      ],
      "execution_count": null,
      "outputs": []
    },
    {
      "cell_type": "code",
      "metadata": {
        "colab": {
          "base_uri": "https://localhost:8080/"
        },
        "id": "zt_rGqE7qRPb",
        "outputId": "40630f90-3f03-4a74-bb20-125bdd2d7955"
      },
      "source": [
        "image_gen.flow_from_directory(data_dir)"
      ],
      "execution_count": null,
      "outputs": [
        {
          "output_type": "stream",
          "name": "stdout",
          "text": [
            "Found 4470 images belonging to 4 classes.\n"
          ]
        },
        {
          "output_type": "execute_result",
          "data": {
            "text/plain": [
              "<keras.src.preprocessing.image.DirectoryIterator at 0x7fee3560ee60>"
            ]
          },
          "metadata": {},
          "execution_count": 9
        }
      ]
    },
    {
      "cell_type": "markdown",
      "metadata": {
        "id": "ljlmoX_wnS07"
      },
      "source": [
        "# **Creating the model**"
      ]
    },
    {
      "cell_type": "code",
      "metadata": {
        "id": "W9qDjEz-uv-z"
      },
      "source": [
        "from tensorflow.keras.applications.xception import Xception\n",
        "from tensorflow.keras.models import Model\n",
        "from tensorflow.keras.layers import Flatten,Dense"
      ],
      "execution_count": null,
      "outputs": []
    },
    {
      "cell_type": "code",
      "source": [
        "i = tf.keras.layers.Input([None, None, 3], dtype = tf.uint8)\n",
        "x = tf.cast(i, tf.float32)\n",
        "x = tf.keras.applications.xception.preprocess_input(x)\n",
        "\n",
        "xception = tf.keras.applications.Xception(input_tensor=x, input_shape = image_shape, include_top = False, weights=\"imagenet\", pooling=\"avg\")"
      ],
      "metadata": {
        "id": "5ydo9ogVnxUo",
        "colab": {
          "base_uri": "https://localhost:8080/"
        },
        "outputId": "fe961203-1b19-40ce-cb13-3db9aa1ee62d"
      },
      "execution_count": null,
      "outputs": [
        {
          "output_type": "stream",
          "name": "stdout",
          "text": [
            "Downloading data from https://storage.googleapis.com/tensorflow/keras-applications/xception/xception_weights_tf_dim_ordering_tf_kernels_notop.h5\n",
            "83683744/83683744 [==============================] - 0s 0us/step\n"
          ]
        }
      ]
    },
    {
      "cell_type": "code",
      "metadata": {
        "id": "O1L4fkqEo5Kw"
      },
      "source": [
        "# Freeze all the layers\n",
        "for layer in xception.layers:\n",
        "    layer.trainable = False"
      ],
      "execution_count": null,
      "outputs": []
    },
    {
      "cell_type": "code",
      "metadata": {
        "id": "sWsvb-H5o5NZ"
      },
      "source": [
        "z = xception.output\n",
        "predictions = Dense(4, activation='softmax')(z)\n",
        "model = Model(inputs=xception.input, outputs=predictions)"
      ],
      "execution_count": null,
      "outputs": []
    },
    {
      "cell_type": "code",
      "metadata": {
        "colab": {
          "base_uri": "https://localhost:8080/"
        },
        "id": "I825x9pepAa4",
        "outputId": "5ad21834-cd84-4ff4-e927-0c83d7412bfd"
      },
      "source": [
        "model.summary()"
      ],
      "execution_count": null,
      "outputs": [
        {
          "output_type": "stream",
          "name": "stdout",
          "text": [
            "Model: \"model\"\n",
            "__________________________________________________________________________________________________\n",
            " Layer (type)                Output Shape                 Param #   Connected to                  \n",
            "==================================================================================================\n",
            " input_1 (InputLayer)        [(None, None, None, 3)]      0         []                            \n",
            "                                                                                                  \n",
            " tf.cast (TFOpLambda)        (None, None, None, 3)        0         ['input_1[0][0]']             \n",
            "                                                                                                  \n",
            " tf.math.truediv (TFOpLambd  (None, None, None, 3)        0         ['tf.cast[0][0]']             \n",
            " a)                                                                                               \n",
            "                                                                                                  \n",
            " tf.math.subtract (TFOpLamb  (None, None, None, 3)        0         ['tf.math.truediv[0][0]']     \n",
            " da)                                                                                              \n",
            "                                                                                                  \n",
            " block1_conv1 (Conv2D)       (None, None, None, 32)       864       ['tf.math.subtract[0][0]']    \n",
            "                                                                                                  \n",
            " block1_conv1_bn (BatchNorm  (None, None, None, 32)       128       ['block1_conv1[0][0]']        \n",
            " alization)                                                                                       \n",
            "                                                                                                  \n",
            " block1_conv1_act (Activati  (None, None, None, 32)       0         ['block1_conv1_bn[0][0]']     \n",
            " on)                                                                                              \n",
            "                                                                                                  \n",
            " block1_conv2 (Conv2D)       (None, None, None, 64)       18432     ['block1_conv1_act[0][0]']    \n",
            "                                                                                                  \n",
            " block1_conv2_bn (BatchNorm  (None, None, None, 64)       256       ['block1_conv2[0][0]']        \n",
            " alization)                                                                                       \n",
            "                                                                                                  \n",
            " block1_conv2_act (Activati  (None, None, None, 64)       0         ['block1_conv2_bn[0][0]']     \n",
            " on)                                                                                              \n",
            "                                                                                                  \n",
            " block2_sepconv1 (Separable  (None, None, None, 128)      8768      ['block1_conv2_act[0][0]']    \n",
            " Conv2D)                                                                                          \n",
            "                                                                                                  \n",
            " block2_sepconv1_bn (BatchN  (None, None, None, 128)      512       ['block2_sepconv1[0][0]']     \n",
            " ormalization)                                                                                    \n",
            "                                                                                                  \n",
            " block2_sepconv2_act (Activ  (None, None, None, 128)      0         ['block2_sepconv1_bn[0][0]']  \n",
            " ation)                                                                                           \n",
            "                                                                                                  \n",
            " block2_sepconv2 (Separable  (None, None, None, 128)      17536     ['block2_sepconv2_act[0][0]'] \n",
            " Conv2D)                                                                                          \n",
            "                                                                                                  \n",
            " block2_sepconv2_bn (BatchN  (None, None, None, 128)      512       ['block2_sepconv2[0][0]']     \n",
            " ormalization)                                                                                    \n",
            "                                                                                                  \n",
            " conv2d (Conv2D)             (None, None, None, 128)      8192      ['block1_conv2_act[0][0]']    \n",
            "                                                                                                  \n",
            " block2_pool (MaxPooling2D)  (None, None, None, 128)      0         ['block2_sepconv2_bn[0][0]']  \n",
            "                                                                                                  \n",
            " batch_normalization (Batch  (None, None, None, 128)      512       ['conv2d[0][0]']              \n",
            " Normalization)                                                                                   \n",
            "                                                                                                  \n",
            " add (Add)                   (None, None, None, 128)      0         ['block2_pool[0][0]',         \n",
            "                                                                     'batch_normalization[0][0]'] \n",
            "                                                                                                  \n",
            " block3_sepconv1_act (Activ  (None, None, None, 128)      0         ['add[0][0]']                 \n",
            " ation)                                                                                           \n",
            "                                                                                                  \n",
            " block3_sepconv1 (Separable  (None, None, None, 256)      33920     ['block3_sepconv1_act[0][0]'] \n",
            " Conv2D)                                                                                          \n",
            "                                                                                                  \n",
            " block3_sepconv1_bn (BatchN  (None, None, None, 256)      1024      ['block3_sepconv1[0][0]']     \n",
            " ormalization)                                                                                    \n",
            "                                                                                                  \n",
            " block3_sepconv2_act (Activ  (None, None, None, 256)      0         ['block3_sepconv1_bn[0][0]']  \n",
            " ation)                                                                                           \n",
            "                                                                                                  \n",
            " block3_sepconv2 (Separable  (None, None, None, 256)      67840     ['block3_sepconv2_act[0][0]'] \n",
            " Conv2D)                                                                                          \n",
            "                                                                                                  \n",
            " block3_sepconv2_bn (BatchN  (None, None, None, 256)      1024      ['block3_sepconv2[0][0]']     \n",
            " ormalization)                                                                                    \n",
            "                                                                                                  \n",
            " conv2d_1 (Conv2D)           (None, None, None, 256)      32768     ['add[0][0]']                 \n",
            "                                                                                                  \n",
            " block3_pool (MaxPooling2D)  (None, None, None, 256)      0         ['block3_sepconv2_bn[0][0]']  \n",
            "                                                                                                  \n",
            " batch_normalization_1 (Bat  (None, None, None, 256)      1024      ['conv2d_1[0][0]']            \n",
            " chNormalization)                                                                                 \n",
            "                                                                                                  \n",
            " add_1 (Add)                 (None, None, None, 256)      0         ['block3_pool[0][0]',         \n",
            "                                                                     'batch_normalization_1[0][0]'\n",
            "                                                                    ]                             \n",
            "                                                                                                  \n",
            " block4_sepconv1_act (Activ  (None, None, None, 256)      0         ['add_1[0][0]']               \n",
            " ation)                                                                                           \n",
            "                                                                                                  \n",
            " block4_sepconv1 (Separable  (None, None, None, 728)      188672    ['block4_sepconv1_act[0][0]'] \n",
            " Conv2D)                                                                                          \n",
            "                                                                                                  \n",
            " block4_sepconv1_bn (BatchN  (None, None, None, 728)      2912      ['block4_sepconv1[0][0]']     \n",
            " ormalization)                                                                                    \n",
            "                                                                                                  \n",
            " block4_sepconv2_act (Activ  (None, None, None, 728)      0         ['block4_sepconv1_bn[0][0]']  \n",
            " ation)                                                                                           \n",
            "                                                                                                  \n",
            " block4_sepconv2 (Separable  (None, None, None, 728)      536536    ['block4_sepconv2_act[0][0]'] \n",
            " Conv2D)                                                                                          \n",
            "                                                                                                  \n",
            " block4_sepconv2_bn (BatchN  (None, None, None, 728)      2912      ['block4_sepconv2[0][0]']     \n",
            " ormalization)                                                                                    \n",
            "                                                                                                  \n",
            " conv2d_2 (Conv2D)           (None, None, None, 728)      186368    ['add_1[0][0]']               \n",
            "                                                                                                  \n",
            " block4_pool (MaxPooling2D)  (None, None, None, 728)      0         ['block4_sepconv2_bn[0][0]']  \n",
            "                                                                                                  \n",
            " batch_normalization_2 (Bat  (None, None, None, 728)      2912      ['conv2d_2[0][0]']            \n",
            " chNormalization)                                                                                 \n",
            "                                                                                                  \n",
            " add_2 (Add)                 (None, None, None, 728)      0         ['block4_pool[0][0]',         \n",
            "                                                                     'batch_normalization_2[0][0]'\n",
            "                                                                    ]                             \n",
            "                                                                                                  \n",
            " block5_sepconv1_act (Activ  (None, None, None, 728)      0         ['add_2[0][0]']               \n",
            " ation)                                                                                           \n",
            "                                                                                                  \n",
            " block5_sepconv1 (Separable  (None, None, None, 728)      536536    ['block5_sepconv1_act[0][0]'] \n",
            " Conv2D)                                                                                          \n",
            "                                                                                                  \n",
            " block5_sepconv1_bn (BatchN  (None, None, None, 728)      2912      ['block5_sepconv1[0][0]']     \n",
            " ormalization)                                                                                    \n",
            "                                                                                                  \n",
            " block5_sepconv2_act (Activ  (None, None, None, 728)      0         ['block5_sepconv1_bn[0][0]']  \n",
            " ation)                                                                                           \n",
            "                                                                                                  \n",
            " block5_sepconv2 (Separable  (None, None, None, 728)      536536    ['block5_sepconv2_act[0][0]'] \n",
            " Conv2D)                                                                                          \n",
            "                                                                                                  \n",
            " block5_sepconv2_bn (BatchN  (None, None, None, 728)      2912      ['block5_sepconv2[0][0]']     \n",
            " ormalization)                                                                                    \n",
            "                                                                                                  \n",
            " block5_sepconv3_act (Activ  (None, None, None, 728)      0         ['block5_sepconv2_bn[0][0]']  \n",
            " ation)                                                                                           \n",
            "                                                                                                  \n",
            " block5_sepconv3 (Separable  (None, None, None, 728)      536536    ['block5_sepconv3_act[0][0]'] \n",
            " Conv2D)                                                                                          \n",
            "                                                                                                  \n",
            " block5_sepconv3_bn (BatchN  (None, None, None, 728)      2912      ['block5_sepconv3[0][0]']     \n",
            " ormalization)                                                                                    \n",
            "                                                                                                  \n",
            " add_3 (Add)                 (None, None, None, 728)      0         ['block5_sepconv3_bn[0][0]',  \n",
            "                                                                     'add_2[0][0]']               \n",
            "                                                                                                  \n",
            " block6_sepconv1_act (Activ  (None, None, None, 728)      0         ['add_3[0][0]']               \n",
            " ation)                                                                                           \n",
            "                                                                                                  \n",
            " block6_sepconv1 (Separable  (None, None, None, 728)      536536    ['block6_sepconv1_act[0][0]'] \n",
            " Conv2D)                                                                                          \n",
            "                                                                                                  \n",
            " block6_sepconv1_bn (BatchN  (None, None, None, 728)      2912      ['block6_sepconv1[0][0]']     \n",
            " ormalization)                                                                                    \n",
            "                                                                                                  \n",
            " block6_sepconv2_act (Activ  (None, None, None, 728)      0         ['block6_sepconv1_bn[0][0]']  \n",
            " ation)                                                                                           \n",
            "                                                                                                  \n",
            " block6_sepconv2 (Separable  (None, None, None, 728)      536536    ['block6_sepconv2_act[0][0]'] \n",
            " Conv2D)                                                                                          \n",
            "                                                                                                  \n",
            " block6_sepconv2_bn (BatchN  (None, None, None, 728)      2912      ['block6_sepconv2[0][0]']     \n",
            " ormalization)                                                                                    \n",
            "                                                                                                  \n",
            " block6_sepconv3_act (Activ  (None, None, None, 728)      0         ['block6_sepconv2_bn[0][0]']  \n",
            " ation)                                                                                           \n",
            "                                                                                                  \n",
            " block6_sepconv3 (Separable  (None, None, None, 728)      536536    ['block6_sepconv3_act[0][0]'] \n",
            " Conv2D)                                                                                          \n",
            "                                                                                                  \n",
            " block6_sepconv3_bn (BatchN  (None, None, None, 728)      2912      ['block6_sepconv3[0][0]']     \n",
            " ormalization)                                                                                    \n",
            "                                                                                                  \n",
            " add_4 (Add)                 (None, None, None, 728)      0         ['block6_sepconv3_bn[0][0]',  \n",
            "                                                                     'add_3[0][0]']               \n",
            "                                                                                                  \n",
            " block7_sepconv1_act (Activ  (None, None, None, 728)      0         ['add_4[0][0]']               \n",
            " ation)                                                                                           \n",
            "                                                                                                  \n",
            " block7_sepconv1 (Separable  (None, None, None, 728)      536536    ['block7_sepconv1_act[0][0]'] \n",
            " Conv2D)                                                                                          \n",
            "                                                                                                  \n",
            " block7_sepconv1_bn (BatchN  (None, None, None, 728)      2912      ['block7_sepconv1[0][0]']     \n",
            " ormalization)                                                                                    \n",
            "                                                                                                  \n",
            " block7_sepconv2_act (Activ  (None, None, None, 728)      0         ['block7_sepconv1_bn[0][0]']  \n",
            " ation)                                                                                           \n",
            "                                                                                                  \n",
            " block7_sepconv2 (Separable  (None, None, None, 728)      536536    ['block7_sepconv2_act[0][0]'] \n",
            " Conv2D)                                                                                          \n",
            "                                                                                                  \n",
            " block7_sepconv2_bn (BatchN  (None, None, None, 728)      2912      ['block7_sepconv2[0][0]']     \n",
            " ormalization)                                                                                    \n",
            "                                                                                                  \n",
            " block7_sepconv3_act (Activ  (None, None, None, 728)      0         ['block7_sepconv2_bn[0][0]']  \n",
            " ation)                                                                                           \n",
            "                                                                                                  \n",
            " block7_sepconv3 (Separable  (None, None, None, 728)      536536    ['block7_sepconv3_act[0][0]'] \n",
            " Conv2D)                                                                                          \n",
            "                                                                                                  \n",
            " block7_sepconv3_bn (BatchN  (None, None, None, 728)      2912      ['block7_sepconv3[0][0]']     \n",
            " ormalization)                                                                                    \n",
            "                                                                                                  \n",
            " add_5 (Add)                 (None, None, None, 728)      0         ['block7_sepconv3_bn[0][0]',  \n",
            "                                                                     'add_4[0][0]']               \n",
            "                                                                                                  \n",
            " block8_sepconv1_act (Activ  (None, None, None, 728)      0         ['add_5[0][0]']               \n",
            " ation)                                                                                           \n",
            "                                                                                                  \n",
            " block8_sepconv1 (Separable  (None, None, None, 728)      536536    ['block8_sepconv1_act[0][0]'] \n",
            " Conv2D)                                                                                          \n",
            "                                                                                                  \n",
            " block8_sepconv1_bn (BatchN  (None, None, None, 728)      2912      ['block8_sepconv1[0][0]']     \n",
            " ormalization)                                                                                    \n",
            "                                                                                                  \n",
            " block8_sepconv2_act (Activ  (None, None, None, 728)      0         ['block8_sepconv1_bn[0][0]']  \n",
            " ation)                                                                                           \n",
            "                                                                                                  \n",
            " block8_sepconv2 (Separable  (None, None, None, 728)      536536    ['block8_sepconv2_act[0][0]'] \n",
            " Conv2D)                                                                                          \n",
            "                                                                                                  \n",
            " block8_sepconv2_bn (BatchN  (None, None, None, 728)      2912      ['block8_sepconv2[0][0]']     \n",
            " ormalization)                                                                                    \n",
            "                                                                                                  \n",
            " block8_sepconv3_act (Activ  (None, None, None, 728)      0         ['block8_sepconv2_bn[0][0]']  \n",
            " ation)                                                                                           \n",
            "                                                                                                  \n",
            " block8_sepconv3 (Separable  (None, None, None, 728)      536536    ['block8_sepconv3_act[0][0]'] \n",
            " Conv2D)                                                                                          \n",
            "                                                                                                  \n",
            " block8_sepconv3_bn (BatchN  (None, None, None, 728)      2912      ['block8_sepconv3[0][0]']     \n",
            " ormalization)                                                                                    \n",
            "                                                                                                  \n",
            " add_6 (Add)                 (None, None, None, 728)      0         ['block8_sepconv3_bn[0][0]',  \n",
            "                                                                     'add_5[0][0]']               \n",
            "                                                                                                  \n",
            " block9_sepconv1_act (Activ  (None, None, None, 728)      0         ['add_6[0][0]']               \n",
            " ation)                                                                                           \n",
            "                                                                                                  \n",
            " block9_sepconv1 (Separable  (None, None, None, 728)      536536    ['block9_sepconv1_act[0][0]'] \n",
            " Conv2D)                                                                                          \n",
            "                                                                                                  \n",
            " block9_sepconv1_bn (BatchN  (None, None, None, 728)      2912      ['block9_sepconv1[0][0]']     \n",
            " ormalization)                                                                                    \n",
            "                                                                                                  \n",
            " block9_sepconv2_act (Activ  (None, None, None, 728)      0         ['block9_sepconv1_bn[0][0]']  \n",
            " ation)                                                                                           \n",
            "                                                                                                  \n",
            " block9_sepconv2 (Separable  (None, None, None, 728)      536536    ['block9_sepconv2_act[0][0]'] \n",
            " Conv2D)                                                                                          \n",
            "                                                                                                  \n",
            " block9_sepconv2_bn (BatchN  (None, None, None, 728)      2912      ['block9_sepconv2[0][0]']     \n",
            " ormalization)                                                                                    \n",
            "                                                                                                  \n",
            " block9_sepconv3_act (Activ  (None, None, None, 728)      0         ['block9_sepconv2_bn[0][0]']  \n",
            " ation)                                                                                           \n",
            "                                                                                                  \n",
            " block9_sepconv3 (Separable  (None, None, None, 728)      536536    ['block9_sepconv3_act[0][0]'] \n",
            " Conv2D)                                                                                          \n",
            "                                                                                                  \n",
            " block9_sepconv3_bn (BatchN  (None, None, None, 728)      2912      ['block9_sepconv3[0][0]']     \n",
            " ormalization)                                                                                    \n",
            "                                                                                                  \n",
            " add_7 (Add)                 (None, None, None, 728)      0         ['block9_sepconv3_bn[0][0]',  \n",
            "                                                                     'add_6[0][0]']               \n",
            "                                                                                                  \n",
            " block10_sepconv1_act (Acti  (None, None, None, 728)      0         ['add_7[0][0]']               \n",
            " vation)                                                                                          \n",
            "                                                                                                  \n",
            " block10_sepconv1 (Separabl  (None, None, None, 728)      536536    ['block10_sepconv1_act[0][0]']\n",
            " eConv2D)                                                                                         \n",
            "                                                                                                  \n",
            " block10_sepconv1_bn (Batch  (None, None, None, 728)      2912      ['block10_sepconv1[0][0]']    \n",
            " Normalization)                                                                                   \n",
            "                                                                                                  \n",
            " block10_sepconv2_act (Acti  (None, None, None, 728)      0         ['block10_sepconv1_bn[0][0]'] \n",
            " vation)                                                                                          \n",
            "                                                                                                  \n",
            " block10_sepconv2 (Separabl  (None, None, None, 728)      536536    ['block10_sepconv2_act[0][0]']\n",
            " eConv2D)                                                                                         \n",
            "                                                                                                  \n",
            " block10_sepconv2_bn (Batch  (None, None, None, 728)      2912      ['block10_sepconv2[0][0]']    \n",
            " Normalization)                                                                                   \n",
            "                                                                                                  \n",
            " block10_sepconv3_act (Acti  (None, None, None, 728)      0         ['block10_sepconv2_bn[0][0]'] \n",
            " vation)                                                                                          \n",
            "                                                                                                  \n",
            " block10_sepconv3 (Separabl  (None, None, None, 728)      536536    ['block10_sepconv3_act[0][0]']\n",
            " eConv2D)                                                                                         \n",
            "                                                                                                  \n",
            " block10_sepconv3_bn (Batch  (None, None, None, 728)      2912      ['block10_sepconv3[0][0]']    \n",
            " Normalization)                                                                                   \n",
            "                                                                                                  \n",
            " add_8 (Add)                 (None, None, None, 728)      0         ['block10_sepconv3_bn[0][0]', \n",
            "                                                                     'add_7[0][0]']               \n",
            "                                                                                                  \n",
            " block11_sepconv1_act (Acti  (None, None, None, 728)      0         ['add_8[0][0]']               \n",
            " vation)                                                                                          \n",
            "                                                                                                  \n",
            " block11_sepconv1 (Separabl  (None, None, None, 728)      536536    ['block11_sepconv1_act[0][0]']\n",
            " eConv2D)                                                                                         \n",
            "                                                                                                  \n",
            " block11_sepconv1_bn (Batch  (None, None, None, 728)      2912      ['block11_sepconv1[0][0]']    \n",
            " Normalization)                                                                                   \n",
            "                                                                                                  \n",
            " block11_sepconv2_act (Acti  (None, None, None, 728)      0         ['block11_sepconv1_bn[0][0]'] \n",
            " vation)                                                                                          \n",
            "                                                                                                  \n",
            " block11_sepconv2 (Separabl  (None, None, None, 728)      536536    ['block11_sepconv2_act[0][0]']\n",
            " eConv2D)                                                                                         \n",
            "                                                                                                  \n",
            " block11_sepconv2_bn (Batch  (None, None, None, 728)      2912      ['block11_sepconv2[0][0]']    \n",
            " Normalization)                                                                                   \n",
            "                                                                                                  \n",
            " block11_sepconv3_act (Acti  (None, None, None, 728)      0         ['block11_sepconv2_bn[0][0]'] \n",
            " vation)                                                                                          \n",
            "                                                                                                  \n",
            " block11_sepconv3 (Separabl  (None, None, None, 728)      536536    ['block11_sepconv3_act[0][0]']\n",
            " eConv2D)                                                                                         \n",
            "                                                                                                  \n",
            " block11_sepconv3_bn (Batch  (None, None, None, 728)      2912      ['block11_sepconv3[0][0]']    \n",
            " Normalization)                                                                                   \n",
            "                                                                                                  \n",
            " add_9 (Add)                 (None, None, None, 728)      0         ['block11_sepconv3_bn[0][0]', \n",
            "                                                                     'add_8[0][0]']               \n",
            "                                                                                                  \n",
            " block12_sepconv1_act (Acti  (None, None, None, 728)      0         ['add_9[0][0]']               \n",
            " vation)                                                                                          \n",
            "                                                                                                  \n",
            " block12_sepconv1 (Separabl  (None, None, None, 728)      536536    ['block12_sepconv1_act[0][0]']\n",
            " eConv2D)                                                                                         \n",
            "                                                                                                  \n",
            " block12_sepconv1_bn (Batch  (None, None, None, 728)      2912      ['block12_sepconv1[0][0]']    \n",
            " Normalization)                                                                                   \n",
            "                                                                                                  \n",
            " block12_sepconv2_act (Acti  (None, None, None, 728)      0         ['block12_sepconv1_bn[0][0]'] \n",
            " vation)                                                                                          \n",
            "                                                                                                  \n",
            " block12_sepconv2 (Separabl  (None, None, None, 728)      536536    ['block12_sepconv2_act[0][0]']\n",
            " eConv2D)                                                                                         \n",
            "                                                                                                  \n",
            " block12_sepconv2_bn (Batch  (None, None, None, 728)      2912      ['block12_sepconv2[0][0]']    \n",
            " Normalization)                                                                                   \n",
            "                                                                                                  \n",
            " block12_sepconv3_act (Acti  (None, None, None, 728)      0         ['block12_sepconv2_bn[0][0]'] \n",
            " vation)                                                                                          \n",
            "                                                                                                  \n",
            " block12_sepconv3 (Separabl  (None, None, None, 728)      536536    ['block12_sepconv3_act[0][0]']\n",
            " eConv2D)                                                                                         \n",
            "                                                                                                  \n",
            " block12_sepconv3_bn (Batch  (None, None, None, 728)      2912      ['block12_sepconv3[0][0]']    \n",
            " Normalization)                                                                                   \n",
            "                                                                                                  \n",
            " add_10 (Add)                (None, None, None, 728)      0         ['block12_sepconv3_bn[0][0]', \n",
            "                                                                     'add_9[0][0]']               \n",
            "                                                                                                  \n",
            " block13_sepconv1_act (Acti  (None, None, None, 728)      0         ['add_10[0][0]']              \n",
            " vation)                                                                                          \n",
            "                                                                                                  \n",
            " block13_sepconv1 (Separabl  (None, None, None, 728)      536536    ['block13_sepconv1_act[0][0]']\n",
            " eConv2D)                                                                                         \n",
            "                                                                                                  \n",
            " block13_sepconv1_bn (Batch  (None, None, None, 728)      2912      ['block13_sepconv1[0][0]']    \n",
            " Normalization)                                                                                   \n",
            "                                                                                                  \n",
            " block13_sepconv2_act (Acti  (None, None, None, 728)      0         ['block13_sepconv1_bn[0][0]'] \n",
            " vation)                                                                                          \n",
            "                                                                                                  \n",
            " block13_sepconv2 (Separabl  (None, None, None, 1024)     752024    ['block13_sepconv2_act[0][0]']\n",
            " eConv2D)                                                                                         \n",
            "                                                                                                  \n",
            " block13_sepconv2_bn (Batch  (None, None, None, 1024)     4096      ['block13_sepconv2[0][0]']    \n",
            " Normalization)                                                                                   \n",
            "                                                                                                  \n",
            " conv2d_3 (Conv2D)           (None, None, None, 1024)     745472    ['add_10[0][0]']              \n",
            "                                                                                                  \n",
            " block13_pool (MaxPooling2D  (None, None, None, 1024)     0         ['block13_sepconv2_bn[0][0]'] \n",
            " )                                                                                                \n",
            "                                                                                                  \n",
            " batch_normalization_3 (Bat  (None, None, None, 1024)     4096      ['conv2d_3[0][0]']            \n",
            " chNormalization)                                                                                 \n",
            "                                                                                                  \n",
            " add_11 (Add)                (None, None, None, 1024)     0         ['block13_pool[0][0]',        \n",
            "                                                                     'batch_normalization_3[0][0]'\n",
            "                                                                    ]                             \n",
            "                                                                                                  \n",
            " block14_sepconv1 (Separabl  (None, None, None, 1536)     1582080   ['add_11[0][0]']              \n",
            " eConv2D)                                                                                         \n",
            "                                                                                                  \n",
            " block14_sepconv1_bn (Batch  (None, None, None, 1536)     6144      ['block14_sepconv1[0][0]']    \n",
            " Normalization)                                                                                   \n",
            "                                                                                                  \n",
            " block14_sepconv1_act (Acti  (None, None, None, 1536)     0         ['block14_sepconv1_bn[0][0]'] \n",
            " vation)                                                                                          \n",
            "                                                                                                  \n",
            " block14_sepconv2 (Separabl  (None, None, None, 2048)     3159552   ['block14_sepconv1_act[0][0]']\n",
            " eConv2D)                                                                                         \n",
            "                                                                                                  \n",
            " block14_sepconv2_bn (Batch  (None, None, None, 2048)     8192      ['block14_sepconv2[0][0]']    \n",
            " Normalization)                                                                                   \n",
            "                                                                                                  \n",
            " block14_sepconv2_act (Acti  (None, None, None, 2048)     0         ['block14_sepconv2_bn[0][0]'] \n",
            " vation)                                                                                          \n",
            "                                                                                                  \n",
            " global_average_pooling2d (  (None, 2048)                 0         ['block14_sepconv2_act[0][0]']\n",
            " GlobalAveragePooling2D)                                                                          \n",
            "                                                                                                  \n",
            " dense (Dense)               (None, 4)                    8196      ['global_average_pooling2d[0][\n",
            "                                                                    0]']                          \n",
            "                                                                                                  \n",
            "==================================================================================================\n",
            "Total params: 20869676 (79.61 MB)\n",
            "Trainable params: 8196 (32.02 KB)\n",
            "Non-trainable params: 20861480 (79.58 MB)\n",
            "__________________________________________________________________________________________________\n"
          ]
        }
      ]
    },
    {
      "cell_type": "code",
      "metadata": {
        "id": "fa4IjzPQpAd3"
      },
      "source": [
        "model.compile(loss='categorical_crossentropy',\n",
        "              optimizer='adam',\n",
        "              metrics=['accuracy'])"
      ],
      "execution_count": null,
      "outputs": []
    },
    {
      "cell_type": "code",
      "metadata": {
        "id": "5WRw2B3P53BW"
      },
      "source": [
        "from tensorflow.keras.callbacks import EarlyStopping, ModelCheckpoint, ReduceLROnPlateau"
      ],
      "execution_count": null,
      "outputs": []
    },
    {
      "cell_type": "code",
      "metadata": {
        "id": "mAhez88k6AW1"
      },
      "source": [
        "early_stop = EarlyStopping(monitor='val_loss',patience=3,verbose=2)"
      ],
      "execution_count": null,
      "outputs": []
    },
    {
      "cell_type": "code",
      "source": [
        "model_checkpoint  = ModelCheckpoint(\n",
        "    filepath='/content/drive/My Drive/Colab Notebooks/Mestrado final/Novos treinamentos/Arquiteturas mix aumentado/ola/model_checkpoint1',\n",
        "    save_weights_only=True,\n",
        "    monitor='val_accuracy',\n",
        "    mode='max',\n",
        "    save_freq='epoch',\n",
        "    save_best_only=True,\n",
        "    options=None,\n",
        "    initial_value_threshold=None,\n",
        "    verbose = 0\n",
        ")"
      ],
      "metadata": {
        "id": "COEBh47_eAd6"
      },
      "execution_count": null,
      "outputs": []
    },
    {
      "cell_type": "code",
      "source": [
        "reduce_lr = ReduceLROnPlateau(monitor='val_loss', factor=0.2,\n",
        "                              patience=5, min_lr=0.001)"
      ],
      "metadata": {
        "id": "Sa04TvyOXf_R"
      },
      "execution_count": null,
      "outputs": []
    },
    {
      "cell_type": "code",
      "metadata": {
        "colab": {
          "base_uri": "https://localhost:8080/"
        },
        "id": "pkgfaQ316FAH",
        "outputId": "ad6de9dc-c1ee-4e8d-d627-7eb9df82c431"
      },
      "source": [
        "train_image_gen = image_gen.flow_from_directory(data_dir,\n",
        "                                                target_size=(229,229),\n",
        "                                                color_mode='rgb',\n",
        "                                                batch_size=batch_size,\n",
        "                                                class_mode='categorical')"
      ],
      "execution_count": null,
      "outputs": [
        {
          "output_type": "stream",
          "name": "stdout",
          "text": [
            "Found 4470 images belonging to 4 classes.\n"
          ]
        }
      ]
    },
    {
      "cell_type": "code",
      "source": [
        "validation_image_gen = image_gen.flow_from_directory(valid_dir,\n",
        "                                                target_size=(229,229),\n",
        "                                                color_mode='rgb',\n",
        "                                                batch_size=batch_size,\n",
        "                                                class_mode='categorical')"
      ],
      "metadata": {
        "colab": {
          "base_uri": "https://localhost:8080/"
        },
        "id": "B6CFbu9soZLU",
        "outputId": "d3380098-9ee9-4970-ec7c-d4fe73621535"
      },
      "execution_count": null,
      "outputs": [
        {
          "output_type": "stream",
          "name": "stdout",
          "text": [
            "Found 337 images belonging to 4 classes.\n"
          ]
        }
      ]
    },
    {
      "cell_type": "code",
      "metadata": {
        "colab": {
          "base_uri": "https://localhost:8080/"
        },
        "id": "UO77ylqy6wv_",
        "outputId": "81845864-d068-4e2b-e5e8-700ea82e25eb"
      },
      "source": [
        "from sklearn.utils import shuffle\n",
        "test_image_gen = image_gen.flow_from_directory(test_dir,\n",
        "                                                     target_size=(229,229),\n",
        "                                                     color_mode='rgb',\n",
        "                                                     batch_size=batch_size,\n",
        "                                                     class_mode='categorical',\n",
        "                                                     shuffle=False\n",
        "                                               )"
      ],
      "execution_count": null,
      "outputs": [
        {
          "output_type": "stream",
          "name": "stdout",
          "text": [
            "Found 298 images belonging to 4 classes.\n"
          ]
        }
      ]
    },
    {
      "cell_type": "code",
      "metadata": {
        "colab": {
          "base_uri": "https://localhost:8080/"
        },
        "id": "wEt9ohCg7JbG",
        "outputId": "b3636aa6-697f-4565-bd13-b602f115b8de"
      },
      "source": [
        "train_image_gen.class_indices"
      ],
      "execution_count": null,
      "outputs": [
        {
          "output_type": "execute_result",
          "data": {
            "text/plain": [
              "{'covid': 0, 'dip': 1, 'normais': 2, 'tuberculose': 3}"
            ]
          },
          "metadata": {},
          "execution_count": 23
        }
      ]
    },
    {
      "cell_type": "markdown",
      "metadata": {
        "id": "F2wJaiy88l4K"
      },
      "source": [
        "# **Training the model**"
      ]
    },
    {
      "cell_type": "code",
      "metadata": {
        "colab": {
          "base_uri": "https://localhost:8080/"
        },
        "id": "qkUbj_Xh8e1r",
        "outputId": "ff1c5958-b3bb-454f-f95d-8a7763b0a3b3"
      },
      "source": [
        "model.fit(train_image_gen,epochs=200,validation_data=validation_image_gen,callbacks=[early_stop,model_checkpoint,reduce_lr])"
      ],
      "execution_count": null,
      "outputs": [
        {
          "output_type": "stream",
          "name": "stdout",
          "text": [
            "Epoch 1/200\n",
            "140/140 [==============================] - 634s 4s/step - loss: 1.0370 - accuracy: 0.5600 - val_loss: 0.7813 - val_accuracy: 0.7122 - lr: 0.0010\n",
            "Epoch 2/200\n",
            "140/140 [==============================] - 22s 158ms/step - loss: 0.8326 - accuracy: 0.6826 - val_loss: 0.7777 - val_accuracy: 0.7033 - lr: 0.0010\n",
            "Epoch 3/200\n",
            "140/140 [==============================] - 23s 165ms/step - loss: 0.7697 - accuracy: 0.7051 - val_loss: 0.6920 - val_accuracy: 0.7478 - lr: 0.0010\n",
            "Epoch 4/200\n",
            "140/140 [==============================] - 21s 150ms/step - loss: 0.7197 - accuracy: 0.7289 - val_loss: 0.7004 - val_accuracy: 0.7270 - lr: 0.0010\n",
            "Epoch 5/200\n",
            "140/140 [==============================] - 21s 151ms/step - loss: 0.6857 - accuracy: 0.7452 - val_loss: 0.6967 - val_accuracy: 0.7389 - lr: 0.0010\n",
            "Epoch 6/200\n",
            "140/140 [==============================] - 23s 166ms/step - loss: 0.6587 - accuracy: 0.7570 - val_loss: 0.6531 - val_accuracy: 0.7537 - lr: 0.0010\n",
            "Epoch 7/200\n",
            "140/140 [==============================] - 22s 153ms/step - loss: 0.6265 - accuracy: 0.7740 - val_loss: 0.6452 - val_accuracy: 0.7478 - lr: 0.0010\n",
            "Epoch 8/200\n",
            "140/140 [==============================] - 21s 150ms/step - loss: 0.6025 - accuracy: 0.7812 - val_loss: 0.6435 - val_accuracy: 0.7507 - lr: 0.0010\n",
            "Epoch 9/200\n",
            "140/140 [==============================] - 22s 155ms/step - loss: 0.5884 - accuracy: 0.7861 - val_loss: 0.6292 - val_accuracy: 0.7685 - lr: 0.0010\n",
            "Epoch 10/200\n",
            "140/140 [==============================] - 22s 154ms/step - loss: 0.5682 - accuracy: 0.7881 - val_loss: 0.6512 - val_accuracy: 0.7507 - lr: 0.0010\n",
            "Epoch 11/200\n",
            "140/140 [==============================] - 22s 158ms/step - loss: 0.5561 - accuracy: 0.8011 - val_loss: 0.6291 - val_accuracy: 0.7715 - lr: 0.0010\n",
            "Epoch 12/200\n",
            "140/140 [==============================] - 22s 157ms/step - loss: 0.5388 - accuracy: 0.8085 - val_loss: 0.6551 - val_accuracy: 0.7537 - lr: 0.0010\n",
            "Epoch 13/200\n",
            "140/140 [==============================] - 21s 151ms/step - loss: 0.5240 - accuracy: 0.8148 - val_loss: 0.6427 - val_accuracy: 0.7537 - lr: 0.0010\n",
            "Epoch 14/200\n",
            "140/140 [==============================] - 22s 157ms/step - loss: 0.5096 - accuracy: 0.8242 - val_loss: 0.6454 - val_accuracy: 0.7507 - lr: 0.0010\n",
            "Epoch 14: early stopping\n"
          ]
        },
        {
          "output_type": "execute_result",
          "data": {
            "text/plain": [
              "<keras.src.callbacks.History at 0x7fed9bf1a5f0>"
            ]
          },
          "metadata": {},
          "execution_count": 24
        }
      ]
    },
    {
      "cell_type": "code",
      "metadata": {
        "id": "Hgi8hS8bcA8U"
      },
      "source": [
        "losses = pd.DataFrame(model.history.history)"
      ],
      "execution_count": null,
      "outputs": []
    },
    {
      "cell_type": "code",
      "metadata": {
        "id": "Rn79y9lBcKVt",
        "colab": {
          "base_uri": "https://localhost:8080/",
          "height": 447
        },
        "outputId": "7cce18d2-8657-41cd-d3a3-cdd016a07f56"
      },
      "source": [
        "losses[['loss','val_loss']].plot()"
      ],
      "execution_count": null,
      "outputs": [
        {
          "output_type": "execute_result",
          "data": {
            "text/plain": [
              "<Axes: >"
            ]
          },
          "metadata": {},
          "execution_count": 26
        },
        {
          "output_type": "display_data",
          "data": {
            "text/plain": [
              "<Figure size 640x480 with 1 Axes>"
            ],
            "image/png": "[encoded data removed]"
          },
          "metadata": {}
        }
      ]
    },
    {
      "cell_type": "markdown",
      "metadata": {
        "id": "ksKjjsFs6JDh"
      },
      "source": [
        "# **Fine tunning**"
      ]
    },
    {
      "cell_type": "code",
      "source": [
        "model.load_weights('/content/drive/My Drive/Colab Notebooks/Mestrado final/Novos treinamentos/Arquiteturas mix aumentado/ola/model_checkpoint1')"
      ],
      "metadata": {
        "id": "y9nuWKsFiGE3",
        "colab": {
          "base_uri": "https://localhost:8080/"
        },
        "outputId": "1a63bd4e-858b-46e5-fd1a-f02e89ad3ef6"
      },
      "execution_count": null,
      "outputs": [
        {
          "output_type": "execute_result",
          "data": {
            "text/plain": [
              "<tensorflow.python.checkpoint.checkpoint.CheckpointLoadStatus at 0x7fed992d20e0>"
            ]
          },
          "metadata": {},
          "execution_count": 27
        }
      ]
    },
    {
      "cell_type": "code",
      "metadata": {
        "id": "go0sV1nJc9w2"
      },
      "source": [
        "# Unfreeze all the layers\n",
        "for layer in model.layers:\n",
        "    layer.trainable = True"
      ],
      "execution_count": null,
      "outputs": []
    },
    {
      "cell_type": "code",
      "metadata": {
        "id": "dIgL22Be6wcT"
      },
      "source": [
        "model.compile(loss='categorical_crossentropy',\n",
        "              optimizer=tf.optimizers.Adam(1e-5),\n",
        "              metrics=['accuracy'])"
      ],
      "execution_count": null,
      "outputs": []
    },
    {
      "cell_type": "code",
      "metadata": {
        "id": "z0K-YtRN6wcU",
        "colab": {
          "base_uri": "https://localhost:8080/"
        },
        "outputId": "6f145d05-a32a-41db-83fa-06a91ec0a642"
      },
      "source": [
        "train_image_gen.class_indices"
      ],
      "execution_count": null,
      "outputs": [
        {
          "output_type": "execute_result",
          "data": {
            "text/plain": [
              "{'covid': 0, 'dip': 1, 'normais': 2, 'tuberculose': 3}"
            ]
          },
          "metadata": {},
          "execution_count": 30
        }
      ]
    },
    {
      "cell_type": "code",
      "metadata": {
        "id": "6ID1ESoi6azO",
        "colab": {
          "base_uri": "https://localhost:8080/"
        },
        "outputId": "3fdadb44-d5b8-49e5-a41c-f7b73a2e11b0"
      },
      "source": [
        "model.fit(train_image_gen,epochs=10,validation_data=validation_image_gen,callbacks=[model_checkpoint])"
      ],
      "execution_count": null,
      "outputs": [
        {
          "output_type": "stream",
          "name": "stdout",
          "text": [
            "Epoch 1/10\n",
            "140/140 [==============================] - 100s 517ms/step - loss: 0.9601 - accuracy: 0.6123 - val_loss: 0.7613 - val_accuracy: 0.7448\n",
            "Epoch 2/10\n",
            "140/140 [==============================] - 71s 508ms/step - loss: 0.6102 - accuracy: 0.7794 - val_loss: 0.6957 - val_accuracy: 0.7745\n",
            "Epoch 3/10\n",
            "140/140 [==============================] - 71s 504ms/step - loss: 0.4162 - accuracy: 0.8624 - val_loss: 0.6113 - val_accuracy: 0.7923\n",
            "Epoch 4/10\n",
            "140/140 [==============================] - 71s 506ms/step - loss: 0.3048 - accuracy: 0.9101 - val_loss: 0.5592 - val_accuracy: 0.8101\n",
            "Epoch 5/10\n",
            "140/140 [==============================] - 71s 506ms/step - loss: 0.2084 - accuracy: 0.9485 - val_loss: 0.5281 - val_accuracy: 0.8160\n",
            "Epoch 6/10\n",
            "140/140 [==============================] - 72s 513ms/step - loss: 0.1551 - accuracy: 0.9651 - val_loss: 0.5172 - val_accuracy: 0.8249\n",
            "Epoch 7/10\n",
            "140/140 [==============================] - 71s 503ms/step - loss: 0.1060 - accuracy: 0.9848 - val_loss: 0.5213 - val_accuracy: 0.8279\n",
            "Epoch 8/10\n",
            "140/140 [==============================] - 71s 507ms/step - loss: 0.0810 - accuracy: 0.9913 - val_loss: 0.5296 - val_accuracy: 0.8309\n",
            "Epoch 9/10\n",
            "140/140 [==============================] - 71s 508ms/step - loss: 0.0633 - accuracy: 0.9937 - val_loss: 0.5287 - val_accuracy: 0.8398\n",
            "Epoch 10/10\n",
            "140/140 [==============================] - 69s 494ms/step - loss: 0.0469 - accuracy: 0.9955 - val_loss: 0.5328 - val_accuracy: 0.8338\n"
          ]
        },
        {
          "output_type": "execute_result",
          "data": {
            "text/plain": [
              "<keras.src.callbacks.History at 0x7fed9bcf5180>"
            ]
          },
          "metadata": {},
          "execution_count": 31
        }
      ]
    },
    {
      "cell_type": "code",
      "metadata": {
        "id": "gQCIDrjr7ab4"
      },
      "source": [
        "losses = pd.DataFrame(model.history.history)"
      ],
      "execution_count": null,
      "outputs": []
    },
    {
      "cell_type": "code",
      "metadata": {
        "id": "JNp-4AZW7ab4",
        "colab": {
          "base_uri": "https://localhost:8080/",
          "height": 450
        },
        "outputId": "2dcfc4ca-c79e-44c8-c07d-9cad417fd31b"
      },
      "source": [
        "losses[['loss','val_loss']].plot()"
      ],
      "execution_count": null,
      "outputs": [
        {
          "output_type": "execute_result",
          "data": {
            "text/plain": [
              "<Axes: >"
            ]
          },
          "metadata": {},
          "execution_count": 33
        },
        {
          "output_type": "display_data",
          "data": {
            "text/plain": [
              "<Figure size 640x480 with 1 Axes>"
            ],
            "image/png": "[encoded data removed]"
          },
          "metadata": {}
        }
      ]
    },
    {
      "cell_type": "code",
      "execution_count": null,
      "metadata": {
        "id": "3l0l-5qT35ET",
        "colab": {
          "base_uri": "https://localhost:8080/"
        },
        "outputId": "d1dc0aed-242f-4a25-cbef-e99789d8599c"
      },
      "outputs": [
        {
          "output_type": "execute_result",
          "data": {
            "text/plain": [
              "<tensorflow.python.checkpoint.checkpoint.CheckpointLoadStatus at 0x7fed98ddf7f0>"
            ]
          },
          "metadata": {},
          "execution_count": 34
        }
      ],
      "source": [
        "model.load_weights('/content/drive/My Drive/Colab Notebooks/Mestrado final/Novos treinamentos/Arquiteturas mix aumentado/ola/model_checkpoint1')"
      ]
    },
    {
      "cell_type": "code",
      "execution_count": null,
      "metadata": {
        "id": "OZesQnBk3u7p",
        "colab": {
          "base_uri": "https://localhost:8080/"
        },
        "outputId": "694b2b45-b647-4fad-fbf7-21efbaf7106d"
      },
      "outputs": [
        {
          "output_type": "stream",
          "name": "stderr",
          "text": [
            "/usr/local/lib/python3.10/dist-packages/keras/src/engine/training.py:3079: UserWarning: You are saving your model as an HDF5 file via `model.save()`. This file format is considered legacy. We recommend using instead the native Keras format, e.g. `model.save('my_model.keras')`.\n",
            "  saving_api.save_model(\n"
          ]
        }
      ],
      "source": [
        "model.save('/content/drive/My Drive/Colab Notebooks/Mestrado final/Novos treinamentos/Arquiteturas mix aumentado/Xception_fine-tuning_RandAugm_avg_4_classes_mix_data_part2345.h5')"
      ]
    },
    {
      "cell_type": "code",
      "metadata": {
        "id": "TKeXy4Se7ab5",
        "colab": {
          "base_uri": "https://localhost:8080/"
        },
        "outputId": "21b702b8-a9ff-4b8d-d396-b5d50b280424"
      },
      "source": [
        "model.evaluate(test_image_gen)"
      ],
      "execution_count": null,
      "outputs": [
        {
          "output_type": "stream",
          "name": "stdout",
          "text": [
            "10/10 [==============================] - 46s 5s/step - loss: 0.4769 - accuracy: 0.8255\n"
          ]
        },
        {
          "output_type": "execute_result",
          "data": {
            "text/plain": [
              "[0.4769041836261749, 0.8255033493041992]"
            ]
          },
          "metadata": {},
          "execution_count": 37
        }
      ]
    },
    {
      "cell_type": "code",
      "metadata": {
        "id": "11ZHrs0NeBj6",
        "colab": {
          "base_uri": "https://localhost:8080/"
        },
        "outputId": "ba0e99e0-196a-4d86-d2c3-9fb2ae13b55e"
      },
      "source": [
        "pred_probabilities = model.predict(test_image_gen)"
      ],
      "execution_count": null,
      "outputs": [
        {
          "output_type": "stream",
          "name": "stdout",
          "text": [
            "10/10 [==============================] - 2s 128ms/step\n"
          ]
        }
      ]
    },
    {
      "cell_type": "code",
      "metadata": {
        "id": "7JH2AqnCkMs1"
      },
      "source": [
        "def int_predict (pred_probabilities):\n",
        "  predictions = np.zeros((pred_probabilities.shape[0],1),dtype=int)\n",
        "  i = 0\n",
        "  while i < pred_probabilities.shape[0]:\n",
        "    predictions[i,:] = [np.argmax(pred_probabilities[i])]\n",
        "    i = i + 1\n",
        "\n",
        "  return predictions"
      ],
      "execution_count": null,
      "outputs": []
    },
    {
      "cell_type": "code",
      "metadata": {
        "id": "KOrL8yuLkNvl"
      },
      "source": [
        "predictions = int_predict(pred_probabilities)"
      ],
      "execution_count": null,
      "outputs": []
    },
    {
      "cell_type": "code",
      "metadata": {
        "id": "ynhwnLkTkTOR"
      },
      "source": [
        "from sklearn.metrics import classification_report, confusion_matrix"
      ],
      "execution_count": null,
      "outputs": []
    },
    {
      "cell_type": "code",
      "source": [
        "test_image_gen.class_indices"
      ],
      "metadata": {
        "id": "xpC19SzV6jjB",
        "colab": {
          "base_uri": "https://localhost:8080/"
        },
        "outputId": "bf4aafb8-7780-406e-8c09-4b21a5800eef"
      },
      "execution_count": null,
      "outputs": [
        {
          "output_type": "execute_result",
          "data": {
            "text/plain": [
              "{'covid': 0, 'dip': 1, 'normais': 2, 'tuberculose': 3}"
            ]
          },
          "metadata": {},
          "execution_count": 45
        }
      ]
    },
    {
      "cell_type": "code",
      "metadata": {
        "id": "XRlZC8b-kjX2",
        "colab": {
          "base_uri": "https://localhost:8080/"
        },
        "outputId": "1e3878f2-7a07-4705-eb34-882d6e90d0e9"
      },
      "source": [
        "confusion_matrix(test_image_gen.classes,predictions)"
      ],
      "execution_count": null,
      "outputs": [
        {
          "output_type": "execute_result",
          "data": {
            "text/plain": [
              "array([[71,  3,  9,  1],\n",
              "       [ 6, 30,  6,  4],\n",
              "       [ 5,  0, 75,  4],\n",
              "       [ 4,  6,  4, 70]])"
            ]
          },
          "metadata": {},
          "execution_count": 46
        }
      ]
    },
    {
      "cell_type": "code",
      "metadata": {
        "id": "tgjNDpopkmAp",
        "colab": {
          "base_uri": "https://localhost:8080/"
        },
        "outputId": "19cfd615-b0e9-4739-d2ac-3c8d596b5d0f"
      },
      "source": [
        "print(classification_report(test_image_gen.classes,predictions))"
      ],
      "execution_count": null,
      "outputs": [
        {
          "output_type": "stream",
          "name": "stdout",
          "text": [
            "              precision    recall  f1-score   support\n",
            "\n",
            "           0       0.83      0.85      0.84        84\n",
            "           1       0.77      0.65      0.71        46\n",
            "           2       0.80      0.89      0.84        84\n",
            "           3       0.89      0.83      0.86        84\n",
            "\n",
            "    accuracy                           0.83       298\n",
            "   macro avg       0.82      0.81      0.81       298\n",
            "weighted avg       0.83      0.83      0.82       298\n",
            "\n"
          ]
        }
      ]
    },
    {
      "cell_type": "code",
      "source": [
        "from sklearn.metrics import roc_curve, auc\n",
        "from sklearn.preprocessing import label_binarize\n",
        "from itertools import cycle"
      ],
      "metadata": {
        "id": "I0sqMVKkIT5D"
      },
      "execution_count": null,
      "outputs": []
    },
    {
      "cell_type": "code",
      "source": [
        "y_score = pred_probabilities\n",
        "num_classes = test_image_gen.num_classes"
      ],
      "metadata": {
        "id": "fIn0aAkVIT76"
      },
      "execution_count": null,
      "outputs": []
    },
    {
      "cell_type": "code",
      "source": [
        "# Obtenha as etiquetas verdadeiras de todas as imagens no gerador\n",
        "y_test = test_image_gen.classes\n",
        "y_test = label_binarize(y_test, classes=range(num_classes))"
      ],
      "metadata": {
        "id": "S6iju83qIT-p"
      },
      "execution_count": null,
      "outputs": []
    },
    {
      "cell_type": "code",
      "source": [
        "# Calcule as métricas ROC e AUC para cada classe\n",
        "fpr = dict()\n",
        "tpr = dict()\n",
        "roc_auc = dict()\n",
        "for i in range(num_classes):\n",
        "    fpr[i], tpr[i], _ = roc_curve(y_test[:, i], y_score[:, i])\n",
        "    roc_auc[i] = auc(fpr[i], tpr[i])"
      ],
      "metadata": {
        "id": "Dj_yjb8sJbt3"
      },
      "execution_count": null,
      "outputs": []
    },
    {
      "cell_type": "code",
      "source": [
        "# Plote a curva ROC para cada classe\n",
        "colors = cycle(['aqua', 'darkorange', 'cornflowerblue', 'green'])\n",
        "for i, color in zip(range(num_classes), colors):\n",
        "    plt.plot(fpr[i], tpr[i], color=color, lw=2,\n",
        "             label='ROC curve of class {0} (area = {1:0.2f})'\n",
        "             ''.format(i, roc_auc[i]))\n",
        "\n",
        "plt.plot([0, 1], [0, 1], 'k--', lw=2)\n",
        "plt.xlim([0.0, 1.0])\n",
        "plt.ylim([0.0, 1.05])\n",
        "plt.xlabel('False Positive Rate')\n",
        "plt.ylabel('True Positive Rate')\n",
        "plt.title('Receiver operating characteristic for multi-class')\n",
        "plt.legend(loc=\"lower right\")\n",
        "plt.show()"
      ],
      "metadata": {
        "id": "r_mdIm89JbwH",
        "colab": {
          "base_uri": "https://localhost:8080/",
          "height": 472
        },
        "outputId": "bd621e5e-9c1d-4a8c-a369-54a0841d42cc"
      },
      "execution_count": null,
      "outputs": [
        {
          "output_type": "display_data",
          "data": {
            "text/plain": [
              "<Figure size 640x480 with 1 Axes>"
            ],
            "image/png": "[encoded data removed]"
          },
          "metadata": {}
        }
      ]
    },
    {
      "cell_type": "code",
      "source": [
        "# Agora, vamos dar zoom em na parte superior esquerda do gráfico.\n",
        "plt.figure()\n",
        "for i, color in zip(range(num_classes), colors):\n",
        "    plt.plot(fpr[i], tpr[i], color=color, lw=2,\n",
        "             label='ROC curve of class {0} (area = {1:0.2f})'\n",
        "             ''.format(i, roc_auc[i]))\n",
        "\n",
        "plt.plot([0, 1], [0, 1], 'k--', lw=2)\n",
        "plt.xlim([0.0, 0.2])  # Ajusta o limite do eixo X para focar no início do gráfico\n",
        "plt.ylim([0.8, 1.05])  # Ajusta o limite do eixo Y para focar na parte superior do gráfico\n",
        "plt.xlabel('False Positive Rate')\n",
        "plt.ylabel('True Positive Rate')\n",
        "plt.title('Zoom na parte superior da Receiver operating characteristic to multi-class')\n",
        "plt.legend(loc=\"lower right\")\n",
        "plt.show()"
      ],
      "metadata": {
        "id": "gtciPC7PKMaM",
        "colab": {
          "base_uri": "https://localhost:8080/",
          "height": 472
        },
        "outputId": "7c4bb4fc-5147-4e1a-c924-7545fe9de4ba"
      },
      "execution_count": null,
      "outputs": [
        {
          "output_type": "display_data",
          "data": {
            "text/plain": [
              "<Figure size 640x480 with 1 Axes>"
            ],
            "image/png": "[encoded data removed]"
          },
          "metadata": {}
        }
      ]
    }
  ]
}