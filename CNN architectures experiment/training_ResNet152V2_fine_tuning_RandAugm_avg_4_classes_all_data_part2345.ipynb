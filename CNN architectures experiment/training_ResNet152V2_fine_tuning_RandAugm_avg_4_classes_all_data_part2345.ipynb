{
  "nbformat": 4,
  "nbformat_minor": 0,
  "metadata": {
    "accelerator": "GPU",
    "colab": {
      "provenance": []
    },
    "kernelspec": {
      "display_name": "Python 3",
      "name": "python3"
    },
    "gpuClass": "standard"
  },
  "cells": [
    {
      "cell_type": "code",
      "metadata": {
        "id": "g_4Y44SJTRF3"
      },
      "source": [
        "import numpy as np\n",
        "import matplotlib.pyplot as plt\n",
        "from matplotlib.image import imread\n",
        "import tensorflow as tf\n",
        "import pandas as pd\n",
        "import random\n",
        "from keras.models import load_model"
      ],
      "execution_count": null,
      "outputs": []
    },
    {
      "cell_type": "code",
      "source": [
        "gpu_info = !nvidia-smi\n",
        "gpu_info = '\\n'.join(gpu_info)\n",
        "if gpu_info.find('failed') >= 0:\n",
        "  print('Select the Runtime > \"Change runtime type\" menu to enable a GPU accelerator, ')\n",
        "  print('and then re-execute this cell.')\n",
        "else:\n",
        "  print(gpu_info)"
      ],
      "metadata": {
        "colab": {
          "base_uri": "https://localhost:8080/"
        },
        "id": "SBziWpUPxRL2",
        "outputId": "090d683a-d49c-479a-c3f6-2091b97f4574"
      },
      "execution_count": null,
      "outputs": [
        {
          "output_type": "stream",
          "name": "stdout",
          "text": [
            "Sun Nov 19 19:55:59 2023       \n",
            "+-----------------------------------------------------------------------------+\n",
            "| NVIDIA-SMI 525.105.17   Driver Version: 525.105.17   CUDA Version: 12.0     |\n",
            "|-------------------------------+----------------------+----------------------+\n",
            "| GPU  Name        Persistence-M| Bus-Id        Disp.A | Volatile Uncorr. ECC |\n",
            "| Fan  Temp  Perf  Pwr:Usage/Cap|         Memory-Usage | GPU-Util  Compute M. |\n",
            "|                               |                      |               MIG M. |\n",
            "|===============================+======================+======================|\n",
            "|   0  Tesla T4            Off  | 00000000:00:04.0 Off |                    0 |\n",
            "| N/A   71C    P8    11W /  70W |      0MiB / 15360MiB |      0%      Default |\n",
            "|                               |                      |                  N/A |\n",
            "+-------------------------------+----------------------+----------------------+\n",
            "                                                                               \n",
            "+-----------------------------------------------------------------------------+\n",
            "| Processes:                                                                  |\n",
            "|  GPU   GI   CI        PID   Type   Process name                  GPU Memory |\n",
            "|        ID   ID                                                   Usage      |\n",
            "|=============================================================================|\n",
            "|  No running processes found                                                 |\n",
            "+-----------------------------------------------------------------------------+\n"
          ]
        }
      ]
    },
    {
      "cell_type": "markdown",
      "metadata": {
        "id": "ZVGy_7Zf5Y4i"
      },
      "source": [
        "Keras guide:\n",
        "\n",
        "https://keras.io/guides/transfer_learning/"
      ]
    },
    {
      "cell_type": "code",
      "metadata": {
        "colab": {
          "base_uri": "https://localhost:8080/"
        },
        "id": "JepdH8A8T4mS",
        "outputId": "691b03c0-5c5a-40b8-aa5e-c8afd917f202"
      },
      "source": [
        "from google.colab import drive\n",
        "drive.mount('/content/drive')"
      ],
      "execution_count": null,
      "outputs": [
        {
          "output_type": "stream",
          "name": "stdout",
          "text": [
            "Mounted at /content/drive\n"
          ]
        }
      ]
    },
    {
      "cell_type": "code",
      "metadata": {
        "id": "11wCCxDHX_hS"
      },
      "source": [
        "data_dir = '/content/drive/My Drive/Colab Notebooks/Mestrado final/KFolds mix_data aumentado/trein 2-3-4-5/'\n",
        "valid_dir = '/content/drive/My Drive/Colab Notebooks/Mestrado final/KFolds mix_data aumentado/1/'\n",
        "test_dir = '/content/drive/My Drive/Colab Notebooks/Mestrado final/RXT teste mix_data/'"
      ],
      "execution_count": null,
      "outputs": []
    },
    {
      "cell_type": "code",
      "metadata": {
        "colab": {
          "base_uri": "https://localhost:8080/"
        },
        "id": "bNgHB-WRUcHU",
        "outputId": "59b5abfc-62a8-4cd1-a0af-107c38829992"
      },
      "source": [
        "tf.io.gfile.listdir(data_dir)"
      ],
      "execution_count": null,
      "outputs": [
        {
          "output_type": "execute_result",
          "data": {
            "text/plain": [
              "['covid', 'dip', 'tuberculose', 'normais']"
            ]
          },
          "metadata": {},
          "execution_count": 5
        }
      ]
    },
    {
      "cell_type": "code",
      "metadata": {
        "id": "WownivFFqCee"
      },
      "source": [
        "image_shape = (224,224,3)\n",
        "batch_size = 32"
      ],
      "execution_count": null,
      "outputs": []
    },
    {
      "cell_type": "code",
      "metadata": {
        "id": "zZP11oMfqHcI"
      },
      "source": [
        "from tensorflow.keras.preprocessing.image import ImageDataGenerator"
      ],
      "execution_count": null,
      "outputs": []
    },
    {
      "cell_type": "code",
      "metadata": {
        "id": "z1DhgrjHqOpi"
      },
      "source": [
        "image_gen = ImageDataGenerator()"
      ],
      "execution_count": null,
      "outputs": []
    },
    {
      "cell_type": "code",
      "metadata": {
        "colab": {
          "base_uri": "https://localhost:8080/"
        },
        "id": "zt_rGqE7qRPb",
        "outputId": "18a8c69a-757d-4968-a3c8-8bfb3111e423"
      },
      "source": [
        "image_gen.flow_from_directory(data_dir)"
      ],
      "execution_count": null,
      "outputs": [
        {
          "output_type": "stream",
          "name": "stdout",
          "text": [
            "Found 4470 images belonging to 4 classes.\n"
          ]
        },
        {
          "output_type": "execute_result",
          "data": {
            "text/plain": [
              "<keras.src.preprocessing.image.DirectoryIterator at 0x795fe5077070>"
            ]
          },
          "metadata": {},
          "execution_count": 9
        }
      ]
    },
    {
      "cell_type": "markdown",
      "metadata": {
        "id": "ljlmoX_wnS07"
      },
      "source": [
        "# **Creating the model**"
      ]
    },
    {
      "cell_type": "code",
      "metadata": {
        "id": "W9qDjEz-uv-z"
      },
      "source": [
        "from tensorflow.keras.applications.resnet_v2 import ResNet152V2\n",
        "from tensorflow.keras.models import Model\n",
        "from tensorflow.keras.layers import Flatten,Dense"
      ],
      "execution_count": null,
      "outputs": []
    },
    {
      "cell_type": "code",
      "source": [
        "i = tf.keras.layers.Input([None, None, 3], dtype = tf.uint8)\n",
        "x = tf.cast(i, tf.float32)\n",
        "x = tf.keras.applications.resnet_v2.preprocess_input(x)\n",
        "\n",
        "resnet_v2 = tf.keras.applications.ResNet152V2(input_tensor=x, input_shape = image_shape, include_top = False, weights=\"imagenet\", pooling=\"avg\")"
      ],
      "metadata": {
        "id": "5ydo9ogVnxUo",
        "colab": {
          "base_uri": "https://localhost:8080/"
        },
        "outputId": "d71f4f36-8f1b-41b0-a95b-b706c790491d"
      },
      "execution_count": null,
      "outputs": [
        {
          "output_type": "stream",
          "name": "stdout",
          "text": [
            "Downloading data from https://storage.googleapis.com/tensorflow/keras-applications/resnet/resnet152v2_weights_tf_dim_ordering_tf_kernels_notop.h5\n",
            "234545216/234545216 [==============================] - 1s 0us/step\n"
          ]
        }
      ]
    },
    {
      "cell_type": "code",
      "metadata": {
        "id": "O1L4fkqEo5Kw"
      },
      "source": [
        "# Freeze all the layers\n",
        "for layer in resnet_v2.layers:\n",
        "    layer.trainable = False"
      ],
      "execution_count": null,
      "outputs": []
    },
    {
      "cell_type": "code",
      "metadata": {
        "id": "sWsvb-H5o5NZ"
      },
      "source": [
        "z = resnet_v2.output\n",
        "predictions = Dense(4, activation='softmax')(z)\n",
        "model = Model(inputs=resnet_v2.input, outputs=predictions)"
      ],
      "execution_count": null,
      "outputs": []
    },
    {
      "cell_type": "code",
      "metadata": {
        "colab": {
          "base_uri": "https://localhost:8080/"
        },
        "id": "I825x9pepAa4",
        "outputId": "27c37aa3-7ad7-4e07-b98d-ab0469706086"
      },
      "source": [
        "model.summary()"
      ],
      "execution_count": null,
      "outputs": [
        {
          "output_type": "stream",
          "name": "stdout",
          "text": [
            "Model: \"model\"\n",
            "__________________________________________________________________________________________________\n",
            " Layer (type)                Output Shape                 Param #   Connected to                  \n",
            "==================================================================================================\n",
            " input_1 (InputLayer)        [(None, None, None, 3)]      0         []                            \n",
            "                                                                                                  \n",
            " tf.cast (TFOpLambda)        (None, None, None, 3)        0         ['input_1[0][0]']             \n",
            "                                                                                                  \n",
            " tf.math.truediv (TFOpLambd  (None, None, None, 3)        0         ['tf.cast[0][0]']             \n",
            " a)                                                                                               \n",
            "                                                                                                  \n",
            " tf.math.subtract (TFOpLamb  (None, None, None, 3)        0         ['tf.math.truediv[0][0]']     \n",
            " da)                                                                                              \n",
            "                                                                                                  \n",
            " conv1_pad (ZeroPadding2D)   (None, None, None, 3)        0         ['tf.math.subtract[0][0]']    \n",
            "                                                                                                  \n",
            " conv1_conv (Conv2D)         (None, None, None, 64)       9472      ['conv1_pad[0][0]']           \n",
            "                                                                                                  \n",
            " pool1_pad (ZeroPadding2D)   (None, None, None, 64)       0         ['conv1_conv[0][0]']          \n",
            "                                                                                                  \n",
            " pool1_pool (MaxPooling2D)   (None, None, None, 64)       0         ['pool1_pad[0][0]']           \n",
            "                                                                                                  \n",
            " conv2_block1_preact_bn (Ba  (None, None, None, 64)       256       ['pool1_pool[0][0]']          \n",
            " tchNormalization)                                                                                \n",
            "                                                                                                  \n",
            " conv2_block1_preact_relu (  (None, None, None, 64)       0         ['conv2_block1_preact_bn[0][0]\n",
            " Activation)                                                        ']                            \n",
            "                                                                                                  \n",
            " conv2_block1_1_conv (Conv2  (None, None, None, 64)       4096      ['conv2_block1_preact_relu[0][\n",
            " D)                                                                 0]']                          \n",
            "                                                                                                  \n",
            " conv2_block1_1_bn (BatchNo  (None, None, None, 64)       256       ['conv2_block1_1_conv[0][0]'] \n",
            " rmalization)                                                                                     \n",
            "                                                                                                  \n",
            " conv2_block1_1_relu (Activ  (None, None, None, 64)       0         ['conv2_block1_1_bn[0][0]']   \n",
            " ation)                                                                                           \n",
            "                                                                                                  \n",
            " conv2_block1_2_pad (ZeroPa  (None, None, None, 64)       0         ['conv2_block1_1_relu[0][0]'] \n",
            " dding2D)                                                                                         \n",
            "                                                                                                  \n",
            " conv2_block1_2_conv (Conv2  (None, None, None, 64)       36864     ['conv2_block1_2_pad[0][0]']  \n",
            " D)                                                                                               \n",
            "                                                                                                  \n",
            " conv2_block1_2_bn (BatchNo  (None, None, None, 64)       256       ['conv2_block1_2_conv[0][0]'] \n",
            " rmalization)                                                                                     \n",
            "                                                                                                  \n",
            " conv2_block1_2_relu (Activ  (None, None, None, 64)       0         ['conv2_block1_2_bn[0][0]']   \n",
            " ation)                                                                                           \n",
            "                                                                                                  \n",
            " conv2_block1_0_conv (Conv2  (None, None, None, 256)      16640     ['conv2_block1_preact_relu[0][\n",
            " D)                                                                 0]']                          \n",
            "                                                                                                  \n",
            " conv2_block1_3_conv (Conv2  (None, None, None, 256)      16640     ['conv2_block1_2_relu[0][0]'] \n",
            " D)                                                                                               \n",
            "                                                                                                  \n",
            " conv2_block1_out (Add)      (None, None, None, 256)      0         ['conv2_block1_0_conv[0][0]', \n",
            "                                                                     'conv2_block1_3_conv[0][0]'] \n",
            "                                                                                                  \n",
            " conv2_block2_preact_bn (Ba  (None, None, None, 256)      1024      ['conv2_block1_out[0][0]']    \n",
            " tchNormalization)                                                                                \n",
            "                                                                                                  \n",
            " conv2_block2_preact_relu (  (None, None, None, 256)      0         ['conv2_block2_preact_bn[0][0]\n",
            " Activation)                                                        ']                            \n",
            "                                                                                                  \n",
            " conv2_block2_1_conv (Conv2  (None, None, None, 64)       16384     ['conv2_block2_preact_relu[0][\n",
            " D)                                                                 0]']                          \n",
            "                                                                                                  \n",
            " conv2_block2_1_bn (BatchNo  (None, None, None, 64)       256       ['conv2_block2_1_conv[0][0]'] \n",
            " rmalization)                                                                                     \n",
            "                                                                                                  \n",
            " conv2_block2_1_relu (Activ  (None, None, None, 64)       0         ['conv2_block2_1_bn[0][0]']   \n",
            " ation)                                                                                           \n",
            "                                                                                                  \n",
            " conv2_block2_2_pad (ZeroPa  (None, None, None, 64)       0         ['conv2_block2_1_relu[0][0]'] \n",
            " dding2D)                                                                                         \n",
            "                                                                                                  \n",
            " conv2_block2_2_conv (Conv2  (None, None, None, 64)       36864     ['conv2_block2_2_pad[0][0]']  \n",
            " D)                                                                                               \n",
            "                                                                                                  \n",
            " conv2_block2_2_bn (BatchNo  (None, None, None, 64)       256       ['conv2_block2_2_conv[0][0]'] \n",
            " rmalization)                                                                                     \n",
            "                                                                                                  \n",
            " conv2_block2_2_relu (Activ  (None, None, None, 64)       0         ['conv2_block2_2_bn[0][0]']   \n",
            " ation)                                                                                           \n",
            "                                                                                                  \n",
            " conv2_block2_3_conv (Conv2  (None, None, None, 256)      16640     ['conv2_block2_2_relu[0][0]'] \n",
            " D)                                                                                               \n",
            "                                                                                                  \n",
            " conv2_block2_out (Add)      (None, None, None, 256)      0         ['conv2_block1_out[0][0]',    \n",
            "                                                                     'conv2_block2_3_conv[0][0]'] \n",
            "                                                                                                  \n",
            " conv2_block3_preact_bn (Ba  (None, None, None, 256)      1024      ['conv2_block2_out[0][0]']    \n",
            " tchNormalization)                                                                                \n",
            "                                                                                                  \n",
            " conv2_block3_preact_relu (  (None, None, None, 256)      0         ['conv2_block3_preact_bn[0][0]\n",
            " Activation)                                                        ']                            \n",
            "                                                                                                  \n",
            " conv2_block3_1_conv (Conv2  (None, None, None, 64)       16384     ['conv2_block3_preact_relu[0][\n",
            " D)                                                                 0]']                          \n",
            "                                                                                                  \n",
            " conv2_block3_1_bn (BatchNo  (None, None, None, 64)       256       ['conv2_block3_1_conv[0][0]'] \n",
            " rmalization)                                                                                     \n",
            "                                                                                                  \n",
            " conv2_block3_1_relu (Activ  (None, None, None, 64)       0         ['conv2_block3_1_bn[0][0]']   \n",
            " ation)                                                                                           \n",
            "                                                                                                  \n",
            " conv2_block3_2_pad (ZeroPa  (None, None, None, 64)       0         ['conv2_block3_1_relu[0][0]'] \n",
            " dding2D)                                                                                         \n",
            "                                                                                                  \n",
            " conv2_block3_2_conv (Conv2  (None, None, None, 64)       36864     ['conv2_block3_2_pad[0][0]']  \n",
            " D)                                                                                               \n",
            "                                                                                                  \n",
            " conv2_block3_2_bn (BatchNo  (None, None, None, 64)       256       ['conv2_block3_2_conv[0][0]'] \n",
            " rmalization)                                                                                     \n",
            "                                                                                                  \n",
            " conv2_block3_2_relu (Activ  (None, None, None, 64)       0         ['conv2_block3_2_bn[0][0]']   \n",
            " ation)                                                                                           \n",
            "                                                                                                  \n",
            " max_pooling2d (MaxPooling2  (None, None, None, 256)      0         ['conv2_block2_out[0][0]']    \n",
            " D)                                                                                               \n",
            "                                                                                                  \n",
            " conv2_block3_3_conv (Conv2  (None, None, None, 256)      16640     ['conv2_block3_2_relu[0][0]'] \n",
            " D)                                                                                               \n",
            "                                                                                                  \n",
            " conv2_block3_out (Add)      (None, None, None, 256)      0         ['max_pooling2d[0][0]',       \n",
            "                                                                     'conv2_block3_3_conv[0][0]'] \n",
            "                                                                                                  \n",
            " conv3_block1_preact_bn (Ba  (None, None, None, 256)      1024      ['conv2_block3_out[0][0]']    \n",
            " tchNormalization)                                                                                \n",
            "                                                                                                  \n",
            " conv3_block1_preact_relu (  (None, None, None, 256)      0         ['conv3_block1_preact_bn[0][0]\n",
            " Activation)                                                        ']                            \n",
            "                                                                                                  \n",
            " conv3_block1_1_conv (Conv2  (None, None, None, 128)      32768     ['conv3_block1_preact_relu[0][\n",
            " D)                                                                 0]']                          \n",
            "                                                                                                  \n",
            " conv3_block1_1_bn (BatchNo  (None, None, None, 128)      512       ['conv3_block1_1_conv[0][0]'] \n",
            " rmalization)                                                                                     \n",
            "                                                                                                  \n",
            " conv3_block1_1_relu (Activ  (None, None, None, 128)      0         ['conv3_block1_1_bn[0][0]']   \n",
            " ation)                                                                                           \n",
            "                                                                                                  \n",
            " conv3_block1_2_pad (ZeroPa  (None, None, None, 128)      0         ['conv3_block1_1_relu[0][0]'] \n",
            " dding2D)                                                                                         \n",
            "                                                                                                  \n",
            " conv3_block1_2_conv (Conv2  (None, None, None, 128)      147456    ['conv3_block1_2_pad[0][0]']  \n",
            " D)                                                                                               \n",
            "                                                                                                  \n",
            " conv3_block1_2_bn (BatchNo  (None, None, None, 128)      512       ['conv3_block1_2_conv[0][0]'] \n",
            " rmalization)                                                                                     \n",
            "                                                                                                  \n",
            " conv3_block1_2_relu (Activ  (None, None, None, 128)      0         ['conv3_block1_2_bn[0][0]']   \n",
            " ation)                                                                                           \n",
            "                                                                                                  \n",
            " conv3_block1_0_conv (Conv2  (None, None, None, 512)      131584    ['conv3_block1_preact_relu[0][\n",
            " D)                                                                 0]']                          \n",
            "                                                                                                  \n",
            " conv3_block1_3_conv (Conv2  (None, None, None, 512)      66048     ['conv3_block1_2_relu[0][0]'] \n",
            " D)                                                                                               \n",
            "                                                                                                  \n",
            " conv3_block1_out (Add)      (None, None, None, 512)      0         ['conv3_block1_0_conv[0][0]', \n",
            "                                                                     'conv3_block1_3_conv[0][0]'] \n",
            "                                                                                                  \n",
            " conv3_block2_preact_bn (Ba  (None, None, None, 512)      2048      ['conv3_block1_out[0][0]']    \n",
            " tchNormalization)                                                                                \n",
            "                                                                                                  \n",
            " conv3_block2_preact_relu (  (None, None, None, 512)      0         ['conv3_block2_preact_bn[0][0]\n",
            " Activation)                                                        ']                            \n",
            "                                                                                                  \n",
            " conv3_block2_1_conv (Conv2  (None, None, None, 128)      65536     ['conv3_block2_preact_relu[0][\n",
            " D)                                                                 0]']                          \n",
            "                                                                                                  \n",
            " conv3_block2_1_bn (BatchNo  (None, None, None, 128)      512       ['conv3_block2_1_conv[0][0]'] \n",
            " rmalization)                                                                                     \n",
            "                                                                                                  \n",
            " conv3_block2_1_relu (Activ  (None, None, None, 128)      0         ['conv3_block2_1_bn[0][0]']   \n",
            " ation)                                                                                           \n",
            "                                                                                                  \n",
            " conv3_block2_2_pad (ZeroPa  (None, None, None, 128)      0         ['conv3_block2_1_relu[0][0]'] \n",
            " dding2D)                                                                                         \n",
            "                                                                                                  \n",
            " conv3_block2_2_conv (Conv2  (None, None, None, 128)      147456    ['conv3_block2_2_pad[0][0]']  \n",
            " D)                                                                                               \n",
            "                                                                                                  \n",
            " conv3_block2_2_bn (BatchNo  (None, None, None, 128)      512       ['conv3_block2_2_conv[0][0]'] \n",
            " rmalization)                                                                                     \n",
            "                                                                                                  \n",
            " conv3_block2_2_relu (Activ  (None, None, None, 128)      0         ['conv3_block2_2_bn[0][0]']   \n",
            " ation)                                                                                           \n",
            "                                                                                                  \n",
            " conv3_block2_3_conv (Conv2  (None, None, None, 512)      66048     ['conv3_block2_2_relu[0][0]'] \n",
            " D)                                                                                               \n",
            "                                                                                                  \n",
            " conv3_block2_out (Add)      (None, None, None, 512)      0         ['conv3_block1_out[0][0]',    \n",
            "                                                                     'conv3_block2_3_conv[0][0]'] \n",
            "                                                                                                  \n",
            " conv3_block3_preact_bn (Ba  (None, None, None, 512)      2048      ['conv3_block2_out[0][0]']    \n",
            " tchNormalization)                                                                                \n",
            "                                                                                                  \n",
            " conv3_block3_preact_relu (  (None, None, None, 512)      0         ['conv3_block3_preact_bn[0][0]\n",
            " Activation)                                                        ']                            \n",
            "                                                                                                  \n",
            " conv3_block3_1_conv (Conv2  (None, None, None, 128)      65536     ['conv3_block3_preact_relu[0][\n",
            " D)                                                                 0]']                          \n",
            "                                                                                                  \n",
            " conv3_block3_1_bn (BatchNo  (None, None, None, 128)      512       ['conv3_block3_1_conv[0][0]'] \n",
            " rmalization)                                                                                     \n",
            "                                                                                                  \n",
            " conv3_block3_1_relu (Activ  (None, None, None, 128)      0         ['conv3_block3_1_bn[0][0]']   \n",
            " ation)                                                                                           \n",
            "                                                                                                  \n",
            " conv3_block3_2_pad (ZeroPa  (None, None, None, 128)      0         ['conv3_block3_1_relu[0][0]'] \n",
            " dding2D)                                                                                         \n",
            "                                                                                                  \n",
            " conv3_block3_2_conv (Conv2  (None, None, None, 128)      147456    ['conv3_block3_2_pad[0][0]']  \n",
            " D)                                                                                               \n",
            "                                                                                                  \n",
            " conv3_block3_2_bn (BatchNo  (None, None, None, 128)      512       ['conv3_block3_2_conv[0][0]'] \n",
            " rmalization)                                                                                     \n",
            "                                                                                                  \n",
            " conv3_block3_2_relu (Activ  (None, None, None, 128)      0         ['conv3_block3_2_bn[0][0]']   \n",
            " ation)                                                                                           \n",
            "                                                                                                  \n",
            " conv3_block3_3_conv (Conv2  (None, None, None, 512)      66048     ['conv3_block3_2_relu[0][0]'] \n",
            " D)                                                                                               \n",
            "                                                                                                  \n",
            " conv3_block3_out (Add)      (None, None, None, 512)      0         ['conv3_block2_out[0][0]',    \n",
            "                                                                     'conv3_block3_3_conv[0][0]'] \n",
            "                                                                                                  \n",
            " conv3_block4_preact_bn (Ba  (None, None, None, 512)      2048      ['conv3_block3_out[0][0]']    \n",
            " tchNormalization)                                                                                \n",
            "                                                                                                  \n",
            " conv3_block4_preact_relu (  (None, None, None, 512)      0         ['conv3_block4_preact_bn[0][0]\n",
            " Activation)                                                        ']                            \n",
            "                                                                                                  \n",
            " conv3_block4_1_conv (Conv2  (None, None, None, 128)      65536     ['conv3_block4_preact_relu[0][\n",
            " D)                                                                 0]']                          \n",
            "                                                                                                  \n",
            " conv3_block4_1_bn (BatchNo  (None, None, None, 128)      512       ['conv3_block4_1_conv[0][0]'] \n",
            " rmalization)                                                                                     \n",
            "                                                                                                  \n",
            " conv3_block4_1_relu (Activ  (None, None, None, 128)      0         ['conv3_block4_1_bn[0][0]']   \n",
            " ation)                                                                                           \n",
            "                                                                                                  \n",
            " conv3_block4_2_pad (ZeroPa  (None, None, None, 128)      0         ['conv3_block4_1_relu[0][0]'] \n",
            " dding2D)                                                                                         \n",
            "                                                                                                  \n",
            " conv3_block4_2_conv (Conv2  (None, None, None, 128)      147456    ['conv3_block4_2_pad[0][0]']  \n",
            " D)                                                                                               \n",
            "                                                                                                  \n",
            " conv3_block4_2_bn (BatchNo  (None, None, None, 128)      512       ['conv3_block4_2_conv[0][0]'] \n",
            " rmalization)                                                                                     \n",
            "                                                                                                  \n",
            " conv3_block4_2_relu (Activ  (None, None, None, 128)      0         ['conv3_block4_2_bn[0][0]']   \n",
            " ation)                                                                                           \n",
            "                                                                                                  \n",
            " conv3_block4_3_conv (Conv2  (None, None, None, 512)      66048     ['conv3_block4_2_relu[0][0]'] \n",
            " D)                                                                                               \n",
            "                                                                                                  \n",
            " conv3_block4_out (Add)      (None, None, None, 512)      0         ['conv3_block3_out[0][0]',    \n",
            "                                                                     'conv3_block4_3_conv[0][0]'] \n",
            "                                                                                                  \n",
            " conv3_block5_preact_bn (Ba  (None, None, None, 512)      2048      ['conv3_block4_out[0][0]']    \n",
            " tchNormalization)                                                                                \n",
            "                                                                                                  \n",
            " conv3_block5_preact_relu (  (None, None, None, 512)      0         ['conv3_block5_preact_bn[0][0]\n",
            " Activation)                                                        ']                            \n",
            "                                                                                                  \n",
            " conv3_block5_1_conv (Conv2  (None, None, None, 128)      65536     ['conv3_block5_preact_relu[0][\n",
            " D)                                                                 0]']                          \n",
            "                                                                                                  \n",
            " conv3_block5_1_bn (BatchNo  (None, None, None, 128)      512       ['conv3_block5_1_conv[0][0]'] \n",
            " rmalization)                                                                                     \n",
            "                                                                                                  \n",
            " conv3_block5_1_relu (Activ  (None, None, None, 128)      0         ['conv3_block5_1_bn[0][0]']   \n",
            " ation)                                                                                           \n",
            "                                                                                                  \n",
            " conv3_block5_2_pad (ZeroPa  (None, None, None, 128)      0         ['conv3_block5_1_relu[0][0]'] \n",
            " dding2D)                                                                                         \n",
            "                                                                                                  \n",
            " conv3_block5_2_conv (Conv2  (None, None, None, 128)      147456    ['conv3_block5_2_pad[0][0]']  \n",
            " D)                                                                                               \n",
            "                                                                                                  \n",
            " conv3_block5_2_bn (BatchNo  (None, None, None, 128)      512       ['conv3_block5_2_conv[0][0]'] \n",
            " rmalization)                                                                                     \n",
            "                                                                                                  \n",
            " conv3_block5_2_relu (Activ  (None, None, None, 128)      0         ['conv3_block5_2_bn[0][0]']   \n",
            " ation)                                                                                           \n",
            "                                                                                                  \n",
            " conv3_block5_3_conv (Conv2  (None, None, None, 512)      66048     ['conv3_block5_2_relu[0][0]'] \n",
            " D)                                                                                               \n",
            "                                                                                                  \n",
            " conv3_block5_out (Add)      (None, None, None, 512)      0         ['conv3_block4_out[0][0]',    \n",
            "                                                                     'conv3_block5_3_conv[0][0]'] \n",
            "                                                                                                  \n",
            " conv3_block6_preact_bn (Ba  (None, None, None, 512)      2048      ['conv3_block5_out[0][0]']    \n",
            " tchNormalization)                                                                                \n",
            "                                                                                                  \n",
            " conv3_block6_preact_relu (  (None, None, None, 512)      0         ['conv3_block6_preact_bn[0][0]\n",
            " Activation)                                                        ']                            \n",
            "                                                                                                  \n",
            " conv3_block6_1_conv (Conv2  (None, None, None, 128)      65536     ['conv3_block6_preact_relu[0][\n",
            " D)                                                                 0]']                          \n",
            "                                                                                                  \n",
            " conv3_block6_1_bn (BatchNo  (None, None, None, 128)      512       ['conv3_block6_1_conv[0][0]'] \n",
            " rmalization)                                                                                     \n",
            "                                                                                                  \n",
            " conv3_block6_1_relu (Activ  (None, None, None, 128)      0         ['conv3_block6_1_bn[0][0]']   \n",
            " ation)                                                                                           \n",
            "                                                                                                  \n",
            " conv3_block6_2_pad (ZeroPa  (None, None, None, 128)      0         ['conv3_block6_1_relu[0][0]'] \n",
            " dding2D)                                                                                         \n",
            "                                                                                                  \n",
            " conv3_block6_2_conv (Conv2  (None, None, None, 128)      147456    ['conv3_block6_2_pad[0][0]']  \n",
            " D)                                                                                               \n",
            "                                                                                                  \n",
            " conv3_block6_2_bn (BatchNo  (None, None, None, 128)      512       ['conv3_block6_2_conv[0][0]'] \n",
            " rmalization)                                                                                     \n",
            "                                                                                                  \n",
            " conv3_block6_2_relu (Activ  (None, None, None, 128)      0         ['conv3_block6_2_bn[0][0]']   \n",
            " ation)                                                                                           \n",
            "                                                                                                  \n",
            " conv3_block6_3_conv (Conv2  (None, None, None, 512)      66048     ['conv3_block6_2_relu[0][0]'] \n",
            " D)                                                                                               \n",
            "                                                                                                  \n",
            " conv3_block6_out (Add)      (None, None, None, 512)      0         ['conv3_block5_out[0][0]',    \n",
            "                                                                     'conv3_block6_3_conv[0][0]'] \n",
            "                                                                                                  \n",
            " conv3_block7_preact_bn (Ba  (None, None, None, 512)      2048      ['conv3_block6_out[0][0]']    \n",
            " tchNormalization)                                                                                \n",
            "                                                                                                  \n",
            " conv3_block7_preact_relu (  (None, None, None, 512)      0         ['conv3_block7_preact_bn[0][0]\n",
            " Activation)                                                        ']                            \n",
            "                                                                                                  \n",
            " conv3_block7_1_conv (Conv2  (None, None, None, 128)      65536     ['conv3_block7_preact_relu[0][\n",
            " D)                                                                 0]']                          \n",
            "                                                                                                  \n",
            " conv3_block7_1_bn (BatchNo  (None, None, None, 128)      512       ['conv3_block7_1_conv[0][0]'] \n",
            " rmalization)                                                                                     \n",
            "                                                                                                  \n",
            " conv3_block7_1_relu (Activ  (None, None, None, 128)      0         ['conv3_block7_1_bn[0][0]']   \n",
            " ation)                                                                                           \n",
            "                                                                                                  \n",
            " conv3_block7_2_pad (ZeroPa  (None, None, None, 128)      0         ['conv3_block7_1_relu[0][0]'] \n",
            " dding2D)                                                                                         \n",
            "                                                                                                  \n",
            " conv3_block7_2_conv (Conv2  (None, None, None, 128)      147456    ['conv3_block7_2_pad[0][0]']  \n",
            " D)                                                                                               \n",
            "                                                                                                  \n",
            " conv3_block7_2_bn (BatchNo  (None, None, None, 128)      512       ['conv3_block7_2_conv[0][0]'] \n",
            " rmalization)                                                                                     \n",
            "                                                                                                  \n",
            " conv3_block7_2_relu (Activ  (None, None, None, 128)      0         ['conv3_block7_2_bn[0][0]']   \n",
            " ation)                                                                                           \n",
            "                                                                                                  \n",
            " conv3_block7_3_conv (Conv2  (None, None, None, 512)      66048     ['conv3_block7_2_relu[0][0]'] \n",
            " D)                                                                                               \n",
            "                                                                                                  \n",
            " conv3_block7_out (Add)      (None, None, None, 512)      0         ['conv3_block6_out[0][0]',    \n",
            "                                                                     'conv3_block7_3_conv[0][0]'] \n",
            "                                                                                                  \n",
            " conv3_block8_preact_bn (Ba  (None, None, None, 512)      2048      ['conv3_block7_out[0][0]']    \n",
            " tchNormalization)                                                                                \n",
            "                                                                                                  \n",
            " conv3_block8_preact_relu (  (None, None, None, 512)      0         ['conv3_block8_preact_bn[0][0]\n",
            " Activation)                                                        ']                            \n",
            "                                                                                                  \n",
            " conv3_block8_1_conv (Conv2  (None, None, None, 128)      65536     ['conv3_block8_preact_relu[0][\n",
            " D)                                                                 0]']                          \n",
            "                                                                                                  \n",
            " conv3_block8_1_bn (BatchNo  (None, None, None, 128)      512       ['conv3_block8_1_conv[0][0]'] \n",
            " rmalization)                                                                                     \n",
            "                                                                                                  \n",
            " conv3_block8_1_relu (Activ  (None, None, None, 128)      0         ['conv3_block8_1_bn[0][0]']   \n",
            " ation)                                                                                           \n",
            "                                                                                                  \n",
            " conv3_block8_2_pad (ZeroPa  (None, None, None, 128)      0         ['conv3_block8_1_relu[0][0]'] \n",
            " dding2D)                                                                                         \n",
            "                                                                                                  \n",
            " conv3_block8_2_conv (Conv2  (None, None, None, 128)      147456    ['conv3_block8_2_pad[0][0]']  \n",
            " D)                                                                                               \n",
            "                                                                                                  \n",
            " conv3_block8_2_bn (BatchNo  (None, None, None, 128)      512       ['conv3_block8_2_conv[0][0]'] \n",
            " rmalization)                                                                                     \n",
            "                                                                                                  \n",
            " conv3_block8_2_relu (Activ  (None, None, None, 128)      0         ['conv3_block8_2_bn[0][0]']   \n",
            " ation)                                                                                           \n",
            "                                                                                                  \n",
            " max_pooling2d_1 (MaxPoolin  (None, None, None, 512)      0         ['conv3_block7_out[0][0]']    \n",
            " g2D)                                                                                             \n",
            "                                                                                                  \n",
            " conv3_block8_3_conv (Conv2  (None, None, None, 512)      66048     ['conv3_block8_2_relu[0][0]'] \n",
            " D)                                                                                               \n",
            "                                                                                                  \n",
            " conv3_block8_out (Add)      (None, None, None, 512)      0         ['max_pooling2d_1[0][0]',     \n",
            "                                                                     'conv3_block8_3_conv[0][0]'] \n",
            "                                                                                                  \n",
            " conv4_block1_preact_bn (Ba  (None, None, None, 512)      2048      ['conv3_block8_out[0][0]']    \n",
            " tchNormalization)                                                                                \n",
            "                                                                                                  \n",
            " conv4_block1_preact_relu (  (None, None, None, 512)      0         ['conv4_block1_preact_bn[0][0]\n",
            " Activation)                                                        ']                            \n",
            "                                                                                                  \n",
            " conv4_block1_1_conv (Conv2  (None, None, None, 256)      131072    ['conv4_block1_preact_relu[0][\n",
            " D)                                                                 0]']                          \n",
            "                                                                                                  \n",
            " conv4_block1_1_bn (BatchNo  (None, None, None, 256)      1024      ['conv4_block1_1_conv[0][0]'] \n",
            " rmalization)                                                                                     \n",
            "                                                                                                  \n",
            " conv4_block1_1_relu (Activ  (None, None, None, 256)      0         ['conv4_block1_1_bn[0][0]']   \n",
            " ation)                                                                                           \n",
            "                                                                                                  \n",
            " conv4_block1_2_pad (ZeroPa  (None, None, None, 256)      0         ['conv4_block1_1_relu[0][0]'] \n",
            " dding2D)                                                                                         \n",
            "                                                                                                  \n",
            " conv4_block1_2_conv (Conv2  (None, None, None, 256)      589824    ['conv4_block1_2_pad[0][0]']  \n",
            " D)                                                                                               \n",
            "                                                                                                  \n",
            " conv4_block1_2_bn (BatchNo  (None, None, None, 256)      1024      ['conv4_block1_2_conv[0][0]'] \n",
            " rmalization)                                                                                     \n",
            "                                                                                                  \n",
            " conv4_block1_2_relu (Activ  (None, None, None, 256)      0         ['conv4_block1_2_bn[0][0]']   \n",
            " ation)                                                                                           \n",
            "                                                                                                  \n",
            " conv4_block1_0_conv (Conv2  (None, None, None, 1024)     525312    ['conv4_block1_preact_relu[0][\n",
            " D)                                                                 0]']                          \n",
            "                                                                                                  \n",
            " conv4_block1_3_conv (Conv2  (None, None, None, 1024)     263168    ['conv4_block1_2_relu[0][0]'] \n",
            " D)                                                                                               \n",
            "                                                                                                  \n",
            " conv4_block1_out (Add)      (None, None, None, 1024)     0         ['conv4_block1_0_conv[0][0]', \n",
            "                                                                     'conv4_block1_3_conv[0][0]'] \n",
            "                                                                                                  \n",
            " conv4_block2_preact_bn (Ba  (None, None, None, 1024)     4096      ['conv4_block1_out[0][0]']    \n",
            " tchNormalization)                                                                                \n",
            "                                                                                                  \n",
            " conv4_block2_preact_relu (  (None, None, None, 1024)     0         ['conv4_block2_preact_bn[0][0]\n",
            " Activation)                                                        ']                            \n",
            "                                                                                                  \n",
            " conv4_block2_1_conv (Conv2  (None, None, None, 256)      262144    ['conv4_block2_preact_relu[0][\n",
            " D)                                                                 0]']                          \n",
            "                                                                                                  \n",
            " conv4_block2_1_bn (BatchNo  (None, None, None, 256)      1024      ['conv4_block2_1_conv[0][0]'] \n",
            " rmalization)                                                                                     \n",
            "                                                                                                  \n",
            " conv4_block2_1_relu (Activ  (None, None, None, 256)      0         ['conv4_block2_1_bn[0][0]']   \n",
            " ation)                                                                                           \n",
            "                                                                                                  \n",
            " conv4_block2_2_pad (ZeroPa  (None, None, None, 256)      0         ['conv4_block2_1_relu[0][0]'] \n",
            " dding2D)                                                                                         \n",
            "                                                                                                  \n",
            " conv4_block2_2_conv (Conv2  (None, None, None, 256)      589824    ['conv4_block2_2_pad[0][0]']  \n",
            " D)                                                                                               \n",
            "                                                                                                  \n",
            " conv4_block2_2_bn (BatchNo  (None, None, None, 256)      1024      ['conv4_block2_2_conv[0][0]'] \n",
            " rmalization)                                                                                     \n",
            "                                                                                                  \n",
            " conv4_block2_2_relu (Activ  (None, None, None, 256)      0         ['conv4_block2_2_bn[0][0]']   \n",
            " ation)                                                                                           \n",
            "                                                                                                  \n",
            " conv4_block2_3_conv (Conv2  (None, None, None, 1024)     263168    ['conv4_block2_2_relu[0][0]'] \n",
            " D)                                                                                               \n",
            "                                                                                                  \n",
            " conv4_block2_out (Add)      (None, None, None, 1024)     0         ['conv4_block1_out[0][0]',    \n",
            "                                                                     'conv4_block2_3_conv[0][0]'] \n",
            "                                                                                                  \n",
            " conv4_block3_preact_bn (Ba  (None, None, None, 1024)     4096      ['conv4_block2_out[0][0]']    \n",
            " tchNormalization)                                                                                \n",
            "                                                                                                  \n",
            " conv4_block3_preact_relu (  (None, None, None, 1024)     0         ['conv4_block3_preact_bn[0][0]\n",
            " Activation)                                                        ']                            \n",
            "                                                                                                  \n",
            " conv4_block3_1_conv (Conv2  (None, None, None, 256)      262144    ['conv4_block3_preact_relu[0][\n",
            " D)                                                                 0]']                          \n",
            "                                                                                                  \n",
            " conv4_block3_1_bn (BatchNo  (None, None, None, 256)      1024      ['conv4_block3_1_conv[0][0]'] \n",
            " rmalization)                                                                                     \n",
            "                                                                                                  \n",
            " conv4_block3_1_relu (Activ  (None, None, None, 256)      0         ['conv4_block3_1_bn[0][0]']   \n",
            " ation)                                                                                           \n",
            "                                                                                                  \n",
            " conv4_block3_2_pad (ZeroPa  (None, None, None, 256)      0         ['conv4_block3_1_relu[0][0]'] \n",
            " dding2D)                                                                                         \n",
            "                                                                                                  \n",
            " conv4_block3_2_conv (Conv2  (None, None, None, 256)      589824    ['conv4_block3_2_pad[0][0]']  \n",
            " D)                                                                                               \n",
            "                                                                                                  \n",
            " conv4_block3_2_bn (BatchNo  (None, None, None, 256)      1024      ['conv4_block3_2_conv[0][0]'] \n",
            " rmalization)                                                                                     \n",
            "                                                                                                  \n",
            " conv4_block3_2_relu (Activ  (None, None, None, 256)      0         ['conv4_block3_2_bn[0][0]']   \n",
            " ation)                                                                                           \n",
            "                                                                                                  \n",
            " conv4_block3_3_conv (Conv2  (None, None, None, 1024)     263168    ['conv4_block3_2_relu[0][0]'] \n",
            " D)                                                                                               \n",
            "                                                                                                  \n",
            " conv4_block3_out (Add)      (None, None, None, 1024)     0         ['conv4_block2_out[0][0]',    \n",
            "                                                                     'conv4_block3_3_conv[0][0]'] \n",
            "                                                                                                  \n",
            " conv4_block4_preact_bn (Ba  (None, None, None, 1024)     4096      ['conv4_block3_out[0][0]']    \n",
            " tchNormalization)                                                                                \n",
            "                                                                                                  \n",
            " conv4_block4_preact_relu (  (None, None, None, 1024)     0         ['conv4_block4_preact_bn[0][0]\n",
            " Activation)                                                        ']                            \n",
            "                                                                                                  \n",
            " conv4_block4_1_conv (Conv2  (None, None, None, 256)      262144    ['conv4_block4_preact_relu[0][\n",
            " D)                                                                 0]']                          \n",
            "                                                                                                  \n",
            " conv4_block4_1_bn (BatchNo  (None, None, None, 256)      1024      ['conv4_block4_1_conv[0][0]'] \n",
            " rmalization)                                                                                     \n",
            "                                                                                                  \n",
            " conv4_block4_1_relu (Activ  (None, None, None, 256)      0         ['conv4_block4_1_bn[0][0]']   \n",
            " ation)                                                                                           \n",
            "                                                                                                  \n",
            " conv4_block4_2_pad (ZeroPa  (None, None, None, 256)      0         ['conv4_block4_1_relu[0][0]'] \n",
            " dding2D)                                                                                         \n",
            "                                                                                                  \n",
            " conv4_block4_2_conv (Conv2  (None, None, None, 256)      589824    ['conv4_block4_2_pad[0][0]']  \n",
            " D)                                                                                               \n",
            "                                                                                                  \n",
            " conv4_block4_2_bn (BatchNo  (None, None, None, 256)      1024      ['conv4_block4_2_conv[0][0]'] \n",
            " rmalization)                                                                                     \n",
            "                                                                                                  \n",
            " conv4_block4_2_relu (Activ  (None, None, None, 256)      0         ['conv4_block4_2_bn[0][0]']   \n",
            " ation)                                                                                           \n",
            "                                                                                                  \n",
            " conv4_block4_3_conv (Conv2  (None, None, None, 1024)     263168    ['conv4_block4_2_relu[0][0]'] \n",
            " D)                                                                                               \n",
            "                                                                                                  \n",
            " conv4_block4_out (Add)      (None, None, None, 1024)     0         ['conv4_block3_out[0][0]',    \n",
            "                                                                     'conv4_block4_3_conv[0][0]'] \n",
            "                                                                                                  \n",
            " conv4_block5_preact_bn (Ba  (None, None, None, 1024)     4096      ['conv4_block4_out[0][0]']    \n",
            " tchNormalization)                                                                                \n",
            "                                                                                                  \n",
            " conv4_block5_preact_relu (  (None, None, None, 1024)     0         ['conv4_block5_preact_bn[0][0]\n",
            " Activation)                                                        ']                            \n",
            "                                                                                                  \n",
            " conv4_block5_1_conv (Conv2  (None, None, None, 256)      262144    ['conv4_block5_preact_relu[0][\n",
            " D)                                                                 0]']                          \n",
            "                                                                                                  \n",
            " conv4_block5_1_bn (BatchNo  (None, None, None, 256)      1024      ['conv4_block5_1_conv[0][0]'] \n",
            " rmalization)                                                                                     \n",
            "                                                                                                  \n",
            " conv4_block5_1_relu (Activ  (None, None, None, 256)      0         ['conv4_block5_1_bn[0][0]']   \n",
            " ation)                                                                                           \n",
            "                                                                                                  \n",
            " conv4_block5_2_pad (ZeroPa  (None, None, None, 256)      0         ['conv4_block5_1_relu[0][0]'] \n",
            " dding2D)                                                                                         \n",
            "                                                                                                  \n",
            " conv4_block5_2_conv (Conv2  (None, None, None, 256)      589824    ['conv4_block5_2_pad[0][0]']  \n",
            " D)                                                                                               \n",
            "                                                                                                  \n",
            " conv4_block5_2_bn (BatchNo  (None, None, None, 256)      1024      ['conv4_block5_2_conv[0][0]'] \n",
            " rmalization)                                                                                     \n",
            "                                                                                                  \n",
            " conv4_block5_2_relu (Activ  (None, None, None, 256)      0         ['conv4_block5_2_bn[0][0]']   \n",
            " ation)                                                                                           \n",
            "                                                                                                  \n",
            " conv4_block5_3_conv (Conv2  (None, None, None, 1024)     263168    ['conv4_block5_2_relu[0][0]'] \n",
            " D)                                                                                               \n",
            "                                                                                                  \n",
            " conv4_block5_out (Add)      (None, None, None, 1024)     0         ['conv4_block4_out[0][0]',    \n",
            "                                                                     'conv4_block5_3_conv[0][0]'] \n",
            "                                                                                                  \n",
            " conv4_block6_preact_bn (Ba  (None, None, None, 1024)     4096      ['conv4_block5_out[0][0]']    \n",
            " tchNormalization)                                                                                \n",
            "                                                                                                  \n",
            " conv4_block6_preact_relu (  (None, None, None, 1024)     0         ['conv4_block6_preact_bn[0][0]\n",
            " Activation)                                                        ']                            \n",
            "                                                                                                  \n",
            " conv4_block6_1_conv (Conv2  (None, None, None, 256)      262144    ['conv4_block6_preact_relu[0][\n",
            " D)                                                                 0]']                          \n",
            "                                                                                                  \n",
            " conv4_block6_1_bn (BatchNo  (None, None, None, 256)      1024      ['conv4_block6_1_conv[0][0]'] \n",
            " rmalization)                                                                                     \n",
            "                                                                                                  \n",
            " conv4_block6_1_relu (Activ  (None, None, None, 256)      0         ['conv4_block6_1_bn[0][0]']   \n",
            " ation)                                                                                           \n",
            "                                                                                                  \n",
            " conv4_block6_2_pad (ZeroPa  (None, None, None, 256)      0         ['conv4_block6_1_relu[0][0]'] \n",
            " dding2D)                                                                                         \n",
            "                                                                                                  \n",
            " conv4_block6_2_conv (Conv2  (None, None, None, 256)      589824    ['conv4_block6_2_pad[0][0]']  \n",
            " D)                                                                                               \n",
            "                                                                                                  \n",
            " conv4_block6_2_bn (BatchNo  (None, None, None, 256)      1024      ['conv4_block6_2_conv[0][0]'] \n",
            " rmalization)                                                                                     \n",
            "                                                                                                  \n",
            " conv4_block6_2_relu (Activ  (None, None, None, 256)      0         ['conv4_block6_2_bn[0][0]']   \n",
            " ation)                                                                                           \n",
            "                                                                                                  \n",
            " conv4_block6_3_conv (Conv2  (None, None, None, 1024)     263168    ['conv4_block6_2_relu[0][0]'] \n",
            " D)                                                                                               \n",
            "                                                                                                  \n",
            " conv4_block6_out (Add)      (None, None, None, 1024)     0         ['conv4_block5_out[0][0]',    \n",
            "                                                                     'conv4_block6_3_conv[0][0]'] \n",
            "                                                                                                  \n",
            " conv4_block7_preact_bn (Ba  (None, None, None, 1024)     4096      ['conv4_block6_out[0][0]']    \n",
            " tchNormalization)                                                                                \n",
            "                                                                                                  \n",
            " conv4_block7_preact_relu (  (None, None, None, 1024)     0         ['conv4_block7_preact_bn[0][0]\n",
            " Activation)                                                        ']                            \n",
            "                                                                                                  \n",
            " conv4_block7_1_conv (Conv2  (None, None, None, 256)      262144    ['conv4_block7_preact_relu[0][\n",
            " D)                                                                 0]']                          \n",
            "                                                                                                  \n",
            " conv4_block7_1_bn (BatchNo  (None, None, None, 256)      1024      ['conv4_block7_1_conv[0][0]'] \n",
            " rmalization)                                                                                     \n",
            "                                                                                                  \n",
            " conv4_block7_1_relu (Activ  (None, None, None, 256)      0         ['conv4_block7_1_bn[0][0]']   \n",
            " ation)                                                                                           \n",
            "                                                                                                  \n",
            " conv4_block7_2_pad (ZeroPa  (None, None, None, 256)      0         ['conv4_block7_1_relu[0][0]'] \n",
            " dding2D)                                                                                         \n",
            "                                                                                                  \n",
            " conv4_block7_2_conv (Conv2  (None, None, None, 256)      589824    ['conv4_block7_2_pad[0][0]']  \n",
            " D)                                                                                               \n",
            "                                                                                                  \n",
            " conv4_block7_2_bn (BatchNo  (None, None, None, 256)      1024      ['conv4_block7_2_conv[0][0]'] \n",
            " rmalization)                                                                                     \n",
            "                                                                                                  \n",
            " conv4_block7_2_relu (Activ  (None, None, None, 256)      0         ['conv4_block7_2_bn[0][0]']   \n",
            " ation)                                                                                           \n",
            "                                                                                                  \n",
            " conv4_block7_3_conv (Conv2  (None, None, None, 1024)     263168    ['conv4_block7_2_relu[0][0]'] \n",
            " D)                                                                                               \n",
            "                                                                                                  \n",
            " conv4_block7_out (Add)      (None, None, None, 1024)     0         ['conv4_block6_out[0][0]',    \n",
            "                                                                     'conv4_block7_3_conv[0][0]'] \n",
            "                                                                                                  \n",
            " conv4_block8_preact_bn (Ba  (None, None, None, 1024)     4096      ['conv4_block7_out[0][0]']    \n",
            " tchNormalization)                                                                                \n",
            "                                                                                                  \n",
            " conv4_block8_preact_relu (  (None, None, None, 1024)     0         ['conv4_block8_preact_bn[0][0]\n",
            " Activation)                                                        ']                            \n",
            "                                                                                                  \n",
            " conv4_block8_1_conv (Conv2  (None, None, None, 256)      262144    ['conv4_block8_preact_relu[0][\n",
            " D)                                                                 0]']                          \n",
            "                                                                                                  \n",
            " conv4_block8_1_bn (BatchNo  (None, None, None, 256)      1024      ['conv4_block8_1_conv[0][0]'] \n",
            " rmalization)                                                                                     \n",
            "                                                                                                  \n",
            " conv4_block8_1_relu (Activ  (None, None, None, 256)      0         ['conv4_block8_1_bn[0][0]']   \n",
            " ation)                                                                                           \n",
            "                                                                                                  \n",
            " conv4_block8_2_pad (ZeroPa  (None, None, None, 256)      0         ['conv4_block8_1_relu[0][0]'] \n",
            " dding2D)                                                                                         \n",
            "                                                                                                  \n",
            " conv4_block8_2_conv (Conv2  (None, None, None, 256)      589824    ['conv4_block8_2_pad[0][0]']  \n",
            " D)                                                                                               \n",
            "                                                                                                  \n",
            " conv4_block8_2_bn (BatchNo  (None, None, None, 256)      1024      ['conv4_block8_2_conv[0][0]'] \n",
            " rmalization)                                                                                     \n",
            "                                                                                                  \n",
            " conv4_block8_2_relu (Activ  (None, None, None, 256)      0         ['conv4_block8_2_bn[0][0]']   \n",
            " ation)                                                                                           \n",
            "                                                                                                  \n",
            " conv4_block8_3_conv (Conv2  (None, None, None, 1024)     263168    ['conv4_block8_2_relu[0][0]'] \n",
            " D)                                                                                               \n",
            "                                                                                                  \n",
            " conv4_block8_out (Add)      (None, None, None, 1024)     0         ['conv4_block7_out[0][0]',    \n",
            "                                                                     'conv4_block8_3_conv[0][0]'] \n",
            "                                                                                                  \n",
            " conv4_block9_preact_bn (Ba  (None, None, None, 1024)     4096      ['conv4_block8_out[0][0]']    \n",
            " tchNormalization)                                                                                \n",
            "                                                                                                  \n",
            " conv4_block9_preact_relu (  (None, None, None, 1024)     0         ['conv4_block9_preact_bn[0][0]\n",
            " Activation)                                                        ']                            \n",
            "                                                                                                  \n",
            " conv4_block9_1_conv (Conv2  (None, None, None, 256)      262144    ['conv4_block9_preact_relu[0][\n",
            " D)                                                                 0]']                          \n",
            "                                                                                                  \n",
            " conv4_block9_1_bn (BatchNo  (None, None, None, 256)      1024      ['conv4_block9_1_conv[0][0]'] \n",
            " rmalization)                                                                                     \n",
            "                                                                                                  \n",
            " conv4_block9_1_relu (Activ  (None, None, None, 256)      0         ['conv4_block9_1_bn[0][0]']   \n",
            " ation)                                                                                           \n",
            "                                                                                                  \n",
            " conv4_block9_2_pad (ZeroPa  (None, None, None, 256)      0         ['conv4_block9_1_relu[0][0]'] \n",
            " dding2D)                                                                                         \n",
            "                                                                                                  \n",
            " conv4_block9_2_conv (Conv2  (None, None, None, 256)      589824    ['conv4_block9_2_pad[0][0]']  \n",
            " D)                                                                                               \n",
            "                                                                                                  \n",
            " conv4_block9_2_bn (BatchNo  (None, None, None, 256)      1024      ['conv4_block9_2_conv[0][0]'] \n",
            " rmalization)                                                                                     \n",
            "                                                                                                  \n",
            " conv4_block9_2_relu (Activ  (None, None, None, 256)      0         ['conv4_block9_2_bn[0][0]']   \n",
            " ation)                                                                                           \n",
            "                                                                                                  \n",
            " conv4_block9_3_conv (Conv2  (None, None, None, 1024)     263168    ['conv4_block9_2_relu[0][0]'] \n",
            " D)                                                                                               \n",
            "                                                                                                  \n",
            " conv4_block9_out (Add)      (None, None, None, 1024)     0         ['conv4_block8_out[0][0]',    \n",
            "                                                                     'conv4_block9_3_conv[0][0]'] \n",
            "                                                                                                  \n",
            " conv4_block10_preact_bn (B  (None, None, None, 1024)     4096      ['conv4_block9_out[0][0]']    \n",
            " atchNormalization)                                                                               \n",
            "                                                                                                  \n",
            " conv4_block10_preact_relu   (None, None, None, 1024)     0         ['conv4_block10_preact_bn[0][0\n",
            " (Activation)                                                       ]']                           \n",
            "                                                                                                  \n",
            " conv4_block10_1_conv (Conv  (None, None, None, 256)      262144    ['conv4_block10_preact_relu[0]\n",
            " 2D)                                                                [0]']                         \n",
            "                                                                                                  \n",
            " conv4_block10_1_bn (BatchN  (None, None, None, 256)      1024      ['conv4_block10_1_conv[0][0]']\n",
            " ormalization)                                                                                    \n",
            "                                                                                                  \n",
            " conv4_block10_1_relu (Acti  (None, None, None, 256)      0         ['conv4_block10_1_bn[0][0]']  \n",
            " vation)                                                                                          \n",
            "                                                                                                  \n",
            " conv4_block10_2_pad (ZeroP  (None, None, None, 256)      0         ['conv4_block10_1_relu[0][0]']\n",
            " adding2D)                                                                                        \n",
            "                                                                                                  \n",
            " conv4_block10_2_conv (Conv  (None, None, None, 256)      589824    ['conv4_block10_2_pad[0][0]'] \n",
            " 2D)                                                                                              \n",
            "                                                                                                  \n",
            " conv4_block10_2_bn (BatchN  (None, None, None, 256)      1024      ['conv4_block10_2_conv[0][0]']\n",
            " ormalization)                                                                                    \n",
            "                                                                                                  \n",
            " conv4_block10_2_relu (Acti  (None, None, None, 256)      0         ['conv4_block10_2_bn[0][0]']  \n",
            " vation)                                                                                          \n",
            "                                                                                                  \n",
            " conv4_block10_3_conv (Conv  (None, None, None, 1024)     263168    ['conv4_block10_2_relu[0][0]']\n",
            " 2D)                                                                                              \n",
            "                                                                                                  \n",
            " conv4_block10_out (Add)     (None, None, None, 1024)     0         ['conv4_block9_out[0][0]',    \n",
            "                                                                     'conv4_block10_3_conv[0][0]']\n",
            "                                                                                                  \n",
            " conv4_block11_preact_bn (B  (None, None, None, 1024)     4096      ['conv4_block10_out[0][0]']   \n",
            " atchNormalization)                                                                               \n",
            "                                                                                                  \n",
            " conv4_block11_preact_relu   (None, None, None, 1024)     0         ['conv4_block11_preact_bn[0][0\n",
            " (Activation)                                                       ]']                           \n",
            "                                                                                                  \n",
            " conv4_block11_1_conv (Conv  (None, None, None, 256)      262144    ['conv4_block11_preact_relu[0]\n",
            " 2D)                                                                [0]']                         \n",
            "                                                                                                  \n",
            " conv4_block11_1_bn (BatchN  (None, None, None, 256)      1024      ['conv4_block11_1_conv[0][0]']\n",
            " ormalization)                                                                                    \n",
            "                                                                                                  \n",
            " conv4_block11_1_relu (Acti  (None, None, None, 256)      0         ['conv4_block11_1_bn[0][0]']  \n",
            " vation)                                                                                          \n",
            "                                                                                                  \n",
            " conv4_block11_2_pad (ZeroP  (None, None, None, 256)      0         ['conv4_block11_1_relu[0][0]']\n",
            " adding2D)                                                                                        \n",
            "                                                                                                  \n",
            " conv4_block11_2_conv (Conv  (None, None, None, 256)      589824    ['conv4_block11_2_pad[0][0]'] \n",
            " 2D)                                                                                              \n",
            "                                                                                                  \n",
            " conv4_block11_2_bn (BatchN  (None, None, None, 256)      1024      ['conv4_block11_2_conv[0][0]']\n",
            " ormalization)                                                                                    \n",
            "                                                                                                  \n",
            " conv4_block11_2_relu (Acti  (None, None, None, 256)      0         ['conv4_block11_2_bn[0][0]']  \n",
            " vation)                                                                                          \n",
            "                                                                                                  \n",
            " conv4_block11_3_conv (Conv  (None, None, None, 1024)     263168    ['conv4_block11_2_relu[0][0]']\n",
            " 2D)                                                                                              \n",
            "                                                                                                  \n",
            " conv4_block11_out (Add)     (None, None, None, 1024)     0         ['conv4_block10_out[0][0]',   \n",
            "                                                                     'conv4_block11_3_conv[0][0]']\n",
            "                                                                                                  \n",
            " conv4_block12_preact_bn (B  (None, None, None, 1024)     4096      ['conv4_block11_out[0][0]']   \n",
            " atchNormalization)                                                                               \n",
            "                                                                                                  \n",
            " conv4_block12_preact_relu   (None, None, None, 1024)     0         ['conv4_block12_preact_bn[0][0\n",
            " (Activation)                                                       ]']                           \n",
            "                                                                                                  \n",
            " conv4_block12_1_conv (Conv  (None, None, None, 256)      262144    ['conv4_block12_preact_relu[0]\n",
            " 2D)                                                                [0]']                         \n",
            "                                                                                                  \n",
            " conv4_block12_1_bn (BatchN  (None, None, None, 256)      1024      ['conv4_block12_1_conv[0][0]']\n",
            " ormalization)                                                                                    \n",
            "                                                                                                  \n",
            " conv4_block12_1_relu (Acti  (None, None, None, 256)      0         ['conv4_block12_1_bn[0][0]']  \n",
            " vation)                                                                                          \n",
            "                                                                                                  \n",
            " conv4_block12_2_pad (ZeroP  (None, None, None, 256)      0         ['conv4_block12_1_relu[0][0]']\n",
            " adding2D)                                                                                        \n",
            "                                                                                                  \n",
            " conv4_block12_2_conv (Conv  (None, None, None, 256)      589824    ['conv4_block12_2_pad[0][0]'] \n",
            " 2D)                                                                                              \n",
            "                                                                                                  \n",
            " conv4_block12_2_bn (BatchN  (None, None, None, 256)      1024      ['conv4_block12_2_conv[0][0]']\n",
            " ormalization)                                                                                    \n",
            "                                                                                                  \n",
            " conv4_block12_2_relu (Acti  (None, None, None, 256)      0         ['conv4_block12_2_bn[0][0]']  \n",
            " vation)                                                                                          \n",
            "                                                                                                  \n",
            " conv4_block12_3_conv (Conv  (None, None, None, 1024)     263168    ['conv4_block12_2_relu[0][0]']\n",
            " 2D)                                                                                              \n",
            "                                                                                                  \n",
            " conv4_block12_out (Add)     (None, None, None, 1024)     0         ['conv4_block11_out[0][0]',   \n",
            "                                                                     'conv4_block12_3_conv[0][0]']\n",
            "                                                                                                  \n",
            " conv4_block13_preact_bn (B  (None, None, None, 1024)     4096      ['conv4_block12_out[0][0]']   \n",
            " atchNormalization)                                                                               \n",
            "                                                                                                  \n",
            " conv4_block13_preact_relu   (None, None, None, 1024)     0         ['conv4_block13_preact_bn[0][0\n",
            " (Activation)                                                       ]']                           \n",
            "                                                                                                  \n",
            " conv4_block13_1_conv (Conv  (None, None, None, 256)      262144    ['conv4_block13_preact_relu[0]\n",
            " 2D)                                                                [0]']                         \n",
            "                                                                                                  \n",
            " conv4_block13_1_bn (BatchN  (None, None, None, 256)      1024      ['conv4_block13_1_conv[0][0]']\n",
            " ormalization)                                                                                    \n",
            "                                                                                                  \n",
            " conv4_block13_1_relu (Acti  (None, None, None, 256)      0         ['conv4_block13_1_bn[0][0]']  \n",
            " vation)                                                                                          \n",
            "                                                                                                  \n",
            " conv4_block13_2_pad (ZeroP  (None, None, None, 256)      0         ['conv4_block13_1_relu[0][0]']\n",
            " adding2D)                                                                                        \n",
            "                                                                                                  \n",
            " conv4_block13_2_conv (Conv  (None, None, None, 256)      589824    ['conv4_block13_2_pad[0][0]'] \n",
            " 2D)                                                                                              \n",
            "                                                                                                  \n",
            " conv4_block13_2_bn (BatchN  (None, None, None, 256)      1024      ['conv4_block13_2_conv[0][0]']\n",
            " ormalization)                                                                                    \n",
            "                                                                                                  \n",
            " conv4_block13_2_relu (Acti  (None, None, None, 256)      0         ['conv4_block13_2_bn[0][0]']  \n",
            " vation)                                                                                          \n",
            "                                                                                                  \n",
            " conv4_block13_3_conv (Conv  (None, None, None, 1024)     263168    ['conv4_block13_2_relu[0][0]']\n",
            " 2D)                                                                                              \n",
            "                                                                                                  \n",
            " conv4_block13_out (Add)     (None, None, None, 1024)     0         ['conv4_block12_out[0][0]',   \n",
            "                                                                     'conv4_block13_3_conv[0][0]']\n",
            "                                                                                                  \n",
            " conv4_block14_preact_bn (B  (None, None, None, 1024)     4096      ['conv4_block13_out[0][0]']   \n",
            " atchNormalization)                                                                               \n",
            "                                                                                                  \n",
            " conv4_block14_preact_relu   (None, None, None, 1024)     0         ['conv4_block14_preact_bn[0][0\n",
            " (Activation)                                                       ]']                           \n",
            "                                                                                                  \n",
            " conv4_block14_1_conv (Conv  (None, None, None, 256)      262144    ['conv4_block14_preact_relu[0]\n",
            " 2D)                                                                [0]']                         \n",
            "                                                                                                  \n",
            " conv4_block14_1_bn (BatchN  (None, None, None, 256)      1024      ['conv4_block14_1_conv[0][0]']\n",
            " ormalization)                                                                                    \n",
            "                                                                                                  \n",
            " conv4_block14_1_relu (Acti  (None, None, None, 256)      0         ['conv4_block14_1_bn[0][0]']  \n",
            " vation)                                                                                          \n",
            "                                                                                                  \n",
            " conv4_block14_2_pad (ZeroP  (None, None, None, 256)      0         ['conv4_block14_1_relu[0][0]']\n",
            " adding2D)                                                                                        \n",
            "                                                                                                  \n",
            " conv4_block14_2_conv (Conv  (None, None, None, 256)      589824    ['conv4_block14_2_pad[0][0]'] \n",
            " 2D)                                                                                              \n",
            "                                                                                                  \n",
            " conv4_block14_2_bn (BatchN  (None, None, None, 256)      1024      ['conv4_block14_2_conv[0][0]']\n",
            " ormalization)                                                                                    \n",
            "                                                                                                  \n",
            " conv4_block14_2_relu (Acti  (None, None, None, 256)      0         ['conv4_block14_2_bn[0][0]']  \n",
            " vation)                                                                                          \n",
            "                                                                                                  \n",
            " conv4_block14_3_conv (Conv  (None, None, None, 1024)     263168    ['conv4_block14_2_relu[0][0]']\n",
            " 2D)                                                                                              \n",
            "                                                                                                  \n",
            " conv4_block14_out (Add)     (None, None, None, 1024)     0         ['conv4_block13_out[0][0]',   \n",
            "                                                                     'conv4_block14_3_conv[0][0]']\n",
            "                                                                                                  \n",
            " conv4_block15_preact_bn (B  (None, None, None, 1024)     4096      ['conv4_block14_out[0][0]']   \n",
            " atchNormalization)                                                                               \n",
            "                                                                                                  \n",
            " conv4_block15_preact_relu   (None, None, None, 1024)     0         ['conv4_block15_preact_bn[0][0\n",
            " (Activation)                                                       ]']                           \n",
            "                                                                                                  \n",
            " conv4_block15_1_conv (Conv  (None, None, None, 256)      262144    ['conv4_block15_preact_relu[0]\n",
            " 2D)                                                                [0]']                         \n",
            "                                                                                                  \n",
            " conv4_block15_1_bn (BatchN  (None, None, None, 256)      1024      ['conv4_block15_1_conv[0][0]']\n",
            " ormalization)                                                                                    \n",
            "                                                                                                  \n",
            " conv4_block15_1_relu (Acti  (None, None, None, 256)      0         ['conv4_block15_1_bn[0][0]']  \n",
            " vation)                                                                                          \n",
            "                                                                                                  \n",
            " conv4_block15_2_pad (ZeroP  (None, None, None, 256)      0         ['conv4_block15_1_relu[0][0]']\n",
            " adding2D)                                                                                        \n",
            "                                                                                                  \n",
            " conv4_block15_2_conv (Conv  (None, None, None, 256)      589824    ['conv4_block15_2_pad[0][0]'] \n",
            " 2D)                                                                                              \n",
            "                                                                                                  \n",
            " conv4_block15_2_bn (BatchN  (None, None, None, 256)      1024      ['conv4_block15_2_conv[0][0]']\n",
            " ormalization)                                                                                    \n",
            "                                                                                                  \n",
            " conv4_block15_2_relu (Acti  (None, None, None, 256)      0         ['conv4_block15_2_bn[0][0]']  \n",
            " vation)                                                                                          \n",
            "                                                                                                  \n",
            " conv4_block15_3_conv (Conv  (None, None, None, 1024)     263168    ['conv4_block15_2_relu[0][0]']\n",
            " 2D)                                                                                              \n",
            "                                                                                                  \n",
            " conv4_block15_out (Add)     (None, None, None, 1024)     0         ['conv4_block14_out[0][0]',   \n",
            "                                                                     'conv4_block15_3_conv[0][0]']\n",
            "                                                                                                  \n",
            " conv4_block16_preact_bn (B  (None, None, None, 1024)     4096      ['conv4_block15_out[0][0]']   \n",
            " atchNormalization)                                                                               \n",
            "                                                                                                  \n",
            " conv4_block16_preact_relu   (None, None, None, 1024)     0         ['conv4_block16_preact_bn[0][0\n",
            " (Activation)                                                       ]']                           \n",
            "                                                                                                  \n",
            " conv4_block16_1_conv (Conv  (None, None, None, 256)      262144    ['conv4_block16_preact_relu[0]\n",
            " 2D)                                                                [0]']                         \n",
            "                                                                                                  \n",
            " conv4_block16_1_bn (BatchN  (None, None, None, 256)      1024      ['conv4_block16_1_conv[0][0]']\n",
            " ormalization)                                                                                    \n",
            "                                                                                                  \n",
            " conv4_block16_1_relu (Acti  (None, None, None, 256)      0         ['conv4_block16_1_bn[0][0]']  \n",
            " vation)                                                                                          \n",
            "                                                                                                  \n",
            " conv4_block16_2_pad (ZeroP  (None, None, None, 256)      0         ['conv4_block16_1_relu[0][0]']\n",
            " adding2D)                                                                                        \n",
            "                                                                                                  \n",
            " conv4_block16_2_conv (Conv  (None, None, None, 256)      589824    ['conv4_block16_2_pad[0][0]'] \n",
            " 2D)                                                                                              \n",
            "                                                                                                  \n",
            " conv4_block16_2_bn (BatchN  (None, None, None, 256)      1024      ['conv4_block16_2_conv[0][0]']\n",
            " ormalization)                                                                                    \n",
            "                                                                                                  \n",
            " conv4_block16_2_relu (Acti  (None, None, None, 256)      0         ['conv4_block16_2_bn[0][0]']  \n",
            " vation)                                                                                          \n",
            "                                                                                                  \n",
            " conv4_block16_3_conv (Conv  (None, None, None, 1024)     263168    ['conv4_block16_2_relu[0][0]']\n",
            " 2D)                                                                                              \n",
            "                                                                                                  \n",
            " conv4_block16_out (Add)     (None, None, None, 1024)     0         ['conv4_block15_out[0][0]',   \n",
            "                                                                     'conv4_block16_3_conv[0][0]']\n",
            "                                                                                                  \n",
            " conv4_block17_preact_bn (B  (None, None, None, 1024)     4096      ['conv4_block16_out[0][0]']   \n",
            " atchNormalization)                                                                               \n",
            "                                                                                                  \n",
            " conv4_block17_preact_relu   (None, None, None, 1024)     0         ['conv4_block17_preact_bn[0][0\n",
            " (Activation)                                                       ]']                           \n",
            "                                                                                                  \n",
            " conv4_block17_1_conv (Conv  (None, None, None, 256)      262144    ['conv4_block17_preact_relu[0]\n",
            " 2D)                                                                [0]']                         \n",
            "                                                                                                  \n",
            " conv4_block17_1_bn (BatchN  (None, None, None, 256)      1024      ['conv4_block17_1_conv[0][0]']\n",
            " ormalization)                                                                                    \n",
            "                                                                                                  \n",
            " conv4_block17_1_relu (Acti  (None, None, None, 256)      0         ['conv4_block17_1_bn[0][0]']  \n",
            " vation)                                                                                          \n",
            "                                                                                                  \n",
            " conv4_block17_2_pad (ZeroP  (None, None, None, 256)      0         ['conv4_block17_1_relu[0][0]']\n",
            " adding2D)                                                                                        \n",
            "                                                                                                  \n",
            " conv4_block17_2_conv (Conv  (None, None, None, 256)      589824    ['conv4_block17_2_pad[0][0]'] \n",
            " 2D)                                                                                              \n",
            "                                                                                                  \n",
            " conv4_block17_2_bn (BatchN  (None, None, None, 256)      1024      ['conv4_block17_2_conv[0][0]']\n",
            " ormalization)                                                                                    \n",
            "                                                                                                  \n",
            " conv4_block17_2_relu (Acti  (None, None, None, 256)      0         ['conv4_block17_2_bn[0][0]']  \n",
            " vation)                                                                                          \n",
            "                                                                                                  \n",
            " conv4_block17_3_conv (Conv  (None, None, None, 1024)     263168    ['conv4_block17_2_relu[0][0]']\n",
            " 2D)                                                                                              \n",
            "                                                                                                  \n",
            " conv4_block17_out (Add)     (None, None, None, 1024)     0         ['conv4_block16_out[0][0]',   \n",
            "                                                                     'conv4_block17_3_conv[0][0]']\n",
            "                                                                                                  \n",
            " conv4_block18_preact_bn (B  (None, None, None, 1024)     4096      ['conv4_block17_out[0][0]']   \n",
            " atchNormalization)                                                                               \n",
            "                                                                                                  \n",
            " conv4_block18_preact_relu   (None, None, None, 1024)     0         ['conv4_block18_preact_bn[0][0\n",
            " (Activation)                                                       ]']                           \n",
            "                                                                                                  \n",
            " conv4_block18_1_conv (Conv  (None, None, None, 256)      262144    ['conv4_block18_preact_relu[0]\n",
            " 2D)                                                                [0]']                         \n",
            "                                                                                                  \n",
            " conv4_block18_1_bn (BatchN  (None, None, None, 256)      1024      ['conv4_block18_1_conv[0][0]']\n",
            " ormalization)                                                                                    \n",
            "                                                                                                  \n",
            " conv4_block18_1_relu (Acti  (None, None, None, 256)      0         ['conv4_block18_1_bn[0][0]']  \n",
            " vation)                                                                                          \n",
            "                                                                                                  \n",
            " conv4_block18_2_pad (ZeroP  (None, None, None, 256)      0         ['conv4_block18_1_relu[0][0]']\n",
            " adding2D)                                                                                        \n",
            "                                                                                                  \n",
            " conv4_block18_2_conv (Conv  (None, None, None, 256)      589824    ['conv4_block18_2_pad[0][0]'] \n",
            " 2D)                                                                                              \n",
            "                                                                                                  \n",
            " conv4_block18_2_bn (BatchN  (None, None, None, 256)      1024      ['conv4_block18_2_conv[0][0]']\n",
            " ormalization)                                                                                    \n",
            "                                                                                                  \n",
            " conv4_block18_2_relu (Acti  (None, None, None, 256)      0         ['conv4_block18_2_bn[0][0]']  \n",
            " vation)                                                                                          \n",
            "                                                                                                  \n",
            " conv4_block18_3_conv (Conv  (None, None, None, 1024)     263168    ['conv4_block18_2_relu[0][0]']\n",
            " 2D)                                                                                              \n",
            "                                                                                                  \n",
            " conv4_block18_out (Add)     (None, None, None, 1024)     0         ['conv4_block17_out[0][0]',   \n",
            "                                                                     'conv4_block18_3_conv[0][0]']\n",
            "                                                                                                  \n",
            " conv4_block19_preact_bn (B  (None, None, None, 1024)     4096      ['conv4_block18_out[0][0]']   \n",
            " atchNormalization)                                                                               \n",
            "                                                                                                  \n",
            " conv4_block19_preact_relu   (None, None, None, 1024)     0         ['conv4_block19_preact_bn[0][0\n",
            " (Activation)                                                       ]']                           \n",
            "                                                                                                  \n",
            " conv4_block19_1_conv (Conv  (None, None, None, 256)      262144    ['conv4_block19_preact_relu[0]\n",
            " 2D)                                                                [0]']                         \n",
            "                                                                                                  \n",
            " conv4_block19_1_bn (BatchN  (None, None, None, 256)      1024      ['conv4_block19_1_conv[0][0]']\n",
            " ormalization)                                                                                    \n",
            "                                                                                                  \n",
            " conv4_block19_1_relu (Acti  (None, None, None, 256)      0         ['conv4_block19_1_bn[0][0]']  \n",
            " vation)                                                                                          \n",
            "                                                                                                  \n",
            " conv4_block19_2_pad (ZeroP  (None, None, None, 256)      0         ['conv4_block19_1_relu[0][0]']\n",
            " adding2D)                                                                                        \n",
            "                                                                                                  \n",
            " conv4_block19_2_conv (Conv  (None, None, None, 256)      589824    ['conv4_block19_2_pad[0][0]'] \n",
            " 2D)                                                                                              \n",
            "                                                                                                  \n",
            " conv4_block19_2_bn (BatchN  (None, None, None, 256)      1024      ['conv4_block19_2_conv[0][0]']\n",
            " ormalization)                                                                                    \n",
            "                                                                                                  \n",
            " conv4_block19_2_relu (Acti  (None, None, None, 256)      0         ['conv4_block19_2_bn[0][0]']  \n",
            " vation)                                                                                          \n",
            "                                                                                                  \n",
            " conv4_block19_3_conv (Conv  (None, None, None, 1024)     263168    ['conv4_block19_2_relu[0][0]']\n",
            " 2D)                                                                                              \n",
            "                                                                                                  \n",
            " conv4_block19_out (Add)     (None, None, None, 1024)     0         ['conv4_block18_out[0][0]',   \n",
            "                                                                     'conv4_block19_3_conv[0][0]']\n",
            "                                                                                                  \n",
            " conv4_block20_preact_bn (B  (None, None, None, 1024)     4096      ['conv4_block19_out[0][0]']   \n",
            " atchNormalization)                                                                               \n",
            "                                                                                                  \n",
            " conv4_block20_preact_relu   (None, None, None, 1024)     0         ['conv4_block20_preact_bn[0][0\n",
            " (Activation)                                                       ]']                           \n",
            "                                                                                                  \n",
            " conv4_block20_1_conv (Conv  (None, None, None, 256)      262144    ['conv4_block20_preact_relu[0]\n",
            " 2D)                                                                [0]']                         \n",
            "                                                                                                  \n",
            " conv4_block20_1_bn (BatchN  (None, None, None, 256)      1024      ['conv4_block20_1_conv[0][0]']\n",
            " ormalization)                                                                                    \n",
            "                                                                                                  \n",
            " conv4_block20_1_relu (Acti  (None, None, None, 256)      0         ['conv4_block20_1_bn[0][0]']  \n",
            " vation)                                                                                          \n",
            "                                                                                                  \n",
            " conv4_block20_2_pad (ZeroP  (None, None, None, 256)      0         ['conv4_block20_1_relu[0][0]']\n",
            " adding2D)                                                                                        \n",
            "                                                                                                  \n",
            " conv4_block20_2_conv (Conv  (None, None, None, 256)      589824    ['conv4_block20_2_pad[0][0]'] \n",
            " 2D)                                                                                              \n",
            "                                                                                                  \n",
            " conv4_block20_2_bn (BatchN  (None, None, None, 256)      1024      ['conv4_block20_2_conv[0][0]']\n",
            " ormalization)                                                                                    \n",
            "                                                                                                  \n",
            " conv4_block20_2_relu (Acti  (None, None, None, 256)      0         ['conv4_block20_2_bn[0][0]']  \n",
            " vation)                                                                                          \n",
            "                                                                                                  \n",
            " conv4_block20_3_conv (Conv  (None, None, None, 1024)     263168    ['conv4_block20_2_relu[0][0]']\n",
            " 2D)                                                                                              \n",
            "                                                                                                  \n",
            " conv4_block20_out (Add)     (None, None, None, 1024)     0         ['conv4_block19_out[0][0]',   \n",
            "                                                                     'conv4_block20_3_conv[0][0]']\n",
            "                                                                                                  \n",
            " conv4_block21_preact_bn (B  (None, None, None, 1024)     4096      ['conv4_block20_out[0][0]']   \n",
            " atchNormalization)                                                                               \n",
            "                                                                                                  \n",
            " conv4_block21_preact_relu   (None, None, None, 1024)     0         ['conv4_block21_preact_bn[0][0\n",
            " (Activation)                                                       ]']                           \n",
            "                                                                                                  \n",
            " conv4_block21_1_conv (Conv  (None, None, None, 256)      262144    ['conv4_block21_preact_relu[0]\n",
            " 2D)                                                                [0]']                         \n",
            "                                                                                                  \n",
            " conv4_block21_1_bn (BatchN  (None, None, None, 256)      1024      ['conv4_block21_1_conv[0][0]']\n",
            " ormalization)                                                                                    \n",
            "                                                                                                  \n",
            " conv4_block21_1_relu (Acti  (None, None, None, 256)      0         ['conv4_block21_1_bn[0][0]']  \n",
            " vation)                                                                                          \n",
            "                                                                                                  \n",
            " conv4_block21_2_pad (ZeroP  (None, None, None, 256)      0         ['conv4_block21_1_relu[0][0]']\n",
            " adding2D)                                                                                        \n",
            "                                                                                                  \n",
            " conv4_block21_2_conv (Conv  (None, None, None, 256)      589824    ['conv4_block21_2_pad[0][0]'] \n",
            " 2D)                                                                                              \n",
            "                                                                                                  \n",
            " conv4_block21_2_bn (BatchN  (None, None, None, 256)      1024      ['conv4_block21_2_conv[0][0]']\n",
            " ormalization)                                                                                    \n",
            "                                                                                                  \n",
            " conv4_block21_2_relu (Acti  (None, None, None, 256)      0         ['conv4_block21_2_bn[0][0]']  \n",
            " vation)                                                                                          \n",
            "                                                                                                  \n",
            " conv4_block21_3_conv (Conv  (None, None, None, 1024)     263168    ['conv4_block21_2_relu[0][0]']\n",
            " 2D)                                                                                              \n",
            "                                                                                                  \n",
            " conv4_block21_out (Add)     (None, None, None, 1024)     0         ['conv4_block20_out[0][0]',   \n",
            "                                                                     'conv4_block21_3_conv[0][0]']\n",
            "                                                                                                  \n",
            " conv4_block22_preact_bn (B  (None, None, None, 1024)     4096      ['conv4_block21_out[0][0]']   \n",
            " atchNormalization)                                                                               \n",
            "                                                                                                  \n",
            " conv4_block22_preact_relu   (None, None, None, 1024)     0         ['conv4_block22_preact_bn[0][0\n",
            " (Activation)                                                       ]']                           \n",
            "                                                                                                  \n",
            " conv4_block22_1_conv (Conv  (None, None, None, 256)      262144    ['conv4_block22_preact_relu[0]\n",
            " 2D)                                                                [0]']                         \n",
            "                                                                                                  \n",
            " conv4_block22_1_bn (BatchN  (None, None, None, 256)      1024      ['conv4_block22_1_conv[0][0]']\n",
            " ormalization)                                                                                    \n",
            "                                                                                                  \n",
            " conv4_block22_1_relu (Acti  (None, None, None, 256)      0         ['conv4_block22_1_bn[0][0]']  \n",
            " vation)                                                                                          \n",
            "                                                                                                  \n",
            " conv4_block22_2_pad (ZeroP  (None, None, None, 256)      0         ['conv4_block22_1_relu[0][0]']\n",
            " adding2D)                                                                                        \n",
            "                                                                                                  \n",
            " conv4_block22_2_conv (Conv  (None, None, None, 256)      589824    ['conv4_block22_2_pad[0][0]'] \n",
            " 2D)                                                                                              \n",
            "                                                                                                  \n",
            " conv4_block22_2_bn (BatchN  (None, None, None, 256)      1024      ['conv4_block22_2_conv[0][0]']\n",
            " ormalization)                                                                                    \n",
            "                                                                                                  \n",
            " conv4_block22_2_relu (Acti  (None, None, None, 256)      0         ['conv4_block22_2_bn[0][0]']  \n",
            " vation)                                                                                          \n",
            "                                                                                                  \n",
            " conv4_block22_3_conv (Conv  (None, None, None, 1024)     263168    ['conv4_block22_2_relu[0][0]']\n",
            " 2D)                                                                                              \n",
            "                                                                                                  \n",
            " conv4_block22_out (Add)     (None, None, None, 1024)     0         ['conv4_block21_out[0][0]',   \n",
            "                                                                     'conv4_block22_3_conv[0][0]']\n",
            "                                                                                                  \n",
            " conv4_block23_preact_bn (B  (None, None, None, 1024)     4096      ['conv4_block22_out[0][0]']   \n",
            " atchNormalization)                                                                               \n",
            "                                                                                                  \n",
            " conv4_block23_preact_relu   (None, None, None, 1024)     0         ['conv4_block23_preact_bn[0][0\n",
            " (Activation)                                                       ]']                           \n",
            "                                                                                                  \n",
            " conv4_block23_1_conv (Conv  (None, None, None, 256)      262144    ['conv4_block23_preact_relu[0]\n",
            " 2D)                                                                [0]']                         \n",
            "                                                                                                  \n",
            " conv4_block23_1_bn (BatchN  (None, None, None, 256)      1024      ['conv4_block23_1_conv[0][0]']\n",
            " ormalization)                                                                                    \n",
            "                                                                                                  \n",
            " conv4_block23_1_relu (Acti  (None, None, None, 256)      0         ['conv4_block23_1_bn[0][0]']  \n",
            " vation)                                                                                          \n",
            "                                                                                                  \n",
            " conv4_block23_2_pad (ZeroP  (None, None, None, 256)      0         ['conv4_block23_1_relu[0][0]']\n",
            " adding2D)                                                                                        \n",
            "                                                                                                  \n",
            " conv4_block23_2_conv (Conv  (None, None, None, 256)      589824    ['conv4_block23_2_pad[0][0]'] \n",
            " 2D)                                                                                              \n",
            "                                                                                                  \n",
            " conv4_block23_2_bn (BatchN  (None, None, None, 256)      1024      ['conv4_block23_2_conv[0][0]']\n",
            " ormalization)                                                                                    \n",
            "                                                                                                  \n",
            " conv4_block23_2_relu (Acti  (None, None, None, 256)      0         ['conv4_block23_2_bn[0][0]']  \n",
            " vation)                                                                                          \n",
            "                                                                                                  \n",
            " conv4_block23_3_conv (Conv  (None, None, None, 1024)     263168    ['conv4_block23_2_relu[0][0]']\n",
            " 2D)                                                                                              \n",
            "                                                                                                  \n",
            " conv4_block23_out (Add)     (None, None, None, 1024)     0         ['conv4_block22_out[0][0]',   \n",
            "                                                                     'conv4_block23_3_conv[0][0]']\n",
            "                                                                                                  \n",
            " conv4_block24_preact_bn (B  (None, None, None, 1024)     4096      ['conv4_block23_out[0][0]']   \n",
            " atchNormalization)                                                                               \n",
            "                                                                                                  \n",
            " conv4_block24_preact_relu   (None, None, None, 1024)     0         ['conv4_block24_preact_bn[0][0\n",
            " (Activation)                                                       ]']                           \n",
            "                                                                                                  \n",
            " conv4_block24_1_conv (Conv  (None, None, None, 256)      262144    ['conv4_block24_preact_relu[0]\n",
            " 2D)                                                                [0]']                         \n",
            "                                                                                                  \n",
            " conv4_block24_1_bn (BatchN  (None, None, None, 256)      1024      ['conv4_block24_1_conv[0][0]']\n",
            " ormalization)                                                                                    \n",
            "                                                                                                  \n",
            " conv4_block24_1_relu (Acti  (None, None, None, 256)      0         ['conv4_block24_1_bn[0][0]']  \n",
            " vation)                                                                                          \n",
            "                                                                                                  \n",
            " conv4_block24_2_pad (ZeroP  (None, None, None, 256)      0         ['conv4_block24_1_relu[0][0]']\n",
            " adding2D)                                                                                        \n",
            "                                                                                                  \n",
            " conv4_block24_2_conv (Conv  (None, None, None, 256)      589824    ['conv4_block24_2_pad[0][0]'] \n",
            " 2D)                                                                                              \n",
            "                                                                                                  \n",
            " conv4_block24_2_bn (BatchN  (None, None, None, 256)      1024      ['conv4_block24_2_conv[0][0]']\n",
            " ormalization)                                                                                    \n",
            "                                                                                                  \n",
            " conv4_block24_2_relu (Acti  (None, None, None, 256)      0         ['conv4_block24_2_bn[0][0]']  \n",
            " vation)                                                                                          \n",
            "                                                                                                  \n",
            " conv4_block24_3_conv (Conv  (None, None, None, 1024)     263168    ['conv4_block24_2_relu[0][0]']\n",
            " 2D)                                                                                              \n",
            "                                                                                                  \n",
            " conv4_block24_out (Add)     (None, None, None, 1024)     0         ['conv4_block23_out[0][0]',   \n",
            "                                                                     'conv4_block24_3_conv[0][0]']\n",
            "                                                                                                  \n",
            " conv4_block25_preact_bn (B  (None, None, None, 1024)     4096      ['conv4_block24_out[0][0]']   \n",
            " atchNormalization)                                                                               \n",
            "                                                                                                  \n",
            " conv4_block25_preact_relu   (None, None, None, 1024)     0         ['conv4_block25_preact_bn[0][0\n",
            " (Activation)                                                       ]']                           \n",
            "                                                                                                  \n",
            " conv4_block25_1_conv (Conv  (None, None, None, 256)      262144    ['conv4_block25_preact_relu[0]\n",
            " 2D)                                                                [0]']                         \n",
            "                                                                                                  \n",
            " conv4_block25_1_bn (BatchN  (None, None, None, 256)      1024      ['conv4_block25_1_conv[0][0]']\n",
            " ormalization)                                                                                    \n",
            "                                                                                                  \n",
            " conv4_block25_1_relu (Acti  (None, None, None, 256)      0         ['conv4_block25_1_bn[0][0]']  \n",
            " vation)                                                                                          \n",
            "                                                                                                  \n",
            " conv4_block25_2_pad (ZeroP  (None, None, None, 256)      0         ['conv4_block25_1_relu[0][0]']\n",
            " adding2D)                                                                                        \n",
            "                                                                                                  \n",
            " conv4_block25_2_conv (Conv  (None, None, None, 256)      589824    ['conv4_block25_2_pad[0][0]'] \n",
            " 2D)                                                                                              \n",
            "                                                                                                  \n",
            " conv4_block25_2_bn (BatchN  (None, None, None, 256)      1024      ['conv4_block25_2_conv[0][0]']\n",
            " ormalization)                                                                                    \n",
            "                                                                                                  \n",
            " conv4_block25_2_relu (Acti  (None, None, None, 256)      0         ['conv4_block25_2_bn[0][0]']  \n",
            " vation)                                                                                          \n",
            "                                                                                                  \n",
            " conv4_block25_3_conv (Conv  (None, None, None, 1024)     263168    ['conv4_block25_2_relu[0][0]']\n",
            " 2D)                                                                                              \n",
            "                                                                                                  \n",
            " conv4_block25_out (Add)     (None, None, None, 1024)     0         ['conv4_block24_out[0][0]',   \n",
            "                                                                     'conv4_block25_3_conv[0][0]']\n",
            "                                                                                                  \n",
            " conv4_block26_preact_bn (B  (None, None, None, 1024)     4096      ['conv4_block25_out[0][0]']   \n",
            " atchNormalization)                                                                               \n",
            "                                                                                                  \n",
            " conv4_block26_preact_relu   (None, None, None, 1024)     0         ['conv4_block26_preact_bn[0][0\n",
            " (Activation)                                                       ]']                           \n",
            "                                                                                                  \n",
            " conv4_block26_1_conv (Conv  (None, None, None, 256)      262144    ['conv4_block26_preact_relu[0]\n",
            " 2D)                                                                [0]']                         \n",
            "                                                                                                  \n",
            " conv4_block26_1_bn (BatchN  (None, None, None, 256)      1024      ['conv4_block26_1_conv[0][0]']\n",
            " ormalization)                                                                                    \n",
            "                                                                                                  \n",
            " conv4_block26_1_relu (Acti  (None, None, None, 256)      0         ['conv4_block26_1_bn[0][0]']  \n",
            " vation)                                                                                          \n",
            "                                                                                                  \n",
            " conv4_block26_2_pad (ZeroP  (None, None, None, 256)      0         ['conv4_block26_1_relu[0][0]']\n",
            " adding2D)                                                                                        \n",
            "                                                                                                  \n",
            " conv4_block26_2_conv (Conv  (None, None, None, 256)      589824    ['conv4_block26_2_pad[0][0]'] \n",
            " 2D)                                                                                              \n",
            "                                                                                                  \n",
            " conv4_block26_2_bn (BatchN  (None, None, None, 256)      1024      ['conv4_block26_2_conv[0][0]']\n",
            " ormalization)                                                                                    \n",
            "                                                                                                  \n",
            " conv4_block26_2_relu (Acti  (None, None, None, 256)      0         ['conv4_block26_2_bn[0][0]']  \n",
            " vation)                                                                                          \n",
            "                                                                                                  \n",
            " conv4_block26_3_conv (Conv  (None, None, None, 1024)     263168    ['conv4_block26_2_relu[0][0]']\n",
            " 2D)                                                                                              \n",
            "                                                                                                  \n",
            " conv4_block26_out (Add)     (None, None, None, 1024)     0         ['conv4_block25_out[0][0]',   \n",
            "                                                                     'conv4_block26_3_conv[0][0]']\n",
            "                                                                                                  \n",
            " conv4_block27_preact_bn (B  (None, None, None, 1024)     4096      ['conv4_block26_out[0][0]']   \n",
            " atchNormalization)                                                                               \n",
            "                                                                                                  \n",
            " conv4_block27_preact_relu   (None, None, None, 1024)     0         ['conv4_block27_preact_bn[0][0\n",
            " (Activation)                                                       ]']                           \n",
            "                                                                                                  \n",
            " conv4_block27_1_conv (Conv  (None, None, None, 256)      262144    ['conv4_block27_preact_relu[0]\n",
            " 2D)                                                                [0]']                         \n",
            "                                                                                                  \n",
            " conv4_block27_1_bn (BatchN  (None, None, None, 256)      1024      ['conv4_block27_1_conv[0][0]']\n",
            " ormalization)                                                                                    \n",
            "                                                                                                  \n",
            " conv4_block27_1_relu (Acti  (None, None, None, 256)      0         ['conv4_block27_1_bn[0][0]']  \n",
            " vation)                                                                                          \n",
            "                                                                                                  \n",
            " conv4_block27_2_pad (ZeroP  (None, None, None, 256)      0         ['conv4_block27_1_relu[0][0]']\n",
            " adding2D)                                                                                        \n",
            "                                                                                                  \n",
            " conv4_block27_2_conv (Conv  (None, None, None, 256)      589824    ['conv4_block27_2_pad[0][0]'] \n",
            " 2D)                                                                                              \n",
            "                                                                                                  \n",
            " conv4_block27_2_bn (BatchN  (None, None, None, 256)      1024      ['conv4_block27_2_conv[0][0]']\n",
            " ormalization)                                                                                    \n",
            "                                                                                                  \n",
            " conv4_block27_2_relu (Acti  (None, None, None, 256)      0         ['conv4_block27_2_bn[0][0]']  \n",
            " vation)                                                                                          \n",
            "                                                                                                  \n",
            " conv4_block27_3_conv (Conv  (None, None, None, 1024)     263168    ['conv4_block27_2_relu[0][0]']\n",
            " 2D)                                                                                              \n",
            "                                                                                                  \n",
            " conv4_block27_out (Add)     (None, None, None, 1024)     0         ['conv4_block26_out[0][0]',   \n",
            "                                                                     'conv4_block27_3_conv[0][0]']\n",
            "                                                                                                  \n",
            " conv4_block28_preact_bn (B  (None, None, None, 1024)     4096      ['conv4_block27_out[0][0]']   \n",
            " atchNormalization)                                                                               \n",
            "                                                                                                  \n",
            " conv4_block28_preact_relu   (None, None, None, 1024)     0         ['conv4_block28_preact_bn[0][0\n",
            " (Activation)                                                       ]']                           \n",
            "                                                                                                  \n",
            " conv4_block28_1_conv (Conv  (None, None, None, 256)      262144    ['conv4_block28_preact_relu[0]\n",
            " 2D)                                                                [0]']                         \n",
            "                                                                                                  \n",
            " conv4_block28_1_bn (BatchN  (None, None, None, 256)      1024      ['conv4_block28_1_conv[0][0]']\n",
            " ormalization)                                                                                    \n",
            "                                                                                                  \n",
            " conv4_block28_1_relu (Acti  (None, None, None, 256)      0         ['conv4_block28_1_bn[0][0]']  \n",
            " vation)                                                                                          \n",
            "                                                                                                  \n",
            " conv4_block28_2_pad (ZeroP  (None, None, None, 256)      0         ['conv4_block28_1_relu[0][0]']\n",
            " adding2D)                                                                                        \n",
            "                                                                                                  \n",
            " conv4_block28_2_conv (Conv  (None, None, None, 256)      589824    ['conv4_block28_2_pad[0][0]'] \n",
            " 2D)                                                                                              \n",
            "                                                                                                  \n",
            " conv4_block28_2_bn (BatchN  (None, None, None, 256)      1024      ['conv4_block28_2_conv[0][0]']\n",
            " ormalization)                                                                                    \n",
            "                                                                                                  \n",
            " conv4_block28_2_relu (Acti  (None, None, None, 256)      0         ['conv4_block28_2_bn[0][0]']  \n",
            " vation)                                                                                          \n",
            "                                                                                                  \n",
            " conv4_block28_3_conv (Conv  (None, None, None, 1024)     263168    ['conv4_block28_2_relu[0][0]']\n",
            " 2D)                                                                                              \n",
            "                                                                                                  \n",
            " conv4_block28_out (Add)     (None, None, None, 1024)     0         ['conv4_block27_out[0][0]',   \n",
            "                                                                     'conv4_block28_3_conv[0][0]']\n",
            "                                                                                                  \n",
            " conv4_block29_preact_bn (B  (None, None, None, 1024)     4096      ['conv4_block28_out[0][0]']   \n",
            " atchNormalization)                                                                               \n",
            "                                                                                                  \n",
            " conv4_block29_preact_relu   (None, None, None, 1024)     0         ['conv4_block29_preact_bn[0][0\n",
            " (Activation)                                                       ]']                           \n",
            "                                                                                                  \n",
            " conv4_block29_1_conv (Conv  (None, None, None, 256)      262144    ['conv4_block29_preact_relu[0]\n",
            " 2D)                                                                [0]']                         \n",
            "                                                                                                  \n",
            " conv4_block29_1_bn (BatchN  (None, None, None, 256)      1024      ['conv4_block29_1_conv[0][0]']\n",
            " ormalization)                                                                                    \n",
            "                                                                                                  \n",
            " conv4_block29_1_relu (Acti  (None, None, None, 256)      0         ['conv4_block29_1_bn[0][0]']  \n",
            " vation)                                                                                          \n",
            "                                                                                                  \n",
            " conv4_block29_2_pad (ZeroP  (None, None, None, 256)      0         ['conv4_block29_1_relu[0][0]']\n",
            " adding2D)                                                                                        \n",
            "                                                                                                  \n",
            " conv4_block29_2_conv (Conv  (None, None, None, 256)      589824    ['conv4_block29_2_pad[0][0]'] \n",
            " 2D)                                                                                              \n",
            "                                                                                                  \n",
            " conv4_block29_2_bn (BatchN  (None, None, None, 256)      1024      ['conv4_block29_2_conv[0][0]']\n",
            " ormalization)                                                                                    \n",
            "                                                                                                  \n",
            " conv4_block29_2_relu (Acti  (None, None, None, 256)      0         ['conv4_block29_2_bn[0][0]']  \n",
            " vation)                                                                                          \n",
            "                                                                                                  \n",
            " conv4_block29_3_conv (Conv  (None, None, None, 1024)     263168    ['conv4_block29_2_relu[0][0]']\n",
            " 2D)                                                                                              \n",
            "                                                                                                  \n",
            " conv4_block29_out (Add)     (None, None, None, 1024)     0         ['conv4_block28_out[0][0]',   \n",
            "                                                                     'conv4_block29_3_conv[0][0]']\n",
            "                                                                                                  \n",
            " conv4_block30_preact_bn (B  (None, None, None, 1024)     4096      ['conv4_block29_out[0][0]']   \n",
            " atchNormalization)                                                                               \n",
            "                                                                                                  \n",
            " conv4_block30_preact_relu   (None, None, None, 1024)     0         ['conv4_block30_preact_bn[0][0\n",
            " (Activation)                                                       ]']                           \n",
            "                                                                                                  \n",
            " conv4_block30_1_conv (Conv  (None, None, None, 256)      262144    ['conv4_block30_preact_relu[0]\n",
            " 2D)                                                                [0]']                         \n",
            "                                                                                                  \n",
            " conv4_block30_1_bn (BatchN  (None, None, None, 256)      1024      ['conv4_block30_1_conv[0][0]']\n",
            " ormalization)                                                                                    \n",
            "                                                                                                  \n",
            " conv4_block30_1_relu (Acti  (None, None, None, 256)      0         ['conv4_block30_1_bn[0][0]']  \n",
            " vation)                                                                                          \n",
            "                                                                                                  \n",
            " conv4_block30_2_pad (ZeroP  (None, None, None, 256)      0         ['conv4_block30_1_relu[0][0]']\n",
            " adding2D)                                                                                        \n",
            "                                                                                                  \n",
            " conv4_block30_2_conv (Conv  (None, None, None, 256)      589824    ['conv4_block30_2_pad[0][0]'] \n",
            " 2D)                                                                                              \n",
            "                                                                                                  \n",
            " conv4_block30_2_bn (BatchN  (None, None, None, 256)      1024      ['conv4_block30_2_conv[0][0]']\n",
            " ormalization)                                                                                    \n",
            "                                                                                                  \n",
            " conv4_block30_2_relu (Acti  (None, None, None, 256)      0         ['conv4_block30_2_bn[0][0]']  \n",
            " vation)                                                                                          \n",
            "                                                                                                  \n",
            " conv4_block30_3_conv (Conv  (None, None, None, 1024)     263168    ['conv4_block30_2_relu[0][0]']\n",
            " 2D)                                                                                              \n",
            "                                                                                                  \n",
            " conv4_block30_out (Add)     (None, None, None, 1024)     0         ['conv4_block29_out[0][0]',   \n",
            "                                                                     'conv4_block30_3_conv[0][0]']\n",
            "                                                                                                  \n",
            " conv4_block31_preact_bn (B  (None, None, None, 1024)     4096      ['conv4_block30_out[0][0]']   \n",
            " atchNormalization)                                                                               \n",
            "                                                                                                  \n",
            " conv4_block31_preact_relu   (None, None, None, 1024)     0         ['conv4_block31_preact_bn[0][0\n",
            " (Activation)                                                       ]']                           \n",
            "                                                                                                  \n",
            " conv4_block31_1_conv (Conv  (None, None, None, 256)      262144    ['conv4_block31_preact_relu[0]\n",
            " 2D)                                                                [0]']                         \n",
            "                                                                                                  \n",
            " conv4_block31_1_bn (BatchN  (None, None, None, 256)      1024      ['conv4_block31_1_conv[0][0]']\n",
            " ormalization)                                                                                    \n",
            "                                                                                                  \n",
            " conv4_block31_1_relu (Acti  (None, None, None, 256)      0         ['conv4_block31_1_bn[0][0]']  \n",
            " vation)                                                                                          \n",
            "                                                                                                  \n",
            " conv4_block31_2_pad (ZeroP  (None, None, None, 256)      0         ['conv4_block31_1_relu[0][0]']\n",
            " adding2D)                                                                                        \n",
            "                                                                                                  \n",
            " conv4_block31_2_conv (Conv  (None, None, None, 256)      589824    ['conv4_block31_2_pad[0][0]'] \n",
            " 2D)                                                                                              \n",
            "                                                                                                  \n",
            " conv4_block31_2_bn (BatchN  (None, None, None, 256)      1024      ['conv4_block31_2_conv[0][0]']\n",
            " ormalization)                                                                                    \n",
            "                                                                                                  \n",
            " conv4_block31_2_relu (Acti  (None, None, None, 256)      0         ['conv4_block31_2_bn[0][0]']  \n",
            " vation)                                                                                          \n",
            "                                                                                                  \n",
            " conv4_block31_3_conv (Conv  (None, None, None, 1024)     263168    ['conv4_block31_2_relu[0][0]']\n",
            " 2D)                                                                                              \n",
            "                                                                                                  \n",
            " conv4_block31_out (Add)     (None, None, None, 1024)     0         ['conv4_block30_out[0][0]',   \n",
            "                                                                     'conv4_block31_3_conv[0][0]']\n",
            "                                                                                                  \n",
            " conv4_block32_preact_bn (B  (None, None, None, 1024)     4096      ['conv4_block31_out[0][0]']   \n",
            " atchNormalization)                                                                               \n",
            "                                                                                                  \n",
            " conv4_block32_preact_relu   (None, None, None, 1024)     0         ['conv4_block32_preact_bn[0][0\n",
            " (Activation)                                                       ]']                           \n",
            "                                                                                                  \n",
            " conv4_block32_1_conv (Conv  (None, None, None, 256)      262144    ['conv4_block32_preact_relu[0]\n",
            " 2D)                                                                [0]']                         \n",
            "                                                                                                  \n",
            " conv4_block32_1_bn (BatchN  (None, None, None, 256)      1024      ['conv4_block32_1_conv[0][0]']\n",
            " ormalization)                                                                                    \n",
            "                                                                                                  \n",
            " conv4_block32_1_relu (Acti  (None, None, None, 256)      0         ['conv4_block32_1_bn[0][0]']  \n",
            " vation)                                                                                          \n",
            "                                                                                                  \n",
            " conv4_block32_2_pad (ZeroP  (None, None, None, 256)      0         ['conv4_block32_1_relu[0][0]']\n",
            " adding2D)                                                                                        \n",
            "                                                                                                  \n",
            " conv4_block32_2_conv (Conv  (None, None, None, 256)      589824    ['conv4_block32_2_pad[0][0]'] \n",
            " 2D)                                                                                              \n",
            "                                                                                                  \n",
            " conv4_block32_2_bn (BatchN  (None, None, None, 256)      1024      ['conv4_block32_2_conv[0][0]']\n",
            " ormalization)                                                                                    \n",
            "                                                                                                  \n",
            " conv4_block32_2_relu (Acti  (None, None, None, 256)      0         ['conv4_block32_2_bn[0][0]']  \n",
            " vation)                                                                                          \n",
            "                                                                                                  \n",
            " conv4_block32_3_conv (Conv  (None, None, None, 1024)     263168    ['conv4_block32_2_relu[0][0]']\n",
            " 2D)                                                                                              \n",
            "                                                                                                  \n",
            " conv4_block32_out (Add)     (None, None, None, 1024)     0         ['conv4_block31_out[0][0]',   \n",
            "                                                                     'conv4_block32_3_conv[0][0]']\n",
            "                                                                                                  \n",
            " conv4_block33_preact_bn (B  (None, None, None, 1024)     4096      ['conv4_block32_out[0][0]']   \n",
            " atchNormalization)                                                                               \n",
            "                                                                                                  \n",
            " conv4_block33_preact_relu   (None, None, None, 1024)     0         ['conv4_block33_preact_bn[0][0\n",
            " (Activation)                                                       ]']                           \n",
            "                                                                                                  \n",
            " conv4_block33_1_conv (Conv  (None, None, None, 256)      262144    ['conv4_block33_preact_relu[0]\n",
            " 2D)                                                                [0]']                         \n",
            "                                                                                                  \n",
            " conv4_block33_1_bn (BatchN  (None, None, None, 256)      1024      ['conv4_block33_1_conv[0][0]']\n",
            " ormalization)                                                                                    \n",
            "                                                                                                  \n",
            " conv4_block33_1_relu (Acti  (None, None, None, 256)      0         ['conv4_block33_1_bn[0][0]']  \n",
            " vation)                                                                                          \n",
            "                                                                                                  \n",
            " conv4_block33_2_pad (ZeroP  (None, None, None, 256)      0         ['conv4_block33_1_relu[0][0]']\n",
            " adding2D)                                                                                        \n",
            "                                                                                                  \n",
            " conv4_block33_2_conv (Conv  (None, None, None, 256)      589824    ['conv4_block33_2_pad[0][0]'] \n",
            " 2D)                                                                                              \n",
            "                                                                                                  \n",
            " conv4_block33_2_bn (BatchN  (None, None, None, 256)      1024      ['conv4_block33_2_conv[0][0]']\n",
            " ormalization)                                                                                    \n",
            "                                                                                                  \n",
            " conv4_block33_2_relu (Acti  (None, None, None, 256)      0         ['conv4_block33_2_bn[0][0]']  \n",
            " vation)                                                                                          \n",
            "                                                                                                  \n",
            " conv4_block33_3_conv (Conv  (None, None, None, 1024)     263168    ['conv4_block33_2_relu[0][0]']\n",
            " 2D)                                                                                              \n",
            "                                                                                                  \n",
            " conv4_block33_out (Add)     (None, None, None, 1024)     0         ['conv4_block32_out[0][0]',   \n",
            "                                                                     'conv4_block33_3_conv[0][0]']\n",
            "                                                                                                  \n",
            " conv4_block34_preact_bn (B  (None, None, None, 1024)     4096      ['conv4_block33_out[0][0]']   \n",
            " atchNormalization)                                                                               \n",
            "                                                                                                  \n",
            " conv4_block34_preact_relu   (None, None, None, 1024)     0         ['conv4_block34_preact_bn[0][0\n",
            " (Activation)                                                       ]']                           \n",
            "                                                                                                  \n",
            " conv4_block34_1_conv (Conv  (None, None, None, 256)      262144    ['conv4_block34_preact_relu[0]\n",
            " 2D)                                                                [0]']                         \n",
            "                                                                                                  \n",
            " conv4_block34_1_bn (BatchN  (None, None, None, 256)      1024      ['conv4_block34_1_conv[0][0]']\n",
            " ormalization)                                                                                    \n",
            "                                                                                                  \n",
            " conv4_block34_1_relu (Acti  (None, None, None, 256)      0         ['conv4_block34_1_bn[0][0]']  \n",
            " vation)                                                                                          \n",
            "                                                                                                  \n",
            " conv4_block34_2_pad (ZeroP  (None, None, None, 256)      0         ['conv4_block34_1_relu[0][0]']\n",
            " adding2D)                                                                                        \n",
            "                                                                                                  \n",
            " conv4_block34_2_conv (Conv  (None, None, None, 256)      589824    ['conv4_block34_2_pad[0][0]'] \n",
            " 2D)                                                                                              \n",
            "                                                                                                  \n",
            " conv4_block34_2_bn (BatchN  (None, None, None, 256)      1024      ['conv4_block34_2_conv[0][0]']\n",
            " ormalization)                                                                                    \n",
            "                                                                                                  \n",
            " conv4_block34_2_relu (Acti  (None, None, None, 256)      0         ['conv4_block34_2_bn[0][0]']  \n",
            " vation)                                                                                          \n",
            "                                                                                                  \n",
            " conv4_block34_3_conv (Conv  (None, None, None, 1024)     263168    ['conv4_block34_2_relu[0][0]']\n",
            " 2D)                                                                                              \n",
            "                                                                                                  \n",
            " conv4_block34_out (Add)     (None, None, None, 1024)     0         ['conv4_block33_out[0][0]',   \n",
            "                                                                     'conv4_block34_3_conv[0][0]']\n",
            "                                                                                                  \n",
            " conv4_block35_preact_bn (B  (None, None, None, 1024)     4096      ['conv4_block34_out[0][0]']   \n",
            " atchNormalization)                                                                               \n",
            "                                                                                                  \n",
            " conv4_block35_preact_relu   (None, None, None, 1024)     0         ['conv4_block35_preact_bn[0][0\n",
            " (Activation)                                                       ]']                           \n",
            "                                                                                                  \n",
            " conv4_block35_1_conv (Conv  (None, None, None, 256)      262144    ['conv4_block35_preact_relu[0]\n",
            " 2D)                                                                [0]']                         \n",
            "                                                                                                  \n",
            " conv4_block35_1_bn (BatchN  (None, None, None, 256)      1024      ['conv4_block35_1_conv[0][0]']\n",
            " ormalization)                                                                                    \n",
            "                                                                                                  \n",
            " conv4_block35_1_relu (Acti  (None, None, None, 256)      0         ['conv4_block35_1_bn[0][0]']  \n",
            " vation)                                                                                          \n",
            "                                                                                                  \n",
            " conv4_block35_2_pad (ZeroP  (None, None, None, 256)      0         ['conv4_block35_1_relu[0][0]']\n",
            " adding2D)                                                                                        \n",
            "                                                                                                  \n",
            " conv4_block35_2_conv (Conv  (None, None, None, 256)      589824    ['conv4_block35_2_pad[0][0]'] \n",
            " 2D)                                                                                              \n",
            "                                                                                                  \n",
            " conv4_block35_2_bn (BatchN  (None, None, None, 256)      1024      ['conv4_block35_2_conv[0][0]']\n",
            " ormalization)                                                                                    \n",
            "                                                                                                  \n",
            " conv4_block35_2_relu (Acti  (None, None, None, 256)      0         ['conv4_block35_2_bn[0][0]']  \n",
            " vation)                                                                                          \n",
            "                                                                                                  \n",
            " conv4_block35_3_conv (Conv  (None, None, None, 1024)     263168    ['conv4_block35_2_relu[0][0]']\n",
            " 2D)                                                                                              \n",
            "                                                                                                  \n",
            " conv4_block35_out (Add)     (None, None, None, 1024)     0         ['conv4_block34_out[0][0]',   \n",
            "                                                                     'conv4_block35_3_conv[0][0]']\n",
            "                                                                                                  \n",
            " conv4_block36_preact_bn (B  (None, None, None, 1024)     4096      ['conv4_block35_out[0][0]']   \n",
            " atchNormalization)                                                                               \n",
            "                                                                                                  \n",
            " conv4_block36_preact_relu   (None, None, None, 1024)     0         ['conv4_block36_preact_bn[0][0\n",
            " (Activation)                                                       ]']                           \n",
            "                                                                                                  \n",
            " conv4_block36_1_conv (Conv  (None, None, None, 256)      262144    ['conv4_block36_preact_relu[0]\n",
            " 2D)                                                                [0]']                         \n",
            "                                                                                                  \n",
            " conv4_block36_1_bn (BatchN  (None, None, None, 256)      1024      ['conv4_block36_1_conv[0][0]']\n",
            " ormalization)                                                                                    \n",
            "                                                                                                  \n",
            " conv4_block36_1_relu (Acti  (None, None, None, 256)      0         ['conv4_block36_1_bn[0][0]']  \n",
            " vation)                                                                                          \n",
            "                                                                                                  \n",
            " conv4_block36_2_pad (ZeroP  (None, None, None, 256)      0         ['conv4_block36_1_relu[0][0]']\n",
            " adding2D)                                                                                        \n",
            "                                                                                                  \n",
            " conv4_block36_2_conv (Conv  (None, None, None, 256)      589824    ['conv4_block36_2_pad[0][0]'] \n",
            " 2D)                                                                                              \n",
            "                                                                                                  \n",
            " conv4_block36_2_bn (BatchN  (None, None, None, 256)      1024      ['conv4_block36_2_conv[0][0]']\n",
            " ormalization)                                                                                    \n",
            "                                                                                                  \n",
            " conv4_block36_2_relu (Acti  (None, None, None, 256)      0         ['conv4_block36_2_bn[0][0]']  \n",
            " vation)                                                                                          \n",
            "                                                                                                  \n",
            " max_pooling2d_2 (MaxPoolin  (None, None, None, 1024)     0         ['conv4_block35_out[0][0]']   \n",
            " g2D)                                                                                             \n",
            "                                                                                                  \n",
            " conv4_block36_3_conv (Conv  (None, None, None, 1024)     263168    ['conv4_block36_2_relu[0][0]']\n",
            " 2D)                                                                                              \n",
            "                                                                                                  \n",
            " conv4_block36_out (Add)     (None, None, None, 1024)     0         ['max_pooling2d_2[0][0]',     \n",
            "                                                                     'conv4_block36_3_conv[0][0]']\n",
            "                                                                                                  \n",
            " conv5_block1_preact_bn (Ba  (None, None, None, 1024)     4096      ['conv4_block36_out[0][0]']   \n",
            " tchNormalization)                                                                                \n",
            "                                                                                                  \n",
            " conv5_block1_preact_relu (  (None, None, None, 1024)     0         ['conv5_block1_preact_bn[0][0]\n",
            " Activation)                                                        ']                            \n",
            "                                                                                                  \n",
            " conv5_block1_1_conv (Conv2  (None, None, None, 512)      524288    ['conv5_block1_preact_relu[0][\n",
            " D)                                                                 0]']                          \n",
            "                                                                                                  \n",
            " conv5_block1_1_bn (BatchNo  (None, None, None, 512)      2048      ['conv5_block1_1_conv[0][0]'] \n",
            " rmalization)                                                                                     \n",
            "                                                                                                  \n",
            " conv5_block1_1_relu (Activ  (None, None, None, 512)      0         ['conv5_block1_1_bn[0][0]']   \n",
            " ation)                                                                                           \n",
            "                                                                                                  \n",
            " conv5_block1_2_pad (ZeroPa  (None, None, None, 512)      0         ['conv5_block1_1_relu[0][0]'] \n",
            " dding2D)                                                                                         \n",
            "                                                                                                  \n",
            " conv5_block1_2_conv (Conv2  (None, None, None, 512)      2359296   ['conv5_block1_2_pad[0][0]']  \n",
            " D)                                                                                               \n",
            "                                                                                                  \n",
            " conv5_block1_2_bn (BatchNo  (None, None, None, 512)      2048      ['conv5_block1_2_conv[0][0]'] \n",
            " rmalization)                                                                                     \n",
            "                                                                                                  \n",
            " conv5_block1_2_relu (Activ  (None, None, None, 512)      0         ['conv5_block1_2_bn[0][0]']   \n",
            " ation)                                                                                           \n",
            "                                                                                                  \n",
            " conv5_block1_0_conv (Conv2  (None, None, None, 2048)     2099200   ['conv5_block1_preact_relu[0][\n",
            " D)                                                                 0]']                          \n",
            "                                                                                                  \n",
            " conv5_block1_3_conv (Conv2  (None, None, None, 2048)     1050624   ['conv5_block1_2_relu[0][0]'] \n",
            " D)                                                                                               \n",
            "                                                                                                  \n",
            " conv5_block1_out (Add)      (None, None, None, 2048)     0         ['conv5_block1_0_conv[0][0]', \n",
            "                                                                     'conv5_block1_3_conv[0][0]'] \n",
            "                                                                                                  \n",
            " conv5_block2_preact_bn (Ba  (None, None, None, 2048)     8192      ['conv5_block1_out[0][0]']    \n",
            " tchNormalization)                                                                                \n",
            "                                                                                                  \n",
            " conv5_block2_preact_relu (  (None, None, None, 2048)     0         ['conv5_block2_preact_bn[0][0]\n",
            " Activation)                                                        ']                            \n",
            "                                                                                                  \n",
            " conv5_block2_1_conv (Conv2  (None, None, None, 512)      1048576   ['conv5_block2_preact_relu[0][\n",
            " D)                                                                 0]']                          \n",
            "                                                                                                  \n",
            " conv5_block2_1_bn (BatchNo  (None, None, None, 512)      2048      ['conv5_block2_1_conv[0][0]'] \n",
            " rmalization)                                                                                     \n",
            "                                                                                                  \n",
            " conv5_block2_1_relu (Activ  (None, None, None, 512)      0         ['conv5_block2_1_bn[0][0]']   \n",
            " ation)                                                                                           \n",
            "                                                                                                  \n",
            " conv5_block2_2_pad (ZeroPa  (None, None, None, 512)      0         ['conv5_block2_1_relu[0][0]'] \n",
            " dding2D)                                                                                         \n",
            "                                                                                                  \n",
            " conv5_block2_2_conv (Conv2  (None, None, None, 512)      2359296   ['conv5_block2_2_pad[0][0]']  \n",
            " D)                                                                                               \n",
            "                                                                                                  \n",
            " conv5_block2_2_bn (BatchNo  (None, None, None, 512)      2048      ['conv5_block2_2_conv[0][0]'] \n",
            " rmalization)                                                                                     \n",
            "                                                                                                  \n",
            " conv5_block2_2_relu (Activ  (None, None, None, 512)      0         ['conv5_block2_2_bn[0][0]']   \n",
            " ation)                                                                                           \n",
            "                                                                                                  \n",
            " conv5_block2_3_conv (Conv2  (None, None, None, 2048)     1050624   ['conv5_block2_2_relu[0][0]'] \n",
            " D)                                                                                               \n",
            "                                                                                                  \n",
            " conv5_block2_out (Add)      (None, None, None, 2048)     0         ['conv5_block1_out[0][0]',    \n",
            "                                                                     'conv5_block2_3_conv[0][0]'] \n",
            "                                                                                                  \n",
            " conv5_block3_preact_bn (Ba  (None, None, None, 2048)     8192      ['conv5_block2_out[0][0]']    \n",
            " tchNormalization)                                                                                \n",
            "                                                                                                  \n",
            " conv5_block3_preact_relu (  (None, None, None, 2048)     0         ['conv5_block3_preact_bn[0][0]\n",
            " Activation)                                                        ']                            \n",
            "                                                                                                  \n",
            " conv5_block3_1_conv (Conv2  (None, None, None, 512)      1048576   ['conv5_block3_preact_relu[0][\n",
            " D)                                                                 0]']                          \n",
            "                                                                                                  \n",
            " conv5_block3_1_bn (BatchNo  (None, None, None, 512)      2048      ['conv5_block3_1_conv[0][0]'] \n",
            " rmalization)                                                                                     \n",
            "                                                                                                  \n",
            " conv5_block3_1_relu (Activ  (None, None, None, 512)      0         ['conv5_block3_1_bn[0][0]']   \n",
            " ation)                                                                                           \n",
            "                                                                                                  \n",
            " conv5_block3_2_pad (ZeroPa  (None, None, None, 512)      0         ['conv5_block3_1_relu[0][0]'] \n",
            " dding2D)                                                                                         \n",
            "                                                                                                  \n",
            " conv5_block3_2_conv (Conv2  (None, None, None, 512)      2359296   ['conv5_block3_2_pad[0][0]']  \n",
            " D)                                                                                               \n",
            "                                                                                                  \n",
            " conv5_block3_2_bn (BatchNo  (None, None, None, 512)      2048      ['conv5_block3_2_conv[0][0]'] \n",
            " rmalization)                                                                                     \n",
            "                                                                                                  \n",
            " conv5_block3_2_relu (Activ  (None, None, None, 512)      0         ['conv5_block3_2_bn[0][0]']   \n",
            " ation)                                                                                           \n",
            "                                                                                                  \n",
            " conv5_block3_3_conv (Conv2  (None, None, None, 2048)     1050624   ['conv5_block3_2_relu[0][0]'] \n",
            " D)                                                                                               \n",
            "                                                                                                  \n",
            " conv5_block3_out (Add)      (None, None, None, 2048)     0         ['conv5_block2_out[0][0]',    \n",
            "                                                                     'conv5_block3_3_conv[0][0]'] \n",
            "                                                                                                  \n",
            " post_bn (BatchNormalizatio  (None, None, None, 2048)     8192      ['conv5_block3_out[0][0]']    \n",
            " n)                                                                                               \n",
            "                                                                                                  \n",
            " post_relu (Activation)      (None, None, None, 2048)     0         ['post_bn[0][0]']             \n",
            "                                                                                                  \n",
            " avg_pool (GlobalAveragePoo  (None, 2048)                 0         ['post_relu[0][0]']           \n",
            " ling2D)                                                                                          \n",
            "                                                                                                  \n",
            " dense (Dense)               (None, 4)                    8196      ['avg_pool[0][0]']            \n",
            "                                                                                                  \n",
            "==================================================================================================\n",
            "Total params: 58339844 (222.55 MB)\n",
            "Trainable params: 8196 (32.02 KB)\n",
            "Non-trainable params: 58331648 (222.52 MB)\n",
            "__________________________________________________________________________________________________\n"
          ]
        }
      ]
    },
    {
      "cell_type": "code",
      "metadata": {
        "id": "fa4IjzPQpAd3"
      },
      "source": [
        "model.compile(loss='categorical_crossentropy',\n",
        "              optimizer='adam',\n",
        "              metrics=['accuracy'])"
      ],
      "execution_count": null,
      "outputs": []
    },
    {
      "cell_type": "code",
      "metadata": {
        "id": "5WRw2B3P53BW"
      },
      "source": [
        "from tensorflow.keras.callbacks import EarlyStopping, ModelCheckpoint, ReduceLROnPlateau"
      ],
      "execution_count": null,
      "outputs": []
    },
    {
      "cell_type": "code",
      "metadata": {
        "id": "mAhez88k6AW1"
      },
      "source": [
        "early_stop = EarlyStopping(monitor='val_loss',patience=3,verbose=2)"
      ],
      "execution_count": null,
      "outputs": []
    },
    {
      "cell_type": "code",
      "source": [
        "model_checkpoint  = ModelCheckpoint(\n",
        "    filepath='/content/drive/My Drive/Colab Notebooks/Mestrado final/Novos treinamentos/Arquiteturas mix aumentado/model_checkpoint1',\n",
        "    save_weights_only=True,\n",
        "    monitor='val_accuracy',\n",
        "    mode='max',\n",
        "    save_freq='epoch',\n",
        "    save_best_only=True,\n",
        "    options=None,\n",
        "    initial_value_threshold=None,\n",
        "    verbose = 0\n",
        ")"
      ],
      "metadata": {
        "id": "COEBh47_eAd6"
      },
      "execution_count": null,
      "outputs": []
    },
    {
      "cell_type": "code",
      "source": [
        "reduce_lr = ReduceLROnPlateau(monitor='val_loss', factor=0.2,\n",
        "                              patience=5, min_lr=0.001)"
      ],
      "metadata": {
        "id": "Sa04TvyOXf_R"
      },
      "execution_count": null,
      "outputs": []
    },
    {
      "cell_type": "code",
      "metadata": {
        "colab": {
          "base_uri": "https://localhost:8080/"
        },
        "id": "pkgfaQ316FAH",
        "outputId": "24ebfb1a-5d79-4019-bb9c-1485a3005dd8"
      },
      "source": [
        "train_image_gen = image_gen.flow_from_directory(data_dir,\n",
        "                                                #target_size=image_shape[:2],\n",
        "                                                color_mode='rgb',\n",
        "                                                batch_size=batch_size,\n",
        "                                                class_mode='categorical')"
      ],
      "execution_count": null,
      "outputs": [
        {
          "output_type": "stream",
          "name": "stdout",
          "text": [
            "Found 4470 images belonging to 4 classes.\n"
          ]
        }
      ]
    },
    {
      "cell_type": "code",
      "source": [
        "validation_image_gen = image_gen.flow_from_directory(valid_dir,\n",
        "                                                #target_size=image_shape[:2],\n",
        "                                                color_mode='rgb',\n",
        "                                                batch_size=batch_size,\n",
        "                                                class_mode='categorical')"
      ],
      "metadata": {
        "colab": {
          "base_uri": "https://localhost:8080/"
        },
        "id": "B6CFbu9soZLU",
        "outputId": "e6cf6861-20ac-4e36-d8e1-5b0989f2fcbb"
      },
      "execution_count": null,
      "outputs": [
        {
          "output_type": "stream",
          "name": "stdout",
          "text": [
            "Found 337 images belonging to 4 classes.\n"
          ]
        }
      ]
    },
    {
      "cell_type": "code",
      "metadata": {
        "colab": {
          "base_uri": "https://localhost:8080/"
        },
        "id": "UO77ylqy6wv_",
        "outputId": "687175e1-6387-4166-f009-749134d4a61e"
      },
      "source": [
        "from sklearn.utils import shuffle\n",
        "test_image_gen = image_gen.flow_from_directory(test_dir,\n",
        "                                                     #target_size=image_shape[:2],\n",
        "                                                     color_mode='rgb',\n",
        "                                                     batch_size=batch_size,\n",
        "                                                     class_mode='categorical',\n",
        "                                                     shuffle=False\n",
        "                                               )"
      ],
      "execution_count": null,
      "outputs": [
        {
          "output_type": "stream",
          "name": "stdout",
          "text": [
            "Found 298 images belonging to 4 classes.\n"
          ]
        }
      ]
    },
    {
      "cell_type": "code",
      "metadata": {
        "colab": {
          "base_uri": "https://localhost:8080/"
        },
        "id": "wEt9ohCg7JbG",
        "outputId": "1b15672b-911c-4df9-b70d-1dc58b77858a"
      },
      "source": [
        "train_image_gen.class_indices"
      ],
      "execution_count": null,
      "outputs": [
        {
          "output_type": "execute_result",
          "data": {
            "text/plain": [
              "{'covid': 0, 'dip': 1, 'normais': 2, 'tuberculose': 3}"
            ]
          },
          "metadata": {},
          "execution_count": 23
        }
      ]
    },
    {
      "cell_type": "markdown",
      "metadata": {
        "id": "F2wJaiy88l4K"
      },
      "source": [
        "# **Training the model**"
      ]
    },
    {
      "cell_type": "code",
      "metadata": {
        "colab": {
          "base_uri": "https://localhost:8080/"
        },
        "id": "qkUbj_Xh8e1r",
        "outputId": "0ebadcc5-5492-4812-addb-a7a61c038ca7"
      },
      "source": [
        "model.fit(train_image_gen,epochs=200,validation_data=validation_image_gen,callbacks=[early_stop,model_checkpoint,reduce_lr])"
      ],
      "execution_count": null,
      "outputs": [
        {
          "output_type": "stream",
          "name": "stdout",
          "text": [
            "Epoch 1/200\n",
            "140/140 [==============================] - 1297s 9s/step - loss: 0.9607 - accuracy: 0.6063 - val_loss: 0.7653 - val_accuracy: 0.7122 - lr: 0.0010\n",
            "Epoch 2/200\n",
            "140/140 [==============================] - 45s 321ms/step - loss: 0.7094 - accuracy: 0.7380 - val_loss: 0.7360 - val_accuracy: 0.7270 - lr: 0.0010\n",
            "Epoch 3/200\n",
            "140/140 [==============================] - 44s 314ms/step - loss: 0.6175 - accuracy: 0.7761 - val_loss: 0.6967 - val_accuracy: 0.7567 - lr: 0.0010\n",
            "Epoch 4/200\n",
            "140/140 [==============================] - 45s 321ms/step - loss: 0.5582 - accuracy: 0.7987 - val_loss: 0.6925 - val_accuracy: 0.7448 - lr: 0.0010\n",
            "Epoch 5/200\n",
            "140/140 [==============================] - 43s 303ms/step - loss: 0.5177 - accuracy: 0.8114 - val_loss: 0.6778 - val_accuracy: 0.7478 - lr: 0.0010\n",
            "Epoch 6/200\n",
            "140/140 [==============================] - 43s 305ms/step - loss: 0.4842 - accuracy: 0.8277 - val_loss: 0.6576 - val_accuracy: 0.7359 - lr: 0.0010\n",
            "Epoch 7/200\n",
            "140/140 [==============================] - 47s 337ms/step - loss: 0.4500 - accuracy: 0.8445 - val_loss: 0.6262 - val_accuracy: 0.7685 - lr: 0.0010\n",
            "Epoch 8/200\n",
            "140/140 [==============================] - 43s 307ms/step - loss: 0.4275 - accuracy: 0.8535 - val_loss: 0.6815 - val_accuracy: 0.7359 - lr: 0.0010\n",
            "Epoch 9/200\n",
            "140/140 [==============================] - 44s 315ms/step - loss: 0.4052 - accuracy: 0.8613 - val_loss: 0.6086 - val_accuracy: 0.7774 - lr: 0.0010\n",
            "Epoch 10/200\n",
            "140/140 [==============================] - 45s 320ms/step - loss: 0.3900 - accuracy: 0.8676 - val_loss: 0.6434 - val_accuracy: 0.7745 - lr: 0.0010\n",
            "Epoch 11/200\n",
            "140/140 [==============================] - 43s 305ms/step - loss: 0.3734 - accuracy: 0.8738 - val_loss: 0.6241 - val_accuracy: 0.7715 - lr: 0.0010\n",
            "Epoch 12/200\n",
            "140/140 [==============================] - 43s 305ms/step - loss: 0.3498 - accuracy: 0.8852 - val_loss: 0.6273 - val_accuracy: 0.7715 - lr: 0.0010\n",
            "Epoch 12: early stopping\n"
          ]
        },
        {
          "output_type": "execute_result",
          "data": {
            "text/plain": [
              "<keras.src.callbacks.History at 0x795f56697460>"
            ]
          },
          "metadata": {},
          "execution_count": 24
        }
      ]
    },
    {
      "cell_type": "code",
      "metadata": {
        "id": "Hgi8hS8bcA8U"
      },
      "source": [
        "losses = pd.DataFrame(model.history.history)"
      ],
      "execution_count": null,
      "outputs": []
    },
    {
      "cell_type": "code",
      "metadata": {
        "id": "Rn79y9lBcKVt",
        "colab": {
          "base_uri": "https://localhost:8080/",
          "height": 447
        },
        "outputId": "e3ec7e7a-b0bd-4432-9594-418965dec818"
      },
      "source": [
        "losses[['loss','val_loss']].plot()"
      ],
      "execution_count": null,
      "outputs": [
        {
          "output_type": "execute_result",
          "data": {
            "text/plain": [
              "<Axes: >"
            ]
          },
          "metadata": {},
          "execution_count": 26
        },
        {
          "output_type": "display_data",
          "data": {
            "text/plain": [
              "<Figure size 640x480 with 1 Axes>"
            ],
            "image/png": "[encoded data removed]"
          },
          "metadata": {}
        }
      ]
    },
    {
      "cell_type": "markdown",
      "metadata": {
        "id": "ksKjjsFs6JDh"
      },
      "source": [
        "# **Fine tunning**"
      ]
    },
    {
      "cell_type": "code",
      "source": [
        "model.load_weights('/content/drive/My Drive/Colab Notebooks/Mestrado final/Novos treinamentos/Arquiteturas mix aumentado/model_checkpoint1')"
      ],
      "metadata": {
        "id": "y9nuWKsFiGE3",
        "colab": {
          "base_uri": "https://localhost:8080/"
        },
        "outputId": "523bca56-728d-4648-8cb2-df1e5fc5178c"
      },
      "execution_count": null,
      "outputs": [
        {
          "output_type": "execute_result",
          "data": {
            "text/plain": [
              "<tensorflow.python.checkpoint.checkpoint.CheckpointLoadStatus at 0x795f422ae230>"
            ]
          },
          "metadata": {},
          "execution_count": 27
        }
      ]
    },
    {
      "cell_type": "code",
      "metadata": {
        "id": "go0sV1nJc9w2"
      },
      "source": [
        "# Unfreeze all the layers\n",
        "for layer in model.layers:\n",
        "    layer.trainable = True"
      ],
      "execution_count": null,
      "outputs": []
    },
    {
      "cell_type": "code",
      "metadata": {
        "id": "dIgL22Be6wcT"
      },
      "source": [
        "model.compile(loss='categorical_crossentropy',\n",
        "              optimizer=tf.optimizers.Adam(1e-5),\n",
        "              metrics=['accuracy'])"
      ],
      "execution_count": null,
      "outputs": []
    },
    {
      "cell_type": "code",
      "metadata": {
        "id": "z0K-YtRN6wcU",
        "colab": {
          "base_uri": "https://localhost:8080/"
        },
        "outputId": "825180e6-7c4e-48a1-b30f-51f6c1a4998f"
      },
      "source": [
        "train_image_gen.class_indices"
      ],
      "execution_count": null,
      "outputs": [
        {
          "output_type": "execute_result",
          "data": {
            "text/plain": [
              "{'covid': 0, 'dip': 1, 'normais': 2, 'tuberculose': 3}"
            ]
          },
          "metadata": {},
          "execution_count": 30
        }
      ]
    },
    {
      "cell_type": "code",
      "metadata": {
        "id": "6ID1ESoi6azO",
        "colab": {
          "base_uri": "https://localhost:8080/"
        },
        "outputId": "e519b600-e047-4da2-d237-e5754a6b4d7d"
      },
      "source": [
        "model.fit(train_image_gen,epochs=10,validation_data=validation_image_gen,callbacks=[model_checkpoint])"
      ],
      "execution_count": null,
      "outputs": [
        {
          "output_type": "stream",
          "name": "stdout",
          "text": [
            "Epoch 1/10\n",
            "140/140 [==============================] - 225s 980ms/step - loss: 0.8616 - accuracy: 0.6846 - val_loss: 0.8891 - val_accuracy: 0.7062\n",
            "Epoch 2/10\n",
            "140/140 [==============================] - 138s 985ms/step - loss: 0.2820 - accuracy: 0.9112 - val_loss: 0.6040 - val_accuracy: 0.7834\n",
            "Epoch 3/10\n",
            "140/140 [==============================] - 136s 974ms/step - loss: 0.1315 - accuracy: 0.9729 - val_loss: 0.5559 - val_accuracy: 0.8012\n",
            "Epoch 4/10\n",
            "140/140 [==============================] - 137s 975ms/step - loss: 0.0690 - accuracy: 0.9924 - val_loss: 0.5596 - val_accuracy: 0.8190\n",
            "Epoch 5/10\n",
            "140/140 [==============================] - 134s 959ms/step - loss: 0.0401 - accuracy: 0.9964 - val_loss: 0.5782 - val_accuracy: 0.8101\n",
            "Epoch 6/10\n",
            "140/140 [==============================] - 138s 982ms/step - loss: 0.0317 - accuracy: 0.9975 - val_loss: 0.5727 - val_accuracy: 0.8220\n",
            "Epoch 7/10\n",
            "140/140 [==============================] - 136s 974ms/step - loss: 0.0214 - accuracy: 0.9987 - val_loss: 0.5773 - val_accuracy: 0.8279\n",
            "Epoch 8/10\n",
            "140/140 [==============================] - 140s 1s/step - loss: 0.0165 - accuracy: 0.9989 - val_loss: 0.5891 - val_accuracy: 0.8309\n",
            "Epoch 9/10\n",
            "140/140 [==============================] - 137s 981ms/step - loss: 0.0122 - accuracy: 1.0000 - val_loss: 0.5958 - val_accuracy: 0.8338\n",
            "Epoch 10/10\n",
            "140/140 [==============================] - 135s 959ms/step - loss: 0.0114 - accuracy: 0.9998 - val_loss: 0.5862 - val_accuracy: 0.8249\n"
          ]
        },
        {
          "output_type": "execute_result",
          "data": {
            "text/plain": [
              "<keras.src.callbacks.History at 0x795fd421d330>"
            ]
          },
          "metadata": {},
          "execution_count": 31
        }
      ]
    },
    {
      "cell_type": "code",
      "metadata": {
        "id": "gQCIDrjr7ab4"
      },
      "source": [
        "losses = pd.DataFrame(model.history.history)"
      ],
      "execution_count": null,
      "outputs": []
    },
    {
      "cell_type": "code",
      "metadata": {
        "id": "JNp-4AZW7ab4",
        "colab": {
          "base_uri": "https://localhost:8080/",
          "height": 447
        },
        "outputId": "b6dd42d0-128d-4338-f464-2423e1515fb8"
      },
      "source": [
        "losses[['loss','val_loss']].plot()"
      ],
      "execution_count": null,
      "outputs": [
        {
          "output_type": "execute_result",
          "data": {
            "text/plain": [
              "<Axes: >"
            ]
          },
          "metadata": {},
          "execution_count": 33
        },
        {
          "output_type": "display_data",
          "data": {
            "text/plain": [
              "<Figure size 640x480 with 1 Axes>"
            ],
            "image/png": "[encoded data removed]"
          },
          "metadata": {}
        }
      ]
    },
    {
      "cell_type": "code",
      "execution_count": null,
      "metadata": {
        "id": "3l0l-5qT35ET",
        "colab": {
          "base_uri": "https://localhost:8080/"
        },
        "outputId": "e1cfb3db-6607-4381-a86c-6dbba454784a"
      },
      "outputs": [
        {
          "output_type": "execute_result",
          "data": {
            "text/plain": [
              "<tensorflow.python.checkpoint.checkpoint.CheckpointLoadStatus at 0x795ed03dbf70>"
            ]
          },
          "metadata": {},
          "execution_count": 34
        }
      ],
      "source": [
        "model.load_weights('/content/drive/My Drive/Colab Notebooks/Mestrado final/Novos treinamentos/Arquiteturas mix aumentado/model_checkpoint1')"
      ]
    },
    {
      "cell_type": "code",
      "execution_count": null,
      "metadata": {
        "id": "OZesQnBk3u7p",
        "colab": {
          "base_uri": "https://localhost:8080/"
        },
        "outputId": "6bdcd579-b279-4e70-bed1-92199d015138"
      },
      "outputs": [
        {
          "output_type": "stream",
          "name": "stderr",
          "text": [
            "/usr/local/lib/python3.10/dist-packages/keras/src/engine/training.py:3079: UserWarning: You are saving your model as an HDF5 file via `model.save()`. This file format is considered legacy. We recommend using instead the native Keras format, e.g. `model.save('my_model.keras')`.\n",
            "  saving_api.save_model(\n"
          ]
        }
      ],
      "source": [
        "model.save('/content/drive/My Drive/Colab Notebooks/Mestrado final/Novos treinamentos/Arquiteturas mix aumentado/ResNet152V2_fine-tuning_RandAugm_avg_4_classes_mix_data_part2345.h5')"
      ]
    },
    {
      "cell_type": "code",
      "metadata": {
        "id": "TKeXy4Se7ab5",
        "colab": {
          "base_uri": "https://localhost:8080/"
        },
        "outputId": "f0ba5453-d454-4a1a-8030-954d87f0264a"
      },
      "source": [
        "model.evaluate(test_image_gen)"
      ],
      "execution_count": null,
      "outputs": [
        {
          "output_type": "stream",
          "name": "stdout",
          "text": [
            "10/10 [==============================] - 93s 10s/step - loss: 0.5354 - accuracy: 0.8423\n"
          ]
        },
        {
          "output_type": "execute_result",
          "data": {
            "text/plain": [
              "[0.5353581309318542, 0.8422818779945374]"
            ]
          },
          "metadata": {},
          "execution_count": 37
        }
      ]
    },
    {
      "cell_type": "code",
      "metadata": {
        "id": "11ZHrs0NeBj6",
        "colab": {
          "base_uri": "https://localhost:8080/"
        },
        "outputId": "e9c469a4-fd91-4452-b96f-269e7d2d6b79"
      },
      "source": [
        "pred_probabilities = model.predict(test_image_gen)"
      ],
      "execution_count": null,
      "outputs": [
        {
          "output_type": "stream",
          "name": "stdout",
          "text": [
            "10/10 [==============================] - 5s 280ms/step\n"
          ]
        }
      ]
    },
    {
      "cell_type": "code",
      "metadata": {
        "id": "7JH2AqnCkMs1"
      },
      "source": [
        "def int_predict (pred_probabilities):\n",
        "  predictions = np.zeros((pred_probabilities.shape[0],1),dtype=int)\n",
        "  i = 0\n",
        "  while i < pred_probabilities.shape[0]:\n",
        "    predictions[i,:] = [np.argmax(pred_probabilities[i])]\n",
        "    i = i + 1\n",
        "\n",
        "  return predictions"
      ],
      "execution_count": null,
      "outputs": []
    },
    {
      "cell_type": "code",
      "metadata": {
        "id": "KOrL8yuLkNvl"
      },
      "source": [
        "predictions = int_predict(pred_probabilities)"
      ],
      "execution_count": null,
      "outputs": []
    },
    {
      "cell_type": "code",
      "metadata": {
        "id": "ynhwnLkTkTOR"
      },
      "source": [
        "from sklearn.metrics import classification_report, confusion_matrix"
      ],
      "execution_count": null,
      "outputs": []
    },
    {
      "cell_type": "code",
      "source": [
        "test_image_gen.class_indices"
      ],
      "metadata": {
        "id": "xpC19SzV6jjB",
        "colab": {
          "base_uri": "https://localhost:8080/"
        },
        "outputId": "e5b63cd1-38a2-4e4a-c44d-48cc1f0b97cd"
      },
      "execution_count": null,
      "outputs": [
        {
          "output_type": "execute_result",
          "data": {
            "text/plain": [
              "{'covid': 0, 'dip': 1, 'normais': 2, 'tuberculose': 3}"
            ]
          },
          "metadata": {},
          "execution_count": 45
        }
      ]
    },
    {
      "cell_type": "code",
      "metadata": {
        "id": "XRlZC8b-kjX2",
        "colab": {
          "base_uri": "https://localhost:8080/"
        },
        "outputId": "5388929e-055a-48e0-99d1-b80fdd94121f"
      },
      "source": [
        "confusion_matrix(test_image_gen.classes,predictions)"
      ],
      "execution_count": null,
      "outputs": [
        {
          "output_type": "execute_result",
          "data": {
            "text/plain": [
              "array([[75,  2,  5,  2],\n",
              "       [ 8, 32,  1,  5],\n",
              "       [ 2,  7, 70,  5],\n",
              "       [ 4,  3,  3, 74]])"
            ]
          },
          "metadata": {},
          "execution_count": 46
        }
      ]
    },
    {
      "cell_type": "code",
      "metadata": {
        "id": "tgjNDpopkmAp",
        "colab": {
          "base_uri": "https://localhost:8080/"
        },
        "outputId": "c8eabd63-9261-484c-9342-2adf38271c23"
      },
      "source": [
        "print(classification_report(test_image_gen.classes,predictions))"
      ],
      "execution_count": null,
      "outputs": [
        {
          "output_type": "stream",
          "name": "stdout",
          "text": [
            "              precision    recall  f1-score   support\n",
            "\n",
            "           0       0.84      0.89      0.87        84\n",
            "           1       0.73      0.70      0.71        46\n",
            "           2       0.89      0.83      0.86        84\n",
            "           3       0.86      0.88      0.87        84\n",
            "\n",
            "    accuracy                           0.84       298\n",
            "   macro avg       0.83      0.83      0.83       298\n",
            "weighted avg       0.84      0.84      0.84       298\n",
            "\n"
          ]
        }
      ]
    },
    {
      "cell_type": "code",
      "source": [
        "from sklearn.metrics import roc_curve, auc\n",
        "from sklearn.preprocessing import label_binarize\n",
        "from itertools import cycle"
      ],
      "metadata": {
        "id": "I0sqMVKkIT5D"
      },
      "execution_count": null,
      "outputs": []
    },
    {
      "cell_type": "code",
      "source": [
        "y_score = pred_probabilities\n",
        "num_classes = test_image_gen.num_classes"
      ],
      "metadata": {
        "id": "fIn0aAkVIT76"
      },
      "execution_count": null,
      "outputs": []
    },
    {
      "cell_type": "code",
      "source": [
        "# Obtenha as etiquetas verdadeiras de todas as imagens no gerador\n",
        "y_test = test_image_gen.classes\n",
        "y_test = label_binarize(y_test, classes=range(num_classes))"
      ],
      "metadata": {
        "id": "S6iju83qIT-p"
      },
      "execution_count": null,
      "outputs": []
    },
    {
      "cell_type": "code",
      "source": [
        "# Calcule as métricas ROC e AUC para cada classe\n",
        "fpr = dict()\n",
        "tpr = dict()\n",
        "roc_auc = dict()\n",
        "for i in range(num_classes):\n",
        "    fpr[i], tpr[i], _ = roc_curve(y_test[:, i], y_score[:, i])\n",
        "    roc_auc[i] = auc(fpr[i], tpr[i])"
      ],
      "metadata": {
        "id": "Dj_yjb8sJbt3"
      },
      "execution_count": null,
      "outputs": []
    },
    {
      "cell_type": "code",
      "source": [
        "# Plote a curva ROC para cada classe\n",
        "colors = cycle(['aqua', 'darkorange', 'cornflowerblue', 'green'])\n",
        "for i, color in zip(range(num_classes), colors):\n",
        "    plt.plot(fpr[i], tpr[i], color=color, lw=2,\n",
        "             label='ROC curve of class {0} (area = {1:0.2f})'\n",
        "             ''.format(i, roc_auc[i]))\n",
        "\n",
        "plt.plot([0, 1], [0, 1], 'k--', lw=2)\n",
        "plt.xlim([0.0, 1.0])\n",
        "plt.ylim([0.0, 1.05])\n",
        "plt.xlabel('False Positive Rate')\n",
        "plt.ylabel('True Positive Rate')\n",
        "plt.title('Receiver operating characteristic for multi-class')\n",
        "plt.legend(loc=\"lower right\")\n",
        "plt.show()"
      ],
      "metadata": {
        "id": "r_mdIm89JbwH",
        "colab": {
          "base_uri": "https://localhost:8080/",
          "height": 472
        },
        "outputId": "3f875397-4878-4d98-ebfb-f92d680f3ff4"
      },
      "execution_count": null,
      "outputs": [
        {
          "output_type": "display_data",
          "data": {
            "text/plain": [
              "<Figure size 640x480 with 1 Axes>"
            ],
            "image/png": "[encoded data removed]"
          },
          "metadata": {}
        }
      ]
    },
    {
      "cell_type": "code",
      "source": [
        "# Agora, vamos dar zoom em na parte superior esquerda do gráfico.\n",
        "plt.figure()\n",
        "for i, color in zip(range(num_classes), colors):\n",
        "    plt.plot(fpr[i], tpr[i], color=color, lw=2,\n",
        "             label='ROC curve of class {0} (area = {1:0.2f})'\n",
        "             ''.format(i, roc_auc[i]))\n",
        "\n",
        "plt.plot([0, 1], [0, 1], 'k--', lw=2)\n",
        "plt.xlim([0.0, 0.2])  # Ajusta o limite do eixo X para focar no início do gráfico\n",
        "plt.ylim([0.8, 1.05])  # Ajusta o limite do eixo Y para focar na parte superior do gráfico\n",
        "plt.xlabel('False Positive Rate')\n",
        "plt.ylabel('True Positive Rate')\n",
        "plt.title('Zoom na parte superior da Receiver operating characteristic to multi-class')\n",
        "plt.legend(loc=\"lower right\")\n",
        "plt.show()"
      ],
      "metadata": {
        "id": "gtciPC7PKMaM",
        "colab": {
          "base_uri": "https://localhost:8080/",
          "height": 472
        },
        "outputId": "466bc8b2-1def-44a1-ee80-c93d283e40d0"
      },
      "execution_count": null,
      "outputs": [
        {
          "output_type": "display_data",
          "data": {
            "text/plain": [
              "<Figure size 640x480 with 1 Axes>"
            ],
            "image/png": "[encoded data removed]"
          },
          "metadata": {}
        }
      ]
    }
  ]
}